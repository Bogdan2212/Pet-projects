{
 "cells": [
  {
   "cell_type": "markdown",
   "metadata": {},
   "source": [
    "\n",
    "**Вводная часть**\n",
    "<br>\n",
    "<br>\n",
    "**Исследование определяющих успешность игры закономерностей**\n",
    "<br>\n",
    "<br>\n",
    "Нам передали данные о играх. \n",
    "<br>\n",
    "<br>\n",
    "**Цель исследования:**\n",
    "<br>\n",
    "1)Проанализировать данные\n",
    "<br>\n",
    "2)Проверить некоторые гипотезы, которые могут помочь бизнесу вырасти.\n",
    "<br>\n",
    "<br>\n",
    "\n",
    "**Ход исследования:**\n",
    "<br>\n",
    "Данные о играх я получу из файла \"/datasets/games.csv\". О качестве данных ничего не известно. Поэтому перед тем, как приступать к целям исследования, понадобится обзор данных.\n",
    "<br>\n",
    "<br>\n",
    "Я проверю данные на пропуски и дубликаты. Затем, на этапе предобработки я поищу возможность исправить все ошибки данных, которые не приведут к искажению конечного результата. Далее, создам необходимые столбцы, создам дополнительные таблицы для удобства, и приступлю к проведению исследовательского анализа , cоставлению портрета пользователя каждого региона и проверке гипотез.\n",
    "<br>\n",
    "<br>\n",
    "Таким образом, моё исследование пройдёт в 6 этапов:\n",
    "<br>\n",
    "<br>\n",
    "1)Загрузка и обзор данных.\n",
    "<br>\n",
    "2)Предобработка данных.\n",
    "<br>\n",
    "3)Проведение исследовательского анализв данных.\n",
    "<br>\n",
    "4)Составление портрета пользователя каждого региона.\n",
    "<br>\n",
    "5)Проверка определенных гипотез.\n",
    "<br>\n",
    "6)Написание общего вывода.\n",
    "\n"
   ]
  },
  {
   "cell_type": "markdown",
   "metadata": {},
   "source": [
    "Вы работаете в интернет-магазине «Стримчик», который продаёт по всему миру компьютерные игры. Из открытых источников доступны исторические данные о продажах игр, оценки пользователей и экспертов, жанры и платформы (например, Xbox или PlayStation). Вам нужно выявить определяющие успешность игры закономерности. Это позволит сделать ставку на потенциально популярный продукт и спланировать рекламные кампании.\n",
    "Перед вами данные до 2016 года. Представим, что сейчас декабрь 2016 г., и вы планируете кампанию на 2017-й. Нужно отработать принцип работы с данными. Неважно, прогнозируете ли вы продажи на 2017 год по данным 2016-го или же 2027-й — по данным 2026 года.\n",
    "В наборе данных попадается аббревиатура ESRB (Entertainment Software Rating Board) — это ассоциация, определяющая возрастной рейтинг компьютерных игр. ESRB оценивает игровой контент и присваивает ему подходящую возрастную категорию, например, «Для взрослых», «Для детей младшего возраста» или «Для подростков»."
   ]
  },
  {
   "cell_type": "code",
   "execution_count": 1,
   "metadata": {},
   "outputs": [],
   "source": [
    "import pandas as pd\n",
    "import numpy as np\n",
    "import matplotlib.pyplot as plt \n",
    "from scipy import stats as st\n",
    "import seaborn as sns"
   ]
  },
  {
   "cell_type": "markdown",
   "metadata": {},
   "source": [
    "## Шаг 1. Загрузка данных и изучение общей информации"
   ]
  },
  {
   "cell_type": "code",
   "execution_count": 2,
   "metadata": {},
   "outputs": [],
   "source": [
    "data = pd.read_csv(\"/datasets/games.csv\")"
   ]
  },
  {
   "cell_type": "code",
   "execution_count": 3,
   "metadata": {},
   "outputs": [
    {
     "data": {
      "text/html": [
       "<div>\n",
       "<style scoped>\n",
       "    .dataframe tbody tr th:only-of-type {\n",
       "        vertical-align: middle;\n",
       "    }\n",
       "\n",
       "    .dataframe tbody tr th {\n",
       "        vertical-align: top;\n",
       "    }\n",
       "\n",
       "    .dataframe thead th {\n",
       "        text-align: right;\n",
       "    }\n",
       "</style>\n",
       "<table border=\"1\" class=\"dataframe\">\n",
       "  <thead>\n",
       "    <tr style=\"text-align: right;\">\n",
       "      <th></th>\n",
       "      <th>Name</th>\n",
       "      <th>Platform</th>\n",
       "      <th>Year_of_Release</th>\n",
       "      <th>Genre</th>\n",
       "      <th>NA_sales</th>\n",
       "      <th>EU_sales</th>\n",
       "      <th>JP_sales</th>\n",
       "      <th>Other_sales</th>\n",
       "      <th>Critic_Score</th>\n",
       "      <th>User_Score</th>\n",
       "      <th>Rating</th>\n",
       "    </tr>\n",
       "  </thead>\n",
       "  <tbody>\n",
       "    <tr>\n",
       "      <th>0</th>\n",
       "      <td>Wii Sports</td>\n",
       "      <td>Wii</td>\n",
       "      <td>2006.0</td>\n",
       "      <td>Sports</td>\n",
       "      <td>41.36</td>\n",
       "      <td>28.96</td>\n",
       "      <td>3.77</td>\n",
       "      <td>8.45</td>\n",
       "      <td>76.0</td>\n",
       "      <td>8</td>\n",
       "      <td>E</td>\n",
       "    </tr>\n",
       "    <tr>\n",
       "      <th>1</th>\n",
       "      <td>Super Mario Bros.</td>\n",
       "      <td>NES</td>\n",
       "      <td>1985.0</td>\n",
       "      <td>Platform</td>\n",
       "      <td>29.08</td>\n",
       "      <td>3.58</td>\n",
       "      <td>6.81</td>\n",
       "      <td>0.77</td>\n",
       "      <td>NaN</td>\n",
       "      <td>NaN</td>\n",
       "      <td>NaN</td>\n",
       "    </tr>\n",
       "    <tr>\n",
       "      <th>2</th>\n",
       "      <td>Mario Kart Wii</td>\n",
       "      <td>Wii</td>\n",
       "      <td>2008.0</td>\n",
       "      <td>Racing</td>\n",
       "      <td>15.68</td>\n",
       "      <td>12.76</td>\n",
       "      <td>3.79</td>\n",
       "      <td>3.29</td>\n",
       "      <td>82.0</td>\n",
       "      <td>8.3</td>\n",
       "      <td>E</td>\n",
       "    </tr>\n",
       "    <tr>\n",
       "      <th>3</th>\n",
       "      <td>Wii Sports Resort</td>\n",
       "      <td>Wii</td>\n",
       "      <td>2009.0</td>\n",
       "      <td>Sports</td>\n",
       "      <td>15.61</td>\n",
       "      <td>10.93</td>\n",
       "      <td>3.28</td>\n",
       "      <td>2.95</td>\n",
       "      <td>80.0</td>\n",
       "      <td>8</td>\n",
       "      <td>E</td>\n",
       "    </tr>\n",
       "    <tr>\n",
       "      <th>4</th>\n",
       "      <td>Pokemon Red/Pokemon Blue</td>\n",
       "      <td>GB</td>\n",
       "      <td>1996.0</td>\n",
       "      <td>Role-Playing</td>\n",
       "      <td>11.27</td>\n",
       "      <td>8.89</td>\n",
       "      <td>10.22</td>\n",
       "      <td>1.00</td>\n",
       "      <td>NaN</td>\n",
       "      <td>NaN</td>\n",
       "      <td>NaN</td>\n",
       "    </tr>\n",
       "    <tr>\n",
       "      <th>...</th>\n",
       "      <td>...</td>\n",
       "      <td>...</td>\n",
       "      <td>...</td>\n",
       "      <td>...</td>\n",
       "      <td>...</td>\n",
       "      <td>...</td>\n",
       "      <td>...</td>\n",
       "      <td>...</td>\n",
       "      <td>...</td>\n",
       "      <td>...</td>\n",
       "      <td>...</td>\n",
       "    </tr>\n",
       "    <tr>\n",
       "      <th>16710</th>\n",
       "      <td>Samurai Warriors: Sanada Maru</td>\n",
       "      <td>PS3</td>\n",
       "      <td>2016.0</td>\n",
       "      <td>Action</td>\n",
       "      <td>0.00</td>\n",
       "      <td>0.00</td>\n",
       "      <td>0.01</td>\n",
       "      <td>0.00</td>\n",
       "      <td>NaN</td>\n",
       "      <td>NaN</td>\n",
       "      <td>NaN</td>\n",
       "    </tr>\n",
       "    <tr>\n",
       "      <th>16711</th>\n",
       "      <td>LMA Manager 2007</td>\n",
       "      <td>X360</td>\n",
       "      <td>2006.0</td>\n",
       "      <td>Sports</td>\n",
       "      <td>0.00</td>\n",
       "      <td>0.01</td>\n",
       "      <td>0.00</td>\n",
       "      <td>0.00</td>\n",
       "      <td>NaN</td>\n",
       "      <td>NaN</td>\n",
       "      <td>NaN</td>\n",
       "    </tr>\n",
       "    <tr>\n",
       "      <th>16712</th>\n",
       "      <td>Haitaka no Psychedelica</td>\n",
       "      <td>PSV</td>\n",
       "      <td>2016.0</td>\n",
       "      <td>Adventure</td>\n",
       "      <td>0.00</td>\n",
       "      <td>0.00</td>\n",
       "      <td>0.01</td>\n",
       "      <td>0.00</td>\n",
       "      <td>NaN</td>\n",
       "      <td>NaN</td>\n",
       "      <td>NaN</td>\n",
       "    </tr>\n",
       "    <tr>\n",
       "      <th>16713</th>\n",
       "      <td>Spirits &amp; Spells</td>\n",
       "      <td>GBA</td>\n",
       "      <td>2003.0</td>\n",
       "      <td>Platform</td>\n",
       "      <td>0.01</td>\n",
       "      <td>0.00</td>\n",
       "      <td>0.00</td>\n",
       "      <td>0.00</td>\n",
       "      <td>NaN</td>\n",
       "      <td>NaN</td>\n",
       "      <td>NaN</td>\n",
       "    </tr>\n",
       "    <tr>\n",
       "      <th>16714</th>\n",
       "      <td>Winning Post 8 2016</td>\n",
       "      <td>PSV</td>\n",
       "      <td>2016.0</td>\n",
       "      <td>Simulation</td>\n",
       "      <td>0.00</td>\n",
       "      <td>0.00</td>\n",
       "      <td>0.01</td>\n",
       "      <td>0.00</td>\n",
       "      <td>NaN</td>\n",
       "      <td>NaN</td>\n",
       "      <td>NaN</td>\n",
       "    </tr>\n",
       "  </tbody>\n",
       "</table>\n",
       "<p>16715 rows × 11 columns</p>\n",
       "</div>"
      ],
      "text/plain": [
       "                                Name Platform  Year_of_Release         Genre  \\\n",
       "0                         Wii Sports      Wii           2006.0        Sports   \n",
       "1                  Super Mario Bros.      NES           1985.0      Platform   \n",
       "2                     Mario Kart Wii      Wii           2008.0        Racing   \n",
       "3                  Wii Sports Resort      Wii           2009.0        Sports   \n",
       "4           Pokemon Red/Pokemon Blue       GB           1996.0  Role-Playing   \n",
       "...                              ...      ...              ...           ...   \n",
       "16710  Samurai Warriors: Sanada Maru      PS3           2016.0        Action   \n",
       "16711               LMA Manager 2007     X360           2006.0        Sports   \n",
       "16712        Haitaka no Psychedelica      PSV           2016.0     Adventure   \n",
       "16713               Spirits & Spells      GBA           2003.0      Platform   \n",
       "16714            Winning Post 8 2016      PSV           2016.0    Simulation   \n",
       "\n",
       "       NA_sales  EU_sales  JP_sales  Other_sales  Critic_Score User_Score  \\\n",
       "0         41.36     28.96      3.77         8.45          76.0          8   \n",
       "1         29.08      3.58      6.81         0.77           NaN        NaN   \n",
       "2         15.68     12.76      3.79         3.29          82.0        8.3   \n",
       "3         15.61     10.93      3.28         2.95          80.0          8   \n",
       "4         11.27      8.89     10.22         1.00           NaN        NaN   \n",
       "...         ...       ...       ...          ...           ...        ...   \n",
       "16710      0.00      0.00      0.01         0.00           NaN        NaN   \n",
       "16711      0.00      0.01      0.00         0.00           NaN        NaN   \n",
       "16712      0.00      0.00      0.01         0.00           NaN        NaN   \n",
       "16713      0.01      0.00      0.00         0.00           NaN        NaN   \n",
       "16714      0.00      0.00      0.01         0.00           NaN        NaN   \n",
       "\n",
       "      Rating  \n",
       "0          E  \n",
       "1        NaN  \n",
       "2          E  \n",
       "3          E  \n",
       "4        NaN  \n",
       "...      ...  \n",
       "16710    NaN  \n",
       "16711    NaN  \n",
       "16712    NaN  \n",
       "16713    NaN  \n",
       "16714    NaN  \n",
       "\n",
       "[16715 rows x 11 columns]"
      ]
     },
     "execution_count": 3,
     "metadata": {},
     "output_type": "execute_result"
    }
   ],
   "source": [
    "data"
   ]
  },
  {
   "cell_type": "code",
   "execution_count": 4,
   "metadata": {},
   "outputs": [
    {
     "data": {
      "text/html": [
       "<div>\n",
       "<style scoped>\n",
       "    .dataframe tbody tr th:only-of-type {\n",
       "        vertical-align: middle;\n",
       "    }\n",
       "\n",
       "    .dataframe tbody tr th {\n",
       "        vertical-align: top;\n",
       "    }\n",
       "\n",
       "    .dataframe thead th {\n",
       "        text-align: right;\n",
       "    }\n",
       "</style>\n",
       "<table border=\"1\" class=\"dataframe\">\n",
       "  <thead>\n",
       "    <tr style=\"text-align: right;\">\n",
       "      <th></th>\n",
       "      <th>Year_of_Release</th>\n",
       "      <th>NA_sales</th>\n",
       "      <th>EU_sales</th>\n",
       "      <th>JP_sales</th>\n",
       "      <th>Other_sales</th>\n",
       "      <th>Critic_Score</th>\n",
       "    </tr>\n",
       "  </thead>\n",
       "  <tbody>\n",
       "    <tr>\n",
       "      <th>count</th>\n",
       "      <td>16446.000000</td>\n",
       "      <td>16715.000000</td>\n",
       "      <td>16715.000000</td>\n",
       "      <td>16715.000000</td>\n",
       "      <td>16715.000000</td>\n",
       "      <td>8137.000000</td>\n",
       "    </tr>\n",
       "    <tr>\n",
       "      <th>mean</th>\n",
       "      <td>2006.484616</td>\n",
       "      <td>0.263377</td>\n",
       "      <td>0.145060</td>\n",
       "      <td>0.077617</td>\n",
       "      <td>0.047342</td>\n",
       "      <td>68.967679</td>\n",
       "    </tr>\n",
       "    <tr>\n",
       "      <th>std</th>\n",
       "      <td>5.877050</td>\n",
       "      <td>0.813604</td>\n",
       "      <td>0.503339</td>\n",
       "      <td>0.308853</td>\n",
       "      <td>0.186731</td>\n",
       "      <td>13.938165</td>\n",
       "    </tr>\n",
       "    <tr>\n",
       "      <th>min</th>\n",
       "      <td>1980.000000</td>\n",
       "      <td>0.000000</td>\n",
       "      <td>0.000000</td>\n",
       "      <td>0.000000</td>\n",
       "      <td>0.000000</td>\n",
       "      <td>13.000000</td>\n",
       "    </tr>\n",
       "    <tr>\n",
       "      <th>25%</th>\n",
       "      <td>2003.000000</td>\n",
       "      <td>0.000000</td>\n",
       "      <td>0.000000</td>\n",
       "      <td>0.000000</td>\n",
       "      <td>0.000000</td>\n",
       "      <td>60.000000</td>\n",
       "    </tr>\n",
       "    <tr>\n",
       "      <th>50%</th>\n",
       "      <td>2007.000000</td>\n",
       "      <td>0.080000</td>\n",
       "      <td>0.020000</td>\n",
       "      <td>0.000000</td>\n",
       "      <td>0.010000</td>\n",
       "      <td>71.000000</td>\n",
       "    </tr>\n",
       "    <tr>\n",
       "      <th>75%</th>\n",
       "      <td>2010.000000</td>\n",
       "      <td>0.240000</td>\n",
       "      <td>0.110000</td>\n",
       "      <td>0.040000</td>\n",
       "      <td>0.030000</td>\n",
       "      <td>79.000000</td>\n",
       "    </tr>\n",
       "    <tr>\n",
       "      <th>max</th>\n",
       "      <td>2016.000000</td>\n",
       "      <td>41.360000</td>\n",
       "      <td>28.960000</td>\n",
       "      <td>10.220000</td>\n",
       "      <td>10.570000</td>\n",
       "      <td>98.000000</td>\n",
       "    </tr>\n",
       "  </tbody>\n",
       "</table>\n",
       "</div>"
      ],
      "text/plain": [
       "       Year_of_Release      NA_sales      EU_sales      JP_sales  \\\n",
       "count     16446.000000  16715.000000  16715.000000  16715.000000   \n",
       "mean       2006.484616      0.263377      0.145060      0.077617   \n",
       "std           5.877050      0.813604      0.503339      0.308853   \n",
       "min        1980.000000      0.000000      0.000000      0.000000   \n",
       "25%        2003.000000      0.000000      0.000000      0.000000   \n",
       "50%        2007.000000      0.080000      0.020000      0.000000   \n",
       "75%        2010.000000      0.240000      0.110000      0.040000   \n",
       "max        2016.000000     41.360000     28.960000     10.220000   \n",
       "\n",
       "        Other_sales  Critic_Score  \n",
       "count  16715.000000   8137.000000  \n",
       "mean       0.047342     68.967679  \n",
       "std        0.186731     13.938165  \n",
       "min        0.000000     13.000000  \n",
       "25%        0.000000     60.000000  \n",
       "50%        0.010000     71.000000  \n",
       "75%        0.030000     79.000000  \n",
       "max       10.570000     98.000000  "
      ]
     },
     "execution_count": 4,
     "metadata": {},
     "output_type": "execute_result"
    }
   ],
   "source": [
    "data.describe()"
   ]
  },
  {
   "cell_type": "code",
   "execution_count": 5,
   "metadata": {},
   "outputs": [
    {
     "name": "stdout",
     "output_type": "stream",
     "text": [
      "<class 'pandas.core.frame.DataFrame'>\n",
      "RangeIndex: 16715 entries, 0 to 16714\n",
      "Data columns (total 11 columns):\n",
      " #   Column           Non-Null Count  Dtype  \n",
      "---  ------           --------------  -----  \n",
      " 0   Name             16713 non-null  object \n",
      " 1   Platform         16715 non-null  object \n",
      " 2   Year_of_Release  16446 non-null  float64\n",
      " 3   Genre            16713 non-null  object \n",
      " 4   NA_sales         16715 non-null  float64\n",
      " 5   EU_sales         16715 non-null  float64\n",
      " 6   JP_sales         16715 non-null  float64\n",
      " 7   Other_sales      16715 non-null  float64\n",
      " 8   Critic_Score     8137 non-null   float64\n",
      " 9   User_Score       10014 non-null  object \n",
      " 10  Rating           9949 non-null   object \n",
      "dtypes: float64(6), object(5)\n",
      "memory usage: 1.4+ MB\n"
     ]
    }
   ],
   "source": [
    "data.info()"
   ]
  },
  {
   "cell_type": "code",
   "execution_count": 6,
   "metadata": {},
   "outputs": [
    {
     "data": {
      "text/plain": [
       "Name                  2\n",
       "Platform              0\n",
       "Year_of_Release     269\n",
       "Genre                 2\n",
       "NA_sales              0\n",
       "EU_sales              0\n",
       "JP_sales              0\n",
       "Other_sales           0\n",
       "Critic_Score       8578\n",
       "User_Score         6701\n",
       "Rating             6766\n",
       "dtype: int64"
      ]
     },
     "execution_count": 6,
     "metadata": {},
     "output_type": "execute_result"
    }
   ],
   "source": [
    "data.isna().sum()"
   ]
  },
  {
   "cell_type": "code",
   "execution_count": 7,
   "metadata": {},
   "outputs": [
    {
     "data": {
      "text/plain": [
       "0"
      ]
     },
     "execution_count": 7,
     "metadata": {},
     "output_type": "execute_result"
    }
   ],
   "source": [
    "len(data[data.duplicated()])"
   ]
  },
  {
   "cell_type": "code",
   "execution_count": 8,
   "metadata": {},
   "outputs": [
    {
     "data": {
      "text/html": [
       "<div>\n",
       "<style scoped>\n",
       "    .dataframe tbody tr th:only-of-type {\n",
       "        vertical-align: middle;\n",
       "    }\n",
       "\n",
       "    .dataframe tbody tr th {\n",
       "        vertical-align: top;\n",
       "    }\n",
       "\n",
       "    .dataframe thead th {\n",
       "        text-align: right;\n",
       "    }\n",
       "</style>\n",
       "<table border=\"1\" class=\"dataframe\">\n",
       "  <thead>\n",
       "    <tr style=\"text-align: right;\">\n",
       "      <th></th>\n",
       "      <th>Name</th>\n",
       "      <th>Platform</th>\n",
       "      <th>Year_of_Release</th>\n",
       "      <th>Genre</th>\n",
       "      <th>NA_sales</th>\n",
       "      <th>EU_sales</th>\n",
       "      <th>JP_sales</th>\n",
       "      <th>Other_sales</th>\n",
       "      <th>Critic_Score</th>\n",
       "      <th>User_Score</th>\n",
       "      <th>Rating</th>\n",
       "    </tr>\n",
       "  </thead>\n",
       "  <tbody>\n",
       "    <tr>\n",
       "      <th>14244</th>\n",
       "      <td>NaN</td>\n",
       "      <td>GEN</td>\n",
       "      <td>1993.0</td>\n",
       "      <td>NaN</td>\n",
       "      <td>0.0</td>\n",
       "      <td>0.00</td>\n",
       "      <td>0.03</td>\n",
       "      <td>0.0</td>\n",
       "      <td>NaN</td>\n",
       "      <td>NaN</td>\n",
       "      <td>NaN</td>\n",
       "    </tr>\n",
       "    <tr>\n",
       "      <th>16230</th>\n",
       "      <td>Madden NFL 13</td>\n",
       "      <td>PS3</td>\n",
       "      <td>2012.0</td>\n",
       "      <td>Sports</td>\n",
       "      <td>0.0</td>\n",
       "      <td>0.01</td>\n",
       "      <td>0.00</td>\n",
       "      <td>0.0</td>\n",
       "      <td>83.0</td>\n",
       "      <td>5.5</td>\n",
       "      <td>E</td>\n",
       "    </tr>\n",
       "  </tbody>\n",
       "</table>\n",
       "</div>"
      ],
      "text/plain": [
       "                Name Platform  Year_of_Release   Genre  NA_sales  EU_sales  \\\n",
       "14244            NaN      GEN           1993.0     NaN       0.0      0.00   \n",
       "16230  Madden NFL 13      PS3           2012.0  Sports       0.0      0.01   \n",
       "\n",
       "       JP_sales  Other_sales  Critic_Score User_Score Rating  \n",
       "14244      0.03          0.0           NaN        NaN    NaN  \n",
       "16230      0.00          0.0          83.0        5.5      E  "
      ]
     },
     "execution_count": 8,
     "metadata": {},
     "output_type": "execute_result"
    }
   ],
   "source": [
    "data[data[[\"Name\" , \"Platform\" , \"Year_of_Release\"]].duplicated()]"
   ]
  },
  {
   "cell_type": "code",
   "execution_count": 9,
   "metadata": {},
   "outputs": [
    {
     "data": {
      "text/html": [
       "<div>\n",
       "<style scoped>\n",
       "    .dataframe tbody tr th:only-of-type {\n",
       "        vertical-align: middle;\n",
       "    }\n",
       "\n",
       "    .dataframe tbody tr th {\n",
       "        vertical-align: top;\n",
       "    }\n",
       "\n",
       "    .dataframe thead th {\n",
       "        text-align: right;\n",
       "    }\n",
       "</style>\n",
       "<table border=\"1\" class=\"dataframe\">\n",
       "  <thead>\n",
       "    <tr style=\"text-align: right;\">\n",
       "      <th></th>\n",
       "      <th>Name</th>\n",
       "      <th>Platform</th>\n",
       "      <th>Year_of_Release</th>\n",
       "      <th>Genre</th>\n",
       "      <th>NA_sales</th>\n",
       "      <th>EU_sales</th>\n",
       "      <th>JP_sales</th>\n",
       "      <th>Other_sales</th>\n",
       "      <th>Critic_Score</th>\n",
       "      <th>User_Score</th>\n",
       "      <th>Rating</th>\n",
       "    </tr>\n",
       "  </thead>\n",
       "  <tbody>\n",
       "    <tr>\n",
       "      <th>507</th>\n",
       "      <td>Madden NFL 13</td>\n",
       "      <td>X360</td>\n",
       "      <td>2012.0</td>\n",
       "      <td>Sports</td>\n",
       "      <td>2.53</td>\n",
       "      <td>0.15</td>\n",
       "      <td>0.0</td>\n",
       "      <td>0.17</td>\n",
       "      <td>81.0</td>\n",
       "      <td>5.8</td>\n",
       "      <td>E</td>\n",
       "    </tr>\n",
       "    <tr>\n",
       "      <th>604</th>\n",
       "      <td>Madden NFL 13</td>\n",
       "      <td>PS3</td>\n",
       "      <td>2012.0</td>\n",
       "      <td>Sports</td>\n",
       "      <td>2.11</td>\n",
       "      <td>0.22</td>\n",
       "      <td>0.0</td>\n",
       "      <td>0.23</td>\n",
       "      <td>83.0</td>\n",
       "      <td>5.5</td>\n",
       "      <td>E</td>\n",
       "    </tr>\n",
       "    <tr>\n",
       "      <th>3986</th>\n",
       "      <td>Madden NFL 13</td>\n",
       "      <td>Wii</td>\n",
       "      <td>2012.0</td>\n",
       "      <td>Sports</td>\n",
       "      <td>0.47</td>\n",
       "      <td>0.00</td>\n",
       "      <td>0.0</td>\n",
       "      <td>0.03</td>\n",
       "      <td>NaN</td>\n",
       "      <td>7.3</td>\n",
       "      <td>E</td>\n",
       "    </tr>\n",
       "    <tr>\n",
       "      <th>5887</th>\n",
       "      <td>Madden NFL 13</td>\n",
       "      <td>PSV</td>\n",
       "      <td>2012.0</td>\n",
       "      <td>Sports</td>\n",
       "      <td>0.28</td>\n",
       "      <td>0.00</td>\n",
       "      <td>0.0</td>\n",
       "      <td>0.02</td>\n",
       "      <td>63.0</td>\n",
       "      <td>7.3</td>\n",
       "      <td>E</td>\n",
       "    </tr>\n",
       "    <tr>\n",
       "      <th>7066</th>\n",
       "      <td>Madden NFL 13</td>\n",
       "      <td>WiiU</td>\n",
       "      <td>2012.0</td>\n",
       "      <td>Sports</td>\n",
       "      <td>0.21</td>\n",
       "      <td>0.00</td>\n",
       "      <td>0.0</td>\n",
       "      <td>0.02</td>\n",
       "      <td>75.0</td>\n",
       "      <td>6.7</td>\n",
       "      <td>E</td>\n",
       "    </tr>\n",
       "    <tr>\n",
       "      <th>16230</th>\n",
       "      <td>Madden NFL 13</td>\n",
       "      <td>PS3</td>\n",
       "      <td>2012.0</td>\n",
       "      <td>Sports</td>\n",
       "      <td>0.00</td>\n",
       "      <td>0.01</td>\n",
       "      <td>0.0</td>\n",
       "      <td>0.00</td>\n",
       "      <td>83.0</td>\n",
       "      <td>5.5</td>\n",
       "      <td>E</td>\n",
       "    </tr>\n",
       "  </tbody>\n",
       "</table>\n",
       "</div>"
      ],
      "text/plain": [
       "                Name Platform  Year_of_Release   Genre  NA_sales  EU_sales  \\\n",
       "507    Madden NFL 13     X360           2012.0  Sports      2.53      0.15   \n",
       "604    Madden NFL 13      PS3           2012.0  Sports      2.11      0.22   \n",
       "3986   Madden NFL 13      Wii           2012.0  Sports      0.47      0.00   \n",
       "5887   Madden NFL 13      PSV           2012.0  Sports      0.28      0.00   \n",
       "7066   Madden NFL 13     WiiU           2012.0  Sports      0.21      0.00   \n",
       "16230  Madden NFL 13      PS3           2012.0  Sports      0.00      0.01   \n",
       "\n",
       "       JP_sales  Other_sales  Critic_Score User_Score Rating  \n",
       "507         0.0         0.17          81.0        5.8      E  \n",
       "604         0.0         0.23          83.0        5.5      E  \n",
       "3986        0.0         0.03           NaN        7.3      E  \n",
       "5887        0.0         0.02          63.0        7.3      E  \n",
       "7066        0.0         0.02          75.0        6.7      E  \n",
       "16230       0.0         0.00          83.0        5.5      E  "
      ]
     },
     "execution_count": 9,
     "metadata": {},
     "output_type": "execute_result"
    }
   ],
   "source": [
    "data.loc[data[\"Name\"] == \"Madden NFL 13\"]"
   ]
  },
  {
   "cell_type": "code",
   "execution_count": 10,
   "metadata": {},
   "outputs": [],
   "source": [
    "data = data.drop(index = [14244 , 16230])"
   ]
  },
  {
   "cell_type": "code",
   "execution_count": 11,
   "metadata": {},
   "outputs": [
    {
     "data": {
      "text/plain": [
       "0"
      ]
     },
     "execution_count": 11,
     "metadata": {},
     "output_type": "execute_result"
    }
   ],
   "source": [
    "len(data[data[[\"Name\" , \"Platform\" , \"Year_of_Release\"]].duplicated()])"
   ]
  },
  {
   "cell_type": "code",
   "execution_count": 12,
   "metadata": {},
   "outputs": [
    {
     "data": {
      "text/html": [
       "<div>\n",
       "<style scoped>\n",
       "    .dataframe tbody tr th:only-of-type {\n",
       "        vertical-align: middle;\n",
       "    }\n",
       "\n",
       "    .dataframe tbody tr th {\n",
       "        vertical-align: top;\n",
       "    }\n",
       "\n",
       "    .dataframe thead th {\n",
       "        text-align: right;\n",
       "    }\n",
       "</style>\n",
       "<table border=\"1\" class=\"dataframe\">\n",
       "  <thead>\n",
       "    <tr style=\"text-align: right;\">\n",
       "      <th></th>\n",
       "      <th>Name</th>\n",
       "      <th>Platform</th>\n",
       "      <th>Year_of_Release</th>\n",
       "      <th>Genre</th>\n",
       "      <th>NA_sales</th>\n",
       "      <th>EU_sales</th>\n",
       "      <th>JP_sales</th>\n",
       "      <th>Other_sales</th>\n",
       "      <th>Critic_Score</th>\n",
       "      <th>User_Score</th>\n",
       "      <th>Rating</th>\n",
       "    </tr>\n",
       "  </thead>\n",
       "  <tbody>\n",
       "    <tr>\n",
       "      <th>659</th>\n",
       "      <td>NaN</td>\n",
       "      <td>GEN</td>\n",
       "      <td>1993.0</td>\n",
       "      <td>NaN</td>\n",
       "      <td>1.78</td>\n",
       "      <td>0.53</td>\n",
       "      <td>0.0</td>\n",
       "      <td>0.08</td>\n",
       "      <td>NaN</td>\n",
       "      <td>NaN</td>\n",
       "      <td>NaN</td>\n",
       "    </tr>\n",
       "  </tbody>\n",
       "</table>\n",
       "</div>"
      ],
      "text/plain": [
       "    Name Platform  Year_of_Release Genre  NA_sales  EU_sales  JP_sales  \\\n",
       "659  NaN      GEN           1993.0   NaN      1.78      0.53       0.0   \n",
       "\n",
       "     Other_sales  Critic_Score User_Score Rating  \n",
       "659         0.08           NaN        NaN    NaN  "
      ]
     },
     "execution_count": 12,
     "metadata": {},
     "output_type": "execute_result"
    }
   ],
   "source": [
    "data[data['Genre'].isna()]"
   ]
  },
  {
   "cell_type": "markdown",
   "metadata": {},
   "source": [
    "В столбцах Name и Genre имеются всего лишь два пропуска, и они находятся в одинаковых строчках. Я считаю мы можем их убрать, так как их всего 2, и мы не сможем их восстановить. Сделаем это сразу. "
   ]
  },
  {
   "cell_type": "code",
   "execution_count": 13,
   "metadata": {},
   "outputs": [],
   "source": [
    "data = data.dropna(subset = [\"Genre\"])"
   ]
  },
  {
   "cell_type": "markdown",
   "metadata": {},
   "source": [
    "Вывод\n",
    "<br>\n",
    "Видно большое количество пропусков.\n",
    "<br>\n",
    "Year_of_Release - имеет формат float, а должен быть int\n",
    "<br>\n",
    "User_Score - имеет тип object, а должен быть float"
   ]
  },
  {
   "cell_type": "markdown",
   "metadata": {},
   "source": [
    "## Шаг 2. Предобработка данных"
   ]
  },
  {
   "cell_type": "markdown",
   "metadata": {},
   "source": [
    "### Замена названий в столбцах"
   ]
  },
  {
   "cell_type": "code",
   "execution_count": 14,
   "metadata": {},
   "outputs": [],
   "source": [
    "data = data.rename(columns = {\"Name\" : \"name\" , \"Platform\" : \"platform\" , \"Year_of_Release\" : \"year_of_release\" , \"Genre\" : \"genre\", \"Other_sales\" : \"other_sales\" , \"Critic_Score\" : \"critic_score\" , \"User_Score\" : \"user_score\" , \"Rating\" : \"rating\"})"
   ]
  },
  {
   "cell_type": "code",
   "execution_count": 15,
   "metadata": {},
   "outputs": [
    {
     "data": {
      "text/plain": [
       "Index(['name', 'platform', 'year_of_release', 'genre', 'NA_sales', 'EU_sales',\n",
       "       'JP_sales', 'other_sales', 'critic_score', 'user_score', 'rating'],\n",
       "      dtype='object')"
      ]
     },
     "execution_count": 15,
     "metadata": {},
     "output_type": "execute_result"
    }
   ],
   "source": [
    "data.columns"
   ]
  },
  {
   "cell_type": "markdown",
   "metadata": {},
   "source": [
    "### Преобразование данных в нужные типы."
   ]
  },
  {
   "cell_type": "code",
   "execution_count": 16,
   "metadata": {},
   "outputs": [
    {
     "name": "stdout",
     "output_type": "stream",
     "text": [
      "<class 'pandas.core.frame.DataFrame'>\n",
      "Int64Index: 16712 entries, 0 to 16714\n",
      "Data columns (total 11 columns):\n",
      " #   Column           Non-Null Count  Dtype  \n",
      "---  ------           --------------  -----  \n",
      " 0   name             16712 non-null  object \n",
      " 1   platform         16712 non-null  object \n",
      " 2   year_of_release  16443 non-null  float64\n",
      " 3   genre            16712 non-null  object \n",
      " 4   NA_sales         16712 non-null  float64\n",
      " 5   EU_sales         16712 non-null  float64\n",
      " 6   JP_sales         16712 non-null  float64\n",
      " 7   other_sales      16712 non-null  float64\n",
      " 8   critic_score     8136 non-null   float64\n",
      " 9   user_score       10013 non-null  object \n",
      " 10  rating           9948 non-null   object \n",
      "dtypes: float64(6), object(5)\n",
      "memory usage: 1.5+ MB\n"
     ]
    }
   ],
   "source": [
    "data.info()"
   ]
  },
  {
   "cell_type": "code",
   "execution_count": 17,
   "metadata": {},
   "outputs": [
    {
     "data": {
      "text/plain": [
       "array(['8', nan, '8.3', '8.5', '6.6', '8.4', '8.6', '7.7', '6.3', '7.4',\n",
       "       '8.2', '9', '7.9', '8.1', '8.7', '7.1', '3.4', '5.3', '4.8', '3.2',\n",
       "       '8.9', '6.4', '7.8', '7.5', '2.6', '7.2', '9.2', '7', '7.3', '4.3',\n",
       "       '7.6', '5.7', '5', '9.1', '6.5', 'tbd', '8.8', '6.9', '9.4', '6.8',\n",
       "       '6.1', '6.7', '5.4', '4', '4.9', '4.5', '9.3', '6.2', '4.2', '6',\n",
       "       '3.7', '4.1', '5.8', '5.6', '5.5', '4.4', '4.6', '5.9', '3.9',\n",
       "       '3.1', '2.9', '5.2', '3.3', '4.7', '5.1', '3.5', '2.5', '1.9', '3',\n",
       "       '2.7', '2.2', '2', '9.5', '2.1', '3.6', '2.8', '1.8', '3.8', '0',\n",
       "       '1.6', '9.6', '2.4', '1.7', '1.1', '0.3', '1.5', '0.7', '1.2',\n",
       "       '2.3', '0.5', '1.3', '0.2', '0.6', '1.4', '0.9', '1', '9.7'],\n",
       "      dtype=object)"
      ]
     },
     "execution_count": 17,
     "metadata": {},
     "output_type": "execute_result"
    }
   ],
   "source": [
    "data['user_score'].unique()"
   ]
  },
  {
   "cell_type": "code",
   "execution_count": 18,
   "metadata": {},
   "outputs": [
    {
     "data": {
      "text/plain": [
       "name                  0\n",
       "platform              0\n",
       "year_of_release     269\n",
       "genre                 0\n",
       "NA_sales              0\n",
       "EU_sales              0\n",
       "JP_sales              0\n",
       "other_sales           0\n",
       "critic_score       8576\n",
       "user_score         6699\n",
       "rating             6764\n",
       "dtype: int64"
      ]
     },
     "execution_count": 18,
     "metadata": {},
     "output_type": "execute_result"
    }
   ],
   "source": [
    "data.isna().sum()"
   ]
  },
  {
   "cell_type": "code",
   "execution_count": 19,
   "metadata": {},
   "outputs": [
    {
     "data": {
      "text/plain": [
       "array([76., nan, 82., 80., 89., 58., 87., 91., 61., 97., 95., 77., 88.,\n",
       "       83., 94., 93., 85., 86., 98., 96., 90., 84., 73., 74., 78., 92.,\n",
       "       71., 72., 68., 62., 49., 67., 81., 66., 56., 79., 70., 59., 64.,\n",
       "       75., 60., 63., 69., 50., 25., 42., 44., 55., 48., 57., 29., 47.,\n",
       "       65., 54., 20., 53., 37., 38., 33., 52., 30., 32., 43., 45., 51.,\n",
       "       40., 46., 39., 34., 35., 41., 36., 28., 31., 27., 26., 19., 23.,\n",
       "       24., 21., 17., 22., 13.])"
      ]
     },
     "execution_count": 19,
     "metadata": {},
     "output_type": "execute_result"
    }
   ],
   "source": [
    "data[\"critic_score\"].unique()"
   ]
  },
  {
   "cell_type": "code",
   "execution_count": 20,
   "metadata": {},
   "outputs": [],
   "source": [
    "#Приведем года в целочисленный тип\n",
    "data[\"year_of_release\"] = data[\"year_of_release\"].astype(\"Int64\")"
   ]
  },
  {
   "cell_type": "code",
   "execution_count": 21,
   "metadata": {},
   "outputs": [],
   "source": [
    "#Приведем оценки критиков в целочисленный тип\n",
    "data[\"critic_score\"] = data[\"critic_score\"].astype(\"Int64\")"
   ]
  },
  {
   "cell_type": "code",
   "execution_count": 22,
   "metadata": {},
   "outputs": [],
   "source": [
    "#Оценки пользователей приведем к вещественному типу данных\n",
    "data['user_score'] = data['user_score'].apply(pd.to_numeric, errors='coerce')\n"
   ]
  },
  {
   "cell_type": "code",
   "execution_count": 23,
   "metadata": {},
   "outputs": [
    {
     "name": "stdout",
     "output_type": "stream",
     "text": [
      "<class 'pandas.core.frame.DataFrame'>\n",
      "Int64Index: 16712 entries, 0 to 16714\n",
      "Data columns (total 11 columns):\n",
      " #   Column           Non-Null Count  Dtype  \n",
      "---  ------           --------------  -----  \n",
      " 0   name             16712 non-null  object \n",
      " 1   platform         16712 non-null  object \n",
      " 2   year_of_release  16443 non-null  Int64  \n",
      " 3   genre            16712 non-null  object \n",
      " 4   NA_sales         16712 non-null  float64\n",
      " 5   EU_sales         16712 non-null  float64\n",
      " 6   JP_sales         16712 non-null  float64\n",
      " 7   other_sales      16712 non-null  float64\n",
      " 8   critic_score     8136 non-null   Int64  \n",
      " 9   user_score       7589 non-null   float64\n",
      " 10  rating           9948 non-null   object \n",
      "dtypes: Int64(2), float64(5), object(4)\n",
      "memory usage: 1.6+ MB\n"
     ]
    }
   ],
   "source": [
    "data.info()"
   ]
  },
  {
   "cell_type": "markdown",
   "metadata": {},
   "source": [
    "### Обработайтка пропусков"
   ]
  },
  {
   "cell_type": "markdown",
   "metadata": {},
   "source": [
    "В технической литературе и проектной документации TBD обычно используется для обозначения неопределенных деталей или решений в проекте.Таким образом мы должны заменить данную аббревиатуру на Nan. Мы это сделали в прощлом пункте, когда изменяли тип данных столбца 'user_score' на float. Аббревиатура , была автоматически заменена на Nan.Ниже приведу доказательства."
   ]
  },
  {
   "cell_type": "code",
   "execution_count": 24,
   "metadata": {},
   "outputs": [
    {
     "data": {
      "text/plain": [
       "array([8. , nan, 8.3, 8.5, 6.6, 8.4, 8.6, 7.7, 6.3, 7.4, 8.2, 9. , 7.9,\n",
       "       8.1, 8.7, 7.1, 3.4, 5.3, 4.8, 3.2, 8.9, 6.4, 7.8, 7.5, 2.6, 7.2,\n",
       "       9.2, 7. , 7.3, 4.3, 7.6, 5.7, 5. , 9.1, 6.5, 8.8, 6.9, 9.4, 6.8,\n",
       "       6.1, 6.7, 5.4, 4. , 4.9, 4.5, 9.3, 6.2, 4.2, 6. , 3.7, 4.1, 5.8,\n",
       "       5.6, 5.5, 4.4, 4.6, 5.9, 3.9, 3.1, 2.9, 5.2, 3.3, 4.7, 5.1, 3.5,\n",
       "       2.5, 1.9, 3. , 2.7, 2.2, 2. , 9.5, 2.1, 3.6, 2.8, 1.8, 3.8, 0. ,\n",
       "       1.6, 9.6, 2.4, 1.7, 1.1, 0.3, 1.5, 0.7, 1.2, 2.3, 0.5, 1.3, 0.2,\n",
       "       0.6, 1.4, 0.9, 1. , 9.7])"
      ]
     },
     "execution_count": 24,
     "metadata": {},
     "output_type": "execute_result"
    }
   ],
   "source": [
    "data['user_score'].unique()"
   ]
  },
  {
   "cell_type": "code",
   "execution_count": 25,
   "metadata": {},
   "outputs": [
    {
     "data": {
      "text/plain": [
       "name                  0\n",
       "platform              0\n",
       "year_of_release     269\n",
       "genre                 0\n",
       "NA_sales              0\n",
       "EU_sales              0\n",
       "JP_sales              0\n",
       "other_sales           0\n",
       "critic_score       8576\n",
       "user_score         9123\n",
       "rating             6764\n",
       "dtype: int64"
      ]
     },
     "execution_count": 25,
     "metadata": {},
     "output_type": "execute_result"
    }
   ],
   "source": [
    "data.isna().sum()"
   ]
  },
  {
   "cell_type": "markdown",
   "metadata": {},
   "source": [
    "В данном случае стлбцы \"critic_score\", \"user_score\", \"rating\" имеют параметры, которые индивидуальны для каждого случая, следовательно мы не можем заполнить пропуски. В столбце \"year_of_release\" нужно проверить процентное соотношение пропусков и всех данных, если оно мало, то считаю, что можем их удалить, так как для дальнейшего анализа нам нужны данные с годом."
   ]
  },
  {
   "cell_type": "code",
   "execution_count": 26,
   "metadata": {},
   "outputs": [
    {
     "name": "stdout",
     "output_type": "stream",
     "text": [
      "1.61 %\n"
     ]
    }
   ],
   "source": [
    "print(round((len(data[data[\"year_of_release\"].isna()]) / len(data[\"year_of_release\"])) * 100 , 2) , \"%\")"
   ]
  },
  {
   "cell_type": "markdown",
   "metadata": {},
   "source": [
    "Процентное соотношение мало, следовательно удаляем."
   ]
  },
  {
   "cell_type": "code",
   "execution_count": 27,
   "metadata": {},
   "outputs": [],
   "source": [
    "data = data.dropna(subset = [\"year_of_release\"])\n"
   ]
  },
  {
   "cell_type": "code",
   "execution_count": 28,
   "metadata": {},
   "outputs": [
    {
     "data": {
      "text/plain": [
       "name                  0\n",
       "platform              0\n",
       "year_of_release       0\n",
       "genre                 0\n",
       "NA_sales              0\n",
       "EU_sales              0\n",
       "JP_sales              0\n",
       "other_sales           0\n",
       "critic_score       8461\n",
       "user_score         8981\n",
       "rating             6676\n",
       "dtype: int64"
      ]
     },
     "execution_count": 28,
     "metadata": {},
     "output_type": "execute_result"
    }
   ],
   "source": [
    "data.isna().sum()"
   ]
  },
  {
   "cell_type": "markdown",
   "metadata": {},
   "source": [
    "Пропуски в столбце rating могли возникнуть по причине того, что возможно компания, которая определяет рейтинг редко рассматривает японские игры, так как японии  очень большой процент пропусков в данном столбце. Данная догадка подкрепляется графиком ниже.\n",
    "<br>\n",
    "<br>\n",
    "Что касается других столбцов, можно предположить достаточно много очень непопулярных игр, которым пользователи и тем более критики не ставят оценки. Также дело может быть в технических проблемах.\n",
    "<br>\n",
    "<br>\n",
    "Пропуски в столбце с годами выпуска могли произойти из-за того, что не было информации о годах выпуска очень старых игр"
   ]
  },
  {
   "cell_type": "markdown",
   "metadata": {},
   "source": [
    "### Суммарные продажи во всех регионах в отдельном столбце."
   ]
  },
  {
   "cell_type": "code",
   "execution_count": 29,
   "metadata": {},
   "outputs": [
    {
     "data": {
      "text/html": [
       "<div>\n",
       "<style scoped>\n",
       "    .dataframe tbody tr th:only-of-type {\n",
       "        vertical-align: middle;\n",
       "    }\n",
       "\n",
       "    .dataframe tbody tr th {\n",
       "        vertical-align: top;\n",
       "    }\n",
       "\n",
       "    .dataframe thead th {\n",
       "        text-align: right;\n",
       "    }\n",
       "</style>\n",
       "<table border=\"1\" class=\"dataframe\">\n",
       "  <thead>\n",
       "    <tr style=\"text-align: right;\">\n",
       "      <th></th>\n",
       "      <th>name</th>\n",
       "      <th>platform</th>\n",
       "      <th>year_of_release</th>\n",
       "      <th>genre</th>\n",
       "      <th>NA_sales</th>\n",
       "      <th>EU_sales</th>\n",
       "      <th>JP_sales</th>\n",
       "      <th>other_sales</th>\n",
       "      <th>critic_score</th>\n",
       "      <th>user_score</th>\n",
       "      <th>rating</th>\n",
       "    </tr>\n",
       "  </thead>\n",
       "  <tbody>\n",
       "    <tr>\n",
       "      <th>0</th>\n",
       "      <td>Wii Sports</td>\n",
       "      <td>Wii</td>\n",
       "      <td>2006</td>\n",
       "      <td>Sports</td>\n",
       "      <td>41.36</td>\n",
       "      <td>28.96</td>\n",
       "      <td>3.77</td>\n",
       "      <td>8.45</td>\n",
       "      <td>76</td>\n",
       "      <td>8.0</td>\n",
       "      <td>E</td>\n",
       "    </tr>\n",
       "    <tr>\n",
       "      <th>1</th>\n",
       "      <td>Super Mario Bros.</td>\n",
       "      <td>NES</td>\n",
       "      <td>1985</td>\n",
       "      <td>Platform</td>\n",
       "      <td>29.08</td>\n",
       "      <td>3.58</td>\n",
       "      <td>6.81</td>\n",
       "      <td>0.77</td>\n",
       "      <td>&lt;NA&gt;</td>\n",
       "      <td>NaN</td>\n",
       "      <td>NaN</td>\n",
       "    </tr>\n",
       "    <tr>\n",
       "      <th>2</th>\n",
       "      <td>Mario Kart Wii</td>\n",
       "      <td>Wii</td>\n",
       "      <td>2008</td>\n",
       "      <td>Racing</td>\n",
       "      <td>15.68</td>\n",
       "      <td>12.76</td>\n",
       "      <td>3.79</td>\n",
       "      <td>3.29</td>\n",
       "      <td>82</td>\n",
       "      <td>8.3</td>\n",
       "      <td>E</td>\n",
       "    </tr>\n",
       "    <tr>\n",
       "      <th>3</th>\n",
       "      <td>Wii Sports Resort</td>\n",
       "      <td>Wii</td>\n",
       "      <td>2009</td>\n",
       "      <td>Sports</td>\n",
       "      <td>15.61</td>\n",
       "      <td>10.93</td>\n",
       "      <td>3.28</td>\n",
       "      <td>2.95</td>\n",
       "      <td>80</td>\n",
       "      <td>8.0</td>\n",
       "      <td>E</td>\n",
       "    </tr>\n",
       "    <tr>\n",
       "      <th>4</th>\n",
       "      <td>Pokemon Red/Pokemon Blue</td>\n",
       "      <td>GB</td>\n",
       "      <td>1996</td>\n",
       "      <td>Role-Playing</td>\n",
       "      <td>11.27</td>\n",
       "      <td>8.89</td>\n",
       "      <td>10.22</td>\n",
       "      <td>1.00</td>\n",
       "      <td>&lt;NA&gt;</td>\n",
       "      <td>NaN</td>\n",
       "      <td>NaN</td>\n",
       "    </tr>\n",
       "    <tr>\n",
       "      <th>...</th>\n",
       "      <td>...</td>\n",
       "      <td>...</td>\n",
       "      <td>...</td>\n",
       "      <td>...</td>\n",
       "      <td>...</td>\n",
       "      <td>...</td>\n",
       "      <td>...</td>\n",
       "      <td>...</td>\n",
       "      <td>...</td>\n",
       "      <td>...</td>\n",
       "      <td>...</td>\n",
       "    </tr>\n",
       "    <tr>\n",
       "      <th>16710</th>\n",
       "      <td>Samurai Warriors: Sanada Maru</td>\n",
       "      <td>PS3</td>\n",
       "      <td>2016</td>\n",
       "      <td>Action</td>\n",
       "      <td>0.00</td>\n",
       "      <td>0.00</td>\n",
       "      <td>0.01</td>\n",
       "      <td>0.00</td>\n",
       "      <td>&lt;NA&gt;</td>\n",
       "      <td>NaN</td>\n",
       "      <td>NaN</td>\n",
       "    </tr>\n",
       "    <tr>\n",
       "      <th>16711</th>\n",
       "      <td>LMA Manager 2007</td>\n",
       "      <td>X360</td>\n",
       "      <td>2006</td>\n",
       "      <td>Sports</td>\n",
       "      <td>0.00</td>\n",
       "      <td>0.01</td>\n",
       "      <td>0.00</td>\n",
       "      <td>0.00</td>\n",
       "      <td>&lt;NA&gt;</td>\n",
       "      <td>NaN</td>\n",
       "      <td>NaN</td>\n",
       "    </tr>\n",
       "    <tr>\n",
       "      <th>16712</th>\n",
       "      <td>Haitaka no Psychedelica</td>\n",
       "      <td>PSV</td>\n",
       "      <td>2016</td>\n",
       "      <td>Adventure</td>\n",
       "      <td>0.00</td>\n",
       "      <td>0.00</td>\n",
       "      <td>0.01</td>\n",
       "      <td>0.00</td>\n",
       "      <td>&lt;NA&gt;</td>\n",
       "      <td>NaN</td>\n",
       "      <td>NaN</td>\n",
       "    </tr>\n",
       "    <tr>\n",
       "      <th>16713</th>\n",
       "      <td>Spirits &amp; Spells</td>\n",
       "      <td>GBA</td>\n",
       "      <td>2003</td>\n",
       "      <td>Platform</td>\n",
       "      <td>0.01</td>\n",
       "      <td>0.00</td>\n",
       "      <td>0.00</td>\n",
       "      <td>0.00</td>\n",
       "      <td>&lt;NA&gt;</td>\n",
       "      <td>NaN</td>\n",
       "      <td>NaN</td>\n",
       "    </tr>\n",
       "    <tr>\n",
       "      <th>16714</th>\n",
       "      <td>Winning Post 8 2016</td>\n",
       "      <td>PSV</td>\n",
       "      <td>2016</td>\n",
       "      <td>Simulation</td>\n",
       "      <td>0.00</td>\n",
       "      <td>0.00</td>\n",
       "      <td>0.01</td>\n",
       "      <td>0.00</td>\n",
       "      <td>&lt;NA&gt;</td>\n",
       "      <td>NaN</td>\n",
       "      <td>NaN</td>\n",
       "    </tr>\n",
       "  </tbody>\n",
       "</table>\n",
       "<p>16443 rows × 11 columns</p>\n",
       "</div>"
      ],
      "text/plain": [
       "                                name platform  year_of_release         genre  \\\n",
       "0                         Wii Sports      Wii             2006        Sports   \n",
       "1                  Super Mario Bros.      NES             1985      Platform   \n",
       "2                     Mario Kart Wii      Wii             2008        Racing   \n",
       "3                  Wii Sports Resort      Wii             2009        Sports   \n",
       "4           Pokemon Red/Pokemon Blue       GB             1996  Role-Playing   \n",
       "...                              ...      ...              ...           ...   \n",
       "16710  Samurai Warriors: Sanada Maru      PS3             2016        Action   \n",
       "16711               LMA Manager 2007     X360             2006        Sports   \n",
       "16712        Haitaka no Psychedelica      PSV             2016     Adventure   \n",
       "16713               Spirits & Spells      GBA             2003      Platform   \n",
       "16714            Winning Post 8 2016      PSV             2016    Simulation   \n",
       "\n",
       "       NA_sales  EU_sales  JP_sales  other_sales  critic_score  user_score  \\\n",
       "0         41.36     28.96      3.77         8.45            76         8.0   \n",
       "1         29.08      3.58      6.81         0.77          <NA>         NaN   \n",
       "2         15.68     12.76      3.79         3.29            82         8.3   \n",
       "3         15.61     10.93      3.28         2.95            80         8.0   \n",
       "4         11.27      8.89     10.22         1.00          <NA>         NaN   \n",
       "...         ...       ...       ...          ...           ...         ...   \n",
       "16710      0.00      0.00      0.01         0.00          <NA>         NaN   \n",
       "16711      0.00      0.01      0.00         0.00          <NA>         NaN   \n",
       "16712      0.00      0.00      0.01         0.00          <NA>         NaN   \n",
       "16713      0.01      0.00      0.00         0.00          <NA>         NaN   \n",
       "16714      0.00      0.00      0.01         0.00          <NA>         NaN   \n",
       "\n",
       "      rating  \n",
       "0          E  \n",
       "1        NaN  \n",
       "2          E  \n",
       "3          E  \n",
       "4        NaN  \n",
       "...      ...  \n",
       "16710    NaN  \n",
       "16711    NaN  \n",
       "16712    NaN  \n",
       "16713    NaN  \n",
       "16714    NaN  \n",
       "\n",
       "[16443 rows x 11 columns]"
      ]
     },
     "execution_count": 29,
     "metadata": {},
     "output_type": "execute_result"
    }
   ],
   "source": [
    "data"
   ]
  },
  {
   "cell_type": "code",
   "execution_count": 30,
   "metadata": {},
   "outputs": [],
   "source": [
    "data[\"all_sales\"] =  data[\"NA_sales\"]+data[\"EU_sales\"]+data[\"JP_sales\"]+data[\"other_sales\"]"
   ]
  },
  {
   "cell_type": "code",
   "execution_count": 31,
   "metadata": {},
   "outputs": [
    {
     "data": {
      "text/html": [
       "<div>\n",
       "<style scoped>\n",
       "    .dataframe tbody tr th:only-of-type {\n",
       "        vertical-align: middle;\n",
       "    }\n",
       "\n",
       "    .dataframe tbody tr th {\n",
       "        vertical-align: top;\n",
       "    }\n",
       "\n",
       "    .dataframe thead th {\n",
       "        text-align: right;\n",
       "    }\n",
       "</style>\n",
       "<table border=\"1\" class=\"dataframe\">\n",
       "  <thead>\n",
       "    <tr style=\"text-align: right;\">\n",
       "      <th></th>\n",
       "      <th>name</th>\n",
       "      <th>platform</th>\n",
       "      <th>year_of_release</th>\n",
       "      <th>genre</th>\n",
       "      <th>NA_sales</th>\n",
       "      <th>EU_sales</th>\n",
       "      <th>JP_sales</th>\n",
       "      <th>other_sales</th>\n",
       "      <th>critic_score</th>\n",
       "      <th>user_score</th>\n",
       "      <th>rating</th>\n",
       "      <th>all_sales</th>\n",
       "    </tr>\n",
       "  </thead>\n",
       "  <tbody>\n",
       "    <tr>\n",
       "      <th>0</th>\n",
       "      <td>Wii Sports</td>\n",
       "      <td>Wii</td>\n",
       "      <td>2006</td>\n",
       "      <td>Sports</td>\n",
       "      <td>41.36</td>\n",
       "      <td>28.96</td>\n",
       "      <td>3.77</td>\n",
       "      <td>8.45</td>\n",
       "      <td>76</td>\n",
       "      <td>8.0</td>\n",
       "      <td>E</td>\n",
       "      <td>82.54</td>\n",
       "    </tr>\n",
       "    <tr>\n",
       "      <th>1</th>\n",
       "      <td>Super Mario Bros.</td>\n",
       "      <td>NES</td>\n",
       "      <td>1985</td>\n",
       "      <td>Platform</td>\n",
       "      <td>29.08</td>\n",
       "      <td>3.58</td>\n",
       "      <td>6.81</td>\n",
       "      <td>0.77</td>\n",
       "      <td>&lt;NA&gt;</td>\n",
       "      <td>NaN</td>\n",
       "      <td>NaN</td>\n",
       "      <td>40.24</td>\n",
       "    </tr>\n",
       "    <tr>\n",
       "      <th>2</th>\n",
       "      <td>Mario Kart Wii</td>\n",
       "      <td>Wii</td>\n",
       "      <td>2008</td>\n",
       "      <td>Racing</td>\n",
       "      <td>15.68</td>\n",
       "      <td>12.76</td>\n",
       "      <td>3.79</td>\n",
       "      <td>3.29</td>\n",
       "      <td>82</td>\n",
       "      <td>8.3</td>\n",
       "      <td>E</td>\n",
       "      <td>35.52</td>\n",
       "    </tr>\n",
       "    <tr>\n",
       "      <th>3</th>\n",
       "      <td>Wii Sports Resort</td>\n",
       "      <td>Wii</td>\n",
       "      <td>2009</td>\n",
       "      <td>Sports</td>\n",
       "      <td>15.61</td>\n",
       "      <td>10.93</td>\n",
       "      <td>3.28</td>\n",
       "      <td>2.95</td>\n",
       "      <td>80</td>\n",
       "      <td>8.0</td>\n",
       "      <td>E</td>\n",
       "      <td>32.77</td>\n",
       "    </tr>\n",
       "    <tr>\n",
       "      <th>4</th>\n",
       "      <td>Pokemon Red/Pokemon Blue</td>\n",
       "      <td>GB</td>\n",
       "      <td>1996</td>\n",
       "      <td>Role-Playing</td>\n",
       "      <td>11.27</td>\n",
       "      <td>8.89</td>\n",
       "      <td>10.22</td>\n",
       "      <td>1.00</td>\n",
       "      <td>&lt;NA&gt;</td>\n",
       "      <td>NaN</td>\n",
       "      <td>NaN</td>\n",
       "      <td>31.38</td>\n",
       "    </tr>\n",
       "    <tr>\n",
       "      <th>...</th>\n",
       "      <td>...</td>\n",
       "      <td>...</td>\n",
       "      <td>...</td>\n",
       "      <td>...</td>\n",
       "      <td>...</td>\n",
       "      <td>...</td>\n",
       "      <td>...</td>\n",
       "      <td>...</td>\n",
       "      <td>...</td>\n",
       "      <td>...</td>\n",
       "      <td>...</td>\n",
       "      <td>...</td>\n",
       "    </tr>\n",
       "    <tr>\n",
       "      <th>16710</th>\n",
       "      <td>Samurai Warriors: Sanada Maru</td>\n",
       "      <td>PS3</td>\n",
       "      <td>2016</td>\n",
       "      <td>Action</td>\n",
       "      <td>0.00</td>\n",
       "      <td>0.00</td>\n",
       "      <td>0.01</td>\n",
       "      <td>0.00</td>\n",
       "      <td>&lt;NA&gt;</td>\n",
       "      <td>NaN</td>\n",
       "      <td>NaN</td>\n",
       "      <td>0.01</td>\n",
       "    </tr>\n",
       "    <tr>\n",
       "      <th>16711</th>\n",
       "      <td>LMA Manager 2007</td>\n",
       "      <td>X360</td>\n",
       "      <td>2006</td>\n",
       "      <td>Sports</td>\n",
       "      <td>0.00</td>\n",
       "      <td>0.01</td>\n",
       "      <td>0.00</td>\n",
       "      <td>0.00</td>\n",
       "      <td>&lt;NA&gt;</td>\n",
       "      <td>NaN</td>\n",
       "      <td>NaN</td>\n",
       "      <td>0.01</td>\n",
       "    </tr>\n",
       "    <tr>\n",
       "      <th>16712</th>\n",
       "      <td>Haitaka no Psychedelica</td>\n",
       "      <td>PSV</td>\n",
       "      <td>2016</td>\n",
       "      <td>Adventure</td>\n",
       "      <td>0.00</td>\n",
       "      <td>0.00</td>\n",
       "      <td>0.01</td>\n",
       "      <td>0.00</td>\n",
       "      <td>&lt;NA&gt;</td>\n",
       "      <td>NaN</td>\n",
       "      <td>NaN</td>\n",
       "      <td>0.01</td>\n",
       "    </tr>\n",
       "    <tr>\n",
       "      <th>16713</th>\n",
       "      <td>Spirits &amp; Spells</td>\n",
       "      <td>GBA</td>\n",
       "      <td>2003</td>\n",
       "      <td>Platform</td>\n",
       "      <td>0.01</td>\n",
       "      <td>0.00</td>\n",
       "      <td>0.00</td>\n",
       "      <td>0.00</td>\n",
       "      <td>&lt;NA&gt;</td>\n",
       "      <td>NaN</td>\n",
       "      <td>NaN</td>\n",
       "      <td>0.01</td>\n",
       "    </tr>\n",
       "    <tr>\n",
       "      <th>16714</th>\n",
       "      <td>Winning Post 8 2016</td>\n",
       "      <td>PSV</td>\n",
       "      <td>2016</td>\n",
       "      <td>Simulation</td>\n",
       "      <td>0.00</td>\n",
       "      <td>0.00</td>\n",
       "      <td>0.01</td>\n",
       "      <td>0.00</td>\n",
       "      <td>&lt;NA&gt;</td>\n",
       "      <td>NaN</td>\n",
       "      <td>NaN</td>\n",
       "      <td>0.01</td>\n",
       "    </tr>\n",
       "  </tbody>\n",
       "</table>\n",
       "<p>16443 rows × 12 columns</p>\n",
       "</div>"
      ],
      "text/plain": [
       "                                name platform  year_of_release         genre  \\\n",
       "0                         Wii Sports      Wii             2006        Sports   \n",
       "1                  Super Mario Bros.      NES             1985      Platform   \n",
       "2                     Mario Kart Wii      Wii             2008        Racing   \n",
       "3                  Wii Sports Resort      Wii             2009        Sports   \n",
       "4           Pokemon Red/Pokemon Blue       GB             1996  Role-Playing   \n",
       "...                              ...      ...              ...           ...   \n",
       "16710  Samurai Warriors: Sanada Maru      PS3             2016        Action   \n",
       "16711               LMA Manager 2007     X360             2006        Sports   \n",
       "16712        Haitaka no Psychedelica      PSV             2016     Adventure   \n",
       "16713               Spirits & Spells      GBA             2003      Platform   \n",
       "16714            Winning Post 8 2016      PSV             2016    Simulation   \n",
       "\n",
       "       NA_sales  EU_sales  JP_sales  other_sales  critic_score  user_score  \\\n",
       "0         41.36     28.96      3.77         8.45            76         8.0   \n",
       "1         29.08      3.58      6.81         0.77          <NA>         NaN   \n",
       "2         15.68     12.76      3.79         3.29            82         8.3   \n",
       "3         15.61     10.93      3.28         2.95            80         8.0   \n",
       "4         11.27      8.89     10.22         1.00          <NA>         NaN   \n",
       "...         ...       ...       ...          ...           ...         ...   \n",
       "16710      0.00      0.00      0.01         0.00          <NA>         NaN   \n",
       "16711      0.00      0.01      0.00         0.00          <NA>         NaN   \n",
       "16712      0.00      0.00      0.01         0.00          <NA>         NaN   \n",
       "16713      0.01      0.00      0.00         0.00          <NA>         NaN   \n",
       "16714      0.00      0.00      0.01         0.00          <NA>         NaN   \n",
       "\n",
       "      rating  all_sales  \n",
       "0          E      82.54  \n",
       "1        NaN      40.24  \n",
       "2          E      35.52  \n",
       "3          E      32.77  \n",
       "4        NaN      31.38  \n",
       "...      ...        ...  \n",
       "16710    NaN       0.01  \n",
       "16711    NaN       0.01  \n",
       "16712    NaN       0.01  \n",
       "16713    NaN       0.01  \n",
       "16714    NaN       0.01  \n",
       "\n",
       "[16443 rows x 12 columns]"
      ]
     },
     "execution_count": 31,
     "metadata": {},
     "output_type": "execute_result"
    }
   ],
   "source": [
    "data"
   ]
  },
  {
   "cell_type": "markdown",
   "metadata": {},
   "source": [
    "## Шаг 3. Исследовательский анализ данных"
   ]
  },
  {
   "cell_type": "markdown",
   "metadata": {},
   "source": [
    "### Сколько игр выпускалось в разные годы. Важны ли данные за все периоды?"
   ]
  },
  {
   "cell_type": "code",
   "execution_count": 32,
   "metadata": {},
   "outputs": [
    {
     "data": {
      "text/plain": [
       "year_of_release\n",
       "1980       9\n",
       "1981      46\n",
       "1982      36\n",
       "1983      17\n",
       "1984      14\n",
       "1985      14\n",
       "1986      21\n",
       "1987      16\n",
       "1988      15\n",
       "1989      17\n",
       "1990      16\n",
       "1991      41\n",
       "1992      43\n",
       "1993      60\n",
       "1994     121\n",
       "1995     219\n",
       "1996     263\n",
       "1997     289\n",
       "1998     379\n",
       "1999     338\n",
       "2000     350\n",
       "2001     482\n",
       "2002     829\n",
       "2003     775\n",
       "2004     762\n",
       "2005     939\n",
       "2006    1006\n",
       "2007    1197\n",
       "2008    1427\n",
       "2009    1426\n",
       "2010    1255\n",
       "2011    1136\n",
       "2012     652\n",
       "2013     544\n",
       "2014     581\n",
       "2015     606\n",
       "2016     502\n",
       "Name: name, dtype: int64"
      ]
     },
     "execution_count": 32,
     "metadata": {},
     "output_type": "execute_result"
    }
   ],
   "source": [
    "tmp = data.groupby(\"year_of_release\").count()[\"name\"].copy()\n",
    "tmp"
   ]
  },
  {
   "cell_type": "code",
   "execution_count": 33,
   "metadata": {},
   "outputs": [
    {
     "data": {
      "image/png": "[encoded data removed]",
      "text/plain": [
       "<Figure size 1080x432 with 1 Axes>"
      ]
     },
     "metadata": {
      "needs_background": "light"
     },
     "output_type": "display_data"
    }
   ],
   "source": [
    "plt.figure(figsize=(15,6));\n",
    "tmp.plot(kind = \"bar\" , ec='black');\n",
    "plt.title(\"Количество игр за год\");\n",
    "plt.xlabel(\"Года\");\n",
    "plt.ylabel(\"Количество\");\n",
    "plt.show()"
   ]
  },
  {
   "cell_type": "markdown",
   "metadata": {},
   "source": [
    "До 1994 года кол-во игр было значительно маленьким,можно предположить, что это было связано с тем, что компьютеры и технологии тех времен не позволяли делать большое количество игр, также в те времена компьютеры были у мало у кого. После 2000го года наблюдается резкий скачок . Пик приходится на 2008-2009 года. После этих годов начался спад, можно предположить , что он связан с популяризацией мобильного гейминга или с тем, что игры стали более масштабные и на их разработку стало уходить большое количество врмени."
   ]
  },
  {
   "cell_type": "markdown",
   "metadata": {},
   "source": [
    "Можем удалить данные о играх выпущенных ранее 1994 года"
   ]
  },
  {
   "cell_type": "code",
   "execution_count": 34,
   "metadata": {},
   "outputs": [
    {
     "data": {
      "text/html": [
       "<div>\n",
       "<style scoped>\n",
       "    .dataframe tbody tr th:only-of-type {\n",
       "        vertical-align: middle;\n",
       "    }\n",
       "\n",
       "    .dataframe tbody tr th {\n",
       "        vertical-align: top;\n",
       "    }\n",
       "\n",
       "    .dataframe thead th {\n",
       "        text-align: right;\n",
       "    }\n",
       "</style>\n",
       "<table border=\"1\" class=\"dataframe\">\n",
       "  <thead>\n",
       "    <tr style=\"text-align: right;\">\n",
       "      <th></th>\n",
       "      <th>name</th>\n",
       "      <th>platform</th>\n",
       "      <th>year_of_release</th>\n",
       "      <th>genre</th>\n",
       "      <th>NA_sales</th>\n",
       "      <th>EU_sales</th>\n",
       "      <th>JP_sales</th>\n",
       "      <th>other_sales</th>\n",
       "      <th>critic_score</th>\n",
       "      <th>user_score</th>\n",
       "      <th>rating</th>\n",
       "      <th>all_sales</th>\n",
       "    </tr>\n",
       "  </thead>\n",
       "  <tbody>\n",
       "    <tr>\n",
       "      <th>0</th>\n",
       "      <td>Wii Sports</td>\n",
       "      <td>Wii</td>\n",
       "      <td>2006</td>\n",
       "      <td>Sports</td>\n",
       "      <td>41.36</td>\n",
       "      <td>28.96</td>\n",
       "      <td>3.77</td>\n",
       "      <td>8.45</td>\n",
       "      <td>76</td>\n",
       "      <td>8.0</td>\n",
       "      <td>E</td>\n",
       "      <td>82.54</td>\n",
       "    </tr>\n",
       "    <tr>\n",
       "      <th>2</th>\n",
       "      <td>Mario Kart Wii</td>\n",
       "      <td>Wii</td>\n",
       "      <td>2008</td>\n",
       "      <td>Racing</td>\n",
       "      <td>15.68</td>\n",
       "      <td>12.76</td>\n",
       "      <td>3.79</td>\n",
       "      <td>3.29</td>\n",
       "      <td>82</td>\n",
       "      <td>8.3</td>\n",
       "      <td>E</td>\n",
       "      <td>35.52</td>\n",
       "    </tr>\n",
       "    <tr>\n",
       "      <th>3</th>\n",
       "      <td>Wii Sports Resort</td>\n",
       "      <td>Wii</td>\n",
       "      <td>2009</td>\n",
       "      <td>Sports</td>\n",
       "      <td>15.61</td>\n",
       "      <td>10.93</td>\n",
       "      <td>3.28</td>\n",
       "      <td>2.95</td>\n",
       "      <td>80</td>\n",
       "      <td>8.0</td>\n",
       "      <td>E</td>\n",
       "      <td>32.77</td>\n",
       "    </tr>\n",
       "    <tr>\n",
       "      <th>4</th>\n",
       "      <td>Pokemon Red/Pokemon Blue</td>\n",
       "      <td>GB</td>\n",
       "      <td>1996</td>\n",
       "      <td>Role-Playing</td>\n",
       "      <td>11.27</td>\n",
       "      <td>8.89</td>\n",
       "      <td>10.22</td>\n",
       "      <td>1.00</td>\n",
       "      <td>&lt;NA&gt;</td>\n",
       "      <td>NaN</td>\n",
       "      <td>NaN</td>\n",
       "      <td>31.38</td>\n",
       "    </tr>\n",
       "    <tr>\n",
       "      <th>6</th>\n",
       "      <td>New Super Mario Bros.</td>\n",
       "      <td>DS</td>\n",
       "      <td>2006</td>\n",
       "      <td>Platform</td>\n",
       "      <td>11.28</td>\n",
       "      <td>9.14</td>\n",
       "      <td>6.50</td>\n",
       "      <td>2.88</td>\n",
       "      <td>89</td>\n",
       "      <td>8.5</td>\n",
       "      <td>E</td>\n",
       "      <td>29.80</td>\n",
       "    </tr>\n",
       "    <tr>\n",
       "      <th>...</th>\n",
       "      <td>...</td>\n",
       "      <td>...</td>\n",
       "      <td>...</td>\n",
       "      <td>...</td>\n",
       "      <td>...</td>\n",
       "      <td>...</td>\n",
       "      <td>...</td>\n",
       "      <td>...</td>\n",
       "      <td>...</td>\n",
       "      <td>...</td>\n",
       "      <td>...</td>\n",
       "      <td>...</td>\n",
       "    </tr>\n",
       "    <tr>\n",
       "      <th>16710</th>\n",
       "      <td>Samurai Warriors: Sanada Maru</td>\n",
       "      <td>PS3</td>\n",
       "      <td>2016</td>\n",
       "      <td>Action</td>\n",
       "      <td>0.00</td>\n",
       "      <td>0.00</td>\n",
       "      <td>0.01</td>\n",
       "      <td>0.00</td>\n",
       "      <td>&lt;NA&gt;</td>\n",
       "      <td>NaN</td>\n",
       "      <td>NaN</td>\n",
       "      <td>0.01</td>\n",
       "    </tr>\n",
       "    <tr>\n",
       "      <th>16711</th>\n",
       "      <td>LMA Manager 2007</td>\n",
       "      <td>X360</td>\n",
       "      <td>2006</td>\n",
       "      <td>Sports</td>\n",
       "      <td>0.00</td>\n",
       "      <td>0.01</td>\n",
       "      <td>0.00</td>\n",
       "      <td>0.00</td>\n",
       "      <td>&lt;NA&gt;</td>\n",
       "      <td>NaN</td>\n",
       "      <td>NaN</td>\n",
       "      <td>0.01</td>\n",
       "    </tr>\n",
       "    <tr>\n",
       "      <th>16712</th>\n",
       "      <td>Haitaka no Psychedelica</td>\n",
       "      <td>PSV</td>\n",
       "      <td>2016</td>\n",
       "      <td>Adventure</td>\n",
       "      <td>0.00</td>\n",
       "      <td>0.00</td>\n",
       "      <td>0.01</td>\n",
       "      <td>0.00</td>\n",
       "      <td>&lt;NA&gt;</td>\n",
       "      <td>NaN</td>\n",
       "      <td>NaN</td>\n",
       "      <td>0.01</td>\n",
       "    </tr>\n",
       "    <tr>\n",
       "      <th>16713</th>\n",
       "      <td>Spirits &amp; Spells</td>\n",
       "      <td>GBA</td>\n",
       "      <td>2003</td>\n",
       "      <td>Platform</td>\n",
       "      <td>0.01</td>\n",
       "      <td>0.00</td>\n",
       "      <td>0.00</td>\n",
       "      <td>0.00</td>\n",
       "      <td>&lt;NA&gt;</td>\n",
       "      <td>NaN</td>\n",
       "      <td>NaN</td>\n",
       "      <td>0.01</td>\n",
       "    </tr>\n",
       "    <tr>\n",
       "      <th>16714</th>\n",
       "      <td>Winning Post 8 2016</td>\n",
       "      <td>PSV</td>\n",
       "      <td>2016</td>\n",
       "      <td>Simulation</td>\n",
       "      <td>0.00</td>\n",
       "      <td>0.00</td>\n",
       "      <td>0.01</td>\n",
       "      <td>0.00</td>\n",
       "      <td>&lt;NA&gt;</td>\n",
       "      <td>NaN</td>\n",
       "      <td>NaN</td>\n",
       "      <td>0.01</td>\n",
       "    </tr>\n",
       "  </tbody>\n",
       "</table>\n",
       "<p>16078 rows × 12 columns</p>\n",
       "</div>"
      ],
      "text/plain": [
       "                                name platform  year_of_release         genre  \\\n",
       "0                         Wii Sports      Wii             2006        Sports   \n",
       "2                     Mario Kart Wii      Wii             2008        Racing   \n",
       "3                  Wii Sports Resort      Wii             2009        Sports   \n",
       "4           Pokemon Red/Pokemon Blue       GB             1996  Role-Playing   \n",
       "6              New Super Mario Bros.       DS             2006      Platform   \n",
       "...                              ...      ...              ...           ...   \n",
       "16710  Samurai Warriors: Sanada Maru      PS3             2016        Action   \n",
       "16711               LMA Manager 2007     X360             2006        Sports   \n",
       "16712        Haitaka no Psychedelica      PSV             2016     Adventure   \n",
       "16713               Spirits & Spells      GBA             2003      Platform   \n",
       "16714            Winning Post 8 2016      PSV             2016    Simulation   \n",
       "\n",
       "       NA_sales  EU_sales  JP_sales  other_sales  critic_score  user_score  \\\n",
       "0         41.36     28.96      3.77         8.45            76         8.0   \n",
       "2         15.68     12.76      3.79         3.29            82         8.3   \n",
       "3         15.61     10.93      3.28         2.95            80         8.0   \n",
       "4         11.27      8.89     10.22         1.00          <NA>         NaN   \n",
       "6         11.28      9.14      6.50         2.88            89         8.5   \n",
       "...         ...       ...       ...          ...           ...         ...   \n",
       "16710      0.00      0.00      0.01         0.00          <NA>         NaN   \n",
       "16711      0.00      0.01      0.00         0.00          <NA>         NaN   \n",
       "16712      0.00      0.00      0.01         0.00          <NA>         NaN   \n",
       "16713      0.01      0.00      0.00         0.00          <NA>         NaN   \n",
       "16714      0.00      0.00      0.01         0.00          <NA>         NaN   \n",
       "\n",
       "      rating  all_sales  \n",
       "0          E      82.54  \n",
       "2          E      35.52  \n",
       "3          E      32.77  \n",
       "4        NaN      31.38  \n",
       "6          E      29.80  \n",
       "...      ...        ...  \n",
       "16710    NaN       0.01  \n",
       "16711    NaN       0.01  \n",
       "16712    NaN       0.01  \n",
       "16713    NaN       0.01  \n",
       "16714    NaN       0.01  \n",
       "\n",
       "[16078 rows x 12 columns]"
      ]
     },
     "execution_count": 34,
     "metadata": {},
     "output_type": "execute_result"
    }
   ],
   "source": [
    "data_1994 = data[data[\"year_of_release\"] >= 1994].copy()\n",
    "data_1994"
   ]
  },
  {
   "cell_type": "markdown",
   "metadata": {},
   "source": [
    "### Распределение по годам платформ с наибольшими суммарными продажами."
   ]
  },
  {
   "cell_type": "code",
   "execution_count": 35,
   "metadata": {},
   "outputs": [],
   "source": [
    "data_1994 = data_1994.reset_index(drop = True)\n"
   ]
  },
  {
   "cell_type": "code",
   "execution_count": 36,
   "metadata": {},
   "outputs": [
    {
     "data": {
      "text/html": [
       "<div>\n",
       "<style scoped>\n",
       "    .dataframe tbody tr th:only-of-type {\n",
       "        vertical-align: middle;\n",
       "    }\n",
       "\n",
       "    .dataframe tbody tr th {\n",
       "        vertical-align: top;\n",
       "    }\n",
       "\n",
       "    .dataframe thead th {\n",
       "        text-align: right;\n",
       "    }\n",
       "</style>\n",
       "<table border=\"1\" class=\"dataframe\">\n",
       "  <thead>\n",
       "    <tr style=\"text-align: right;\">\n",
       "      <th></th>\n",
       "      <th>name</th>\n",
       "      <th>platform</th>\n",
       "      <th>year_of_release</th>\n",
       "      <th>genre</th>\n",
       "      <th>NA_sales</th>\n",
       "      <th>EU_sales</th>\n",
       "      <th>JP_sales</th>\n",
       "      <th>other_sales</th>\n",
       "      <th>critic_score</th>\n",
       "      <th>user_score</th>\n",
       "      <th>rating</th>\n",
       "      <th>all_sales</th>\n",
       "    </tr>\n",
       "  </thead>\n",
       "  <tbody>\n",
       "    <tr>\n",
       "      <th>0</th>\n",
       "      <td>Wii Sports</td>\n",
       "      <td>Wii</td>\n",
       "      <td>2006</td>\n",
       "      <td>Sports</td>\n",
       "      <td>41.36</td>\n",
       "      <td>28.96</td>\n",
       "      <td>3.77</td>\n",
       "      <td>8.45</td>\n",
       "      <td>76</td>\n",
       "      <td>8.0</td>\n",
       "      <td>E</td>\n",
       "      <td>82.54</td>\n",
       "    </tr>\n",
       "    <tr>\n",
       "      <th>1</th>\n",
       "      <td>Mario Kart Wii</td>\n",
       "      <td>Wii</td>\n",
       "      <td>2008</td>\n",
       "      <td>Racing</td>\n",
       "      <td>15.68</td>\n",
       "      <td>12.76</td>\n",
       "      <td>3.79</td>\n",
       "      <td>3.29</td>\n",
       "      <td>82</td>\n",
       "      <td>8.3</td>\n",
       "      <td>E</td>\n",
       "      <td>35.52</td>\n",
       "    </tr>\n",
       "    <tr>\n",
       "      <th>2</th>\n",
       "      <td>Wii Sports Resort</td>\n",
       "      <td>Wii</td>\n",
       "      <td>2009</td>\n",
       "      <td>Sports</td>\n",
       "      <td>15.61</td>\n",
       "      <td>10.93</td>\n",
       "      <td>3.28</td>\n",
       "      <td>2.95</td>\n",
       "      <td>80</td>\n",
       "      <td>8.0</td>\n",
       "      <td>E</td>\n",
       "      <td>32.77</td>\n",
       "    </tr>\n",
       "    <tr>\n",
       "      <th>3</th>\n",
       "      <td>Pokemon Red/Pokemon Blue</td>\n",
       "      <td>GB</td>\n",
       "      <td>1996</td>\n",
       "      <td>Role-Playing</td>\n",
       "      <td>11.27</td>\n",
       "      <td>8.89</td>\n",
       "      <td>10.22</td>\n",
       "      <td>1.00</td>\n",
       "      <td>&lt;NA&gt;</td>\n",
       "      <td>NaN</td>\n",
       "      <td>NaN</td>\n",
       "      <td>31.38</td>\n",
       "    </tr>\n",
       "    <tr>\n",
       "      <th>4</th>\n",
       "      <td>New Super Mario Bros.</td>\n",
       "      <td>DS</td>\n",
       "      <td>2006</td>\n",
       "      <td>Platform</td>\n",
       "      <td>11.28</td>\n",
       "      <td>9.14</td>\n",
       "      <td>6.50</td>\n",
       "      <td>2.88</td>\n",
       "      <td>89</td>\n",
       "      <td>8.5</td>\n",
       "      <td>E</td>\n",
       "      <td>29.80</td>\n",
       "    </tr>\n",
       "    <tr>\n",
       "      <th>...</th>\n",
       "      <td>...</td>\n",
       "      <td>...</td>\n",
       "      <td>...</td>\n",
       "      <td>...</td>\n",
       "      <td>...</td>\n",
       "      <td>...</td>\n",
       "      <td>...</td>\n",
       "      <td>...</td>\n",
       "      <td>...</td>\n",
       "      <td>...</td>\n",
       "      <td>...</td>\n",
       "      <td>...</td>\n",
       "    </tr>\n",
       "    <tr>\n",
       "      <th>16073</th>\n",
       "      <td>Samurai Warriors: Sanada Maru</td>\n",
       "      <td>PS3</td>\n",
       "      <td>2016</td>\n",
       "      <td>Action</td>\n",
       "      <td>0.00</td>\n",
       "      <td>0.00</td>\n",
       "      <td>0.01</td>\n",
       "      <td>0.00</td>\n",
       "      <td>&lt;NA&gt;</td>\n",
       "      <td>NaN</td>\n",
       "      <td>NaN</td>\n",
       "      <td>0.01</td>\n",
       "    </tr>\n",
       "    <tr>\n",
       "      <th>16074</th>\n",
       "      <td>LMA Manager 2007</td>\n",
       "      <td>X360</td>\n",
       "      <td>2006</td>\n",
       "      <td>Sports</td>\n",
       "      <td>0.00</td>\n",
       "      <td>0.01</td>\n",
       "      <td>0.00</td>\n",
       "      <td>0.00</td>\n",
       "      <td>&lt;NA&gt;</td>\n",
       "      <td>NaN</td>\n",
       "      <td>NaN</td>\n",
       "      <td>0.01</td>\n",
       "    </tr>\n",
       "    <tr>\n",
       "      <th>16075</th>\n",
       "      <td>Haitaka no Psychedelica</td>\n",
       "      <td>PSV</td>\n",
       "      <td>2016</td>\n",
       "      <td>Adventure</td>\n",
       "      <td>0.00</td>\n",
       "      <td>0.00</td>\n",
       "      <td>0.01</td>\n",
       "      <td>0.00</td>\n",
       "      <td>&lt;NA&gt;</td>\n",
       "      <td>NaN</td>\n",
       "      <td>NaN</td>\n",
       "      <td>0.01</td>\n",
       "    </tr>\n",
       "    <tr>\n",
       "      <th>16076</th>\n",
       "      <td>Spirits &amp; Spells</td>\n",
       "      <td>GBA</td>\n",
       "      <td>2003</td>\n",
       "      <td>Platform</td>\n",
       "      <td>0.01</td>\n",
       "      <td>0.00</td>\n",
       "      <td>0.00</td>\n",
       "      <td>0.00</td>\n",
       "      <td>&lt;NA&gt;</td>\n",
       "      <td>NaN</td>\n",
       "      <td>NaN</td>\n",
       "      <td>0.01</td>\n",
       "    </tr>\n",
       "    <tr>\n",
       "      <th>16077</th>\n",
       "      <td>Winning Post 8 2016</td>\n",
       "      <td>PSV</td>\n",
       "      <td>2016</td>\n",
       "      <td>Simulation</td>\n",
       "      <td>0.00</td>\n",
       "      <td>0.00</td>\n",
       "      <td>0.01</td>\n",
       "      <td>0.00</td>\n",
       "      <td>&lt;NA&gt;</td>\n",
       "      <td>NaN</td>\n",
       "      <td>NaN</td>\n",
       "      <td>0.01</td>\n",
       "    </tr>\n",
       "  </tbody>\n",
       "</table>\n",
       "<p>16078 rows × 12 columns</p>\n",
       "</div>"
      ],
      "text/plain": [
       "                                name platform  year_of_release         genre  \\\n",
       "0                         Wii Sports      Wii             2006        Sports   \n",
       "1                     Mario Kart Wii      Wii             2008        Racing   \n",
       "2                  Wii Sports Resort      Wii             2009        Sports   \n",
       "3           Pokemon Red/Pokemon Blue       GB             1996  Role-Playing   \n",
       "4              New Super Mario Bros.       DS             2006      Platform   \n",
       "...                              ...      ...              ...           ...   \n",
       "16073  Samurai Warriors: Sanada Maru      PS3             2016        Action   \n",
       "16074               LMA Manager 2007     X360             2006        Sports   \n",
       "16075        Haitaka no Psychedelica      PSV             2016     Adventure   \n",
       "16076               Spirits & Spells      GBA             2003      Platform   \n",
       "16077            Winning Post 8 2016      PSV             2016    Simulation   \n",
       "\n",
       "       NA_sales  EU_sales  JP_sales  other_sales  critic_score  user_score  \\\n",
       "0         41.36     28.96      3.77         8.45            76         8.0   \n",
       "1         15.68     12.76      3.79         3.29            82         8.3   \n",
       "2         15.61     10.93      3.28         2.95            80         8.0   \n",
       "3         11.27      8.89     10.22         1.00          <NA>         NaN   \n",
       "4         11.28      9.14      6.50         2.88            89         8.5   \n",
       "...         ...       ...       ...          ...           ...         ...   \n",
       "16073      0.00      0.00      0.01         0.00          <NA>         NaN   \n",
       "16074      0.00      0.01      0.00         0.00          <NA>         NaN   \n",
       "16075      0.00      0.00      0.01         0.00          <NA>         NaN   \n",
       "16076      0.01      0.00      0.00         0.00          <NA>         NaN   \n",
       "16077      0.00      0.00      0.01         0.00          <NA>         NaN   \n",
       "\n",
       "      rating  all_sales  \n",
       "0          E      82.54  \n",
       "1          E      35.52  \n",
       "2          E      32.77  \n",
       "3        NaN      31.38  \n",
       "4          E      29.80  \n",
       "...      ...        ...  \n",
       "16073    NaN       0.01  \n",
       "16074    NaN       0.01  \n",
       "16075    NaN       0.01  \n",
       "16076    NaN       0.01  \n",
       "16077    NaN       0.01  \n",
       "\n",
       "[16078 rows x 12 columns]"
      ]
     },
     "execution_count": 36,
     "metadata": {},
     "output_type": "execute_result"
    }
   ],
   "source": [
    "data_1994"
   ]
  },
  {
   "cell_type": "code",
   "execution_count": 37,
   "metadata": {},
   "outputs": [
    {
     "data": {
      "text/html": [
       "<div>\n",
       "<style scoped>\n",
       "    .dataframe tbody tr th:only-of-type {\n",
       "        vertical-align: middle;\n",
       "    }\n",
       "\n",
       "    .dataframe tbody tr th {\n",
       "        vertical-align: top;\n",
       "    }\n",
       "\n",
       "    .dataframe thead th {\n",
       "        text-align: right;\n",
       "    }\n",
       "</style>\n",
       "<table border=\"1\" class=\"dataframe\">\n",
       "  <thead>\n",
       "    <tr style=\"text-align: right;\">\n",
       "      <th></th>\n",
       "      <th>sum</th>\n",
       "    </tr>\n",
       "    <tr>\n",
       "      <th>platform</th>\n",
       "      <th></th>\n",
       "    </tr>\n",
       "  </thead>\n",
       "  <tbody>\n",
       "    <tr>\n",
       "      <th>PS2</th>\n",
       "      <td>1233.56</td>\n",
       "    </tr>\n",
       "    <tr>\n",
       "      <th>X360</th>\n",
       "      <td>961.24</td>\n",
       "    </tr>\n",
       "    <tr>\n",
       "      <th>PS3</th>\n",
       "      <td>931.33</td>\n",
       "    </tr>\n",
       "    <tr>\n",
       "      <th>Wii</th>\n",
       "      <td>891.18</td>\n",
       "    </tr>\n",
       "    <tr>\n",
       "      <th>DS</th>\n",
       "      <td>802.76</td>\n",
       "    </tr>\n",
       "    <tr>\n",
       "      <th>PS</th>\n",
       "      <td>727.58</td>\n",
       "    </tr>\n",
       "    <tr>\n",
       "      <th>PS4</th>\n",
       "      <td>314.14</td>\n",
       "    </tr>\n",
       "    <tr>\n",
       "      <th>GBA</th>\n",
       "      <td>312.88</td>\n",
       "    </tr>\n",
       "    <tr>\n",
       "      <th>PSP</th>\n",
       "      <td>289.53</td>\n",
       "    </tr>\n",
       "    <tr>\n",
       "      <th>3DS</th>\n",
       "      <td>257.81</td>\n",
       "    </tr>\n",
       "    <tr>\n",
       "      <th>PC</th>\n",
       "      <td>252.66</td>\n",
       "    </tr>\n",
       "    <tr>\n",
       "      <th>XB</th>\n",
       "      <td>251.57</td>\n",
       "    </tr>\n",
       "    <tr>\n",
       "      <th>N64</th>\n",
       "      <td>218.01</td>\n",
       "    </tr>\n",
       "    <tr>\n",
       "      <th>GC</th>\n",
       "      <td>196.73</td>\n",
       "    </tr>\n",
       "    <tr>\n",
       "      <th>XOne</th>\n",
       "      <td>159.32</td>\n",
       "    </tr>\n",
       "    <tr>\n",
       "      <th>GB</th>\n",
       "      <td>152.08</td>\n",
       "    </tr>\n",
       "    <tr>\n",
       "      <th>SNES</th>\n",
       "      <td>84.67</td>\n",
       "    </tr>\n",
       "    <tr>\n",
       "      <th>WiiU</th>\n",
       "      <td>82.19</td>\n",
       "    </tr>\n",
       "    <tr>\n",
       "      <th>PSV</th>\n",
       "      <td>53.81</td>\n",
       "    </tr>\n",
       "    <tr>\n",
       "      <th>SAT</th>\n",
       "      <td>33.59</td>\n",
       "    </tr>\n",
       "    <tr>\n",
       "      <th>DC</th>\n",
       "      <td>15.95</td>\n",
       "    </tr>\n",
       "    <tr>\n",
       "      <th>GEN</th>\n",
       "      <td>8.13</td>\n",
       "    </tr>\n",
       "    <tr>\n",
       "      <th>WS</th>\n",
       "      <td>1.42</td>\n",
       "    </tr>\n",
       "    <tr>\n",
       "      <th>NG</th>\n",
       "      <td>1.23</td>\n",
       "    </tr>\n",
       "    <tr>\n",
       "      <th>SCD</th>\n",
       "      <td>0.36</td>\n",
       "    </tr>\n",
       "    <tr>\n",
       "      <th>TG16</th>\n",
       "      <td>0.16</td>\n",
       "    </tr>\n",
       "    <tr>\n",
       "      <th>NES</th>\n",
       "      <td>0.11</td>\n",
       "    </tr>\n",
       "    <tr>\n",
       "      <th>3DO</th>\n",
       "      <td>0.10</td>\n",
       "    </tr>\n",
       "    <tr>\n",
       "      <th>PCFX</th>\n",
       "      <td>0.03</td>\n",
       "    </tr>\n",
       "  </tbody>\n",
       "</table>\n",
       "</div>"
      ],
      "text/plain": [
       "              sum\n",
       "platform         \n",
       "PS2       1233.56\n",
       "X360       961.24\n",
       "PS3        931.33\n",
       "Wii        891.18\n",
       "DS         802.76\n",
       "PS         727.58\n",
       "PS4        314.14\n",
       "GBA        312.88\n",
       "PSP        289.53\n",
       "3DS        257.81\n",
       "PC         252.66\n",
       "XB         251.57\n",
       "N64        218.01\n",
       "GC         196.73\n",
       "XOne       159.32\n",
       "GB         152.08\n",
       "SNES        84.67\n",
       "WiiU        82.19\n",
       "PSV         53.81\n",
       "SAT         33.59\n",
       "DC          15.95\n",
       "GEN          8.13\n",
       "WS           1.42\n",
       "NG           1.23\n",
       "SCD          0.36\n",
       "TG16         0.16\n",
       "NES          0.11\n",
       "3DO          0.10\n",
       "PCFX         0.03"
      ]
     },
     "execution_count": 37,
     "metadata": {},
     "output_type": "execute_result"
    }
   ],
   "source": [
    "data_1994.groupby(\"platform\").agg([\"sum\"])[\"all_sales\"].sort_values(by = \"sum\" , ascending = False)"
   ]
  },
  {
   "cell_type": "code",
   "execution_count": 38,
   "metadata": {},
   "outputs": [],
   "source": [
    "tmp1 = data_1994.groupby(\"platform\").agg([\"sum\"])[\"all_sales\"].sort_values(by = \"sum\" , ascending = False).head(6).copy()"
   ]
  },
  {
   "cell_type": "markdown",
   "metadata": {},
   "source": [
    "Выделим первые 6 платформ как лидеров по суммарным продажам"
   ]
  },
  {
   "cell_type": "code",
   "execution_count": 39,
   "metadata": {},
   "outputs": [
    {
     "data": {
      "text/html": [
       "<div>\n",
       "<style scoped>\n",
       "    .dataframe tbody tr th:only-of-type {\n",
       "        vertical-align: middle;\n",
       "    }\n",
       "\n",
       "    .dataframe tbody tr th {\n",
       "        vertical-align: top;\n",
       "    }\n",
       "\n",
       "    .dataframe thead th {\n",
       "        text-align: right;\n",
       "    }\n",
       "</style>\n",
       "<table border=\"1\" class=\"dataframe\">\n",
       "  <thead>\n",
       "    <tr style=\"text-align: right;\">\n",
       "      <th></th>\n",
       "      <th>platform</th>\n",
       "      <th>sum</th>\n",
       "    </tr>\n",
       "  </thead>\n",
       "  <tbody>\n",
       "    <tr>\n",
       "      <th>0</th>\n",
       "      <td>PS2</td>\n",
       "      <td>1233.56</td>\n",
       "    </tr>\n",
       "    <tr>\n",
       "      <th>1</th>\n",
       "      <td>X360</td>\n",
       "      <td>961.24</td>\n",
       "    </tr>\n",
       "    <tr>\n",
       "      <th>2</th>\n",
       "      <td>PS3</td>\n",
       "      <td>931.33</td>\n",
       "    </tr>\n",
       "    <tr>\n",
       "      <th>3</th>\n",
       "      <td>Wii</td>\n",
       "      <td>891.18</td>\n",
       "    </tr>\n",
       "    <tr>\n",
       "      <th>4</th>\n",
       "      <td>DS</td>\n",
       "      <td>802.76</td>\n",
       "    </tr>\n",
       "    <tr>\n",
       "      <th>5</th>\n",
       "      <td>PS</td>\n",
       "      <td>727.58</td>\n",
       "    </tr>\n",
       "  </tbody>\n",
       "</table>\n",
       "</div>"
      ],
      "text/plain": [
       "  platform      sum\n",
       "0      PS2  1233.56\n",
       "1     X360   961.24\n",
       "2      PS3   931.33\n",
       "3      Wii   891.18\n",
       "4       DS   802.76\n",
       "5       PS   727.58"
      ]
     },
     "execution_count": 39,
     "metadata": {},
     "output_type": "execute_result"
    }
   ],
   "source": [
    "tmp1 = tmp1.reset_index()\n",
    "tmp1"
   ]
  },
  {
   "cell_type": "code",
   "execution_count": null,
   "metadata": {},
   "outputs": [],
   "source": []
  },
  {
   "cell_type": "code",
   "execution_count": 40,
   "metadata": {},
   "outputs": [
    {
     "data": {
      "image/png": "[encoded data removed]",
      "text/plain": [
       "<Figure size 432x288 with 1 Axes>"
      ]
     },
     "metadata": {
      "needs_background": "light"
     },
     "output_type": "display_data"
    },
    {
     "data": {
      "image/png": "[encoded data removed]",
      "text/plain": [
       "<Figure size 432x288 with 1 Axes>"
      ]
     },
     "metadata": {
      "needs_background": "light"
     },
     "output_type": "display_data"
    },
    {
     "data": {
      "image/png": "[encoded data removed]",
      "text/plain": [
       "<Figure size 432x288 with 1 Axes>"
      ]
     },
     "metadata": {
      "needs_background": "light"
     },
     "output_type": "display_data"
    },
    {
     "data": {
      "image/png": "[encoded data removed]",
      "text/plain": [
       "<Figure size 432x288 with 1 Axes>"
      ]
     },
     "metadata": {
      "needs_background": "light"
     },
     "output_type": "display_data"
    },
    {
     "data": {
      "image/png": "[encoded data removed]",
      "text/plain": [
       "<Figure size 432x288 with 1 Axes>"
      ]
     },
     "metadata": {
      "needs_background": "light"
     },
     "output_type": "display_data"
    },
    {
     "data": {
      "image/png": "[encoded data removed]",
      "text/plain": [
       "<Figure size 432x288 with 1 Axes>"
      ]
     },
     "metadata": {
      "needs_background": "light"
     },
     "output_type": "display_data"
    }
   ],
   "source": [
    "for item in tmp1[\"platform\"]:\n",
    "    tmp = data_1994.loc[data_1994[\"platform\"] == item].groupby(\"year_of_release\").agg([\"sum\"])[\"all_sales\"]\n",
    "    tmp.plot(kind = \"bar\")\n",
    "    plt.title(f\"Сумма продаж по годам платформы {item}\");\n",
    "    plt.xlabel(\"Года\");\n",
    "    plt.ylabel(\"Сумма продаж\");\n",
    "    plt.show()\n",
    "    "
   ]
  },
  {
   "cell_type": "markdown",
   "metadata": {},
   "source": [
    "Судя по графикам мы можем сказать, что жизнь каждой платформы равна примерно 10 годам\n",
    "<br>\n",
    "<br>\n",
    "1) PS2: 2000 - 2010 года\n",
    "<br>\n",
    "2) Х360: 2005 - 2015 года\n",
    "<br>\n",
    "3) PS3: 2006 - 2016 года\n",
    "<br>\n",
    "4) Wii: 2006 - 2014 года\n",
    "<br>\n",
    "5) DS: 2004 - 2013 года\n",
    "<br>\n",
    "6) PS: 1994 - 2003 года"
   ]
  },
  {
   "cell_type": "markdown",
   "metadata": {},
   "source": [
    "Это вполне логично, так как характеристики консоли со временем устаревают"
   ]
  },
  {
   "cell_type": "markdown",
   "metadata": {},
   "source": [
    "### Взять данные за актуальный период, которые помогут построить прогноз на 2017 год."
   ]
  },
  {
   "cell_type": "code",
   "execution_count": 41,
   "metadata": {},
   "outputs": [
    {
     "data": {
      "image/png": "[encoded data removed]",
      "text/plain": [
       "<Figure size 432x288 with 1 Axes>"
      ]
     },
     "metadata": {
      "needs_background": "light"
     },
     "output_type": "display_data"
    },
    {
     "data": {
      "image/png": "[encoded data removed]",
      "text/plain": [
       "<Figure size 432x288 with 1 Axes>"
      ]
     },
     "metadata": {
      "needs_background": "light"
     },
     "output_type": "display_data"
    }
   ],
   "source": [
    "for item in [\"PS4\" , \"XOne\"]:\n",
    "    tmp = data_1994.loc[data_1994[\"platform\"] == item].groupby(\"year_of_release\").agg([\"sum\"])[\"all_sales\"]\n",
    "    tmp.plot(kind = \"bar\")\n",
    "    plt.title(f\"Сумма продаж по годам платформы {item}\");\n",
    "    plt.xlabel(\"Года\");\n",
    "    plt.ylabel(\"Сумма продаж\");\n",
    "    plt.show()"
   ]
  },
  {
   "cell_type": "markdown",
   "metadata": {},
   "source": [
    "На основе ранее потроенных графиков мы можем сказать, что консоли прошлого поколения идут на спад примерно к 2013му году, а консоли нового поколения, по которым мы как раз таки будем делать прогноз на 2017й год, идут на повышение, следовательно берем актулаьные данные начиная с 2013 года."
   ]
  },
  {
   "cell_type": "code",
   "execution_count": 42,
   "metadata": {},
   "outputs": [],
   "source": [
    "data = data.loc[data[\"year_of_release\"] >= 2013]\n",
    "data = data.reset_index(drop = True)"
   ]
  },
  {
   "cell_type": "code",
   "execution_count": 43,
   "metadata": {},
   "outputs": [
    {
     "data": {
      "text/html": [
       "<div>\n",
       "<style scoped>\n",
       "    .dataframe tbody tr th:only-of-type {\n",
       "        vertical-align: middle;\n",
       "    }\n",
       "\n",
       "    .dataframe tbody tr th {\n",
       "        vertical-align: top;\n",
       "    }\n",
       "\n",
       "    .dataframe thead th {\n",
       "        text-align: right;\n",
       "    }\n",
       "</style>\n",
       "<table border=\"1\" class=\"dataframe\">\n",
       "  <thead>\n",
       "    <tr style=\"text-align: right;\">\n",
       "      <th></th>\n",
       "      <th>name</th>\n",
       "      <th>platform</th>\n",
       "      <th>year_of_release</th>\n",
       "      <th>genre</th>\n",
       "      <th>NA_sales</th>\n",
       "      <th>EU_sales</th>\n",
       "      <th>JP_sales</th>\n",
       "      <th>other_sales</th>\n",
       "      <th>critic_score</th>\n",
       "      <th>user_score</th>\n",
       "      <th>rating</th>\n",
       "      <th>all_sales</th>\n",
       "    </tr>\n",
       "  </thead>\n",
       "  <tbody>\n",
       "    <tr>\n",
       "      <th>0</th>\n",
       "      <td>Grand Theft Auto V</td>\n",
       "      <td>PS3</td>\n",
       "      <td>2013</td>\n",
       "      <td>Action</td>\n",
       "      <td>7.02</td>\n",
       "      <td>9.09</td>\n",
       "      <td>0.98</td>\n",
       "      <td>3.96</td>\n",
       "      <td>97</td>\n",
       "      <td>8.2</td>\n",
       "      <td>M</td>\n",
       "      <td>21.05</td>\n",
       "    </tr>\n",
       "    <tr>\n",
       "      <th>1</th>\n",
       "      <td>Grand Theft Auto V</td>\n",
       "      <td>X360</td>\n",
       "      <td>2013</td>\n",
       "      <td>Action</td>\n",
       "      <td>9.66</td>\n",
       "      <td>5.14</td>\n",
       "      <td>0.06</td>\n",
       "      <td>1.41</td>\n",
       "      <td>97</td>\n",
       "      <td>8.1</td>\n",
       "      <td>M</td>\n",
       "      <td>16.27</td>\n",
       "    </tr>\n",
       "    <tr>\n",
       "      <th>2</th>\n",
       "      <td>Call of Duty: Black Ops 3</td>\n",
       "      <td>PS4</td>\n",
       "      <td>2015</td>\n",
       "      <td>Shooter</td>\n",
       "      <td>6.03</td>\n",
       "      <td>5.86</td>\n",
       "      <td>0.36</td>\n",
       "      <td>2.38</td>\n",
       "      <td>&lt;NA&gt;</td>\n",
       "      <td>NaN</td>\n",
       "      <td>NaN</td>\n",
       "      <td>14.63</td>\n",
       "    </tr>\n",
       "    <tr>\n",
       "      <th>3</th>\n",
       "      <td>Pokemon X/Pokemon Y</td>\n",
       "      <td>3DS</td>\n",
       "      <td>2013</td>\n",
       "      <td>Role-Playing</td>\n",
       "      <td>5.28</td>\n",
       "      <td>4.19</td>\n",
       "      <td>4.35</td>\n",
       "      <td>0.78</td>\n",
       "      <td>&lt;NA&gt;</td>\n",
       "      <td>NaN</td>\n",
       "      <td>NaN</td>\n",
       "      <td>14.60</td>\n",
       "    </tr>\n",
       "    <tr>\n",
       "      <th>4</th>\n",
       "      <td>Grand Theft Auto V</td>\n",
       "      <td>PS4</td>\n",
       "      <td>2014</td>\n",
       "      <td>Action</td>\n",
       "      <td>3.96</td>\n",
       "      <td>6.31</td>\n",
       "      <td>0.38</td>\n",
       "      <td>1.97</td>\n",
       "      <td>97</td>\n",
       "      <td>8.3</td>\n",
       "      <td>M</td>\n",
       "      <td>12.62</td>\n",
       "    </tr>\n",
       "    <tr>\n",
       "      <th>...</th>\n",
       "      <td>...</td>\n",
       "      <td>...</td>\n",
       "      <td>...</td>\n",
       "      <td>...</td>\n",
       "      <td>...</td>\n",
       "      <td>...</td>\n",
       "      <td>...</td>\n",
       "      <td>...</td>\n",
       "      <td>...</td>\n",
       "      <td>...</td>\n",
       "      <td>...</td>\n",
       "      <td>...</td>\n",
       "    </tr>\n",
       "    <tr>\n",
       "      <th>2228</th>\n",
       "      <td>Strawberry Nauts</td>\n",
       "      <td>PSV</td>\n",
       "      <td>2016</td>\n",
       "      <td>Adventure</td>\n",
       "      <td>0.00</td>\n",
       "      <td>0.00</td>\n",
       "      <td>0.01</td>\n",
       "      <td>0.00</td>\n",
       "      <td>&lt;NA&gt;</td>\n",
       "      <td>NaN</td>\n",
       "      <td>NaN</td>\n",
       "      <td>0.01</td>\n",
       "    </tr>\n",
       "    <tr>\n",
       "      <th>2229</th>\n",
       "      <td>Aiyoku no Eustia</td>\n",
       "      <td>PSV</td>\n",
       "      <td>2014</td>\n",
       "      <td>Misc</td>\n",
       "      <td>0.00</td>\n",
       "      <td>0.00</td>\n",
       "      <td>0.01</td>\n",
       "      <td>0.00</td>\n",
       "      <td>&lt;NA&gt;</td>\n",
       "      <td>NaN</td>\n",
       "      <td>NaN</td>\n",
       "      <td>0.01</td>\n",
       "    </tr>\n",
       "    <tr>\n",
       "      <th>2230</th>\n",
       "      <td>Samurai Warriors: Sanada Maru</td>\n",
       "      <td>PS3</td>\n",
       "      <td>2016</td>\n",
       "      <td>Action</td>\n",
       "      <td>0.00</td>\n",
       "      <td>0.00</td>\n",
       "      <td>0.01</td>\n",
       "      <td>0.00</td>\n",
       "      <td>&lt;NA&gt;</td>\n",
       "      <td>NaN</td>\n",
       "      <td>NaN</td>\n",
       "      <td>0.01</td>\n",
       "    </tr>\n",
       "    <tr>\n",
       "      <th>2231</th>\n",
       "      <td>Haitaka no Psychedelica</td>\n",
       "      <td>PSV</td>\n",
       "      <td>2016</td>\n",
       "      <td>Adventure</td>\n",
       "      <td>0.00</td>\n",
       "      <td>0.00</td>\n",
       "      <td>0.01</td>\n",
       "      <td>0.00</td>\n",
       "      <td>&lt;NA&gt;</td>\n",
       "      <td>NaN</td>\n",
       "      <td>NaN</td>\n",
       "      <td>0.01</td>\n",
       "    </tr>\n",
       "    <tr>\n",
       "      <th>2232</th>\n",
       "      <td>Winning Post 8 2016</td>\n",
       "      <td>PSV</td>\n",
       "      <td>2016</td>\n",
       "      <td>Simulation</td>\n",
       "      <td>0.00</td>\n",
       "      <td>0.00</td>\n",
       "      <td>0.01</td>\n",
       "      <td>0.00</td>\n",
       "      <td>&lt;NA&gt;</td>\n",
       "      <td>NaN</td>\n",
       "      <td>NaN</td>\n",
       "      <td>0.01</td>\n",
       "    </tr>\n",
       "  </tbody>\n",
       "</table>\n",
       "<p>2233 rows × 12 columns</p>\n",
       "</div>"
      ],
      "text/plain": [
       "                               name platform  year_of_release         genre  \\\n",
       "0                Grand Theft Auto V      PS3             2013        Action   \n",
       "1                Grand Theft Auto V     X360             2013        Action   \n",
       "2         Call of Duty: Black Ops 3      PS4             2015       Shooter   \n",
       "3               Pokemon X/Pokemon Y      3DS             2013  Role-Playing   \n",
       "4                Grand Theft Auto V      PS4             2014        Action   \n",
       "...                             ...      ...              ...           ...   \n",
       "2228               Strawberry Nauts      PSV             2016     Adventure   \n",
       "2229               Aiyoku no Eustia      PSV             2014          Misc   \n",
       "2230  Samurai Warriors: Sanada Maru      PS3             2016        Action   \n",
       "2231        Haitaka no Psychedelica      PSV             2016     Adventure   \n",
       "2232            Winning Post 8 2016      PSV             2016    Simulation   \n",
       "\n",
       "      NA_sales  EU_sales  JP_sales  other_sales  critic_score  user_score  \\\n",
       "0         7.02      9.09      0.98         3.96            97         8.2   \n",
       "1         9.66      5.14      0.06         1.41            97         8.1   \n",
       "2         6.03      5.86      0.36         2.38          <NA>         NaN   \n",
       "3         5.28      4.19      4.35         0.78          <NA>         NaN   \n",
       "4         3.96      6.31      0.38         1.97            97         8.3   \n",
       "...        ...       ...       ...          ...           ...         ...   \n",
       "2228      0.00      0.00      0.01         0.00          <NA>         NaN   \n",
       "2229      0.00      0.00      0.01         0.00          <NA>         NaN   \n",
       "2230      0.00      0.00      0.01         0.00          <NA>         NaN   \n",
       "2231      0.00      0.00      0.01         0.00          <NA>         NaN   \n",
       "2232      0.00      0.00      0.01         0.00          <NA>         NaN   \n",
       "\n",
       "     rating  all_sales  \n",
       "0         M      21.05  \n",
       "1         M      16.27  \n",
       "2       NaN      14.63  \n",
       "3       NaN      14.60  \n",
       "4         M      12.62  \n",
       "...     ...        ...  \n",
       "2228    NaN       0.01  \n",
       "2229    NaN       0.01  \n",
       "2230    NaN       0.01  \n",
       "2231    NaN       0.01  \n",
       "2232    NaN       0.01  \n",
       "\n",
       "[2233 rows x 12 columns]"
      ]
     },
     "execution_count": 43,
     "metadata": {},
     "output_type": "execute_result"
    }
   ],
   "source": [
    "data"
   ]
  },
  {
   "cell_type": "markdown",
   "metadata": {},
   "source": [
    "### Платформы, которые лидируют по продажам, растут или падают. Выберем несколько потенциально прибыльных платформ."
   ]
  },
  {
   "cell_type": "code",
   "execution_count": 44,
   "metadata": {},
   "outputs": [
    {
     "data": {
      "text/html": [
       "<div>\n",
       "<style scoped>\n",
       "    .dataframe tbody tr th:only-of-type {\n",
       "        vertical-align: middle;\n",
       "    }\n",
       "\n",
       "    .dataframe tbody tr th {\n",
       "        vertical-align: top;\n",
       "    }\n",
       "\n",
       "    .dataframe thead th {\n",
       "        text-align: right;\n",
       "    }\n",
       "</style>\n",
       "<table border=\"1\" class=\"dataframe\">\n",
       "  <thead>\n",
       "    <tr style=\"text-align: right;\">\n",
       "      <th></th>\n",
       "      <th>sum</th>\n",
       "    </tr>\n",
       "    <tr>\n",
       "      <th>platform</th>\n",
       "      <th></th>\n",
       "    </tr>\n",
       "  </thead>\n",
       "  <tbody>\n",
       "    <tr>\n",
       "      <th>PS4</th>\n",
       "      <td>314.14</td>\n",
       "    </tr>\n",
       "    <tr>\n",
       "      <th>PS3</th>\n",
       "      <td>181.43</td>\n",
       "    </tr>\n",
       "    <tr>\n",
       "      <th>XOne</th>\n",
       "      <td>159.32</td>\n",
       "    </tr>\n",
       "    <tr>\n",
       "      <th>3DS</th>\n",
       "      <td>143.25</td>\n",
       "    </tr>\n",
       "    <tr>\n",
       "      <th>X360</th>\n",
       "      <td>136.80</td>\n",
       "    </tr>\n",
       "    <tr>\n",
       "      <th>WiiU</th>\n",
       "      <td>64.63</td>\n",
       "    </tr>\n",
       "    <tr>\n",
       "      <th>PC</th>\n",
       "      <td>39.43</td>\n",
       "    </tr>\n",
       "    <tr>\n",
       "      <th>PSV</th>\n",
       "      <td>32.99</td>\n",
       "    </tr>\n",
       "    <tr>\n",
       "      <th>Wii</th>\n",
       "      <td>13.66</td>\n",
       "    </tr>\n",
       "    <tr>\n",
       "      <th>PSP</th>\n",
       "      <td>3.50</td>\n",
       "    </tr>\n",
       "    <tr>\n",
       "      <th>DS</th>\n",
       "      <td>1.54</td>\n",
       "    </tr>\n",
       "  </tbody>\n",
       "</table>\n",
       "</div>"
      ],
      "text/plain": [
       "             sum\n",
       "platform        \n",
       "PS4       314.14\n",
       "PS3       181.43\n",
       "XOne      159.32\n",
       "3DS       143.25\n",
       "X360      136.80\n",
       "WiiU       64.63\n",
       "PC         39.43\n",
       "PSV        32.99\n",
       "Wii        13.66\n",
       "PSP         3.50\n",
       "DS          1.54"
      ]
     },
     "execution_count": 44,
     "metadata": {},
     "output_type": "execute_result"
    }
   ],
   "source": [
    "data.groupby(\"platform\").agg([\"sum\"])[\"all_sales\"].sort_values(by = \"sum\" , ascending = False)"
   ]
  },
  {
   "cell_type": "code",
   "execution_count": 45,
   "metadata": {},
   "outputs": [],
   "source": [
    "tmp3 = data.groupby(\"platform\").agg([\"sum\"])[\"all_sales\"].sort_values(by = \"sum\" , ascending = False).head(5).copy()"
   ]
  },
  {
   "cell_type": "code",
   "execution_count": 46,
   "metadata": {},
   "outputs": [
    {
     "data": {
      "text/html": [
       "<div>\n",
       "<style scoped>\n",
       "    .dataframe tbody tr th:only-of-type {\n",
       "        vertical-align: middle;\n",
       "    }\n",
       "\n",
       "    .dataframe tbody tr th {\n",
       "        vertical-align: top;\n",
       "    }\n",
       "\n",
       "    .dataframe thead th {\n",
       "        text-align: right;\n",
       "    }\n",
       "</style>\n",
       "<table border=\"1\" class=\"dataframe\">\n",
       "  <thead>\n",
       "    <tr style=\"text-align: right;\">\n",
       "      <th></th>\n",
       "      <th>sum</th>\n",
       "    </tr>\n",
       "    <tr>\n",
       "      <th>platform</th>\n",
       "      <th></th>\n",
       "    </tr>\n",
       "  </thead>\n",
       "  <tbody>\n",
       "    <tr>\n",
       "      <th>PS4</th>\n",
       "      <td>314.14</td>\n",
       "    </tr>\n",
       "    <tr>\n",
       "      <th>PS3</th>\n",
       "      <td>181.43</td>\n",
       "    </tr>\n",
       "    <tr>\n",
       "      <th>XOne</th>\n",
       "      <td>159.32</td>\n",
       "    </tr>\n",
       "    <tr>\n",
       "      <th>3DS</th>\n",
       "      <td>143.25</td>\n",
       "    </tr>\n",
       "    <tr>\n",
       "      <th>X360</th>\n",
       "      <td>136.80</td>\n",
       "    </tr>\n",
       "  </tbody>\n",
       "</table>\n",
       "</div>"
      ],
      "text/plain": [
       "             sum\n",
       "platform        \n",
       "PS4       314.14\n",
       "PS3       181.43\n",
       "XOne      159.32\n",
       "3DS       143.25\n",
       "X360      136.80"
      ]
     },
     "execution_count": 46,
     "metadata": {},
     "output_type": "execute_result"
    }
   ],
   "source": [
    "tmp3"
   ]
  },
  {
   "cell_type": "code",
   "execution_count": 47,
   "metadata": {},
   "outputs": [
    {
     "data": {
      "text/html": [
       "<div>\n",
       "<style scoped>\n",
       "    .dataframe tbody tr th:only-of-type {\n",
       "        vertical-align: middle;\n",
       "    }\n",
       "\n",
       "    .dataframe tbody tr th {\n",
       "        vertical-align: top;\n",
       "    }\n",
       "\n",
       "    .dataframe thead th {\n",
       "        text-align: right;\n",
       "    }\n",
       "</style>\n",
       "<table border=\"1\" class=\"dataframe\">\n",
       "  <thead>\n",
       "    <tr style=\"text-align: right;\">\n",
       "      <th></th>\n",
       "      <th>platform</th>\n",
       "      <th>sum</th>\n",
       "    </tr>\n",
       "  </thead>\n",
       "  <tbody>\n",
       "    <tr>\n",
       "      <th>0</th>\n",
       "      <td>PS4</td>\n",
       "      <td>314.14</td>\n",
       "    </tr>\n",
       "    <tr>\n",
       "      <th>1</th>\n",
       "      <td>PS3</td>\n",
       "      <td>181.43</td>\n",
       "    </tr>\n",
       "    <tr>\n",
       "      <th>2</th>\n",
       "      <td>XOne</td>\n",
       "      <td>159.32</td>\n",
       "    </tr>\n",
       "    <tr>\n",
       "      <th>3</th>\n",
       "      <td>3DS</td>\n",
       "      <td>143.25</td>\n",
       "    </tr>\n",
       "    <tr>\n",
       "      <th>4</th>\n",
       "      <td>X360</td>\n",
       "      <td>136.80</td>\n",
       "    </tr>\n",
       "  </tbody>\n",
       "</table>\n",
       "</div>"
      ],
      "text/plain": [
       "  platform     sum\n",
       "0      PS4  314.14\n",
       "1      PS3  181.43\n",
       "2     XOne  159.32\n",
       "3      3DS  143.25\n",
       "4     X360  136.80"
      ]
     },
     "execution_count": 47,
     "metadata": {},
     "output_type": "execute_result"
    }
   ],
   "source": [
    "tmp3 = tmp3.reset_index()\n",
    "tmp3"
   ]
  },
  {
   "cell_type": "code",
   "execution_count": 48,
   "metadata": {},
   "outputs": [
    {
     "data": {
      "image/png": "[encoded data removed]",
      "text/plain": [
       "<Figure size 432x288 with 1 Axes>"
      ]
     },
     "metadata": {
      "needs_background": "light"
     },
     "output_type": "display_data"
    }
   ],
   "source": [
    "for item in tmp3[\"platform\"]:\n",
    "    tmp = data.loc[data[\"platform\"] == item].groupby(\"year_of_release\").agg([\"sum\"])[\"all_sales\"]\n",
    "    tmp = tmp.reset_index()\n",
    "    plt.plot(tmp[\"year_of_release\"] , tmp[\"sum\"] , label = item)\n",
    "plt.legend()\n",
    "plt.title(\"Сумма продаж по годам платформ\");\n",
    "plt.xlabel(\"Года\");\n",
    "plt.ylabel(\"Сумма продаж\");\n",
    "plt.show()\n",
    "    \n",
    "   "
   ]
  },
  {
   "cell_type": "code",
   "execution_count": 49,
   "metadata": {},
   "outputs": [
    {
     "data": {
      "image/png": "[encoded data removed]",
      "text/plain": [
       "<Figure size 432x288 with 1 Axes>"
      ]
     },
     "metadata": {
      "needs_background": "light"
     },
     "output_type": "display_data"
    }
   ],
   "source": [
    "for item in ['WiiU' , 'PS4' , 'XOne' , 'PC' , '3DS']:\n",
    "    tmp = data.loc[data[\"platform\"] == item].groupby(\"year_of_release\").agg([\"sum\"])[\"all_sales\"]\n",
    "    tmp = tmp.reset_index()\n",
    "    plt.plot(tmp[\"year_of_release\"] , tmp[\"sum\"] , label = item)\n",
    "plt.legend()\n",
    "plt.title(\"Сумма продаж по годам платформ\");\n",
    "plt.xlabel(\"Года\");\n",
    "plt.ylabel(\"Сумма продаж\");\n",
    "plt.show()"
   ]
  },
  {
   "cell_type": "markdown",
   "metadata": {},
   "source": [
    "Исходя из графика мы можем сказать, что продажи снижаются"
   ]
  },
  {
   "cell_type": "markdown",
   "metadata": {},
   "source": [
    "Под конец 2016го года лидируют по продажам платформы:\n",
    "<br>\n",
    "1) PS4\n",
    "<br>\n",
    "2) XOne\n",
    "<br>\n",
    "3) 3DS\n"
   ]
  },
  {
   "cell_type": "markdown",
   "metadata": {},
   "source": [
    "### График «ящик с усами» по глобальным продажам игр в разбивке по платформам."
   ]
  },
  {
   "cell_type": "code",
   "execution_count": 50,
   "metadata": {},
   "outputs": [
    {
     "data": {
      "text/html": [
       "<div>\n",
       "<style scoped>\n",
       "    .dataframe tbody tr th:only-of-type {\n",
       "        vertical-align: middle;\n",
       "    }\n",
       "\n",
       "    .dataframe tbody tr th {\n",
       "        vertical-align: top;\n",
       "    }\n",
       "\n",
       "    .dataframe thead th {\n",
       "        text-align: right;\n",
       "    }\n",
       "</style>\n",
       "<table border=\"1\" class=\"dataframe\">\n",
       "  <thead>\n",
       "    <tr style=\"text-align: right;\">\n",
       "      <th></th>\n",
       "      <th>name</th>\n",
       "      <th>platform</th>\n",
       "      <th>year_of_release</th>\n",
       "      <th>genre</th>\n",
       "      <th>NA_sales</th>\n",
       "      <th>EU_sales</th>\n",
       "      <th>JP_sales</th>\n",
       "      <th>other_sales</th>\n",
       "      <th>critic_score</th>\n",
       "      <th>user_score</th>\n",
       "      <th>rating</th>\n",
       "      <th>all_sales</th>\n",
       "    </tr>\n",
       "  </thead>\n",
       "  <tbody>\n",
       "    <tr>\n",
       "      <th>0</th>\n",
       "      <td>Grand Theft Auto V</td>\n",
       "      <td>PS3</td>\n",
       "      <td>2013</td>\n",
       "      <td>Action</td>\n",
       "      <td>7.02</td>\n",
       "      <td>9.09</td>\n",
       "      <td>0.98</td>\n",
       "      <td>3.96</td>\n",
       "      <td>97</td>\n",
       "      <td>8.2</td>\n",
       "      <td>M</td>\n",
       "      <td>21.05</td>\n",
       "    </tr>\n",
       "    <tr>\n",
       "      <th>1</th>\n",
       "      <td>Grand Theft Auto V</td>\n",
       "      <td>X360</td>\n",
       "      <td>2013</td>\n",
       "      <td>Action</td>\n",
       "      <td>9.66</td>\n",
       "      <td>5.14</td>\n",
       "      <td>0.06</td>\n",
       "      <td>1.41</td>\n",
       "      <td>97</td>\n",
       "      <td>8.1</td>\n",
       "      <td>M</td>\n",
       "      <td>16.27</td>\n",
       "    </tr>\n",
       "    <tr>\n",
       "      <th>2</th>\n",
       "      <td>Call of Duty: Black Ops 3</td>\n",
       "      <td>PS4</td>\n",
       "      <td>2015</td>\n",
       "      <td>Shooter</td>\n",
       "      <td>6.03</td>\n",
       "      <td>5.86</td>\n",
       "      <td>0.36</td>\n",
       "      <td>2.38</td>\n",
       "      <td>&lt;NA&gt;</td>\n",
       "      <td>NaN</td>\n",
       "      <td>NaN</td>\n",
       "      <td>14.63</td>\n",
       "    </tr>\n",
       "    <tr>\n",
       "      <th>3</th>\n",
       "      <td>Pokemon X/Pokemon Y</td>\n",
       "      <td>3DS</td>\n",
       "      <td>2013</td>\n",
       "      <td>Role-Playing</td>\n",
       "      <td>5.28</td>\n",
       "      <td>4.19</td>\n",
       "      <td>4.35</td>\n",
       "      <td>0.78</td>\n",
       "      <td>&lt;NA&gt;</td>\n",
       "      <td>NaN</td>\n",
       "      <td>NaN</td>\n",
       "      <td>14.60</td>\n",
       "    </tr>\n",
       "    <tr>\n",
       "      <th>4</th>\n",
       "      <td>Grand Theft Auto V</td>\n",
       "      <td>PS4</td>\n",
       "      <td>2014</td>\n",
       "      <td>Action</td>\n",
       "      <td>3.96</td>\n",
       "      <td>6.31</td>\n",
       "      <td>0.38</td>\n",
       "      <td>1.97</td>\n",
       "      <td>97</td>\n",
       "      <td>8.3</td>\n",
       "      <td>M</td>\n",
       "      <td>12.62</td>\n",
       "    </tr>\n",
       "  </tbody>\n",
       "</table>\n",
       "</div>"
      ],
      "text/plain": [
       "                        name platform  year_of_release         genre  \\\n",
       "0         Grand Theft Auto V      PS3             2013        Action   \n",
       "1         Grand Theft Auto V     X360             2013        Action   \n",
       "2  Call of Duty: Black Ops 3      PS4             2015       Shooter   \n",
       "3        Pokemon X/Pokemon Y      3DS             2013  Role-Playing   \n",
       "4         Grand Theft Auto V      PS4             2014        Action   \n",
       "\n",
       "   NA_sales  EU_sales  JP_sales  other_sales  critic_score  user_score rating  \\\n",
       "0      7.02      9.09      0.98         3.96            97         8.2      M   \n",
       "1      9.66      5.14      0.06         1.41            97         8.1      M   \n",
       "2      6.03      5.86      0.36         2.38          <NA>         NaN    NaN   \n",
       "3      5.28      4.19      4.35         0.78          <NA>         NaN    NaN   \n",
       "4      3.96      6.31      0.38         1.97            97         8.3      M   \n",
       "\n",
       "   all_sales  \n",
       "0      21.05  \n",
       "1      16.27  \n",
       "2      14.63  \n",
       "3      14.60  \n",
       "4      12.62  "
      ]
     },
     "execution_count": 50,
     "metadata": {},
     "output_type": "execute_result"
    }
   ],
   "source": [
    "data.head(5)"
   ]
  },
  {
   "cell_type": "code",
   "execution_count": 51,
   "metadata": {},
   "outputs": [
    {
     "data": {
      "image/png": "[encoded data removed]",
      "text/plain": [
       "<Figure size 432x288 with 1 Axes>"
      ]
     },
     "metadata": {
      "needs_background": "light"
     },
     "output_type": "display_data"
    }
   ],
   "source": [
    "d = []\n",
    "data[\"platform\"].unique()\n",
    "for item in data[\"platform\"].unique():\n",
    "    tmp4 = data.loc[data[\"platform\"] == item , \"all_sales\"]\n",
    "    d.append(tmp4)\n",
    "plt.boxplot(d)\n",
    "plt.ylim(0,1)\n",
    "plt.xticks(range(1,12) , data[\"platform\"].unique())\n",
    "plt.title(\"График «ящик с усами» по глобальным продажам игр в разбивке по платформам\");\n",
    "plt.xlabel(\"Платформы\");\n",
    "plt.ylabel(\"Сумма продаж\");\n",
    "plt.show()"
   ]
  },
  {
   "cell_type": "code",
   "execution_count": 52,
   "metadata": {},
   "outputs": [
    {
     "data": {
      "text/html": [
       "<div>\n",
       "<style scoped>\n",
       "    .dataframe tbody tr th:only-of-type {\n",
       "        vertical-align: middle;\n",
       "    }\n",
       "\n",
       "    .dataframe tbody tr th {\n",
       "        vertical-align: top;\n",
       "    }\n",
       "\n",
       "    .dataframe thead th {\n",
       "        text-align: right;\n",
       "    }\n",
       "</style>\n",
       "<table border=\"1\" class=\"dataframe\">\n",
       "  <thead>\n",
       "    <tr style=\"text-align: right;\">\n",
       "      <th></th>\n",
       "      <th>count</th>\n",
       "      <th>mean</th>\n",
       "      <th>std</th>\n",
       "      <th>min</th>\n",
       "      <th>25%</th>\n",
       "      <th>50%</th>\n",
       "      <th>75%</th>\n",
       "      <th>max</th>\n",
       "    </tr>\n",
       "    <tr>\n",
       "      <th>platform</th>\n",
       "      <th></th>\n",
       "      <th></th>\n",
       "      <th></th>\n",
       "      <th></th>\n",
       "      <th></th>\n",
       "      <th></th>\n",
       "      <th></th>\n",
       "      <th></th>\n",
       "    </tr>\n",
       "  </thead>\n",
       "  <tbody>\n",
       "    <tr>\n",
       "      <th>3DS</th>\n",
       "      <td>303.0</td>\n",
       "      <td>0.472772</td>\n",
       "      <td>1.381347</td>\n",
       "      <td>0.01</td>\n",
       "      <td>0.0400</td>\n",
       "      <td>0.090</td>\n",
       "      <td>0.2800</td>\n",
       "      <td>14.60</td>\n",
       "    </tr>\n",
       "    <tr>\n",
       "      <th>DS</th>\n",
       "      <td>8.0</td>\n",
       "      <td>0.192500</td>\n",
       "      <td>0.172026</td>\n",
       "      <td>0.03</td>\n",
       "      <td>0.0675</td>\n",
       "      <td>0.150</td>\n",
       "      <td>0.2525</td>\n",
       "      <td>0.51</td>\n",
       "    </tr>\n",
       "    <tr>\n",
       "      <th>PC</th>\n",
       "      <td>189.0</td>\n",
       "      <td>0.208624</td>\n",
       "      <td>0.352304</td>\n",
       "      <td>0.01</td>\n",
       "      <td>0.0300</td>\n",
       "      <td>0.080</td>\n",
       "      <td>0.2300</td>\n",
       "      <td>3.05</td>\n",
       "    </tr>\n",
       "    <tr>\n",
       "      <th>PS3</th>\n",
       "      <td>345.0</td>\n",
       "      <td>0.525884</td>\n",
       "      <td>1.451939</td>\n",
       "      <td>0.01</td>\n",
       "      <td>0.0400</td>\n",
       "      <td>0.150</td>\n",
       "      <td>0.5100</td>\n",
       "      <td>21.05</td>\n",
       "    </tr>\n",
       "    <tr>\n",
       "      <th>PS4</th>\n",
       "      <td>392.0</td>\n",
       "      <td>0.801378</td>\n",
       "      <td>1.609456</td>\n",
       "      <td>0.01</td>\n",
       "      <td>0.0600</td>\n",
       "      <td>0.200</td>\n",
       "      <td>0.7300</td>\n",
       "      <td>14.63</td>\n",
       "    </tr>\n",
       "    <tr>\n",
       "      <th>PSP</th>\n",
       "      <td>67.0</td>\n",
       "      <td>0.052239</td>\n",
       "      <td>0.059768</td>\n",
       "      <td>0.01</td>\n",
       "      <td>0.0150</td>\n",
       "      <td>0.020</td>\n",
       "      <td>0.0700</td>\n",
       "      <td>0.24</td>\n",
       "    </tr>\n",
       "    <tr>\n",
       "      <th>PSV</th>\n",
       "      <td>358.0</td>\n",
       "      <td>0.092151</td>\n",
       "      <td>0.153816</td>\n",
       "      <td>0.01</td>\n",
       "      <td>0.0200</td>\n",
       "      <td>0.040</td>\n",
       "      <td>0.1100</td>\n",
       "      <td>1.96</td>\n",
       "    </tr>\n",
       "    <tr>\n",
       "      <th>Wii</th>\n",
       "      <td>23.0</td>\n",
       "      <td>0.593913</td>\n",
       "      <td>0.915432</td>\n",
       "      <td>0.01</td>\n",
       "      <td>0.0450</td>\n",
       "      <td>0.180</td>\n",
       "      <td>0.7550</td>\n",
       "      <td>3.58</td>\n",
       "    </tr>\n",
       "    <tr>\n",
       "      <th>WiiU</th>\n",
       "      <td>115.0</td>\n",
       "      <td>0.562000</td>\n",
       "      <td>1.038778</td>\n",
       "      <td>0.01</td>\n",
       "      <td>0.0600</td>\n",
       "      <td>0.200</td>\n",
       "      <td>0.5950</td>\n",
       "      <td>7.09</td>\n",
       "    </tr>\n",
       "    <tr>\n",
       "      <th>X360</th>\n",
       "      <td>186.0</td>\n",
       "      <td>0.735484</td>\n",
       "      <td>1.663275</td>\n",
       "      <td>0.01</td>\n",
       "      <td>0.0800</td>\n",
       "      <td>0.265</td>\n",
       "      <td>0.7950</td>\n",
       "      <td>16.27</td>\n",
       "    </tr>\n",
       "    <tr>\n",
       "      <th>XOne</th>\n",
       "      <td>247.0</td>\n",
       "      <td>0.645020</td>\n",
       "      <td>1.036139</td>\n",
       "      <td>0.01</td>\n",
       "      <td>0.0600</td>\n",
       "      <td>0.220</td>\n",
       "      <td>0.6850</td>\n",
       "      <td>7.39</td>\n",
       "    </tr>\n",
       "  </tbody>\n",
       "</table>\n",
       "</div>"
      ],
      "text/plain": [
       "          count      mean       std   min     25%    50%     75%    max\n",
       "platform                                                               \n",
       "3DS       303.0  0.472772  1.381347  0.01  0.0400  0.090  0.2800  14.60\n",
       "DS          8.0  0.192500  0.172026  0.03  0.0675  0.150  0.2525   0.51\n",
       "PC        189.0  0.208624  0.352304  0.01  0.0300  0.080  0.2300   3.05\n",
       "PS3       345.0  0.525884  1.451939  0.01  0.0400  0.150  0.5100  21.05\n",
       "PS4       392.0  0.801378  1.609456  0.01  0.0600  0.200  0.7300  14.63\n",
       "PSP        67.0  0.052239  0.059768  0.01  0.0150  0.020  0.0700   0.24\n",
       "PSV       358.0  0.092151  0.153816  0.01  0.0200  0.040  0.1100   1.96\n",
       "Wii        23.0  0.593913  0.915432  0.01  0.0450  0.180  0.7550   3.58\n",
       "WiiU      115.0  0.562000  1.038778  0.01  0.0600  0.200  0.5950   7.09\n",
       "X360      186.0  0.735484  1.663275  0.01  0.0800  0.265  0.7950  16.27\n",
       "XOne      247.0  0.645020  1.036139  0.01  0.0600  0.220  0.6850   7.39"
      ]
     },
     "execution_count": 52,
     "metadata": {},
     "output_type": "execute_result"
    }
   ],
   "source": [
    "data.groupby(\"platform\")[\"all_sales\"].describe()"
   ]
  },
  {
   "cell_type": "markdown",
   "metadata": {},
   "source": [
    "5 платформы для для предсказания результата на 2017й год"
   ]
  },
  {
   "cell_type": "code",
   "execution_count": 53,
   "metadata": {},
   "outputs": [],
   "source": [
    "data_5 = data[data['platform'].isin(['WiiU' , 'PS4' , 'XOne' , 'PC' , '3DS'])].copy()"
   ]
  },
  {
   "cell_type": "code",
   "execution_count": 54,
   "metadata": {},
   "outputs": [
    {
     "data": {
      "image/png": "[encoded data removed]",
      "text/plain": [
       "<Figure size 432x288 with 1 Axes>"
      ]
     },
     "metadata": {
      "needs_background": "light"
     },
     "output_type": "display_data"
    }
   ],
   "source": [
    "d1 = []\n",
    "data_5[\"platform\"].unique()\n",
    "for item in data_5[\"platform\"].unique():\n",
    "    tmp4 = data_5.loc[data_5[\"platform\"] == item , \"all_sales\"]\n",
    "    d1.append(tmp4)\n",
    "plt.boxplot(d1)\n",
    "plt.ylim(0,1.5)\n",
    "plt.xticks(range(1,6) , data_5[\"platform\"].unique())\n",
    "plt.title(\"График «ящик с усами» по глобальным продажам игр в разбивке по платформам\");\n",
    "plt.xlabel(\"Платформы\");\n",
    "plt.ylabel(\"Сумма продаж\");\n",
    "plt.show()"
   ]
  },
  {
   "cell_type": "markdown",
   "metadata": {},
   "source": [
    "Вывод:\n",
    "<br>\n",
    "Наибольшие медианные продажи у платформ WiiU и XOne, далее идет PS4.Можно предположитьm что положение Xbox One и PlayStation 4 связано тем, что данные приставки позднее остальных вышли на рынки.У большинства платформ есть много выбросов, можно предположить это игры которые многим понравились или от популярных студий разработки.Компьютерные игры почти всегда стоят намного дешевле консольных игр отсюда скорее всего ткая разница."
   ]
  },
  {
   "cell_type": "markdown",
   "metadata": {},
   "source": [
    "### Как влияют на продажи внутри одной популярной платформы отзывы пользователей и критиков. Построить диаграмму рассеяния и посчитать корреляцию между отзывами и продажами."
   ]
  },
  {
   "cell_type": "markdown",
   "metadata": {},
   "source": [
    "В качестве популярной платформы возьмем XOne"
   ]
  },
  {
   "cell_type": "code",
   "execution_count": 55,
   "metadata": {},
   "outputs": [],
   "source": [
    "data_tmp = data.loc[data[\"platform\"] == \"XOne\"].copy()\n",
    "data_tmp = data_tmp.reset_index(drop = True)"
   ]
  },
  {
   "cell_type": "code",
   "execution_count": 56,
   "metadata": {},
   "outputs": [
    {
     "data": {
      "image/png": "[encoded data removed]",
      "text/plain": [
       "<Figure size 540x540 with 12 Axes>"
      ]
     },
     "metadata": {
      "needs_background": "light"
     },
     "output_type": "display_data"
    }
   ],
   "source": [
    "sns.pairplot(data.loc[data[\"platform\"] == \"XOne\"][[\"critic_score\" , \"user_score\" , \"all_sales\"]]);\n",
    "plt.show()"
   ]
  },
  {
   "cell_type": "markdown",
   "metadata": {},
   "source": [
    "На графиках видна несильная, но закономерность, чем лучше оценка критиков, тем игра лучше, и больше продаж, также есть довольно много выбросов, когда у игры высокие ценки, но маленькие продажи"
   ]
  },
  {
   "cell_type": "code",
   "execution_count": 57,
   "metadata": {},
   "outputs": [
    {
     "data": {
      "text/html": [
       "<div>\n",
       "<style scoped>\n",
       "    .dataframe tbody tr th:only-of-type {\n",
       "        vertical-align: middle;\n",
       "    }\n",
       "\n",
       "    .dataframe tbody tr th {\n",
       "        vertical-align: top;\n",
       "    }\n",
       "\n",
       "    .dataframe thead th {\n",
       "        text-align: right;\n",
       "    }\n",
       "</style>\n",
       "<table border=\"1\" class=\"dataframe\">\n",
       "  <thead>\n",
       "    <tr style=\"text-align: right;\">\n",
       "      <th></th>\n",
       "      <th>critic_score</th>\n",
       "      <th>user_score</th>\n",
       "      <th>all_sales</th>\n",
       "    </tr>\n",
       "  </thead>\n",
       "  <tbody>\n",
       "    <tr>\n",
       "      <th>critic_score</th>\n",
       "      <td>1.000000</td>\n",
       "      <td>0.472462</td>\n",
       "      <td>0.416998</td>\n",
       "    </tr>\n",
       "    <tr>\n",
       "      <th>user_score</th>\n",
       "      <td>0.472462</td>\n",
       "      <td>1.000000</td>\n",
       "      <td>-0.068925</td>\n",
       "    </tr>\n",
       "    <tr>\n",
       "      <th>all_sales</th>\n",
       "      <td>0.416998</td>\n",
       "      <td>-0.068925</td>\n",
       "      <td>1.000000</td>\n",
       "    </tr>\n",
       "  </tbody>\n",
       "</table>\n",
       "</div>"
      ],
      "text/plain": [
       "              critic_score  user_score  all_sales\n",
       "critic_score      1.000000    0.472462   0.416998\n",
       "user_score        0.472462    1.000000  -0.068925\n",
       "all_sales         0.416998   -0.068925   1.000000"
      ]
     },
     "execution_count": 57,
     "metadata": {},
     "output_type": "execute_result"
    }
   ],
   "source": [
    "data_tmp[[\"critic_score\" , \"user_score\" , \"all_sales\"]].corr()"
   ]
  },
  {
   "cell_type": "markdown",
   "metadata": {},
   "source": [
    "Корреляция между all_sales и critic_score равна 0.47, значит есть зависимость.\n",
    "<br>\n",
    "Корреляции между all_sales и user_score равна -0.068925, значит зависимости нет.\n",
    "<br>\n",
    "В итоге видим, что оценки критиков влияют на продажи игр на платформе XOne, а оценки пользователей не влияют на продажи игр на платформе XOne"
   ]
  },
  {
   "cell_type": "markdown",
   "metadata": {},
   "source": [
    "### Выводы с продажами игр на других платформах"
   ]
  },
  {
   "cell_type": "code",
   "execution_count": 58,
   "metadata": {},
   "outputs": [
    {
     "data": {
      "image/png": "[encoded data removed]",
      "text/plain": [
       "<Figure size 540x540 with 12 Axes>"
      ]
     },
     "metadata": {
      "needs_background": "light"
     },
     "output_type": "display_data"
    }
   ],
   "source": [
    "\n",
    "sns.pairplot(data.loc[data[\"platform\"] == \"XOne\"][[\"critic_score\" , \"user_score\" , \"all_sales\"]]);\n",
    "plt.show()"
   ]
  },
  {
   "cell_type": "code",
   "execution_count": 59,
   "metadata": {
    "scrolled": true
   },
   "outputs": [
    {
     "name": "stdout",
     "output_type": "stream",
     "text": [
      "           ------ WiiU ------\n"
     ]
    },
    {
     "data": {
      "image/png": "[encoded data removed]",
      "text/plain": [
       "<Figure size 432x288 with 2 Axes>"
      ]
     },
     "metadata": {
      "needs_background": "light"
     },
     "output_type": "display_data"
    },
    {
     "name": "stdout",
     "output_type": "stream",
     "text": [
      "           ------ PS4 ------\n"
     ]
    },
    {
     "data": {
      "image/png": "[encoded data removed]",
      "text/plain": [
       "<Figure size 432x288 with 2 Axes>"
      ]
     },
     "metadata": {
      "needs_background": "light"
     },
     "output_type": "display_data"
    },
    {
     "name": "stdout",
     "output_type": "stream",
     "text": [
      "           ------ XOne ------\n"
     ]
    },
    {
     "data": {
      "image/png": "[encoded data removed]",
      "text/plain": [
       "<Figure size 432x288 with 2 Axes>"
      ]
     },
     "metadata": {
      "needs_background": "light"
     },
     "output_type": "display_data"
    },
    {
     "name": "stdout",
     "output_type": "stream",
     "text": [
      "           ------ PC ------\n"
     ]
    },
    {
     "data": {
      "image/png": "[encoded data removed]",
      "text/plain": [
       "<Figure size 432x288 with 2 Axes>"
      ]
     },
     "metadata": {
      "needs_background": "light"
     },
     "output_type": "display_data"
    },
    {
     "name": "stdout",
     "output_type": "stream",
     "text": [
      "           ------ 3DS ------\n"
     ]
    },
    {
     "data": {
      "image/png": "[encoded data removed]",
      "text/plain": [
       "<Figure size 432x288 with 2 Axes>"
      ]
     },
     "metadata": {
      "needs_background": "light"
     },
     "output_type": "display_data"
    }
   ],
   "source": [
    "for item in ['WiiU' , 'PS4' , 'XOne' , 'PC' , '3DS']:\n",
    "    print(f\"           ------ {item} ------\")\n",
    "    data_tmp = data.loc[data[\"platform\"] == item].copy()\n",
    "    sns.heatmap(data_tmp[[\"critic_score\" , \"user_score\" , \"all_sales\"]].corr()[[\"all_sales\"]], annot=True , center = 0.2);\n",
    "    plt.show()"
   ]
  },
  {
   "cell_type": "markdown",
   "metadata": {},
   "source": [
    "Продажи игр на Платформах PS4 и PC также зависят тольок от оценок критиков, как и у XOne. А зависимость продажи игр на латформах WiiU и 3DS другая. Продажи игр на латформах WiiU зависят больше от оценок пользователей, чем от оценок критиков от критиков 0.38 коэффициент кореляции, от пользователей 0.42. Продажи игр на латформах 3DS зависят как от оценок пользователей, так и от оценок критиков(от критиков больше)\n"
   ]
  },
  {
   "cell_type": "markdown",
   "metadata": {},
   "source": [
    "### Общее распределение игр по жанрам. Что можно сказать о самых прибыльных жанрах? Выделяются ли жанры с высокими и низкими продажами?"
   ]
  },
  {
   "cell_type": "markdown",
   "metadata": {},
   "source": [
    "Суммы продаж и количество игр по жанрам на 5ти платформах 'WiiU' , 'PS4' , 'XOne' , 'PC' , '3DS':"
   ]
  },
  {
   "cell_type": "code",
   "execution_count": 60,
   "metadata": {},
   "outputs": [
    {
     "data": {
      "text/html": [
       "<div>\n",
       "<style scoped>\n",
       "    .dataframe tbody tr th:only-of-type {\n",
       "        vertical-align: middle;\n",
       "    }\n",
       "\n",
       "    .dataframe tbody tr th {\n",
       "        vertical-align: top;\n",
       "    }\n",
       "\n",
       "    .dataframe thead th {\n",
       "        text-align: right;\n",
       "    }\n",
       "</style>\n",
       "<table border=\"1\" class=\"dataframe\">\n",
       "  <thead>\n",
       "    <tr style=\"text-align: right;\">\n",
       "      <th></th>\n",
       "      <th>sum</th>\n",
       "      <th>count</th>\n",
       "    </tr>\n",
       "    <tr>\n",
       "      <th>genre</th>\n",
       "      <th></th>\n",
       "      <th></th>\n",
       "    </tr>\n",
       "  </thead>\n",
       "  <tbody>\n",
       "    <tr>\n",
       "      <th>Puzzle</th>\n",
       "      <td>3.07</td>\n",
       "      <td>14</td>\n",
       "    </tr>\n",
       "    <tr>\n",
       "      <th>Strategy</th>\n",
       "      <td>8.56</td>\n",
       "      <td>42</td>\n",
       "    </tr>\n",
       "    <tr>\n",
       "      <th>Adventure</th>\n",
       "      <td>13.03</td>\n",
       "      <td>83</td>\n",
       "    </tr>\n",
       "    <tr>\n",
       "      <th>Simulation</th>\n",
       "      <td>19.76</td>\n",
       "      <td>47</td>\n",
       "    </tr>\n",
       "    <tr>\n",
       "      <th>Fighting</th>\n",
       "      <td>25.50</td>\n",
       "      <td>38</td>\n",
       "    </tr>\n",
       "    <tr>\n",
       "      <th>Racing</th>\n",
       "      <td>30.26</td>\n",
       "      <td>57</td>\n",
       "    </tr>\n",
       "    <tr>\n",
       "      <th>Misc</th>\n",
       "      <td>30.81</td>\n",
       "      <td>93</td>\n",
       "    </tr>\n",
       "    <tr>\n",
       "      <th>Platform</th>\n",
       "      <td>33.75</td>\n",
       "      <td>49</td>\n",
       "    </tr>\n",
       "    <tr>\n",
       "      <th>Sports</th>\n",
       "      <td>88.59</td>\n",
       "      <td>110</td>\n",
       "    </tr>\n",
       "    <tr>\n",
       "      <th>Role-Playing</th>\n",
       "      <td>113.71</td>\n",
       "      <td>150</td>\n",
       "    </tr>\n",
       "    <tr>\n",
       "      <th>Shooter</th>\n",
       "      <td>164.27</td>\n",
       "      <td>120</td>\n",
       "    </tr>\n",
       "    <tr>\n",
       "      <th>Action</th>\n",
       "      <td>189.46</td>\n",
       "      <td>443</td>\n",
       "    </tr>\n",
       "  </tbody>\n",
       "</table>\n",
       "</div>"
      ],
      "text/plain": [
       "                 sum  count\n",
       "genre                      \n",
       "Puzzle          3.07     14\n",
       "Strategy        8.56     42\n",
       "Adventure      13.03     83\n",
       "Simulation     19.76     47\n",
       "Fighting       25.50     38\n",
       "Racing         30.26     57\n",
       "Misc           30.81     93\n",
       "Platform       33.75     49\n",
       "Sports         88.59    110\n",
       "Role-Playing  113.71    150\n",
       "Shooter       164.27    120\n",
       "Action        189.46    443"
      ]
     },
     "execution_count": 60,
     "metadata": {},
     "output_type": "execute_result"
    }
   ],
   "source": [
    "tmp5 = data_5.groupby(\"genre\").agg([\"sum\" , \"count\"])[\"all_sales\"].sort_values(by = \"sum\").copy()\n",
    "tmp5"
   ]
  },
  {
   "cell_type": "code",
   "execution_count": 61,
   "metadata": {},
   "outputs": [
    {
     "data": {
      "image/png": "[encoded data removed]",
      "text/plain": [
       "<Figure size 432x288 with 1 Axes>"
      ]
     },
     "metadata": {
      "needs_background": "light"
     },
     "output_type": "display_data"
    }
   ],
   "source": [
    "tmp5.plot(kind = \"bar\")\n",
    "plt.title(\"Суммы продаж и кол-во игр по жанрам на 5ти платформах 'WiiU' , 'PS4' , 'XOne' , 'PC' , '3DS\");\n",
    "plt.xlabel(\"жанры\");\n",
    "plt.ylabel(\"млн\");\n",
    "plt.show()"
   ]
  },
  {
   "cell_type": "markdown",
   "metadata": {},
   "source": [
    "Больше всего игр жанра Action, Playing и Sports"
   ]
  },
  {
   "cell_type": "markdown",
   "metadata": {},
   "source": [
    "Суммы продаж и количество игр по жанрам на всех платформах:"
   ]
  },
  {
   "cell_type": "code",
   "execution_count": 62,
   "metadata": {},
   "outputs": [
    {
     "data": {
      "text/html": [
       "<div>\n",
       "<style scoped>\n",
       "    .dataframe tbody tr th:only-of-type {\n",
       "        vertical-align: middle;\n",
       "    }\n",
       "\n",
       "    .dataframe tbody tr th {\n",
       "        vertical-align: top;\n",
       "    }\n",
       "\n",
       "    .dataframe thead th {\n",
       "        text-align: right;\n",
       "    }\n",
       "</style>\n",
       "<table border=\"1\" class=\"dataframe\">\n",
       "  <thead>\n",
       "    <tr style=\"text-align: right;\">\n",
       "      <th></th>\n",
       "      <th>sum</th>\n",
       "      <th>count</th>\n",
       "    </tr>\n",
       "    <tr>\n",
       "      <th>genre</th>\n",
       "      <th></th>\n",
       "      <th></th>\n",
       "    </tr>\n",
       "  </thead>\n",
       "  <tbody>\n",
       "    <tr>\n",
       "      <th>Puzzle</th>\n",
       "      <td>3.17</td>\n",
       "      <td>17</td>\n",
       "    </tr>\n",
       "    <tr>\n",
       "      <th>Strategy</th>\n",
       "      <td>10.08</td>\n",
       "      <td>56</td>\n",
       "    </tr>\n",
       "    <tr>\n",
       "      <th>Simulation</th>\n",
       "      <td>21.76</td>\n",
       "      <td>62</td>\n",
       "    </tr>\n",
       "    <tr>\n",
       "      <th>Adventure</th>\n",
       "      <td>23.64</td>\n",
       "      <td>245</td>\n",
       "    </tr>\n",
       "    <tr>\n",
       "      <th>Fighting</th>\n",
       "      <td>35.31</td>\n",
       "      <td>80</td>\n",
       "    </tr>\n",
       "    <tr>\n",
       "      <th>Racing</th>\n",
       "      <td>39.89</td>\n",
       "      <td>85</td>\n",
       "    </tr>\n",
       "    <tr>\n",
       "      <th>Platform</th>\n",
       "      <td>42.63</td>\n",
       "      <td>74</td>\n",
       "    </tr>\n",
       "    <tr>\n",
       "      <th>Misc</th>\n",
       "      <td>62.82</td>\n",
       "      <td>155</td>\n",
       "    </tr>\n",
       "    <tr>\n",
       "      <th>Role-Playing</th>\n",
       "      <td>145.89</td>\n",
       "      <td>292</td>\n",
       "    </tr>\n",
       "    <tr>\n",
       "      <th>Sports</th>\n",
       "      <td>150.65</td>\n",
       "      <td>214</td>\n",
       "    </tr>\n",
       "    <tr>\n",
       "      <th>Shooter</th>\n",
       "      <td>232.98</td>\n",
       "      <td>187</td>\n",
       "    </tr>\n",
       "    <tr>\n",
       "      <th>Action</th>\n",
       "      <td>321.87</td>\n",
       "      <td>766</td>\n",
       "    </tr>\n",
       "  </tbody>\n",
       "</table>\n",
       "</div>"
      ],
      "text/plain": [
       "                 sum  count\n",
       "genre                      \n",
       "Puzzle          3.17     17\n",
       "Strategy       10.08     56\n",
       "Simulation     21.76     62\n",
       "Adventure      23.64    245\n",
       "Fighting       35.31     80\n",
       "Racing         39.89     85\n",
       "Platform       42.63     74\n",
       "Misc           62.82    155\n",
       "Role-Playing  145.89    292\n",
       "Sports        150.65    214\n",
       "Shooter       232.98    187\n",
       "Action        321.87    766"
      ]
     },
     "execution_count": 62,
     "metadata": {},
     "output_type": "execute_result"
    }
   ],
   "source": [
    "tmp5 = data.groupby(\"genre\").agg([\"sum\" , \"count\"])[\"all_sales\"].sort_values(by = \"sum\").copy()\n",
    "tmp5"
   ]
  },
  {
   "cell_type": "code",
   "execution_count": 63,
   "metadata": {},
   "outputs": [
    {
     "data": {
      "image/png": "[encoded data removed]",
      "text/plain": [
       "<Figure size 432x288 with 1 Axes>"
      ]
     },
     "metadata": {
      "needs_background": "light"
     },
     "output_type": "display_data"
    }
   ],
   "source": [
    "tmp5.plot(kind = \"bar\")\n",
    "plt.title(\"Суммы продаж игр по жанрам на всех платформах\");\n",
    "plt.xlabel(\"жанры\");\n",
    "plt.ylabel(\"млн\");\n",
    "plt.legend([\"Суммы продаж\" , \"Количество игр\"])\n",
    "plt.show()"
   ]
  },
  {
   "cell_type": "markdown",
   "metadata": {},
   "source": [
    "<div class=\"alert alert-danger\" style=\"border-radius: 15px; box-shadow: 4px 4px 4px; border: 1px solid \">\n",
    "<b> Комментарий ревьюера  ❌</b>\n",
    "    \n",
    "    \n",
    "Легенды стоит делать на русском языке. </div>"
   ]
  },
  {
   "cell_type": "markdown",
   "metadata": {},
   "source": [
    "<div class=\"alert alert-info\"> <b>Комментарии студента:</b><br> \n",
    "   Сделал на русском языке</div>"
   ]
  },
  {
   "cell_type": "markdown",
   "metadata": {},
   "source": [
    "Посчитаем самые прибыльные жанры"
   ]
  },
  {
   "cell_type": "code",
   "execution_count": 64,
   "metadata": {},
   "outputs": [],
   "source": [
    "tmp5[\"conv\"] = tmp5[\"sum\"] / tmp5[\"count\"]"
   ]
  },
  {
   "cell_type": "code",
   "execution_count": 65,
   "metadata": {},
   "outputs": [
    {
     "data": {
      "text/html": [
       "<div>\n",
       "<style scoped>\n",
       "    .dataframe tbody tr th:only-of-type {\n",
       "        vertical-align: middle;\n",
       "    }\n",
       "\n",
       "    .dataframe tbody tr th {\n",
       "        vertical-align: top;\n",
       "    }\n",
       "\n",
       "    .dataframe thead th {\n",
       "        text-align: right;\n",
       "    }\n",
       "</style>\n",
       "<table border=\"1\" class=\"dataframe\">\n",
       "  <thead>\n",
       "    <tr style=\"text-align: right;\">\n",
       "      <th></th>\n",
       "      <th>sum</th>\n",
       "      <th>count</th>\n",
       "      <th>conv</th>\n",
       "    </tr>\n",
       "    <tr>\n",
       "      <th>genre</th>\n",
       "      <th></th>\n",
       "      <th></th>\n",
       "      <th></th>\n",
       "    </tr>\n",
       "  </thead>\n",
       "  <tbody>\n",
       "    <tr>\n",
       "      <th>Shooter</th>\n",
       "      <td>232.98</td>\n",
       "      <td>187</td>\n",
       "      <td>1.245882</td>\n",
       "    </tr>\n",
       "    <tr>\n",
       "      <th>Sports</th>\n",
       "      <td>150.65</td>\n",
       "      <td>214</td>\n",
       "      <td>0.703972</td>\n",
       "    </tr>\n",
       "    <tr>\n",
       "      <th>Platform</th>\n",
       "      <td>42.63</td>\n",
       "      <td>74</td>\n",
       "      <td>0.576081</td>\n",
       "    </tr>\n",
       "    <tr>\n",
       "      <th>Role-Playing</th>\n",
       "      <td>145.89</td>\n",
       "      <td>292</td>\n",
       "      <td>0.499623</td>\n",
       "    </tr>\n",
       "    <tr>\n",
       "      <th>Racing</th>\n",
       "      <td>39.89</td>\n",
       "      <td>85</td>\n",
       "      <td>0.469294</td>\n",
       "    </tr>\n",
       "    <tr>\n",
       "      <th>Fighting</th>\n",
       "      <td>35.31</td>\n",
       "      <td>80</td>\n",
       "      <td>0.441375</td>\n",
       "    </tr>\n",
       "    <tr>\n",
       "      <th>Action</th>\n",
       "      <td>321.87</td>\n",
       "      <td>766</td>\n",
       "      <td>0.420196</td>\n",
       "    </tr>\n",
       "    <tr>\n",
       "      <th>Misc</th>\n",
       "      <td>62.82</td>\n",
       "      <td>155</td>\n",
       "      <td>0.405290</td>\n",
       "    </tr>\n",
       "    <tr>\n",
       "      <th>Simulation</th>\n",
       "      <td>21.76</td>\n",
       "      <td>62</td>\n",
       "      <td>0.350968</td>\n",
       "    </tr>\n",
       "    <tr>\n",
       "      <th>Puzzle</th>\n",
       "      <td>3.17</td>\n",
       "      <td>17</td>\n",
       "      <td>0.186471</td>\n",
       "    </tr>\n",
       "    <tr>\n",
       "      <th>Strategy</th>\n",
       "      <td>10.08</td>\n",
       "      <td>56</td>\n",
       "      <td>0.180000</td>\n",
       "    </tr>\n",
       "    <tr>\n",
       "      <th>Adventure</th>\n",
       "      <td>23.64</td>\n",
       "      <td>245</td>\n",
       "      <td>0.096490</td>\n",
       "    </tr>\n",
       "  </tbody>\n",
       "</table>\n",
       "</div>"
      ],
      "text/plain": [
       "                 sum  count      conv\n",
       "genre                                \n",
       "Shooter       232.98    187  1.245882\n",
       "Sports        150.65    214  0.703972\n",
       "Platform       42.63     74  0.576081\n",
       "Role-Playing  145.89    292  0.499623\n",
       "Racing         39.89     85  0.469294\n",
       "Fighting       35.31     80  0.441375\n",
       "Action        321.87    766  0.420196\n",
       "Misc           62.82    155  0.405290\n",
       "Simulation     21.76     62  0.350968\n",
       "Puzzle          3.17     17  0.186471\n",
       "Strategy       10.08     56  0.180000\n",
       "Adventure      23.64    245  0.096490"
      ]
     },
     "execution_count": 65,
     "metadata": {},
     "output_type": "execute_result"
    }
   ],
   "source": [
    "tmp5.sort_values(by = \"conv\" , ascending = False)"
   ]
  },
  {
   "cell_type": "markdown",
   "metadata": {},
   "source": [
    "**Вывод**\n",
    "<br>\n",
    "Больше всего продаж игр жанра Action, можно предположить, что это связано с тем, что игр этого жанра выпускается больше всех остальных. Далее идут Штуры и игры про спорт, что тоже вполне ожидаемо, так как в обеих категориях есть очень популярные игры. Можно заметить, что Шутеров производится меньше, чем игр про спорт, однако прибыль у шутеов значитально больше. Также отметим, что Adventure сильно отстаёт по продажам, хотя игр выпускается много.\n",
    "<br>\n",
    "<br>\n",
    "Исходя из соотношение выпущенных игр по жанрам к их сумарным продажам:\n",
    "<br>\n",
    "Самый прибылный жанр - Шутеры\n",
    "<br>\n",
    "Самый не прибыльный - Адвенчюры"
   ]
  },
  {
   "cell_type": "markdown",
   "metadata": {},
   "source": [
    "## Шаг 4. Портрет пользователя каждого региона"
   ]
  },
  {
   "cell_type": "markdown",
   "metadata": {},
   "source": [
    "### Самые популярные платформы (топ-5)(NA, EU, JP)"
   ]
  },
  {
   "cell_type": "code",
   "execution_count": 66,
   "metadata": {},
   "outputs": [
    {
     "name": "stdout",
     "output_type": "stream",
     "text": [
      "------ NA_sales ------\n",
      "  platform     sum\n",
      "0      PS4  108.74\n",
      "1     XOne   93.12\n",
      "2     X360   81.66\n",
      "3      PS3   63.50\n",
      "4      3DS   38.20\n",
      "5     WiiU   29.21\n"
     ]
    },
    {
     "data": {
      "image/png": "[encoded data removed]",
      "text/plain": [
       "<Figure size 1440x720 with 1 Axes>"
      ]
     },
     "metadata": {},
     "output_type": "display_data"
    },
    {
     "name": "stdout",
     "output_type": "stream",
     "text": [
      "------ EU_sales ------\n",
      "  platform     sum\n",
      "0      PS4  141.09\n",
      "1      PS3   67.81\n",
      "2     XOne   51.59\n",
      "3     X360   42.52\n",
      "4      3DS   30.96\n",
      "5       PC   25.36\n"
     ]
    },
    {
     "data": {
      "image/png": "[encoded data removed]",
      "text/plain": [
       "<Figure size 1440x720 with 1 Axes>"
      ]
     },
     "metadata": {},
     "output_type": "display_data"
    },
    {
     "name": "stdout",
     "output_type": "stream",
     "text": [
      "------ JP_sales ------\n",
      "  platform    sum\n",
      "0      3DS  67.81\n",
      "1      PS3  23.35\n",
      "2      PSV  18.59\n",
      "3      PS4  15.96\n",
      "4     WiiU  10.88\n",
      "5      PSP   3.29\n"
     ]
    },
    {
     "data": {
      "image/png": "[encoded data removed]",
      "text/plain": [
       "<Figure size 1440x720 with 1 Axes>"
      ]
     },
     "metadata": {},
     "output_type": "display_data"
    }
   ],
   "source": [
    "for item in [\"NA_sales\" , \"EU_sales\" , \"JP_sales\"]:\n",
    "    print(f\"------ {item} ------\")\n",
    "    tmp6 = data.groupby(\"platform\").agg([\"sum\"])[item].sort_values(by = \"sum\" , ascending = False).head(6).copy()\n",
    "    tmp6 = tmp6.reset_index()\n",
    "    print(tmp6)\n",
    "    plt.figure(figsize=(20,10));\n",
    "    plt.pie(tmp6[\"sum\"] , labels = tmp6[\"platform\"] , autopct='%1.1f%%');\n",
    "    plt.title(f\"Круговая диаграмма продаж с разделением по платформам в {item}\");\n",
    "    plt.show()\n",
    "    "
   ]
  },
  {
   "cell_type": "markdown",
   "metadata": {},
   "source": [
    "В Северной Америке больше всег продаются игры на XOne и PS4, также много народу пользуются приствками прошлого поколения X360 и PS3\n",
    "<br>\n",
    "<br>\n",
    "В Европе самой популярной платформой является PS4, далее PS3 и Xone.\n",
    "<br>\n",
    "<br>\n",
    "В Японии однозначный лидер - 3DS. Далее PS3 и PSV."
   ]
  },
  {
   "cell_type": "markdown",
   "metadata": {},
   "source": [
    "### Самые популярные жанры (топ-5)(NA, EU, JP)"
   ]
  },
  {
   "cell_type": "code",
   "execution_count": 67,
   "metadata": {},
   "outputs": [
    {
     "name": "stdout",
     "output_type": "stream",
     "text": [
      "------ NA_sales ------\n",
      "          genre     sum\n",
      "0        Action  126.05\n",
      "1       Shooter  109.74\n",
      "2        Sports   65.27\n",
      "3  Role-Playing   46.40\n",
      "4          Misc   27.49\n",
      "5      Platform   18.14\n"
     ]
    },
    {
     "data": {
      "image/png": "[encoded data removed]",
      "text/plain": [
       "<Figure size 1440x720 with 1 Axes>"
      ]
     },
     "metadata": {},
     "output_type": "display_data"
    },
    {
     "name": "stdout",
     "output_type": "stream",
     "text": [
      "------ EU_sales ------\n",
      "          genre     sum\n",
      "0        Action  118.13\n",
      "1       Shooter   87.86\n",
      "2        Sports   60.52\n",
      "3  Role-Playing   36.97\n",
      "4        Racing   20.19\n",
      "5          Misc   20.04\n"
     ]
    },
    {
     "data": {
      "image/png": "[encoded data removed]",
      "text/plain": [
       "<Figure size 1440x720 with 1 Axes>"
      ]
     },
     "metadata": {},
     "output_type": "display_data"
    },
    {
     "name": "stdout",
     "output_type": "stream",
     "text": [
      "------ JP_sales ------\n",
      "          genre    sum\n",
      "0  Role-Playing  51.04\n",
      "1        Action  40.49\n",
      "2          Misc   9.20\n",
      "3      Fighting   7.65\n",
      "4       Shooter   6.61\n",
      "5     Adventure   5.82\n"
     ]
    },
    {
     "data": {
      "image/png": "[encoded data removed]",
      "text/plain": [
       "<Figure size 1440x720 with 1 Axes>"
      ]
     },
     "metadata": {},
     "output_type": "display_data"
    }
   ],
   "source": [
    "for item in [\"NA_sales\" , \"EU_sales\" , \"JP_sales\"]:\n",
    "    print(f\"------ {item} ------\")\n",
    "    tmp6 = data.groupby(\"genre\").agg([\"sum\"])[item].sort_values(by = \"sum\" , ascending = False).head(6).copy()\n",
    "    tmp6 = tmp6.reset_index()\n",
    "    print(tmp6)\n",
    "    plt.figure(figsize=(20,10));\n",
    "    plt.pie(tmp6[\"sum\"] , labels = tmp6[\"genre\"] , autopct='%1.1f%%');\n",
    "    plt.title(f\"Круговая диаграмма жанров с разделением по платформам в {item}\");\n",
    "    plt.show()"
   ]
  },
  {
   "cell_type": "markdown",
   "metadata": {},
   "source": [
    "В Северной Америке и Европе популярные жанры очень похожи. Экшены, спортивные игры и шутеры впереди. В Европе больше играют в гонки.\n",
    "\n",
    "В Японии популярные жанры сильно отличаются - на первом месте ролевые игры, причем с большой разницей. Также большой процент у экшн игр."
   ]
  },
  {
   "cell_type": "markdown",
   "metadata": {},
   "source": [
    "### Влияет ли рейтинг ESRB на продажи в отдельном регионе?"
   ]
  },
  {
   "cell_type": "code",
   "execution_count": 68,
   "metadata": {},
   "outputs": [
    {
     "data": {
      "text/plain": [
       "array(['M', nan, 'E', 'T', 'E10+'], dtype=object)"
      ]
     },
     "execution_count": 68,
     "metadata": {},
     "output_type": "execute_result"
    }
   ],
   "source": [
    "data[\"rating\"].unique()"
   ]
  },
  {
   "cell_type": "code",
   "execution_count": 69,
   "metadata": {},
   "outputs": [],
   "source": [
    "def change(item):\n",
    "    if item == \"E\":\n",
    "        return \"Для всех\"\n",
    "    elif item == \"M\":\n",
    "        return \">17\"\n",
    "    elif item == \"T\":\n",
    "        return \">13\"\n",
    "    elif item == \"E10+\":\n",
    "        return \">10\"\n",
    "data[\"rating_desc\"] = data.loc[data[\"rating\"].notnull() , \"rating\"].apply(change)"
   ]
  },
  {
   "cell_type": "code",
   "execution_count": 70,
   "metadata": {},
   "outputs": [],
   "source": [
    "data[\"rating_desc\"] = data['rating_desc'].fillna(\"Нет рейтинга\")"
   ]
  },
  {
   "cell_type": "code",
   "execution_count": 71,
   "metadata": {},
   "outputs": [
    {
     "name": "stdout",
     "output_type": "stream",
     "text": [
      "------ NA_sales ------\n",
      "                 sum\n",
      "rating_desc         \n",
      ">13            49.79\n",
      ">10            54.24\n",
      "Для всех       79.05\n",
      "Нет рейтинга   89.42\n",
      ">17           165.21\n"
     ]
    },
    {
     "data": {
      "image/png": "[encoded data removed]",
      "text/plain": [
       "<Figure size 432x288 with 1 Axes>"
      ]
     },
     "metadata": {
      "needs_background": "light"
     },
     "output_type": "display_data"
    },
    {
     "name": "stdout",
     "output_type": "stream",
     "text": [
      "------ EU_sales ------\n",
      "                 sum\n",
      "rating_desc         \n",
      ">13            41.95\n",
      ">10            42.69\n",
      "Нет рейтинга   78.91\n",
      "Для всех       83.36\n",
      ">17           145.32\n"
     ]
    },
    {
     "data": {
      "image/png": "[encoded data removed]",
      "text/plain": [
       "<Figure size 432x288 with 1 Axes>"
      ]
     },
     "metadata": {
      "needs_background": "light"
     },
     "output_type": "display_data"
    },
    {
     "name": "stdout",
     "output_type": "stream",
     "text": [
      "------ JP_sales ------\n",
      "                sum\n",
      "rating_desc        \n",
      ">10            5.89\n",
      ">17           14.11\n",
      "Для всех      15.14\n",
      ">13           20.59\n",
      "Нет рейтинга  85.05\n"
     ]
    },
    {
     "data": {
      "image/png": "[encoded data removed]",
      "text/plain": [
       "<Figure size 432x288 with 1 Axes>"
      ]
     },
     "metadata": {
      "needs_background": "light"
     },
     "output_type": "display_data"
    }
   ],
   "source": [
    "for item in [\"NA_sales\" , \"EU_sales\" , \"JP_sales\"]:\n",
    "    print(f\"------ {item} ------\")\n",
    "    tmp7 = data.groupby(\"rating_desc\").agg([\"sum\"])[item].sort_values(by = \"sum\").copy()\n",
    "    print(tmp7)\n",
    "    tmp7.plot(kind = \"bar\")\n",
    "    plt.title(f\"Суммы продаж по разным возрастам в {item}\");\n",
    "    plt.xlabel(\"Возраст\");\n",
    "    plt.ylabel(\"Продажи\");\n",
    "    plt.show()"
   ]
  },
  {
   "cell_type": "markdown",
   "metadata": {},
   "source": [
    "В Северной Америке и в Европе ситуация практическиодинаковая. Больше всего игр продано с рейтингом >17. Далее для всех и без рейтинга.\n",
    "<br>\n",
    "<br>\n",
    "В Японии ситуация отличается. Лидер - \"Не определен\", Возможно компания, которая определяет рейтинг редко рассматривает японские игры. Далее категория >13, для всех и >17"
   ]
  },
  {
   "cell_type": "markdown",
   "metadata": {},
   "source": [
    "## Шаг 5. Проверка гипотез"
   ]
  },
  {
   "cell_type": "markdown",
   "metadata": {},
   "source": [
    "### Гипотеза - Средние пользовательские рейтинги платформ Xbox One и PC одинаковые"
   ]
  },
  {
   "cell_type": "markdown",
   "metadata": {},
   "source": [
    "Пороговое значение alpha установим в 5%\n",
    "<br>\n",
    "<br>\n",
    "Н0(нулевая гипотеза) - средние пользовательские рейтинги платформ Xbox One и PC одинаковые.\n",
    "<br>\n",
    "<br>\n",
    "Н1(альтернативная гипотеза) - средние пользовательские рейтинги платформ Xbox One и PC различны."
   ]
  },
  {
   "cell_type": "code",
   "execution_count": 72,
   "metadata": {},
   "outputs": [],
   "source": [
    "l_xb = data[data['platform']==\"XOne\"]['user_score'].dropna() \n",
    "l_pc = data[data['platform']==\"PC\"]['user_score'].dropna()"
   ]
  },
  {
   "cell_type": "markdown",
   "metadata": {},
   "source": [
    "Два независимых набора данных, следовательно используем st.ttest_ind()"
   ]
  },
  {
   "cell_type": "code",
   "execution_count": 73,
   "metadata": {},
   "outputs": [
    {
     "name": "stdout",
     "output_type": "stream",
     "text": [
      "p-value: 0.14759594013430463\n",
      "Не получилось отвергнуть нулевую гипотезу\n"
     ]
    }
   ],
   "source": [
    "alpha = 0.05 \n",
    "\n",
    "result = st.ttest_ind(l_xb, l_pc, equal_var = False)\n",
    "\n",
    "print('p-value:', result.pvalue)\n",
    "\n",
    "if result.pvalue < alpha:\n",
    "    print(\"Отвергаем нулевую гипотезу\")\n",
    "else:\n",
    "    print(\"Не получилось отвергнуть нулевую гипотезу\") "
   ]
  },
  {
   "cell_type": "markdown",
   "metadata": {},
   "source": [
    "Не получилось отвергнуть нулевую гипотезу.\n",
    "<br>\n",
    "<br>\n",
    "Верно, что средние пользовательские рейтинги платформ Xbox One и PC одинаковые. Скорее всего это потому что у них большая часть одинаковых игр."
   ]
  },
  {
   "cell_type": "markdown",
   "metadata": {},
   "source": [
    "### Средние пользовательские рейтинги жанров Action и Sports разные."
   ]
  },
  {
   "cell_type": "markdown",
   "metadata": {},
   "source": [
    "Пороговое значение alpha установим в 5%\n",
    "<br><br>\n",
    "\n",
    "Н0(нулевая гипотеза) - средние пользовательские рейтинги жанров Action и Sports одинаковые.\n",
    "<br><br>\n",
    "Н1(альтернативная гипотеза) - средние пользовательские рейтинги жанров Action и Sports разные."
   ]
  },
  {
   "cell_type": "code",
   "execution_count": 74,
   "metadata": {},
   "outputs": [],
   "source": [
    "l_action = data[data['genre']==\"Action\"]['user_score'].dropna()\n",
    "l_sport = data[data['genre']==\"Sports\"]['user_score'].dropna()"
   ]
  },
  {
   "cell_type": "markdown",
   "metadata": {},
   "source": [
    "Два независимых набора данных, следовательно используем st.ttest_ind()"
   ]
  },
  {
   "cell_type": "code",
   "execution_count": 75,
   "metadata": {},
   "outputs": [
    {
     "name": "stdout",
     "output_type": "stream",
     "text": [
      "p-значение: 1.4460039700704315e-20\n",
      "Отвергаем нулевую гипотезу\n"
     ]
    }
   ],
   "source": [
    "alpha = .05 \n",
    "\n",
    "result1 = st.ttest_ind(l_action, l_sport , equal_var = False)\n",
    "\n",
    "print('p-значение:', result1.pvalue)\n",
    "\n",
    "if (result1.pvalue < alpha):\n",
    "    print(\"Отвергаем нулевую гипотезу\")\n",
    "else:\n",
    "    print(\"Не получилось отвергнуть нулевую гипотезу\")"
   ]
  },
  {
   "cell_type": "markdown",
   "metadata": {},
   "source": [
    "Статистический анализ показал, что вероятность получить такие различия случайно очень низкая (p-value < 0.05), поэтому мы отвергаем нулевую гипотезу о том, что средние пользовательские рейтинги жанров Action и Sports одинаковые."
   ]
  },
  {
   "cell_type": "markdown",
   "metadata": {},
   "source": [
    "## Шаг 6. Общий вывод"
   ]
  },
  {
   "cell_type": "markdown",
   "metadata": {},
   "source": [
    "\n",
    "- **Шаг 1. Загрузка данных и изучение общей информации**\n",
    "    - Ознакомились с данными, посмотрели на общую информацию о датасете, выявили пропуски и не соответствие типов данных.\n",
    "- **Шаг 2. Предобработка данных**\n",
    "    - Мы обнаружили необычное значени tbd - \"to be determined\" и заменили это значение на NaN.\n",
    "    - Изменили типы данных в различных колонках\n",
    "    - Переименовали столбцы\n",
    "    - Многие пропуски были оставлены незаполненными, чтобы не исказить статистику.\n",
    "    - Также мы посчитали общее количество продаж по всем регионам и записали результат в столбец \"all_sales\".\n",
    "- **Шаг 3. Исследовательский анализ данных**\n",
    "    - Обнаружили, что до 1994 года выпускалось достаточно мало игр, а после 1994 года пошел рост, пик на 2008-2009 гг.\n",
    "    - Характерный срок жизни платформы - 10 лет, поэтому оставим данные с 2013 по 2016 гг.\n",
    "    - Выбрали 5 прибыльных платформ - PS4, XOne, 3DS, PS3, X360.\n",
    "    - Под конец 2016го года лидируют по продажам платформы: PS4, XOne и 3DS\n",
    "    - Наибольшие медианные продажи у платформ X360.\n",
    "    - Почти у всех платформ есть определенные игры, которые оказались очень успешными(выбросы).\n",
    "    - У платформ 'WiiU' , 'PS4' , 'XOne' , 'PC' , '3DS' есть связь между оценками критиков и продажами игр\n",
    "    - Больше всего игр жанра Action, затем идут Shooter и Sport.\n",
    "    - Лучше всего в продаже игры жанра Action, Role-Playing, adventure \n",
    "    - Самый прибылный жанр - Шутеры \n",
    "    - Самый не прибыльный - Адвенчюры\n",
    "- **Шаг 4. Портрет пользователя региона**\n",
    "    - В Северной Америке больше всег продаются игры на XOne и PS4, также много народу пользуются приствками прошлого поколения X360 и PS3 \n",
    "    - В Европе самой популярной платформой является PS4, далее PS3 и Xone. \n",
    "    - В Японии однозначный лидер - 3DS. Далее PS3 и PSV.\n",
    "    - В NA и EU самые популярные жанры практически совпадают(Action и Shooter). В JP лидер - Playing.\n",
    "    - В Северной Америке и в Европе ситуация практически одинаковая. Больше всего игр продано с рейтингом >17. Далее для всех и без рейтинга. \n",
    "    - В Японии ситуация отличается. Лидер - \"Не определен\", Возможно компания, которая определяет рейтинг редко рассматривает японские игры. Далее категория >13, для всех и >17\n",
    "- **Шаг 5. Проверка гипотез**\n",
    "    - Средние пользовательские рейтинги платформ Xbox One и PC одинаковые. Гипотеза не подтвердилась.\n",
    "    - Средние пользовательские рейтинги жанров Action и Sports разные. Гипотеза подтвердилась!.\n",
    "<br>\n",
    "<br>\n",
    "Рекоммендации для кампании на 2017 год:\n",
    "<br>\n",
    "Можно предположить, что нужно сделать ставку на консоли нового поколения в зависимости от популрянх консолей в регионе. Такая же ситуация с жанром и возростному рейтингу. Судя по полуярности рейтинга M - основная часть пользователей старше 17 лет. Также стоит учитывать рейтинг критиков на вышедшую игру, чем он выше тем больше будет продаж.\n",
    "<br>\n",
    "Стоит учесть, что в конце актуального периода продажи игра падали по всем платформам, вероятно выручка в 2017 году будет меньше чем в 2016 пока не появятся консоли нового поколения,так как после выхода новых консолей резко начинают расти продажи игр.\n",
    "\n",
    "\n",
    "\n",
    "\n",
    "\n",
    "\n",
    "\n",
    "\n",
    "\n",
    "\n",
    "\n",
    "\n",
    "\n",
    "\n",
    "\n",
    "\n",
    "\n",
    "\n",
    "\n",
    "\n",
    "\n",
    "\n",
    "\n",
    "\n",
    "\n",
    "\n",
    "\n"
   ]
  }
 ],
 "metadata": {
  "ExecuteTimeLog": [
   {
    "duration": 442,
    "start_time": "2023-09-08T19:59:40.762Z"
   },
   {
    "duration": 106,
    "start_time": "2023-09-08T19:59:42.844Z"
   },
   {
    "duration": 28,
    "start_time": "2023-09-08T19:59:49.156Z"
   },
   {
    "duration": 42,
    "start_time": "2023-09-08T20:02:57.329Z"
   },
   {
    "duration": 14,
    "start_time": "2023-09-08T20:04:11.196Z"
   },
   {
    "duration": 14,
    "start_time": "2023-09-08T20:04:42.670Z"
   },
   {
    "duration": 17,
    "start_time": "2023-09-08T20:06:03.561Z"
   },
   {
    "duration": 25,
    "start_time": "2023-09-08T20:08:49.338Z"
   },
   {
    "duration": 21,
    "start_time": "2023-09-08T20:11:52.669Z"
   },
   {
    "duration": 3,
    "start_time": "2023-09-08T20:11:54.914Z"
   },
   {
    "duration": 29,
    "start_time": "2023-09-08T20:14:22.726Z"
   },
   {
    "duration": 21,
    "start_time": "2023-09-08T20:14:29.594Z"
   },
   {
    "duration": 4,
    "start_time": "2023-09-08T20:14:34.545Z"
   },
   {
    "duration": 21,
    "start_time": "2023-09-08T20:14:36.926Z"
   },
   {
    "duration": 3,
    "start_time": "2023-09-08T20:15:47.719Z"
   },
   {
    "duration": 54,
    "start_time": "2023-09-08T20:15:48.300Z"
   },
   {
    "duration": 22,
    "start_time": "2023-09-08T20:15:48.383Z"
   },
   {
    "duration": 31,
    "start_time": "2023-09-08T20:15:48.469Z"
   },
   {
    "duration": 17,
    "start_time": "2023-09-08T20:15:48.557Z"
   },
   {
    "duration": 10,
    "start_time": "2023-09-08T20:15:48.633Z"
   },
   {
    "duration": 16,
    "start_time": "2023-09-08T20:15:48.721Z"
   },
   {
    "duration": 5,
    "start_time": "2023-09-08T20:15:48.967Z"
   },
   {
    "duration": 21,
    "start_time": "2023-09-08T20:15:49.052Z"
   },
   {
    "duration": 5,
    "start_time": "2023-09-08T20:16:21.487Z"
   },
   {
    "duration": 15,
    "start_time": "2023-09-08T20:18:10.587Z"
   },
   {
    "duration": 21,
    "start_time": "2023-09-08T20:19:37.145Z"
   },
   {
    "duration": 81,
    "start_time": "2023-09-08T20:41:49.488Z"
   },
   {
    "duration": 13,
    "start_time": "2023-09-08T20:42:26.668Z"
   },
   {
    "duration": 4,
    "start_time": "2023-09-08T20:42:38.241Z"
   },
   {
    "duration": 3,
    "start_time": "2023-09-08T20:45:15.189Z"
   },
   {
    "duration": 4,
    "start_time": "2023-09-08T20:46:45.401Z"
   },
   {
    "duration": 15,
    "start_time": "2023-09-08T20:46:56.056Z"
   },
   {
    "duration": 38,
    "start_time": "2023-09-08T20:47:20.542Z"
   },
   {
    "duration": 4,
    "start_time": "2023-09-08T20:47:31.858Z"
   },
   {
    "duration": 20,
    "start_time": "2023-09-08T20:48:38.409Z"
   },
   {
    "duration": 3,
    "start_time": "2023-09-08T20:49:13.397Z"
   },
   {
    "duration": 6,
    "start_time": "2023-09-08T20:49:42.933Z"
   },
   {
    "duration": 6,
    "start_time": "2023-09-08T20:49:43.375Z"
   },
   {
    "duration": 17,
    "start_time": "2023-09-08T20:49:43.877Z"
   },
   {
    "duration": 5,
    "start_time": "2023-09-08T20:50:36.938Z"
   },
   {
    "duration": 16,
    "start_time": "2023-09-08T20:50:59.609Z"
   },
   {
    "duration": 15,
    "start_time": "2023-09-08T20:51:24.283Z"
   },
   {
    "duration": 118,
    "start_time": "2023-09-08T20:56:52.085Z"
   },
   {
    "duration": 7,
    "start_time": "2023-09-08T20:57:04.311Z"
   },
   {
    "duration": 5,
    "start_time": "2023-09-08T21:02:45.481Z"
   },
   {
    "duration": 8,
    "start_time": "2023-09-08T21:03:06.554Z"
   },
   {
    "duration": 15,
    "start_time": "2023-09-08T21:04:47.134Z"
   },
   {
    "duration": 5,
    "start_time": "2023-09-08T21:06:39.619Z"
   },
   {
    "duration": 3,
    "start_time": "2023-09-08T21:08:04.594Z"
   },
   {
    "duration": 60,
    "start_time": "2023-09-08T21:08:05.175Z"
   },
   {
    "duration": 24,
    "start_time": "2023-09-08T21:08:05.257Z"
   },
   {
    "duration": 34,
    "start_time": "2023-09-08T21:08:05.346Z"
   },
   {
    "duration": 16,
    "start_time": "2023-09-08T21:08:05.435Z"
   },
   {
    "duration": 10,
    "start_time": "2023-09-08T21:08:05.504Z"
   },
   {
    "duration": 16,
    "start_time": "2023-09-08T21:08:05.590Z"
   },
   {
    "duration": 4,
    "start_time": "2023-09-08T21:08:05.844Z"
   },
   {
    "duration": 5,
    "start_time": "2023-09-08T21:08:05.922Z"
   },
   {
    "duration": 16,
    "start_time": "2023-09-08T21:08:06.091Z"
   },
   {
    "duration": 5,
    "start_time": "2023-09-08T21:08:06.258Z"
   },
   {
    "duration": 5,
    "start_time": "2023-09-08T21:08:06.343Z"
   },
   {
    "duration": 5,
    "start_time": "2023-09-08T21:08:06.426Z"
   },
   {
    "duration": 4,
    "start_time": "2023-09-08T21:08:06.511Z"
   },
   {
    "duration": 123,
    "start_time": "2023-09-08T21:08:06.595Z"
   },
   {
    "duration": 13,
    "start_time": "2023-09-08T21:08:07.667Z"
   },
   {
    "duration": 5,
    "start_time": "2023-09-08T21:08:08.132Z"
   },
   {
    "duration": 3,
    "start_time": "2023-09-08T21:09:45.434Z"
   },
   {
    "duration": 56,
    "start_time": "2023-09-08T21:09:46.013Z"
   },
   {
    "duration": 22,
    "start_time": "2023-09-08T21:09:46.098Z"
   },
   {
    "duration": 31,
    "start_time": "2023-09-08T21:09:46.196Z"
   },
   {
    "duration": 16,
    "start_time": "2023-09-08T21:09:46.292Z"
   },
   {
    "duration": 10,
    "start_time": "2023-09-08T21:09:46.348Z"
   },
   {
    "duration": 16,
    "start_time": "2023-09-08T21:09:46.433Z"
   },
   {
    "duration": 4,
    "start_time": "2023-09-08T21:09:46.683Z"
   },
   {
    "duration": 4,
    "start_time": "2023-09-08T21:09:46.766Z"
   },
   {
    "duration": 14,
    "start_time": "2023-09-08T21:09:46.934Z"
   },
   {
    "duration": 5,
    "start_time": "2023-09-08T21:09:47.099Z"
   },
   {
    "duration": 10,
    "start_time": "2023-09-08T21:09:47.182Z"
   },
   {
    "duration": 5,
    "start_time": "2023-09-08T21:09:47.268Z"
   },
   {
    "duration": 4,
    "start_time": "2023-09-08T21:09:47.350Z"
   },
   {
    "duration": 5,
    "start_time": "2023-09-08T21:09:47.433Z"
   },
   {
    "duration": 120,
    "start_time": "2023-09-08T21:09:47.519Z"
   },
   {
    "duration": 14,
    "start_time": "2023-09-08T21:09:47.948Z"
   },
   {
    "duration": 5,
    "start_time": "2023-09-08T21:09:48.323Z"
   },
   {
    "duration": 9,
    "start_time": "2023-09-08T21:09:48.791Z"
   },
   {
    "duration": 16,
    "start_time": "2023-09-08T21:18:33.713Z"
   },
   {
    "duration": 94,
    "start_time": "2023-09-08T21:21:19.769Z"
   },
   {
    "duration": 7,
    "start_time": "2023-09-08T21:23:00.728Z"
   },
   {
    "duration": 9,
    "start_time": "2023-09-08T21:23:08.255Z"
   },
   {
    "duration": 5,
    "start_time": "2023-09-08T21:32:18.197Z"
   },
   {
    "duration": 6,
    "start_time": "2023-09-08T21:32:51.987Z"
   },
   {
    "duration": 6,
    "start_time": "2023-09-08T21:33:23.196Z"
   },
   {
    "duration": 9,
    "start_time": "2023-09-08T21:33:46.442Z"
   },
   {
    "duration": 5,
    "start_time": "2023-09-08T21:35:05.959Z"
   },
   {
    "duration": 9,
    "start_time": "2023-09-08T21:37:09.167Z"
   },
   {
    "duration": 11,
    "start_time": "2023-09-08T21:37:14.617Z"
   },
   {
    "duration": 26,
    "start_time": "2023-09-08T21:38:59.035Z"
   },
   {
    "duration": 1300,
    "start_time": "2023-09-08T21:41:18.494Z"
   },
   {
    "duration": 3,
    "start_time": "2023-09-08T21:42:57.861Z"
   },
   {
    "duration": 56,
    "start_time": "2023-09-08T21:42:59.011Z"
   },
   {
    "duration": 22,
    "start_time": "2023-09-08T21:42:59.404Z"
   },
   {
    "duration": 30,
    "start_time": "2023-09-08T21:42:59.916Z"
   },
   {
    "duration": 15,
    "start_time": "2023-09-08T21:43:00.414Z"
   },
   {
    "duration": 11,
    "start_time": "2023-09-08T21:43:00.506Z"
   },
   {
    "duration": 19,
    "start_time": "2023-09-08T21:43:00.578Z"
   },
   {
    "duration": 1286,
    "start_time": "2023-09-08T21:43:00.662Z"
   },
   {
    "duration": 0,
    "start_time": "2023-09-08T21:43:01.951Z"
   },
   {
    "duration": 0,
    "start_time": "2023-09-08T21:43:01.952Z"
   },
   {
    "duration": 0,
    "start_time": "2023-09-08T21:43:01.953Z"
   },
   {
    "duration": 0,
    "start_time": "2023-09-08T21:43:01.954Z"
   },
   {
    "duration": 0,
    "start_time": "2023-09-08T21:43:01.955Z"
   },
   {
    "duration": 0,
    "start_time": "2023-09-08T21:43:01.956Z"
   },
   {
    "duration": 0,
    "start_time": "2023-09-08T21:43:01.958Z"
   },
   {
    "duration": 0,
    "start_time": "2023-09-08T21:43:01.959Z"
   },
   {
    "duration": 0,
    "start_time": "2023-09-08T21:43:01.960Z"
   },
   {
    "duration": 0,
    "start_time": "2023-09-08T21:43:01.961Z"
   },
   {
    "duration": 14,
    "start_time": "2023-09-08T21:43:02.005Z"
   },
   {
    "duration": 1230,
    "start_time": "2023-09-08T21:43:02.254Z"
   },
   {
    "duration": 0,
    "start_time": "2023-09-08T21:43:03.486Z"
   },
   {
    "duration": 0,
    "start_time": "2023-09-08T21:43:03.487Z"
   },
   {
    "duration": 8,
    "start_time": "2023-09-08T21:43:03.494Z"
   },
   {
    "duration": 12,
    "start_time": "2023-09-08T21:43:03.706Z"
   },
   {
    "duration": 22,
    "start_time": "2023-09-08T21:43:04.253Z"
   },
   {
    "duration": 1244,
    "start_time": "2023-09-08T21:43:04.474Z"
   },
   {
    "duration": 0,
    "start_time": "2023-09-08T21:43:05.721Z"
   },
   {
    "duration": 15,
    "start_time": "2023-09-08T21:43:39.819Z"
   },
   {
    "duration": 8,
    "start_time": "2023-09-08T21:43:45.385Z"
   },
   {
    "duration": 5,
    "start_time": "2023-09-08T21:43:48.239Z"
   },
   {
    "duration": 4,
    "start_time": "2023-09-08T21:43:49.296Z"
   },
   {
    "duration": 16,
    "start_time": "2023-09-08T21:43:50.430Z"
   },
   {
    "duration": 6,
    "start_time": "2023-09-08T21:43:51.113Z"
   },
   {
    "duration": 11,
    "start_time": "2023-09-08T21:43:51.311Z"
   },
   {
    "duration": 5,
    "start_time": "2023-09-08T21:43:51.557Z"
   },
   {
    "duration": 4,
    "start_time": "2023-09-08T21:43:51.792Z"
   },
   {
    "duration": 5,
    "start_time": "2023-09-08T21:43:51.982Z"
   },
   {
    "duration": 126,
    "start_time": "2023-09-08T21:43:52.189Z"
   },
   {
    "duration": 21,
    "start_time": "2023-09-08T21:43:52.383Z"
   },
   {
    "duration": 6,
    "start_time": "2023-09-08T21:43:52.957Z"
   },
   {
    "duration": 10,
    "start_time": "2023-09-08T21:43:53.172Z"
   },
   {
    "duration": 6,
    "start_time": "2023-09-08T21:43:54.215Z"
   },
   {
    "duration": 7,
    "start_time": "2023-09-08T21:43:54.939Z"
   },
   {
    "duration": 11,
    "start_time": "2023-09-08T21:43:55.441Z"
   },
   {
    "duration": 24,
    "start_time": "2023-09-08T21:43:58.036Z"
   },
   {
    "duration": 59,
    "start_time": "2023-09-08T21:44:30.564Z"
   },
   {
    "duration": 382,
    "start_time": "2023-09-08T21:44:53.158Z"
   },
   {
    "duration": 105,
    "start_time": "2023-09-08T21:44:53.970Z"
   },
   {
    "duration": 30,
    "start_time": "2023-09-08T21:44:54.290Z"
   },
   {
    "duration": 33,
    "start_time": "2023-09-08T21:44:54.496Z"
   },
   {
    "duration": 17,
    "start_time": "2023-09-08T21:44:54.857Z"
   },
   {
    "duration": 13,
    "start_time": "2023-09-08T21:44:55.091Z"
   },
   {
    "duration": 24,
    "start_time": "2023-09-08T21:44:55.321Z"
   },
   {
    "duration": 15,
    "start_time": "2023-09-08T21:44:55.595Z"
   },
   {
    "duration": 9,
    "start_time": "2023-09-08T21:44:56.418Z"
   },
   {
    "duration": 6,
    "start_time": "2023-09-08T21:44:57.173Z"
   },
   {
    "duration": 4,
    "start_time": "2023-09-08T21:44:57.392Z"
   },
   {
    "duration": 15,
    "start_time": "2023-09-08T21:44:57.775Z"
   },
   {
    "duration": 6,
    "start_time": "2023-09-08T21:44:58.190Z"
   },
   {
    "duration": 11,
    "start_time": "2023-09-08T21:44:58.368Z"
   },
   {
    "duration": 5,
    "start_time": "2023-09-08T21:44:58.571Z"
   },
   {
    "duration": 4,
    "start_time": "2023-09-08T21:44:58.748Z"
   },
   {
    "duration": 4,
    "start_time": "2023-09-08T21:44:58.944Z"
   },
   {
    "duration": 123,
    "start_time": "2023-09-08T21:44:59.129Z"
   },
   {
    "duration": 14,
    "start_time": "2023-09-08T21:44:59.260Z"
   },
   {
    "duration": 5,
    "start_time": "2023-09-08T21:44:59.929Z"
   },
   {
    "duration": 10,
    "start_time": "2023-09-08T21:45:00.011Z"
   },
   {
    "duration": 6,
    "start_time": "2023-09-08T21:45:00.178Z"
   },
   {
    "duration": 7,
    "start_time": "2023-09-08T21:45:00.346Z"
   },
   {
    "duration": 10,
    "start_time": "2023-09-08T21:45:00.429Z"
   },
   {
    "duration": 23,
    "start_time": "2023-09-08T21:45:00.597Z"
   },
   {
    "duration": 5,
    "start_time": "2023-09-08T21:45:00.685Z"
   },
   {
    "duration": 27,
    "start_time": "2023-09-08T21:45:00.763Z"
   },
   {
    "duration": 13,
    "start_time": "2023-09-08T22:34:39.949Z"
   },
   {
    "duration": 1000,
    "start_time": "2023-09-08T22:35:39.729Z"
   },
   {
    "duration": 14,
    "start_time": "2023-09-08T22:35:58.110Z"
   },
   {
    "duration": 308,
    "start_time": "2023-09-08T22:36:20.437Z"
   },
   {
    "duration": 298,
    "start_time": "2023-09-08T22:38:23.640Z"
   },
   {
    "duration": 300,
    "start_time": "2023-09-08T22:38:29.153Z"
   },
   {
    "duration": 303,
    "start_time": "2023-09-08T22:38:41.909Z"
   },
   {
    "duration": 376,
    "start_time": "2023-09-08T22:38:46.640Z"
   },
   {
    "duration": 307,
    "start_time": "2023-09-08T22:39:01.107Z"
   },
   {
    "duration": 288,
    "start_time": "2023-09-08T22:39:04.108Z"
   },
   {
    "duration": 295,
    "start_time": "2023-09-08T22:40:30.933Z"
   },
   {
    "duration": 301,
    "start_time": "2023-09-08T22:40:37.898Z"
   },
   {
    "duration": 307,
    "start_time": "2023-09-08T22:41:06.172Z"
   },
   {
    "duration": 423,
    "start_time": "2023-09-08T22:42:21.968Z"
   },
   {
    "duration": 79,
    "start_time": "2023-09-08T22:43:41.133Z"
   },
   {
    "duration": 335,
    "start_time": "2023-09-08T22:43:45.813Z"
   },
   {
    "duration": 26,
    "start_time": "2023-09-08T22:53:06.583Z"
   },
   {
    "duration": 65,
    "start_time": "2023-09-08T22:54:31.295Z"
   },
   {
    "duration": 121,
    "start_time": "2023-09-08T22:54:59.677Z"
   },
   {
    "duration": 62,
    "start_time": "2023-09-08T22:55:14.727Z"
   },
   {
    "duration": 68,
    "start_time": "2023-09-08T22:55:41.378Z"
   },
   {
    "duration": 67,
    "start_time": "2023-09-08T22:55:46.559Z"
   },
   {
    "duration": 7,
    "start_time": "2023-09-08T22:58:30.852Z"
   },
   {
    "duration": 26,
    "start_time": "2023-09-08T22:58:35.076Z"
   },
   {
    "duration": 26,
    "start_time": "2023-09-08T23:03:30.654Z"
   },
   {
    "duration": 4,
    "start_time": "2023-09-08T23:03:56.968Z"
   },
   {
    "duration": 24,
    "start_time": "2023-09-08T23:04:04.520Z"
   },
   {
    "duration": 63,
    "start_time": "2023-09-08T23:04:12.990Z"
   },
   {
    "duration": 60,
    "start_time": "2023-09-08T23:05:15.229Z"
   },
   {
    "duration": 7,
    "start_time": "2023-09-08T23:05:28.922Z"
   },
   {
    "duration": 61,
    "start_time": "2023-09-08T23:05:39.458Z"
   },
   {
    "duration": 61,
    "start_time": "2023-09-08T23:05:46.072Z"
   },
   {
    "duration": 9,
    "start_time": "2023-09-08T23:06:39.959Z"
   },
   {
    "duration": 4,
    "start_time": "2023-09-08T23:07:04.976Z"
   },
   {
    "duration": 136,
    "start_time": "2023-09-08T23:10:49.817Z"
   },
   {
    "duration": 179,
    "start_time": "2023-09-08T23:11:08.739Z"
   },
   {
    "duration": 7,
    "start_time": "2023-09-08T23:12:47.624Z"
   },
   {
    "duration": 37,
    "start_time": "2023-09-08T23:13:31.673Z"
   },
   {
    "duration": 40,
    "start_time": "2023-09-08T23:13:53.338Z"
   },
   {
    "duration": 39,
    "start_time": "2023-09-08T23:14:33.623Z"
   },
   {
    "duration": 37,
    "start_time": "2023-09-08T23:14:48.458Z"
   },
   {
    "duration": 38,
    "start_time": "2023-09-08T23:15:09.942Z"
   },
   {
    "duration": 211,
    "start_time": "2023-09-08T23:15:40.488Z"
   },
   {
    "duration": 204,
    "start_time": "2023-09-08T23:15:52.881Z"
   },
   {
    "duration": 1366,
    "start_time": "2023-09-08T23:20:12.146Z"
   },
   {
    "duration": 1431,
    "start_time": "2023-09-08T23:42:06.081Z"
   },
   {
    "duration": 185,
    "start_time": "2023-09-08T23:42:50.098Z"
   },
   {
    "duration": 318,
    "start_time": "2023-09-08T23:44:21.321Z"
   },
   {
    "duration": 330,
    "start_time": "2023-09-08T23:44:31.089Z"
   },
   {
    "duration": 5,
    "start_time": "2023-09-08T23:52:25.100Z"
   },
   {
    "duration": 25,
    "start_time": "2023-09-08T23:52:28.601Z"
   },
   {
    "duration": 6,
    "start_time": "2023-09-08T23:53:00.434Z"
   },
   {
    "duration": 25,
    "start_time": "2023-09-08T23:53:01.858Z"
   },
   {
    "duration": 359,
    "start_time": "2023-09-08T23:54:05.276Z"
   },
   {
    "duration": 331,
    "start_time": "2023-09-08T23:54:20.083Z"
   },
   {
    "duration": 35,
    "start_time": "2023-09-09T00:10:37.717Z"
   },
   {
    "duration": 36,
    "start_time": "2023-09-09T00:10:58.482Z"
   },
   {
    "duration": 35,
    "start_time": "2023-09-09T00:11:03.970Z"
   },
   {
    "duration": 36,
    "start_time": "2023-09-09T00:12:17.477Z"
   },
   {
    "duration": 121,
    "start_time": "2023-09-09T00:17:17.702Z"
   },
   {
    "duration": 7,
    "start_time": "2023-09-09T00:17:31.256Z"
   },
   {
    "duration": 7,
    "start_time": "2023-09-09T00:18:02.767Z"
   },
   {
    "duration": 9,
    "start_time": "2023-09-09T00:18:39.084Z"
   },
   {
    "duration": 831,
    "start_time": "2023-09-09T00:19:51.724Z"
   },
   {
    "duration": 807,
    "start_time": "2023-09-09T00:20:12.626Z"
   },
   {
    "duration": 32,
    "start_time": "2023-09-09T00:22:07.762Z"
   },
   {
    "duration": 34,
    "start_time": "2023-09-09T00:22:30.510Z"
   },
   {
    "duration": 280,
    "start_time": "2023-09-09T00:24:05.123Z"
   },
   {
    "duration": 150,
    "start_time": "2023-09-09T00:24:21.191Z"
   },
   {
    "duration": 309,
    "start_time": "2023-09-09T00:25:10.804Z"
   },
   {
    "duration": 304,
    "start_time": "2023-09-09T00:25:48.761Z"
   },
   {
    "duration": 302,
    "start_time": "2023-09-09T00:26:22.580Z"
   },
   {
    "duration": 445,
    "start_time": "2023-09-09T00:26:32.217Z"
   },
   {
    "duration": 296,
    "start_time": "2023-09-09T00:26:43.616Z"
   },
   {
    "duration": 308,
    "start_time": "2023-09-09T00:26:48.531Z"
   },
   {
    "duration": 26,
    "start_time": "2023-09-09T00:36:48.629Z"
   },
   {
    "duration": 17,
    "start_time": "2023-09-09T00:36:56.066Z"
   },
   {
    "duration": 5,
    "start_time": "2023-09-09T00:37:36.078Z"
   },
   {
    "duration": 1230,
    "start_time": "2023-09-09T00:39:27.036Z"
   },
   {
    "duration": 1256,
    "start_time": "2023-09-09T00:40:41.554Z"
   },
   {
    "duration": 47,
    "start_time": "2023-09-09T00:56:31.471Z"
   },
   {
    "duration": 45,
    "start_time": "2023-09-09T00:56:39.431Z"
   },
   {
    "duration": 6,
    "start_time": "2023-09-09T00:57:20.293Z"
   },
   {
    "duration": 312,
    "start_time": "2023-09-09T01:02:38.177Z"
   },
   {
    "duration": 184,
    "start_time": "2023-09-09T01:03:08.970Z"
   },
   {
    "duration": 190,
    "start_time": "2023-09-09T01:03:16.627Z"
   },
   {
    "duration": 200,
    "start_time": "2023-09-09T01:03:25.887Z"
   },
   {
    "duration": 218,
    "start_time": "2023-09-09T01:03:30.066Z"
   },
   {
    "duration": 301,
    "start_time": "2023-09-09T01:03:53.039Z"
   },
   {
    "duration": 201,
    "start_time": "2023-09-09T01:16:47.575Z"
   },
   {
    "duration": 5,
    "start_time": "2023-09-09T01:27:15.074Z"
   },
   {
    "duration": 38,
    "start_time": "2023-09-09T01:27:29.793Z"
   },
   {
    "duration": 72,
    "start_time": "2023-09-09T01:34:21.668Z"
   },
   {
    "duration": 6,
    "start_time": "2023-09-09T01:34:25.952Z"
   },
   {
    "duration": 26,
    "start_time": "2023-09-09T01:34:29.776Z"
   },
   {
    "duration": 167,
    "start_time": "2023-09-09T01:35:31.752Z"
   },
   {
    "duration": 133,
    "start_time": "2023-09-09T01:35:43.983Z"
   },
   {
    "duration": 4,
    "start_time": "2023-09-09T01:36:50.625Z"
   },
   {
    "duration": 139,
    "start_time": "2023-09-09T01:38:27.604Z"
   },
   {
    "duration": 147,
    "start_time": "2023-09-09T01:38:35.379Z"
   },
   {
    "duration": 144,
    "start_time": "2023-09-09T01:38:48.587Z"
   },
   {
    "duration": 2784,
    "start_time": "2023-09-09T01:39:26.865Z"
   },
   {
    "duration": 0,
    "start_time": "2023-09-09T01:39:29.651Z"
   },
   {
    "duration": 6,
    "start_time": "2023-09-09T01:39:42.015Z"
   },
   {
    "duration": 6,
    "start_time": "2023-09-09T01:39:50.855Z"
   },
   {
    "duration": 144,
    "start_time": "2023-09-09T01:39:51.271Z"
   },
   {
    "duration": 4,
    "start_time": "2023-09-09T01:39:52.292Z"
   },
   {
    "duration": 1227,
    "start_time": "2023-09-09T20:38:01.174Z"
   },
   {
    "duration": 189,
    "start_time": "2023-09-09T20:38:02.403Z"
   },
   {
    "duration": 22,
    "start_time": "2023-09-09T20:38:02.593Z"
   },
   {
    "duration": 28,
    "start_time": "2023-09-09T20:38:02.617Z"
   },
   {
    "duration": 12,
    "start_time": "2023-09-09T20:38:02.647Z"
   },
   {
    "duration": 8,
    "start_time": "2023-09-09T20:38:02.660Z"
   },
   {
    "duration": 14,
    "start_time": "2023-09-09T20:38:02.669Z"
   },
   {
    "duration": 12,
    "start_time": "2023-09-09T20:38:02.684Z"
   },
   {
    "duration": 10,
    "start_time": "2023-09-09T20:38:02.697Z"
   },
   {
    "duration": 4,
    "start_time": "2023-09-09T20:38:02.709Z"
   },
   {
    "duration": 3,
    "start_time": "2023-09-09T20:38:02.765Z"
   },
   {
    "duration": 13,
    "start_time": "2023-09-09T20:38:02.983Z"
   },
   {
    "duration": 5,
    "start_time": "2023-09-09T20:38:07.389Z"
   },
   {
    "duration": 8,
    "start_time": "2023-09-09T20:38:07.618Z"
   },
   {
    "duration": 4,
    "start_time": "2023-09-09T20:38:08.122Z"
   },
   {
    "duration": 4,
    "start_time": "2023-09-09T20:38:08.223Z"
   },
   {
    "duration": 4,
    "start_time": "2023-09-09T20:38:08.280Z"
   },
   {
    "duration": 103,
    "start_time": "2023-09-09T20:38:08.365Z"
   },
   {
    "duration": 12,
    "start_time": "2023-09-09T20:38:08.470Z"
   },
   {
    "duration": 5,
    "start_time": "2023-09-09T20:38:08.693Z"
   },
   {
    "duration": 9,
    "start_time": "2023-09-09T20:38:08.790Z"
   },
   {
    "duration": 6,
    "start_time": "2023-09-09T20:38:08.942Z"
   },
   {
    "duration": 7,
    "start_time": "2023-09-09T20:38:09.113Z"
   },
   {
    "duration": 9,
    "start_time": "2023-09-09T20:38:09.217Z"
   },
   {
    "duration": 19,
    "start_time": "2023-09-09T20:38:09.369Z"
   },
   {
    "duration": 65,
    "start_time": "2023-09-09T20:38:09.458Z"
   },
   {
    "duration": 19,
    "start_time": "2023-09-09T20:38:09.567Z"
   },
   {
    "duration": 11,
    "start_time": "2023-09-09T20:38:09.838Z"
   },
   {
    "duration": 286,
    "start_time": "2023-09-09T20:38:09.888Z"
   },
   {
    "duration": 22,
    "start_time": "2023-09-09T20:38:10.176Z"
   },
   {
    "duration": 3,
    "start_time": "2023-09-09T20:38:10.292Z"
   },
   {
    "duration": 21,
    "start_time": "2023-09-09T20:38:10.368Z"
   },
   {
    "duration": 54,
    "start_time": "2023-09-09T20:38:10.460Z"
   },
   {
    "duration": 47,
    "start_time": "2023-09-09T20:38:10.541Z"
   },
   {
    "duration": 8,
    "start_time": "2023-09-09T20:38:10.707Z"
   },
   {
    "duration": 1020,
    "start_time": "2023-09-09T20:38:10.887Z"
   },
   {
    "duration": 345,
    "start_time": "2023-09-09T20:38:11.909Z"
   },
   {
    "duration": 4,
    "start_time": "2023-09-09T20:38:12.256Z"
   },
   {
    "duration": 35,
    "start_time": "2023-09-09T20:38:12.261Z"
   },
   {
    "duration": 34,
    "start_time": "2023-09-09T20:38:12.298Z"
   },
   {
    "duration": 25,
    "start_time": "2023-09-09T20:38:12.333Z"
   },
   {
    "duration": 5,
    "start_time": "2023-09-09T20:38:12.359Z"
   },
   {
    "duration": 8,
    "start_time": "2023-09-09T20:38:12.366Z"
   },
   {
    "duration": 248,
    "start_time": "2023-09-09T20:38:12.375Z"
   },
   {
    "duration": 20,
    "start_time": "2023-09-09T20:38:12.625Z"
   },
   {
    "duration": 171,
    "start_time": "2023-09-09T20:38:12.646Z"
   },
   {
    "duration": 38,
    "start_time": "2023-09-09T20:38:12.819Z"
   },
   {
    "duration": 5,
    "start_time": "2023-09-09T20:38:12.858Z"
   },
   {
    "duration": 128,
    "start_time": "2023-09-09T20:38:12.864Z"
   },
   {
    "duration": 95,
    "start_time": "2023-09-09T21:02:19.443Z"
   },
   {
    "duration": 5,
    "start_time": "2023-09-09T21:02:23.327Z"
   },
   {
    "duration": 21,
    "start_time": "2023-09-09T21:02:24.645Z"
   },
   {
    "duration": 148,
    "start_time": "2023-09-09T21:15:20.913Z"
   },
   {
    "duration": 120,
    "start_time": "2023-09-09T21:15:26.409Z"
   },
   {
    "duration": 116,
    "start_time": "2023-09-09T21:15:35.470Z"
   },
   {
    "duration": 114,
    "start_time": "2023-09-09T21:15:40.912Z"
   },
   {
    "duration": 4,
    "start_time": "2023-09-09T21:16:18.514Z"
   },
   {
    "duration": 23,
    "start_time": "2023-09-09T21:16:19.274Z"
   },
   {
    "duration": 127,
    "start_time": "2023-09-09T21:17:05.003Z"
   },
   {
    "duration": 121,
    "start_time": "2023-09-09T21:17:43.349Z"
   },
   {
    "duration": 186,
    "start_time": "2023-09-09T21:20:30.259Z"
   },
   {
    "duration": 5,
    "start_time": "2023-09-09T21:21:59.629Z"
   },
   {
    "duration": 21,
    "start_time": "2023-09-09T21:22:07.010Z"
   },
   {
    "duration": 120,
    "start_time": "2023-09-09T21:22:09.100Z"
   },
   {
    "duration": 132,
    "start_time": "2023-09-09T21:22:11.755Z"
   },
   {
    "duration": 54,
    "start_time": "2023-09-09T21:25:16.793Z"
   },
   {
    "duration": 1377,
    "start_time": "2023-09-09T21:27:33.689Z"
   },
   {
    "duration": 4,
    "start_time": "2023-09-09T21:28:18.297Z"
   },
   {
    "duration": 22,
    "start_time": "2023-09-09T21:28:19.011Z"
   },
   {
    "duration": 1366,
    "start_time": "2023-09-09T21:28:44.155Z"
   },
   {
    "duration": 15,
    "start_time": "2023-09-09T21:34:47.795Z"
   },
   {
    "duration": 1226,
    "start_time": "2023-09-09T21:34:58.054Z"
   },
   {
    "duration": 10,
    "start_time": "2023-09-09T21:47:44.059Z"
   },
   {
    "duration": 1487,
    "start_time": "2023-09-09T21:59:49.479Z"
   },
   {
    "duration": 1307,
    "start_time": "2023-09-09T22:00:06.058Z"
   },
   {
    "duration": 270,
    "start_time": "2023-09-09T22:06:26.026Z"
   },
   {
    "duration": 14,
    "start_time": "2023-09-09T22:07:00.899Z"
   },
   {
    "duration": 247,
    "start_time": "2023-09-09T22:07:28.128Z"
   },
   {
    "duration": 187,
    "start_time": "2023-09-09T22:07:46.599Z"
   },
   {
    "duration": 1333,
    "start_time": "2023-09-09T22:10:32.926Z"
   },
   {
    "duration": 1054,
    "start_time": "2023-09-09T22:10:41.859Z"
   },
   {
    "duration": 1339,
    "start_time": "2023-09-09T22:10:47.346Z"
   },
   {
    "duration": 1122,
    "start_time": "2023-09-09T22:10:52.148Z"
   },
   {
    "duration": 1203,
    "start_time": "2023-09-09T22:10:57.087Z"
   },
   {
    "duration": 1175,
    "start_time": "2023-09-09T22:11:04.704Z"
   },
   {
    "duration": 1255,
    "start_time": "2023-09-09T22:11:08.745Z"
   },
   {
    "duration": 1183,
    "start_time": "2023-09-09T22:15:33.608Z"
   },
   {
    "duration": 1367,
    "start_time": "2023-09-09T22:15:52.840Z"
   },
   {
    "duration": 12,
    "start_time": "2023-09-09T22:31:26.964Z"
   },
   {
    "duration": 7,
    "start_time": "2023-09-09T22:31:35.474Z"
   },
   {
    "duration": 26,
    "start_time": "2023-09-09T22:31:59.400Z"
   },
   {
    "duration": 25,
    "start_time": "2023-09-09T22:33:14.721Z"
   },
   {
    "duration": 24,
    "start_time": "2023-09-09T22:33:47.373Z"
   },
   {
    "duration": 151,
    "start_time": "2023-09-09T22:34:37.634Z"
   },
   {
    "duration": 28,
    "start_time": "2023-09-09T22:35:19.956Z"
   },
   {
    "duration": 142,
    "start_time": "2023-09-09T22:35:29.677Z"
   },
   {
    "duration": 32,
    "start_time": "2023-09-09T22:38:40.610Z"
   },
   {
    "duration": 28,
    "start_time": "2023-09-09T22:38:49.081Z"
   },
   {
    "duration": 34,
    "start_time": "2023-09-09T22:39:53.029Z"
   },
   {
    "duration": 146,
    "start_time": "2023-09-09T22:40:14.330Z"
   },
   {
    "duration": 1017,
    "start_time": "2023-09-09T22:47:57.672Z"
   },
   {
    "duration": 27,
    "start_time": "2023-09-09T22:48:06.356Z"
   },
   {
    "duration": 25,
    "start_time": "2023-09-09T22:49:27.682Z"
   },
   {
    "duration": 28,
    "start_time": "2023-09-09T22:49:37.143Z"
   },
   {
    "duration": 329,
    "start_time": "2023-09-09T22:52:00.794Z"
   },
   {
    "duration": 185,
    "start_time": "2023-09-09T22:53:48.599Z"
   },
   {
    "duration": 996,
    "start_time": "2023-09-09T22:56:59.158Z"
   },
   {
    "duration": 957,
    "start_time": "2023-09-09T22:57:09.334Z"
   },
   {
    "duration": 946,
    "start_time": "2023-09-09T22:57:19.027Z"
   },
   {
    "duration": 988,
    "start_time": "2023-09-09T22:57:21.923Z"
   },
   {
    "duration": 1013,
    "start_time": "2023-09-09T22:57:50.297Z"
   },
   {
    "duration": 1131,
    "start_time": "2023-09-09T22:58:45.583Z"
   },
   {
    "duration": 3,
    "start_time": "2023-09-09T22:59:40.453Z"
   },
   {
    "duration": 50,
    "start_time": "2023-09-09T22:59:41.335Z"
   },
   {
    "duration": 18,
    "start_time": "2023-09-09T22:59:41.635Z"
   },
   {
    "duration": 25,
    "start_time": "2023-09-09T22:59:41.986Z"
   },
   {
    "duration": 14,
    "start_time": "2023-09-09T22:59:42.496Z"
   },
   {
    "duration": 8,
    "start_time": "2023-09-09T22:59:42.577Z"
   },
   {
    "duration": 14,
    "start_time": "2023-09-09T22:59:42.652Z"
   },
   {
    "duration": 12,
    "start_time": "2023-09-09T22:59:42.734Z"
   },
   {
    "duration": 7,
    "start_time": "2023-09-09T22:59:42.901Z"
   },
   {
    "duration": 4,
    "start_time": "2023-09-09T22:59:43.151Z"
   },
   {
    "duration": 5,
    "start_time": "2023-09-09T22:59:43.233Z"
   },
   {
    "duration": 18,
    "start_time": "2023-09-09T22:59:43.402Z"
   },
   {
    "duration": 5,
    "start_time": "2023-09-09T22:59:43.485Z"
   },
   {
    "duration": 10,
    "start_time": "2023-09-09T22:59:43.570Z"
   },
   {
    "duration": 6,
    "start_time": "2023-09-09T22:59:43.653Z"
   },
   {
    "duration": 5,
    "start_time": "2023-09-09T22:59:43.738Z"
   },
   {
    "duration": 5,
    "start_time": "2023-09-09T22:59:43.836Z"
   },
   {
    "duration": 114,
    "start_time": "2023-09-09T22:59:43.904Z"
   },
   {
    "duration": 28,
    "start_time": "2023-09-09T22:59:44.021Z"
   },
   {
    "duration": 6,
    "start_time": "2023-09-09T22:59:44.251Z"
   },
   {
    "duration": 12,
    "start_time": "2023-09-09T22:59:44.362Z"
   },
   {
    "duration": 5,
    "start_time": "2023-09-09T22:59:44.491Z"
   },
   {
    "duration": 6,
    "start_time": "2023-09-09T22:59:44.663Z"
   },
   {
    "duration": 9,
    "start_time": "2023-09-09T22:59:44.742Z"
   },
   {
    "duration": 21,
    "start_time": "2023-09-09T22:59:44.913Z"
   },
   {
    "duration": 5,
    "start_time": "2023-09-09T22:59:45.016Z"
   },
   {
    "duration": 23,
    "start_time": "2023-09-09T22:59:45.096Z"
   },
   {
    "duration": 12,
    "start_time": "2023-09-09T22:59:45.331Z"
   },
   {
    "duration": 319,
    "start_time": "2023-09-09T22:59:45.433Z"
   },
   {
    "duration": 22,
    "start_time": "2023-09-09T22:59:45.754Z"
   },
   {
    "duration": 3,
    "start_time": "2023-09-09T22:59:45.880Z"
   },
   {
    "duration": 22,
    "start_time": "2023-09-09T22:59:45.930Z"
   },
   {
    "duration": 61,
    "start_time": "2023-09-09T22:59:46.005Z"
   },
   {
    "duration": 54,
    "start_time": "2023-09-09T22:59:46.089Z"
   },
   {
    "duration": 9,
    "start_time": "2023-09-09T22:59:46.261Z"
   },
   {
    "duration": 1027,
    "start_time": "2023-09-09T22:59:46.463Z"
   },
   {
    "duration": 271,
    "start_time": "2023-09-09T22:59:47.492Z"
   },
   {
    "duration": 4,
    "start_time": "2023-09-09T22:59:47.765Z"
   },
   {
    "duration": 19,
    "start_time": "2023-09-09T22:59:47.771Z"
   },
   {
    "duration": 28,
    "start_time": "2023-09-09T22:59:47.791Z"
   },
   {
    "duration": 48,
    "start_time": "2023-09-09T22:59:47.820Z"
   },
   {
    "duration": 7,
    "start_time": "2023-09-09T22:59:47.869Z"
   },
   {
    "duration": 9,
    "start_time": "2023-09-09T22:59:47.877Z"
   },
   {
    "duration": 293,
    "start_time": "2023-09-09T22:59:47.887Z"
   },
   {
    "duration": 15,
    "start_time": "2023-09-09T22:59:48.182Z"
   },
   {
    "duration": 203,
    "start_time": "2023-09-09T22:59:48.198Z"
   },
   {
    "duration": 47,
    "start_time": "2023-09-09T22:59:48.402Z"
   },
   {
    "duration": 6,
    "start_time": "2023-09-09T22:59:48.452Z"
   },
   {
    "duration": 164,
    "start_time": "2023-09-09T22:59:48.459Z"
   },
   {
    "duration": 5,
    "start_time": "2023-09-09T22:59:48.625Z"
   },
   {
    "duration": 1620,
    "start_time": "2023-09-09T22:59:48.686Z"
   },
   {
    "duration": 10,
    "start_time": "2023-09-09T22:59:50.308Z"
   },
   {
    "duration": 1619,
    "start_time": "2023-09-09T22:59:50.319Z"
   },
   {
    "duration": 1260,
    "start_time": "2023-09-09T22:59:51.940Z"
   },
   {
    "duration": 43,
    "start_time": "2023-09-09T22:59:53.202Z"
   },
   {
    "duration": 196,
    "start_time": "2023-09-09T22:59:53.246Z"
   },
   {
    "duration": 32,
    "start_time": "2023-09-09T22:59:53.444Z"
   },
   {
    "duration": 214,
    "start_time": "2023-09-09T22:59:53.477Z"
   },
   {
    "duration": 33,
    "start_time": "2023-09-09T22:59:53.692Z"
   },
   {
    "duration": 191,
    "start_time": "2023-09-09T22:59:53.727Z"
   },
   {
    "duration": 35,
    "start_time": "2023-09-09T23:01:22.186Z"
   },
   {
    "duration": 3,
    "start_time": "2023-09-09T23:02:20.126Z"
   },
   {
    "duration": 9,
    "start_time": "2023-09-09T23:02:24.901Z"
   },
   {
    "duration": 9,
    "start_time": "2023-09-09T23:02:57.121Z"
   },
   {
    "duration": 213,
    "start_time": "2023-09-09T23:03:51.005Z"
   },
   {
    "duration": 30,
    "start_time": "2023-09-09T23:14:16.039Z"
   },
   {
    "duration": 224,
    "start_time": "2023-09-09T23:14:18.122Z"
   },
   {
    "duration": 21,
    "start_time": "2023-09-10T00:29:58.341Z"
   },
   {
    "duration": 29,
    "start_time": "2023-09-10T00:32:04.646Z"
   },
   {
    "duration": 30,
    "start_time": "2023-09-10T00:33:02.993Z"
   },
   {
    "duration": 32,
    "start_time": "2023-09-10T00:39:32.705Z"
   },
   {
    "duration": 92,
    "start_time": "2023-09-10T00:39:35.512Z"
   },
   {
    "duration": 30,
    "start_time": "2023-09-10T00:40:56.797Z"
   },
   {
    "duration": 87,
    "start_time": "2023-09-10T00:41:58.052Z"
   },
   {
    "duration": 87,
    "start_time": "2023-09-10T00:42:02.651Z"
   },
   {
    "duration": 92,
    "start_time": "2023-09-10T00:42:38.020Z"
   },
   {
    "duration": 127,
    "start_time": "2023-09-10T00:43:46.976Z"
   },
   {
    "duration": 136,
    "start_time": "2023-09-10T00:45:59.265Z"
   },
   {
    "duration": 567,
    "start_time": "2023-09-10T00:50:53.723Z"
   },
   {
    "duration": 491,
    "start_time": "2023-09-10T00:50:59.725Z"
   },
   {
    "duration": 426,
    "start_time": "2023-09-10T00:54:54.224Z"
   },
   {
    "duration": 1251,
    "start_time": "2023-09-10T01:14:09.044Z"
   },
   {
    "duration": 410,
    "start_time": "2023-09-10T01:14:35.547Z"
   },
   {
    "duration": 20,
    "start_time": "2023-09-10T01:29:37.452Z"
   },
   {
    "duration": 4,
    "start_time": "2023-09-10T01:30:13.325Z"
   },
   {
    "duration": 6,
    "start_time": "2023-09-10T01:50:31.970Z"
   },
   {
    "duration": 23,
    "start_time": "2023-09-10T01:50:33.991Z"
   },
   {
    "duration": 73,
    "start_time": "2023-09-10T01:54:05.198Z"
   },
   {
    "duration": 6,
    "start_time": "2023-09-10T01:54:52.499Z"
   },
   {
    "duration": 73,
    "start_time": "2023-09-10T01:54:53.450Z"
   },
   {
    "duration": 75,
    "start_time": "2023-09-10T01:55:17.420Z"
   },
   {
    "duration": 74,
    "start_time": "2023-09-10T01:56:23.049Z"
   },
   {
    "duration": 419,
    "start_time": "2023-09-10T01:57:06.664Z"
   },
   {
    "duration": 3,
    "start_time": "2023-09-10T02:00:01.158Z"
   },
   {
    "duration": 421,
    "start_time": "2023-09-10T02:00:07.033Z"
   },
   {
    "duration": 4,
    "start_time": "2023-09-10T02:00:26.327Z"
   },
   {
    "duration": 641,
    "start_time": "2023-09-10T02:00:28.305Z"
   },
   {
    "duration": 6,
    "start_time": "2023-09-10T02:14:58.029Z"
   },
   {
    "duration": 5,
    "start_time": "2023-09-10T02:15:06.040Z"
   },
   {
    "duration": 4,
    "start_time": "2023-09-10T02:16:37.857Z"
   },
   {
    "duration": 4,
    "start_time": "2023-09-10T02:16:44.569Z"
   },
   {
    "duration": 4,
    "start_time": "2023-09-10T02:17:31.635Z"
   },
   {
    "duration": 5,
    "start_time": "2023-09-10T02:17:45.923Z"
   },
   {
    "duration": 5,
    "start_time": "2023-09-10T02:22:57.479Z"
   },
   {
    "duration": 6,
    "start_time": "2023-09-10T02:26:43.060Z"
   },
   {
    "duration": 5,
    "start_time": "2023-09-10T02:27:57.315Z"
   },
   {
    "duration": 78,
    "start_time": "2023-09-10T02:37:32.823Z"
   },
   {
    "duration": 3,
    "start_time": "2023-09-10T03:16:08.834Z"
   },
   {
    "duration": 3,
    "start_time": "2023-09-10T03:25:53.070Z"
   },
   {
    "duration": 49,
    "start_time": "2023-09-10T03:25:54.348Z"
   },
   {
    "duration": 21,
    "start_time": "2023-09-10T03:25:54.823Z"
   },
   {
    "duration": 25,
    "start_time": "2023-09-10T03:25:55.322Z"
   },
   {
    "duration": 13,
    "start_time": "2023-09-10T03:25:55.459Z"
   },
   {
    "duration": 9,
    "start_time": "2023-09-10T03:25:55.568Z"
   },
   {
    "duration": 15,
    "start_time": "2023-09-10T03:25:55.649Z"
   },
   {
    "duration": 12,
    "start_time": "2023-09-10T03:25:55.668Z"
   },
   {
    "duration": 6,
    "start_time": "2023-09-10T03:25:55.873Z"
   },
   {
    "duration": 5,
    "start_time": "2023-09-10T03:25:56.155Z"
   },
   {
    "duration": 3,
    "start_time": "2023-09-10T03:25:56.239Z"
   },
   {
    "duration": 13,
    "start_time": "2023-09-10T03:25:56.405Z"
   },
   {
    "duration": 5,
    "start_time": "2023-09-10T03:25:56.489Z"
   },
   {
    "duration": 9,
    "start_time": "2023-09-10T03:25:56.573Z"
   },
   {
    "duration": 5,
    "start_time": "2023-09-10T03:25:56.658Z"
   },
   {
    "duration": 4,
    "start_time": "2023-09-10T03:25:56.740Z"
   },
   {
    "duration": 4,
    "start_time": "2023-09-10T03:25:56.825Z"
   },
   {
    "duration": 101,
    "start_time": "2023-09-10T03:25:56.910Z"
   },
   {
    "duration": 14,
    "start_time": "2023-09-10T03:25:57.013Z"
   },
   {
    "duration": 5,
    "start_time": "2023-09-10T03:25:57.245Z"
   },
   {
    "duration": 9,
    "start_time": "2023-09-10T03:25:57.331Z"
   },
   {
    "duration": 6,
    "start_time": "2023-09-10T03:25:57.494Z"
   },
   {
    "duration": 6,
    "start_time": "2023-09-10T03:25:57.681Z"
   },
   {
    "duration": 8,
    "start_time": "2023-09-10T03:25:57.745Z"
   },
   {
    "duration": 18,
    "start_time": "2023-09-10T03:25:57.913Z"
   },
   {
    "duration": 4,
    "start_time": "2023-09-10T03:25:58.018Z"
   },
   {
    "duration": 19,
    "start_time": "2023-09-10T03:25:58.150Z"
   },
   {
    "duration": 11,
    "start_time": "2023-09-10T03:25:58.343Z"
   },
   {
    "duration": 263,
    "start_time": "2023-09-10T03:25:58.418Z"
   },
   {
    "duration": 23,
    "start_time": "2023-09-10T03:25:58.684Z"
   },
   {
    "duration": 4,
    "start_time": "2023-09-10T03:25:58.869Z"
   },
   {
    "duration": 20,
    "start_time": "2023-09-10T03:25:58.921Z"
   },
   {
    "duration": 55,
    "start_time": "2023-09-10T03:25:59.029Z"
   },
   {
    "duration": 51,
    "start_time": "2023-09-10T03:25:59.198Z"
   },
   {
    "duration": 7,
    "start_time": "2023-09-10T03:25:59.316Z"
   },
   {
    "duration": 1024,
    "start_time": "2023-09-10T03:25:59.541Z"
   },
   {
    "duration": 277,
    "start_time": "2023-09-10T03:26:00.567Z"
   },
   {
    "duration": 4,
    "start_time": "2023-09-10T03:26:00.846Z"
   },
   {
    "duration": 41,
    "start_time": "2023-09-10T03:26:00.852Z"
   },
   {
    "duration": 75,
    "start_time": "2023-09-10T03:26:00.894Z"
   },
   {
    "duration": 26,
    "start_time": "2023-09-10T03:26:00.970Z"
   },
   {
    "duration": 25,
    "start_time": "2023-09-10T03:26:00.997Z"
   },
   {
    "duration": 40,
    "start_time": "2023-09-10T03:26:01.024Z"
   },
   {
    "duration": 262,
    "start_time": "2023-09-10T03:26:01.066Z"
   },
   {
    "duration": 20,
    "start_time": "2023-09-10T03:26:01.330Z"
   },
   {
    "duration": 191,
    "start_time": "2023-09-10T03:26:01.352Z"
   },
   {
    "duration": 30,
    "start_time": "2023-09-10T03:26:01.545Z"
   },
   {
    "duration": 6,
    "start_time": "2023-09-10T03:26:01.576Z"
   },
   {
    "duration": 148,
    "start_time": "2023-09-10T03:26:01.583Z"
   },
   {
    "duration": 11,
    "start_time": "2023-09-10T03:26:01.733Z"
   },
   {
    "duration": 1420,
    "start_time": "2023-09-10T03:26:01.745Z"
   },
   {
    "duration": 10,
    "start_time": "2023-09-10T03:26:03.168Z"
   },
   {
    "duration": 1237,
    "start_time": "2023-09-10T03:26:03.180Z"
   },
   {
    "duration": 1146,
    "start_time": "2023-09-10T03:26:04.419Z"
   },
   {
    "duration": 29,
    "start_time": "2023-09-10T03:26:05.567Z"
   },
   {
    "duration": 210,
    "start_time": "2023-09-10T03:26:05.598Z"
   },
   {
    "duration": 36,
    "start_time": "2023-09-10T03:26:05.810Z"
   },
   {
    "duration": 188,
    "start_time": "2023-09-10T03:26:05.848Z"
   },
   {
    "duration": 3,
    "start_time": "2023-09-10T03:26:06.044Z"
   },
   {
    "duration": 26,
    "start_time": "2023-09-10T03:26:06.049Z"
   },
   {
    "duration": 418,
    "start_time": "2023-09-10T03:26:06.076Z"
   },
   {
    "duration": 641,
    "start_time": "2023-09-10T03:26:06.495Z"
   },
   {
    "duration": 8,
    "start_time": "2023-09-10T03:26:07.138Z"
   },
   {
    "duration": 7,
    "start_time": "2023-09-10T03:26:07.147Z"
   },
   {
    "duration": 5,
    "start_time": "2023-09-10T03:26:07.155Z"
   },
   {
    "duration": 437,
    "start_time": "2023-09-10T03:26:07.161Z"
   },
   {
    "duration": 5,
    "start_time": "2023-09-10T03:26:07.600Z"
   },
   {
    "duration": 16,
    "start_time": "2023-09-10T03:26:07.607Z"
   },
   {
    "duration": 7,
    "start_time": "2023-09-10T03:26:07.625Z"
   },
   {
    "duration": 4,
    "start_time": "2023-09-10T03:26:07.633Z"
   },
   {
    "duration": 1488,
    "start_time": "2023-09-10T17:58:23.064Z"
   },
   {
    "duration": 102,
    "start_time": "2023-09-10T17:58:24.554Z"
   },
   {
    "duration": 28,
    "start_time": "2023-09-10T17:58:24.657Z"
   },
   {
    "duration": 33,
    "start_time": "2023-09-10T17:58:24.688Z"
   },
   {
    "duration": 15,
    "start_time": "2023-09-10T17:58:24.722Z"
   },
   {
    "duration": 16,
    "start_time": "2023-09-10T17:58:24.739Z"
   },
   {
    "duration": 49,
    "start_time": "2023-09-10T17:58:24.757Z"
   },
   {
    "duration": 14,
    "start_time": "2023-09-10T17:58:24.807Z"
   },
   {
    "duration": 29,
    "start_time": "2023-09-10T17:58:24.823Z"
   },
   {
    "duration": 5,
    "start_time": "2023-09-10T17:58:24.855Z"
   },
   {
    "duration": 6,
    "start_time": "2023-09-10T17:58:24.861Z"
   },
   {
    "duration": 28,
    "start_time": "2023-09-10T17:58:24.869Z"
   },
   {
    "duration": 9,
    "start_time": "2023-09-10T17:58:24.899Z"
   },
   {
    "duration": 37,
    "start_time": "2023-09-10T17:58:24.910Z"
   },
   {
    "duration": 19,
    "start_time": "2023-09-10T17:58:24.949Z"
   },
   {
    "duration": 10,
    "start_time": "2023-09-10T17:58:24.969Z"
   },
   {
    "duration": 37,
    "start_time": "2023-09-10T17:58:24.982Z"
   },
   {
    "duration": 189,
    "start_time": "2023-09-10T17:58:25.021Z"
   },
   {
    "duration": 18,
    "start_time": "2023-09-10T17:58:25.212Z"
   },
   {
    "duration": 11,
    "start_time": "2023-09-10T17:58:25.232Z"
   },
   {
    "duration": 11,
    "start_time": "2023-09-10T17:58:25.245Z"
   },
   {
    "duration": 32,
    "start_time": "2023-09-10T17:58:25.258Z"
   },
   {
    "duration": 21,
    "start_time": "2023-09-10T17:58:25.293Z"
   },
   {
    "duration": 19,
    "start_time": "2023-09-10T17:58:25.316Z"
   },
   {
    "duration": 48,
    "start_time": "2023-09-10T17:58:25.337Z"
   },
   {
    "duration": 11,
    "start_time": "2023-09-10T17:58:25.387Z"
   },
   {
    "duration": 32,
    "start_time": "2023-09-10T17:58:25.402Z"
   },
   {
    "duration": 17,
    "start_time": "2023-09-10T17:58:25.438Z"
   },
   {
    "duration": 448,
    "start_time": "2023-09-10T17:58:25.457Z"
   },
   {
    "duration": 28,
    "start_time": "2023-09-10T17:58:25.907Z"
   },
   {
    "duration": 3,
    "start_time": "2023-09-10T17:58:25.937Z"
   },
   {
    "duration": 52,
    "start_time": "2023-09-10T17:58:25.941Z"
   },
   {
    "duration": 62,
    "start_time": "2023-09-10T17:58:25.996Z"
   },
   {
    "duration": 80,
    "start_time": "2023-09-10T17:58:26.060Z"
   },
   {
    "duration": 8,
    "start_time": "2023-09-10T17:58:26.141Z"
   },
   {
    "duration": 1520,
    "start_time": "2023-09-10T17:58:26.151Z"
   },
   {
    "duration": 449,
    "start_time": "2023-09-10T17:58:27.672Z"
   },
   {
    "duration": 5,
    "start_time": "2023-09-10T17:58:28.123Z"
   },
   {
    "duration": 26,
    "start_time": "2023-09-10T17:58:28.130Z"
   },
   {
    "duration": 57,
    "start_time": "2023-09-10T17:58:28.158Z"
   },
   {
    "duration": 32,
    "start_time": "2023-09-10T17:58:28.217Z"
   },
   {
    "duration": 7,
    "start_time": "2023-09-10T17:58:28.250Z"
   },
   {
    "duration": 29,
    "start_time": "2023-09-10T17:58:28.259Z"
   },
   {
    "duration": 377,
    "start_time": "2023-09-10T17:58:28.290Z"
   },
   {
    "duration": 28,
    "start_time": "2023-09-10T17:58:28.669Z"
   },
   {
    "duration": 245,
    "start_time": "2023-09-10T17:58:28.700Z"
   },
   {
    "duration": 48,
    "start_time": "2023-09-10T17:58:28.947Z"
   },
   {
    "duration": 6,
    "start_time": "2023-09-10T17:58:28.997Z"
   },
   {
    "duration": 164,
    "start_time": "2023-09-10T17:58:29.005Z"
   },
   {
    "duration": 11,
    "start_time": "2023-09-10T17:58:29.171Z"
   },
   {
    "duration": 1626,
    "start_time": "2023-09-10T17:58:29.185Z"
   },
   {
    "duration": 12,
    "start_time": "2023-09-10T17:58:30.813Z"
   },
   {
    "duration": 1821,
    "start_time": "2023-09-10T17:58:30.826Z"
   },
   {
    "duration": 1498,
    "start_time": "2023-09-10T17:58:32.649Z"
   },
   {
    "duration": 56,
    "start_time": "2023-09-10T17:58:34.149Z"
   },
   {
    "duration": 252,
    "start_time": "2023-09-10T17:58:34.207Z"
   },
   {
    "duration": 56,
    "start_time": "2023-09-10T17:58:34.461Z"
   },
   {
    "duration": 349,
    "start_time": "2023-09-10T17:58:34.519Z"
   },
   {
    "duration": 11,
    "start_time": "2023-09-10T17:58:34.871Z"
   },
   {
    "duration": 17,
    "start_time": "2023-09-10T17:58:34.884Z"
   },
   {
    "duration": 554,
    "start_time": "2023-09-10T17:58:34.903Z"
   },
   {
    "duration": 539,
    "start_time": "2023-09-10T17:58:35.459Z"
   },
   {
    "duration": 4,
    "start_time": "2023-09-10T17:58:36.000Z"
   },
   {
    "duration": 36,
    "start_time": "2023-09-10T17:58:36.006Z"
   },
   {
    "duration": 25,
    "start_time": "2023-09-10T17:58:36.043Z"
   },
   {
    "duration": 553,
    "start_time": "2023-09-10T17:58:36.070Z"
   },
   {
    "duration": 7,
    "start_time": "2023-09-10T17:58:36.625Z"
   },
   {
    "duration": 8,
    "start_time": "2023-09-10T17:58:36.634Z"
   },
   {
    "duration": 7,
    "start_time": "2023-09-10T17:58:36.644Z"
   },
   {
    "duration": 29,
    "start_time": "2023-09-10T17:58:36.653Z"
   },
   {
    "duration": 27,
    "start_time": "2023-09-10T18:29:42.237Z"
   },
   {
    "duration": 82,
    "start_time": "2023-09-10T20:59:18.731Z"
   },
   {
    "duration": 44,
    "start_time": "2023-09-10T20:59:33.584Z"
   },
   {
    "duration": 1498,
    "start_time": "2023-09-10T20:59:40.222Z"
   },
   {
    "duration": 105,
    "start_time": "2023-09-10T20:59:44.112Z"
   },
   {
    "duration": 37,
    "start_time": "2023-09-10T20:59:44.633Z"
   },
   {
    "duration": 38,
    "start_time": "2023-09-10T20:59:45.145Z"
   },
   {
    "duration": 15,
    "start_time": "2023-09-10T20:59:45.378Z"
   },
   {
    "duration": 10,
    "start_time": "2023-09-10T20:59:45.625Z"
   },
   {
    "duration": 17,
    "start_time": "2023-09-10T20:59:45.873Z"
   },
   {
    "duration": 25,
    "start_time": "2023-09-10T20:59:46.954Z"
   },
   {
    "duration": 13,
    "start_time": "2023-09-10T20:59:48.179Z"
   },
   {
    "duration": 10,
    "start_time": "2023-09-10T20:59:49.736Z"
   },
   {
    "duration": 18,
    "start_time": "2023-09-10T21:01:23.682Z"
   },
   {
    "duration": 102,
    "start_time": "2023-09-10T21:05:54.482Z"
   },
   {
    "duration": 5,
    "start_time": "2023-09-10T21:06:57.311Z"
   },
   {
    "duration": 19,
    "start_time": "2023-09-10T21:07:11.584Z"
   },
   {
    "duration": 7,
    "start_time": "2023-09-10T21:07:28.312Z"
   },
   {
    "duration": 20,
    "start_time": "2023-09-10T21:07:35.593Z"
   },
   {
    "duration": 19,
    "start_time": "2023-09-10T21:07:38.198Z"
   },
   {
    "duration": 19,
    "start_time": "2023-09-10T21:07:44.918Z"
   },
   {
    "duration": 3,
    "start_time": "2023-09-10T21:09:09.579Z"
   },
   {
    "duration": 53,
    "start_time": "2023-09-10T21:09:10.274Z"
   },
   {
    "duration": 25,
    "start_time": "2023-09-10T21:09:10.461Z"
   },
   {
    "duration": 33,
    "start_time": "2023-09-10T21:09:10.675Z"
   },
   {
    "duration": 15,
    "start_time": "2023-09-10T21:09:10.882Z"
   },
   {
    "duration": 11,
    "start_time": "2023-09-10T21:09:11.237Z"
   },
   {
    "duration": 19,
    "start_time": "2023-09-10T21:09:11.445Z"
   },
   {
    "duration": 20,
    "start_time": "2023-09-10T21:09:12.698Z"
   },
   {
    "duration": 25,
    "start_time": "2023-09-10T21:09:12.947Z"
   },
   {
    "duration": 6,
    "start_time": "2023-09-10T21:09:13.205Z"
   },
   {
    "duration": 27,
    "start_time": "2023-09-10T21:09:13.445Z"
   },
   {
    "duration": 14,
    "start_time": "2023-09-10T21:09:14.230Z"
   },
   {
    "duration": 12,
    "start_time": "2023-09-10T21:09:34.973Z"
   },
   {
    "duration": 12,
    "start_time": "2023-09-10T21:23:13.155Z"
   },
   {
    "duration": 3,
    "start_time": "2023-09-10T21:23:20.798Z"
   },
   {
    "duration": 54,
    "start_time": "2023-09-10T21:23:21.374Z"
   },
   {
    "duration": 30,
    "start_time": "2023-09-10T21:23:21.449Z"
   },
   {
    "duration": 29,
    "start_time": "2023-09-10T21:23:21.568Z"
   },
   {
    "duration": 24,
    "start_time": "2023-09-10T21:23:21.749Z"
   },
   {
    "duration": 15,
    "start_time": "2023-09-10T21:23:21.871Z"
   },
   {
    "duration": 31,
    "start_time": "2023-09-10T21:23:21.940Z"
   },
   {
    "duration": 32,
    "start_time": "2023-09-10T21:23:22.042Z"
   },
   {
    "duration": 22,
    "start_time": "2023-09-10T21:23:22.166Z"
   },
   {
    "duration": 10,
    "start_time": "2023-09-10T21:23:22.344Z"
   },
   {
    "duration": 13,
    "start_time": "2023-09-10T21:23:22.467Z"
   },
   {
    "duration": 14,
    "start_time": "2023-09-10T21:23:22.521Z"
   },
   {
    "duration": 11,
    "start_time": "2023-09-10T21:23:22.659Z"
   },
   {
    "duration": 6,
    "start_time": "2023-09-10T21:23:22.967Z"
   },
   {
    "duration": 6,
    "start_time": "2023-09-10T21:23:23.137Z"
   },
   {
    "duration": 24,
    "start_time": "2023-09-10T21:23:23.291Z"
   },
   {
    "duration": 7,
    "start_time": "2023-09-10T21:23:23.375Z"
   },
   {
    "duration": 13,
    "start_time": "2023-09-10T21:23:23.464Z"
   },
   {
    "duration": 13,
    "start_time": "2023-09-10T21:23:23.541Z"
   },
   {
    "duration": 4,
    "start_time": "2023-09-10T21:23:23.627Z"
   },
   {
    "duration": 6,
    "start_time": "2023-09-10T21:23:23.711Z"
   },
   {
    "duration": 150,
    "start_time": "2023-09-10T21:23:23.798Z"
   },
   {
    "duration": 18,
    "start_time": "2023-09-10T21:23:23.951Z"
   },
   {
    "duration": 5,
    "start_time": "2023-09-10T21:23:24.213Z"
   },
   {
    "duration": 10,
    "start_time": "2023-09-10T21:23:24.297Z"
   },
   {
    "duration": 9,
    "start_time": "2023-09-10T21:23:24.555Z"
   },
   {
    "duration": 7,
    "start_time": "2023-09-10T21:23:24.717Z"
   },
   {
    "duration": 10,
    "start_time": "2023-09-10T21:23:24.803Z"
   },
   {
    "duration": 25,
    "start_time": "2023-09-10T21:23:25.227Z"
   },
   {
    "duration": 6,
    "start_time": "2023-09-10T21:23:25.339Z"
   },
   {
    "duration": 24,
    "start_time": "2023-09-10T21:23:25.493Z"
   },
   {
    "duration": 13,
    "start_time": "2023-09-10T21:23:25.813Z"
   },
   {
    "duration": 422,
    "start_time": "2023-09-10T21:23:25.889Z"
   },
   {
    "duration": 43,
    "start_time": "2023-09-10T21:23:26.313Z"
   },
   {
    "duration": 4,
    "start_time": "2023-09-10T21:23:26.400Z"
   },
   {
    "duration": 36,
    "start_time": "2023-09-10T21:23:26.536Z"
   },
   {
    "duration": 85,
    "start_time": "2023-09-10T21:23:26.649Z"
   },
   {
    "duration": 58,
    "start_time": "2023-09-10T21:23:26.824Z"
   },
   {
    "duration": 9,
    "start_time": "2023-09-10T21:23:26.884Z"
   },
   {
    "duration": 1317,
    "start_time": "2023-09-10T21:23:27.101Z"
   },
   {
    "duration": 461,
    "start_time": "2023-09-10T21:23:28.421Z"
   },
   {
    "duration": 6,
    "start_time": "2023-09-10T21:23:28.884Z"
   },
   {
    "duration": 38,
    "start_time": "2023-09-10T21:23:28.892Z"
   },
   {
    "duration": 51,
    "start_time": "2023-09-10T21:23:28.932Z"
   },
   {
    "duration": 42,
    "start_time": "2023-09-10T21:23:28.985Z"
   },
   {
    "duration": 9,
    "start_time": "2023-09-10T21:23:29.044Z"
   },
   {
    "duration": 19,
    "start_time": "2023-09-10T21:23:29.055Z"
   },
   {
    "duration": 322,
    "start_time": "2023-09-10T21:23:29.257Z"
   },
   {
    "duration": 351,
    "start_time": "2023-09-10T21:25:49.177Z"
   },
   {
    "duration": 330,
    "start_time": "2023-09-10T21:30:53.027Z"
   },
   {
    "duration": 21,
    "start_time": "2023-09-10T21:30:54.187Z"
   },
   {
    "duration": 239,
    "start_time": "2023-09-10T21:30:54.508Z"
   },
   {
    "duration": 40,
    "start_time": "2023-09-10T21:30:55.070Z"
   },
   {
    "duration": 5,
    "start_time": "2023-09-10T21:30:56.800Z"
   },
   {
    "duration": 143,
    "start_time": "2023-09-10T21:30:57.805Z"
   },
   {
    "duration": 6,
    "start_time": "2023-09-10T21:31:00.094Z"
   },
   {
    "duration": 318,
    "start_time": "2023-09-10T21:31:24.815Z"
   },
   {
    "duration": 21,
    "start_time": "2023-09-10T21:35:12.743Z"
   },
   {
    "duration": 154,
    "start_time": "2023-09-10T21:35:30.977Z"
   },
   {
    "duration": 5,
    "start_time": "2023-09-10T21:35:31.802Z"
   },
   {
    "duration": 1782,
    "start_time": "2023-09-10T21:35:31.870Z"
   },
   {
    "duration": 13,
    "start_time": "2023-09-10T21:35:33.655Z"
   },
   {
    "duration": 1749,
    "start_time": "2023-09-10T21:35:33.674Z"
   },
   {
    "duration": 1599,
    "start_time": "2023-09-10T21:35:35.425Z"
   },
   {
    "duration": 65,
    "start_time": "2023-09-10T21:35:37.026Z"
   },
   {
    "duration": 234,
    "start_time": "2023-09-10T21:35:37.092Z"
   },
   {
    "duration": 41,
    "start_time": "2023-09-10T21:35:37.328Z"
   },
   {
    "duration": 4,
    "start_time": "2023-09-10T21:35:37.372Z"
   },
   {
    "duration": 262,
    "start_time": "2023-09-10T21:35:37.378Z"
   },
   {
    "duration": 1522,
    "start_time": "2023-09-10T21:35:37.643Z"
   },
   {
    "duration": 0,
    "start_time": "2023-09-10T21:35:39.168Z"
   },
   {
    "duration": 32,
    "start_time": "2023-09-10T21:37:49.798Z"
   },
   {
    "duration": 255,
    "start_time": "2023-09-10T21:37:53.933Z"
   },
   {
    "duration": 251,
    "start_time": "2023-09-10T21:37:56.584Z"
   },
   {
    "duration": 34,
    "start_time": "2023-09-10T21:38:06.467Z"
   },
   {
    "duration": 253,
    "start_time": "2023-09-10T21:38:13.788Z"
   },
   {
    "duration": 10,
    "start_time": "2023-09-10T21:38:18.343Z"
   },
   {
    "duration": 397,
    "start_time": "2023-09-10T21:48:10.830Z"
   },
   {
    "duration": 339,
    "start_time": "2023-09-10T21:48:17.925Z"
   },
   {
    "duration": 383,
    "start_time": "2023-09-10T21:48:59.836Z"
   },
   {
    "duration": 203,
    "start_time": "2023-09-10T21:49:18.468Z"
   },
   {
    "duration": 569,
    "start_time": "2023-09-10T21:51:51.680Z"
   },
   {
    "duration": 603,
    "start_time": "2023-09-10T21:52:27.825Z"
   },
   {
    "duration": 134,
    "start_time": "2023-09-10T21:53:54.970Z"
   },
   {
    "duration": 15,
    "start_time": "2023-09-10T21:54:11.398Z"
   },
   {
    "duration": 520,
    "start_time": "2023-09-10T21:54:28.616Z"
   },
   {
    "duration": 695,
    "start_time": "2023-09-10T21:54:29.572Z"
   },
   {
    "duration": 5,
    "start_time": "2023-09-10T21:54:46.134Z"
   },
   {
    "duration": 6,
    "start_time": "2023-09-10T21:54:46.995Z"
   },
   {
    "duration": 4,
    "start_time": "2023-09-10T21:54:48.720Z"
   },
   {
    "duration": 578,
    "start_time": "2023-09-10T21:54:50.630Z"
   },
   {
    "duration": 620,
    "start_time": "2023-09-10T21:55:07.643Z"
   },
   {
    "duration": 3,
    "start_time": "2023-09-10T21:57:38.040Z"
   },
   {
    "duration": 53,
    "start_time": "2023-09-10T21:57:38.674Z"
   },
   {
    "duration": 30,
    "start_time": "2023-09-10T21:57:38.729Z"
   },
   {
    "duration": 52,
    "start_time": "2023-09-10T21:57:38.826Z"
   },
   {
    "duration": 15,
    "start_time": "2023-09-10T21:57:39.011Z"
   },
   {
    "duration": 15,
    "start_time": "2023-09-10T21:57:39.064Z"
   },
   {
    "duration": 18,
    "start_time": "2023-09-10T21:57:39.188Z"
   },
   {
    "duration": 21,
    "start_time": "2023-09-10T21:57:39.298Z"
   },
   {
    "duration": 17,
    "start_time": "2023-09-10T21:57:46.011Z"
   },
   {
    "duration": 5,
    "start_time": "2023-09-10T21:57:46.431Z"
   },
   {
    "duration": 12,
    "start_time": "2023-09-10T21:57:46.508Z"
   },
   {
    "duration": 13,
    "start_time": "2023-09-10T21:57:46.589Z"
   },
   {
    "duration": 8,
    "start_time": "2023-09-10T21:57:46.808Z"
   },
   {
    "duration": 5,
    "start_time": "2023-09-10T21:57:47.174Z"
   },
   {
    "duration": 11,
    "start_time": "2023-09-10T21:57:47.342Z"
   },
   {
    "duration": 15,
    "start_time": "2023-09-10T21:57:47.515Z"
   },
   {
    "duration": 6,
    "start_time": "2023-09-10T21:57:47.594Z"
   },
   {
    "duration": 10,
    "start_time": "2023-09-10T21:57:47.678Z"
   },
   {
    "duration": 7,
    "start_time": "2023-09-10T21:57:47.766Z"
   },
   {
    "duration": 6,
    "start_time": "2023-09-10T21:57:47.849Z"
   },
   {
    "duration": 5,
    "start_time": "2023-09-10T21:57:47.929Z"
   },
   {
    "duration": 176,
    "start_time": "2023-09-10T21:57:48.016Z"
   },
   {
    "duration": 13,
    "start_time": "2023-09-10T21:57:48.194Z"
   },
   {
    "duration": 9,
    "start_time": "2023-09-10T21:57:48.443Z"
   },
   {
    "duration": 10,
    "start_time": "2023-09-10T21:57:48.516Z"
   },
   {
    "duration": 5,
    "start_time": "2023-09-10T21:57:48.795Z"
   },
   {
    "duration": 9,
    "start_time": "2023-09-10T21:57:48.936Z"
   },
   {
    "duration": 14,
    "start_time": "2023-09-10T21:57:49.019Z"
   },
   {
    "duration": 34,
    "start_time": "2023-09-10T21:57:49.437Z"
   },
   {
    "duration": 10,
    "start_time": "2023-09-10T21:57:49.553Z"
   },
   {
    "duration": 32,
    "start_time": "2023-09-10T21:57:49.698Z"
   },
   {
    "duration": 14,
    "start_time": "2023-09-10T21:57:50.022Z"
   },
   {
    "duration": 346,
    "start_time": "2023-09-10T21:57:50.105Z"
   },
   {
    "duration": 26,
    "start_time": "2023-09-10T21:57:50.454Z"
   },
   {
    "duration": 4,
    "start_time": "2023-09-10T21:57:50.663Z"
   },
   {
    "duration": 26,
    "start_time": "2023-09-10T21:57:50.713Z"
   },
   {
    "duration": 74,
    "start_time": "2023-09-10T21:57:50.826Z"
   },
   {
    "duration": 60,
    "start_time": "2023-09-10T21:57:50.950Z"
   },
   {
    "duration": 9,
    "start_time": "2023-09-10T21:57:51.096Z"
   },
   {
    "duration": 1433,
    "start_time": "2023-09-10T21:57:51.264Z"
   },
   {
    "duration": 367,
    "start_time": "2023-09-10T21:57:52.699Z"
   },
   {
    "duration": 8,
    "start_time": "2023-09-10T21:57:53.069Z"
   },
   {
    "duration": 27,
    "start_time": "2023-09-10T21:57:53.080Z"
   },
   {
    "duration": 65,
    "start_time": "2023-09-10T21:57:53.108Z"
   },
   {
    "duration": 29,
    "start_time": "2023-09-10T21:57:53.175Z"
   },
   {
    "duration": 7,
    "start_time": "2023-09-10T21:57:53.206Z"
   },
   {
    "duration": 12,
    "start_time": "2023-09-10T21:57:53.214Z"
   },
   {
    "duration": 336,
    "start_time": "2023-09-10T21:57:53.227Z"
   },
   {
    "duration": 370,
    "start_time": "2023-09-10T21:57:53.566Z"
   },
   {
    "duration": 32,
    "start_time": "2023-09-10T21:57:53.937Z"
   },
   {
    "duration": 245,
    "start_time": "2023-09-10T21:57:53.971Z"
   },
   {
    "duration": 50,
    "start_time": "2023-09-10T21:57:54.218Z"
   },
   {
    "duration": 5,
    "start_time": "2023-09-10T21:57:54.271Z"
   },
   {
    "duration": 330,
    "start_time": "2023-09-10T21:57:54.278Z"
   },
   {
    "duration": 9,
    "start_time": "2023-09-10T21:57:54.611Z"
   },
   {
    "duration": 1897,
    "start_time": "2023-09-10T21:57:54.622Z"
   },
   {
    "duration": 27,
    "start_time": "2023-09-10T21:57:56.521Z"
   },
   {
    "duration": 1573,
    "start_time": "2023-09-10T21:57:56.551Z"
   },
   {
    "duration": 1592,
    "start_time": "2023-09-10T21:57:58.126Z"
   },
   {
    "duration": 58,
    "start_time": "2023-09-10T21:57:59.720Z"
   },
   {
    "duration": 237,
    "start_time": "2023-09-10T21:57:59.781Z"
   },
   {
    "duration": 47,
    "start_time": "2023-09-10T21:58:00.020Z"
   },
   {
    "duration": 257,
    "start_time": "2023-09-10T21:58:00.070Z"
   },
   {
    "duration": 5,
    "start_time": "2023-09-10T21:58:00.329Z"
   },
   {
    "duration": 43,
    "start_time": "2023-09-10T21:58:00.344Z"
   },
   {
    "duration": 578,
    "start_time": "2023-09-10T21:58:00.389Z"
   },
   {
    "duration": 697,
    "start_time": "2023-09-10T21:58:00.970Z"
   },
   {
    "duration": 7,
    "start_time": "2023-09-10T21:58:01.670Z"
   },
   {
    "duration": 60,
    "start_time": "2023-09-10T21:58:01.679Z"
   },
   {
    "duration": 36,
    "start_time": "2023-09-10T21:58:01.741Z"
   },
   {
    "duration": 676,
    "start_time": "2023-09-10T21:58:01.779Z"
   },
   {
    "duration": 8,
    "start_time": "2023-09-10T21:58:02.458Z"
   },
   {
    "duration": 20,
    "start_time": "2023-09-10T21:58:02.475Z"
   },
   {
    "duration": 27,
    "start_time": "2023-09-10T21:58:02.498Z"
   },
   {
    "duration": 12,
    "start_time": "2023-09-10T21:58:02.527Z"
   },
   {
    "duration": 1521,
    "start_time": "2023-09-11T12:09:22.692Z"
   },
   {
    "duration": 97,
    "start_time": "2023-09-11T12:09:24.215Z"
   },
   {
    "duration": 82,
    "start_time": "2023-09-11T12:09:24.313Z"
   },
   {
    "duration": 83,
    "start_time": "2023-09-11T12:09:24.397Z"
   },
   {
    "duration": 15,
    "start_time": "2023-09-11T12:09:24.481Z"
   },
   {
    "duration": 21,
    "start_time": "2023-09-11T12:09:24.498Z"
   },
   {
    "duration": 20,
    "start_time": "2023-09-11T12:09:24.566Z"
   },
   {
    "duration": 20,
    "start_time": "2023-09-11T12:09:24.587Z"
   },
   {
    "duration": 71,
    "start_time": "2023-09-11T12:09:24.609Z"
   },
   {
    "duration": 9,
    "start_time": "2023-09-11T12:09:24.682Z"
   },
   {
    "duration": 20,
    "start_time": "2023-09-11T12:09:24.693Z"
   },
   {
    "duration": 63,
    "start_time": "2023-09-11T12:09:24.714Z"
   },
   {
    "duration": 25,
    "start_time": "2023-09-11T12:09:24.779Z"
   },
   {
    "duration": 6,
    "start_time": "2023-09-11T12:09:24.806Z"
   },
   {
    "duration": 54,
    "start_time": "2023-09-11T12:09:24.814Z"
   },
   {
    "duration": 15,
    "start_time": "2023-09-11T12:09:24.870Z"
   },
   {
    "duration": 6,
    "start_time": "2023-09-11T12:09:24.887Z"
   },
   {
    "duration": 12,
    "start_time": "2023-09-11T12:09:24.895Z"
   },
   {
    "duration": 61,
    "start_time": "2023-09-11T12:09:24.909Z"
   },
   {
    "duration": 15,
    "start_time": "2023-09-11T12:09:24.971Z"
   },
   {
    "duration": 8,
    "start_time": "2023-09-11T12:09:24.988Z"
   },
   {
    "duration": 271,
    "start_time": "2023-09-11T12:09:24.998Z"
   },
   {
    "duration": 14,
    "start_time": "2023-09-11T12:09:25.271Z"
   },
   {
    "duration": 9,
    "start_time": "2023-09-11T12:09:25.287Z"
   },
   {
    "duration": 16,
    "start_time": "2023-09-11T12:09:25.297Z"
   },
   {
    "duration": 54,
    "start_time": "2023-09-11T12:09:25.314Z"
   },
   {
    "duration": 7,
    "start_time": "2023-09-11T12:09:25.370Z"
   },
   {
    "duration": 30,
    "start_time": "2023-09-11T12:09:25.381Z"
   },
   {
    "duration": 73,
    "start_time": "2023-09-11T12:09:25.413Z"
   },
   {
    "duration": 21,
    "start_time": "2023-09-11T12:09:25.488Z"
   },
   {
    "duration": 70,
    "start_time": "2023-09-11T12:09:25.511Z"
   },
   {
    "duration": 27,
    "start_time": "2023-09-11T12:09:25.582Z"
   },
   {
    "duration": 377,
    "start_time": "2023-09-11T12:09:25.610Z"
   },
   {
    "duration": 29,
    "start_time": "2023-09-11T12:09:25.989Z"
   },
   {
    "duration": 3,
    "start_time": "2023-09-11T12:09:26.020Z"
   },
   {
    "duration": 48,
    "start_time": "2023-09-11T12:09:26.025Z"
   },
   {
    "duration": 70,
    "start_time": "2023-09-11T12:09:26.075Z"
   },
   {
    "duration": 67,
    "start_time": "2023-09-11T12:09:26.147Z"
   },
   {
    "duration": 9,
    "start_time": "2023-09-11T12:09:26.216Z"
   },
   {
    "duration": 1242,
    "start_time": "2023-09-11T12:09:26.226Z"
   },
   {
    "duration": 440,
    "start_time": "2023-09-11T12:09:27.469Z"
   },
   {
    "duration": 5,
    "start_time": "2023-09-11T12:09:27.911Z"
   },
   {
    "duration": 35,
    "start_time": "2023-09-11T12:09:27.918Z"
   },
   {
    "duration": 41,
    "start_time": "2023-09-11T12:09:27.955Z"
   },
   {
    "duration": 29,
    "start_time": "2023-09-11T12:09:27.998Z"
   },
   {
    "duration": 7,
    "start_time": "2023-09-11T12:09:28.029Z"
   },
   {
    "duration": 34,
    "start_time": "2023-09-11T12:09:28.038Z"
   },
   {
    "duration": 393,
    "start_time": "2023-09-11T12:09:28.074Z"
   },
   {
    "duration": 316,
    "start_time": "2023-09-11T12:09:28.469Z"
   },
   {
    "duration": 17,
    "start_time": "2023-09-11T12:09:28.787Z"
   },
   {
    "duration": 405,
    "start_time": "2023-09-11T12:09:28.806Z"
   },
   {
    "duration": 54,
    "start_time": "2023-09-11T12:09:29.213Z"
   },
   {
    "duration": 5,
    "start_time": "2023-09-11T12:09:29.268Z"
   },
   {
    "duration": 207,
    "start_time": "2023-09-11T12:09:29.275Z"
   },
   {
    "duration": 5,
    "start_time": "2023-09-11T12:09:29.484Z"
   },
   {
    "duration": 1720,
    "start_time": "2023-09-11T12:09:29.490Z"
   },
   {
    "duration": 11,
    "start_time": "2023-09-11T12:09:31.212Z"
   },
   {
    "duration": 1595,
    "start_time": "2023-09-11T12:09:31.225Z"
   },
   {
    "duration": 1419,
    "start_time": "2023-09-11T12:09:32.822Z"
   },
   {
    "duration": 46,
    "start_time": "2023-09-11T12:09:34.243Z"
   },
   {
    "duration": 352,
    "start_time": "2023-09-11T12:09:34.291Z"
   },
   {
    "duration": 42,
    "start_time": "2023-09-11T12:09:34.645Z"
   },
   {
    "duration": 239,
    "start_time": "2023-09-11T12:09:34.689Z"
   },
   {
    "duration": 4,
    "start_time": "2023-09-11T12:09:34.930Z"
   },
   {
    "duration": 15,
    "start_time": "2023-09-11T12:09:34.936Z"
   },
   {
    "duration": 569,
    "start_time": "2023-09-11T12:09:34.953Z"
   },
   {
    "duration": 557,
    "start_time": "2023-09-11T12:09:35.524Z"
   },
   {
    "duration": 6,
    "start_time": "2023-09-11T12:09:36.083Z"
   },
   {
    "duration": 34,
    "start_time": "2023-09-11T12:09:36.091Z"
   },
   {
    "duration": 16,
    "start_time": "2023-09-11T12:09:36.127Z"
   },
   {
    "duration": 560,
    "start_time": "2023-09-11T12:09:36.145Z"
   },
   {
    "duration": 6,
    "start_time": "2023-09-11T12:09:36.707Z"
   },
   {
    "duration": 8,
    "start_time": "2023-09-11T12:09:36.715Z"
   },
   {
    "duration": 21,
    "start_time": "2023-09-11T12:09:36.724Z"
   },
   {
    "duration": 9,
    "start_time": "2023-09-11T12:09:36.747Z"
   },
   {
    "duration": 115,
    "start_time": "2023-09-11T12:13:50.802Z"
   },
   {
    "duration": 24,
    "start_time": "2023-09-11T12:13:56.414Z"
   },
   {
    "duration": 26,
    "start_time": "2023-09-11T12:14:01.265Z"
   }
  ],
  "kernelspec": {
   "display_name": "Python 3 (ipykernel)",
   "language": "python",
   "name": "python3"
  },
  "language_info": {
   "codemirror_mode": {
    "name": "ipython",
    "version": 3
   },
   "file_extension": ".py",
   "mimetype": "text/x-python",
   "name": "python",
   "nbconvert_exporter": "python",
   "pygments_lexer": "ipython3",
   "version": "3.8.17"
  },
  "toc": {
   "base_numbering": 1,
   "nav_menu": {},
   "number_sections": true,
   "sideBar": true,
   "skip_h1_title": true,
   "title_cell": "Table of Contents",
   "title_sidebar": "Contents",
   "toc_cell": false,
   "toc_position": {
    "height": "calc(100% - 180px)",
    "left": "10px",
    "top": "150px",
    "width": "262.799988px"
   },
   "toc_section_display": true,
   "toc_window_display": true
  }
 },
 "nbformat": 4,
 "nbformat_minor": 4
}
