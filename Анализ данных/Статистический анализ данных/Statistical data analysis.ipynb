{
 "cells": [
  {
   "cell_type": "markdown",
   "id": "9b744e83",
   "metadata": {},
   "source": [
    "**Статистический анализ данных**"
   ]
  },
  {
   "cell_type": "markdown",
   "id": "9e92b068-a942-42ab-8c86-5d7473146bc7",
   "metadata": {},
   "source": [
    "**Исследование сервиса аренды самокатов GoFast**\n",
    "<br>\n",
    "<br>\n",
    "Нам передали данные о некоторых пользователях из нескольких городов, а также об их поездках. \n",
    "<br>\n",
    "<br>\n",
    "**Цель исследования:**\n",
    "<br>\n",
    "1)Проанализировать данные\n",
    "<br>\n",
    "2)Проверить некоторые гипотезы, которые могут помочь бизнесу вырасти.\n",
    "<br>\n",
    "<br>\n",
    "**Ход исследования:**\n",
    "<br>\n",
    "Данные о пользователях я получу из файла \"/datasets/users_go.csv\", данные о поездках я получу из файла \"/datasets/rides_go.csv\", данные о подписках я получу из файла \"/datasets/rides_go.csv\". О качестве данных ничего не известно. Поэтому перед тем, как приступать к целям исследования, понадобится обзор данных.\n",
    "<br>\n",
    "<br>\n",
    "Я проверю данные на пропуски и дубликаты. Затем, на этапе предобработки я поищу возможность исправить все ошибки данных, которые не приведут к искажению конечного результата. Далее, создам необходимые столбцы, создам дополнительные таблицы для удобства, и приступлю к проведению исследовательского анализа.\n",
    "<br>\n",
    "<br>\n",
    "Таким образом, моё исследование пройдёт в семь этапов:\n",
    "<br>\n",
    "<br>\n",
    "1)Загрузка и обзор данных.\n",
    "<br>\n",
    "2)Предобработка данных.\n",
    "<br>\n",
    "3)Анализ данных определенных данных из таблицы.\n",
    "<br>\n",
    "4)Объединение всех таблиц в одну, для дальнейшего удобства.\n",
    "<br>\n",
    "5)Подсчёт выручки.\n",
    "<br>\n",
    "6)Проверка определенных гипотез.\n",
    "<br>\n",
    "7)Написание общего вывода.\n",
    "\n"
   ]
  },
  {
   "cell_type": "code",
   "execution_count": 1,
   "id": "72576667",
   "metadata": {},
   "outputs": [],
   "source": [
    "import pandas as pd\n",
    "import matplotlib.pyplot as plt \n",
    "import numpy as np\n",
    "from scipy import stats as st"
   ]
  },
  {
   "cell_type": "markdown",
   "id": "c42cbe00",
   "metadata": {},
   "source": [
    "#### Шаг 1. Загрузка данных"
   ]
  },
  {
   "cell_type": "code",
   "execution_count": 2,
   "id": "eff9f206",
   "metadata": {},
   "outputs": [],
   "source": [
    "data_users = pd.read_csv(\"/datasets/users_go.csv\")\n",
    "data_rides = pd.read_csv(\"/datasets/rides_go.csv\")\n",
    "data_subscription = pd.read_csv(\"/datasets/subscriptions_go.csv\")"
   ]
  },
  {
   "cell_type": "code",
   "execution_count": 3,
   "id": "900006ee",
   "metadata": {},
   "outputs": [
    {
     "data": {
      "text/html": [
       "<div>\n",
       "<style scoped>\n",
       "    .dataframe tbody tr th:only-of-type {\n",
       "        vertical-align: middle;\n",
       "    }\n",
       "\n",
       "    .dataframe tbody tr th {\n",
       "        vertical-align: top;\n",
       "    }\n",
       "\n",
       "    .dataframe thead th {\n",
       "        text-align: right;\n",
       "    }\n",
       "</style>\n",
       "<table border=\"1\" class=\"dataframe\">\n",
       "  <thead>\n",
       "    <tr style=\"text-align: right;\">\n",
       "      <th></th>\n",
       "      <th>user_id</th>\n",
       "      <th>name</th>\n",
       "      <th>age</th>\n",
       "      <th>city</th>\n",
       "      <th>subscription_type</th>\n",
       "    </tr>\n",
       "  </thead>\n",
       "  <tbody>\n",
       "    <tr>\n",
       "      <th>0</th>\n",
       "      <td>1</td>\n",
       "      <td>Кира</td>\n",
       "      <td>22</td>\n",
       "      <td>Тюмень</td>\n",
       "      <td>ultra</td>\n",
       "    </tr>\n",
       "    <tr>\n",
       "      <th>1</th>\n",
       "      <td>2</td>\n",
       "      <td>Станислав</td>\n",
       "      <td>31</td>\n",
       "      <td>Омск</td>\n",
       "      <td>ultra</td>\n",
       "    </tr>\n",
       "    <tr>\n",
       "      <th>2</th>\n",
       "      <td>3</td>\n",
       "      <td>Алексей</td>\n",
       "      <td>20</td>\n",
       "      <td>Москва</td>\n",
       "      <td>ultra</td>\n",
       "    </tr>\n",
       "    <tr>\n",
       "      <th>3</th>\n",
       "      <td>4</td>\n",
       "      <td>Константин</td>\n",
       "      <td>26</td>\n",
       "      <td>Ростов-на-Дону</td>\n",
       "      <td>ultra</td>\n",
       "    </tr>\n",
       "    <tr>\n",
       "      <th>4</th>\n",
       "      <td>5</td>\n",
       "      <td>Адель</td>\n",
       "      <td>28</td>\n",
       "      <td>Омск</td>\n",
       "      <td>ultra</td>\n",
       "    </tr>\n",
       "    <tr>\n",
       "      <th>...</th>\n",
       "      <td>...</td>\n",
       "      <td>...</td>\n",
       "      <td>...</td>\n",
       "      <td>...</td>\n",
       "      <td>...</td>\n",
       "    </tr>\n",
       "    <tr>\n",
       "      <th>1560</th>\n",
       "      <td>829</td>\n",
       "      <td>Федор</td>\n",
       "      <td>29</td>\n",
       "      <td>Пятигорск</td>\n",
       "      <td>free</td>\n",
       "    </tr>\n",
       "    <tr>\n",
       "      <th>1561</th>\n",
       "      <td>809</td>\n",
       "      <td>Юрий</td>\n",
       "      <td>26</td>\n",
       "      <td>Сочи</td>\n",
       "      <td>free</td>\n",
       "    </tr>\n",
       "    <tr>\n",
       "      <th>1562</th>\n",
       "      <td>307</td>\n",
       "      <td>Ясмина</td>\n",
       "      <td>19</td>\n",
       "      <td>Краснодар</td>\n",
       "      <td>ultra</td>\n",
       "    </tr>\n",
       "    <tr>\n",
       "      <th>1563</th>\n",
       "      <td>47</td>\n",
       "      <td>Юрий</td>\n",
       "      <td>28</td>\n",
       "      <td>Тюмень</td>\n",
       "      <td>ultra</td>\n",
       "    </tr>\n",
       "    <tr>\n",
       "      <th>1564</th>\n",
       "      <td>1045</td>\n",
       "      <td>Артемий</td>\n",
       "      <td>28</td>\n",
       "      <td>Ростов-на-Дону</td>\n",
       "      <td>free</td>\n",
       "    </tr>\n",
       "  </tbody>\n",
       "</table>\n",
       "<p>1565 rows × 5 columns</p>\n",
       "</div>"
      ],
      "text/plain": [
       "      user_id        name  age            city subscription_type\n",
       "0           1        Кира   22          Тюмень             ultra\n",
       "1           2   Станислав   31            Омск             ultra\n",
       "2           3     Алексей   20          Москва             ultra\n",
       "3           4  Константин   26  Ростов-на-Дону             ultra\n",
       "4           5       Адель   28            Омск             ultra\n",
       "...       ...         ...  ...             ...               ...\n",
       "1560      829       Федор   29       Пятигорск              free\n",
       "1561      809        Юрий   26            Сочи              free\n",
       "1562      307      Ясмина   19       Краснодар             ultra\n",
       "1563       47        Юрий   28          Тюмень             ultra\n",
       "1564     1045     Артемий   28  Ростов-на-Дону              free\n",
       "\n",
       "[1565 rows x 5 columns]"
      ]
     },
     "execution_count": 3,
     "metadata": {},
     "output_type": "execute_result"
    }
   ],
   "source": [
    "data_users"
   ]
  },
  {
   "cell_type": "code",
   "execution_count": 4,
   "id": "746d40a3",
   "metadata": {},
   "outputs": [
    {
     "data": {
      "text/html": [
       "<div>\n",
       "<style scoped>\n",
       "    .dataframe tbody tr th:only-of-type {\n",
       "        vertical-align: middle;\n",
       "    }\n",
       "\n",
       "    .dataframe tbody tr th {\n",
       "        vertical-align: top;\n",
       "    }\n",
       "\n",
       "    .dataframe thead th {\n",
       "        text-align: right;\n",
       "    }\n",
       "</style>\n",
       "<table border=\"1\" class=\"dataframe\">\n",
       "  <thead>\n",
       "    <tr style=\"text-align: right;\">\n",
       "      <th></th>\n",
       "      <th>user_id</th>\n",
       "      <th>age</th>\n",
       "    </tr>\n",
       "  </thead>\n",
       "  <tbody>\n",
       "    <tr>\n",
       "      <th>count</th>\n",
       "      <td>1565.000000</td>\n",
       "      <td>1565.000000</td>\n",
       "    </tr>\n",
       "    <tr>\n",
       "      <th>mean</th>\n",
       "      <td>762.633866</td>\n",
       "      <td>24.922045</td>\n",
       "    </tr>\n",
       "    <tr>\n",
       "      <th>std</th>\n",
       "      <td>443.260155</td>\n",
       "      <td>4.553496</td>\n",
       "    </tr>\n",
       "    <tr>\n",
       "      <th>min</th>\n",
       "      <td>1.000000</td>\n",
       "      <td>12.000000</td>\n",
       "    </tr>\n",
       "    <tr>\n",
       "      <th>25%</th>\n",
       "      <td>378.000000</td>\n",
       "      <td>22.000000</td>\n",
       "    </tr>\n",
       "    <tr>\n",
       "      <th>50%</th>\n",
       "      <td>762.000000</td>\n",
       "      <td>25.000000</td>\n",
       "    </tr>\n",
       "    <tr>\n",
       "      <th>75%</th>\n",
       "      <td>1146.000000</td>\n",
       "      <td>28.000000</td>\n",
       "    </tr>\n",
       "    <tr>\n",
       "      <th>max</th>\n",
       "      <td>1534.000000</td>\n",
       "      <td>43.000000</td>\n",
       "    </tr>\n",
       "  </tbody>\n",
       "</table>\n",
       "</div>"
      ],
      "text/plain": [
       "           user_id          age\n",
       "count  1565.000000  1565.000000\n",
       "mean    762.633866    24.922045\n",
       "std     443.260155     4.553496\n",
       "min       1.000000    12.000000\n",
       "25%     378.000000    22.000000\n",
       "50%     762.000000    25.000000\n",
       "75%    1146.000000    28.000000\n",
       "max    1534.000000    43.000000"
      ]
     },
     "execution_count": 4,
     "metadata": {},
     "output_type": "execute_result"
    }
   ],
   "source": [
    "data_users.describe()"
   ]
  },
  {
   "cell_type": "code",
   "execution_count": 5,
   "id": "d805801b",
   "metadata": {},
   "outputs": [
    {
     "name": "stdout",
     "output_type": "stream",
     "text": [
      "<class 'pandas.core.frame.DataFrame'>\n",
      "RangeIndex: 1565 entries, 0 to 1564\n",
      "Data columns (total 5 columns):\n",
      " #   Column             Non-Null Count  Dtype \n",
      "---  ------             --------------  ----- \n",
      " 0   user_id            1565 non-null   int64 \n",
      " 1   name               1565 non-null   object\n",
      " 2   age                1565 non-null   int64 \n",
      " 3   city               1565 non-null   object\n",
      " 4   subscription_type  1565 non-null   object\n",
      "dtypes: int64(2), object(3)\n",
      "memory usage: 61.3+ KB\n"
     ]
    }
   ],
   "source": [
    "data_users.info()"
   ]
  },
  {
   "cell_type": "code",
   "execution_count": 6,
   "id": "8de27ada",
   "metadata": {},
   "outputs": [
    {
     "data": {
      "text/plain": [
       "user_id              0\n",
       "name                 0\n",
       "age                  0\n",
       "city                 0\n",
       "subscription_type    0\n",
       "dtype: int64"
      ]
     },
     "execution_count": 6,
     "metadata": {},
     "output_type": "execute_result"
    }
   ],
   "source": [
    "data_users.isna().sum()"
   ]
  },
  {
   "cell_type": "code",
   "execution_count": 7,
   "id": "c549fd2f",
   "metadata": {},
   "outputs": [
    {
     "data": {
      "text/plain": [
       "31"
      ]
     },
     "execution_count": 7,
     "metadata": {},
     "output_type": "execute_result"
    }
   ],
   "source": [
    "len(data_users[data_users.duplicated()])"
   ]
  },
  {
   "cell_type": "markdown",
   "id": "47e7f996",
   "metadata": {},
   "source": [
    "В таблице с пользователями максимальное, минимальное и средние значения возраста выгядят реалистичными, типы данных в порядке, пропусков нет,  имеются полные дубликаты, далее обратим на них внимание."
   ]
  },
  {
   "cell_type": "code",
   "execution_count": 8,
   "id": "0360592c",
   "metadata": {},
   "outputs": [
    {
     "data": {
      "text/html": [
       "<div>\n",
       "<style scoped>\n",
       "    .dataframe tbody tr th:only-of-type {\n",
       "        vertical-align: middle;\n",
       "    }\n",
       "\n",
       "    .dataframe tbody tr th {\n",
       "        vertical-align: top;\n",
       "    }\n",
       "\n",
       "    .dataframe thead th {\n",
       "        text-align: right;\n",
       "    }\n",
       "</style>\n",
       "<table border=\"1\" class=\"dataframe\">\n",
       "  <thead>\n",
       "    <tr style=\"text-align: right;\">\n",
       "      <th></th>\n",
       "      <th>user_id</th>\n",
       "      <th>distance</th>\n",
       "      <th>duration</th>\n",
       "      <th>date</th>\n",
       "    </tr>\n",
       "  </thead>\n",
       "  <tbody>\n",
       "    <tr>\n",
       "      <th>0</th>\n",
       "      <td>1</td>\n",
       "      <td>4409.919140</td>\n",
       "      <td>25.599769</td>\n",
       "      <td>2021-01-01</td>\n",
       "    </tr>\n",
       "    <tr>\n",
       "      <th>1</th>\n",
       "      <td>1</td>\n",
       "      <td>2617.592153</td>\n",
       "      <td>15.816871</td>\n",
       "      <td>2021-01-18</td>\n",
       "    </tr>\n",
       "    <tr>\n",
       "      <th>2</th>\n",
       "      <td>1</td>\n",
       "      <td>754.159807</td>\n",
       "      <td>6.232113</td>\n",
       "      <td>2021-04-20</td>\n",
       "    </tr>\n",
       "    <tr>\n",
       "      <th>3</th>\n",
       "      <td>1</td>\n",
       "      <td>2694.783254</td>\n",
       "      <td>18.511000</td>\n",
       "      <td>2021-08-11</td>\n",
       "    </tr>\n",
       "    <tr>\n",
       "      <th>4</th>\n",
       "      <td>1</td>\n",
       "      <td>4028.687306</td>\n",
       "      <td>26.265803</td>\n",
       "      <td>2021-08-28</td>\n",
       "    </tr>\n",
       "    <tr>\n",
       "      <th>...</th>\n",
       "      <td>...</td>\n",
       "      <td>...</td>\n",
       "      <td>...</td>\n",
       "      <td>...</td>\n",
       "    </tr>\n",
       "    <tr>\n",
       "      <th>18063</th>\n",
       "      <td>1534</td>\n",
       "      <td>3781.098080</td>\n",
       "      <td>19.822962</td>\n",
       "      <td>2021-11-04</td>\n",
       "    </tr>\n",
       "    <tr>\n",
       "      <th>18064</th>\n",
       "      <td>1534</td>\n",
       "      <td>2840.423057</td>\n",
       "      <td>21.409799</td>\n",
       "      <td>2021-11-16</td>\n",
       "    </tr>\n",
       "    <tr>\n",
       "      <th>18065</th>\n",
       "      <td>1534</td>\n",
       "      <td>3826.185507</td>\n",
       "      <td>18.435051</td>\n",
       "      <td>2021-11-18</td>\n",
       "    </tr>\n",
       "    <tr>\n",
       "      <th>18066</th>\n",
       "      <td>1534</td>\n",
       "      <td>2902.308661</td>\n",
       "      <td>16.674362</td>\n",
       "      <td>2021-11-27</td>\n",
       "    </tr>\n",
       "    <tr>\n",
       "      <th>18067</th>\n",
       "      <td>1534</td>\n",
       "      <td>2371.711192</td>\n",
       "      <td>15.893917</td>\n",
       "      <td>2021-12-29</td>\n",
       "    </tr>\n",
       "  </tbody>\n",
       "</table>\n",
       "<p>18068 rows × 4 columns</p>\n",
       "</div>"
      ],
      "text/plain": [
       "       user_id     distance   duration        date\n",
       "0            1  4409.919140  25.599769  2021-01-01\n",
       "1            1  2617.592153  15.816871  2021-01-18\n",
       "2            1   754.159807   6.232113  2021-04-20\n",
       "3            1  2694.783254  18.511000  2021-08-11\n",
       "4            1  4028.687306  26.265803  2021-08-28\n",
       "...        ...          ...        ...         ...\n",
       "18063     1534  3781.098080  19.822962  2021-11-04\n",
       "18064     1534  2840.423057  21.409799  2021-11-16\n",
       "18065     1534  3826.185507  18.435051  2021-11-18\n",
       "18066     1534  2902.308661  16.674362  2021-11-27\n",
       "18067     1534  2371.711192  15.893917  2021-12-29\n",
       "\n",
       "[18068 rows x 4 columns]"
      ]
     },
     "execution_count": 8,
     "metadata": {},
     "output_type": "execute_result"
    }
   ],
   "source": [
    "data_rides"
   ]
  },
  {
   "cell_type": "code",
   "execution_count": 9,
   "id": "7fff528c",
   "metadata": {},
   "outputs": [
    {
     "data": {
      "text/html": [
       "<div>\n",
       "<style scoped>\n",
       "    .dataframe tbody tr th:only-of-type {\n",
       "        vertical-align: middle;\n",
       "    }\n",
       "\n",
       "    .dataframe tbody tr th {\n",
       "        vertical-align: top;\n",
       "    }\n",
       "\n",
       "    .dataframe thead th {\n",
       "        text-align: right;\n",
       "    }\n",
       "</style>\n",
       "<table border=\"1\" class=\"dataframe\">\n",
       "  <thead>\n",
       "    <tr style=\"text-align: right;\">\n",
       "      <th></th>\n",
       "      <th>user_id</th>\n",
       "      <th>distance</th>\n",
       "      <th>duration</th>\n",
       "    </tr>\n",
       "  </thead>\n",
       "  <tbody>\n",
       "    <tr>\n",
       "      <th>count</th>\n",
       "      <td>18068.000000</td>\n",
       "      <td>18068.000000</td>\n",
       "      <td>18068.000000</td>\n",
       "    </tr>\n",
       "    <tr>\n",
       "      <th>mean</th>\n",
       "      <td>842.869936</td>\n",
       "      <td>3070.659976</td>\n",
       "      <td>17.805011</td>\n",
       "    </tr>\n",
       "    <tr>\n",
       "      <th>std</th>\n",
       "      <td>434.734317</td>\n",
       "      <td>1116.831209</td>\n",
       "      <td>6.091051</td>\n",
       "    </tr>\n",
       "    <tr>\n",
       "      <th>min</th>\n",
       "      <td>1.000000</td>\n",
       "      <td>0.855683</td>\n",
       "      <td>0.500000</td>\n",
       "    </tr>\n",
       "    <tr>\n",
       "      <th>25%</th>\n",
       "      <td>487.000000</td>\n",
       "      <td>2543.226360</td>\n",
       "      <td>13.597563</td>\n",
       "    </tr>\n",
       "    <tr>\n",
       "      <th>50%</th>\n",
       "      <td>889.000000</td>\n",
       "      <td>3133.609994</td>\n",
       "      <td>17.678395</td>\n",
       "    </tr>\n",
       "    <tr>\n",
       "      <th>75%</th>\n",
       "      <td>1213.250000</td>\n",
       "      <td>3776.222735</td>\n",
       "      <td>21.724800</td>\n",
       "    </tr>\n",
       "    <tr>\n",
       "      <th>max</th>\n",
       "      <td>1534.000000</td>\n",
       "      <td>7211.007745</td>\n",
       "      <td>40.823963</td>\n",
       "    </tr>\n",
       "  </tbody>\n",
       "</table>\n",
       "</div>"
      ],
      "text/plain": [
       "            user_id      distance      duration\n",
       "count  18068.000000  18068.000000  18068.000000\n",
       "mean     842.869936   3070.659976     17.805011\n",
       "std      434.734317   1116.831209      6.091051\n",
       "min        1.000000      0.855683      0.500000\n",
       "25%      487.000000   2543.226360     13.597563\n",
       "50%      889.000000   3133.609994     17.678395\n",
       "75%     1213.250000   3776.222735     21.724800\n",
       "max     1534.000000   7211.007745     40.823963"
      ]
     },
     "execution_count": 9,
     "metadata": {},
     "output_type": "execute_result"
    }
   ],
   "source": [
    "data_rides.describe()"
   ]
  },
  {
   "cell_type": "code",
   "execution_count": 10,
   "id": "2f9166ac",
   "metadata": {},
   "outputs": [
    {
     "name": "stdout",
     "output_type": "stream",
     "text": [
      "<class 'pandas.core.frame.DataFrame'>\n",
      "RangeIndex: 18068 entries, 0 to 18067\n",
      "Data columns (total 4 columns):\n",
      " #   Column    Non-Null Count  Dtype  \n",
      "---  ------    --------------  -----  \n",
      " 0   user_id   18068 non-null  int64  \n",
      " 1   distance  18068 non-null  float64\n",
      " 2   duration  18068 non-null  float64\n",
      " 3   date      18068 non-null  object \n",
      "dtypes: float64(2), int64(1), object(1)\n",
      "memory usage: 564.8+ KB\n"
     ]
    }
   ],
   "source": [
    "data_rides.info()"
   ]
  },
  {
   "cell_type": "code",
   "execution_count": 11,
   "id": "99c6a316",
   "metadata": {},
   "outputs": [
    {
     "data": {
      "text/plain": [
       "user_id     0\n",
       "distance    0\n",
       "duration    0\n",
       "date        0\n",
       "dtype: int64"
      ]
     },
     "execution_count": 11,
     "metadata": {},
     "output_type": "execute_result"
    }
   ],
   "source": [
    "data_rides.isna().sum()"
   ]
  },
  {
   "cell_type": "code",
   "execution_count": 12,
   "id": "5ff19d8d",
   "metadata": {},
   "outputs": [
    {
     "data": {
      "text/plain": [
       "0"
      ]
     },
     "execution_count": 12,
     "metadata": {},
     "output_type": "execute_result"
    }
   ],
   "source": [
    "len(data_rides[data_rides.duplicated()])"
   ]
  },
  {
   "cell_type": "markdown",
   "id": "7188b943",
   "metadata": {},
   "source": [
    "В таблице с поездками максимальное и средние значения во всех столбцах выгядят реалистичными,к минимальным значениям есть вопросы, типы данных в порядке, пропусков нет, полных дубликатов нет."
   ]
  },
  {
   "cell_type": "code",
   "execution_count": 13,
   "id": "811ff819",
   "metadata": {},
   "outputs": [
    {
     "data": {
      "text/html": [
       "<div>\n",
       "<style scoped>\n",
       "    .dataframe tbody tr th:only-of-type {\n",
       "        vertical-align: middle;\n",
       "    }\n",
       "\n",
       "    .dataframe tbody tr th {\n",
       "        vertical-align: top;\n",
       "    }\n",
       "\n",
       "    .dataframe thead th {\n",
       "        text-align: right;\n",
       "    }\n",
       "</style>\n",
       "<table border=\"1\" class=\"dataframe\">\n",
       "  <thead>\n",
       "    <tr style=\"text-align: right;\">\n",
       "      <th></th>\n",
       "      <th>subscription_type</th>\n",
       "      <th>minute_price</th>\n",
       "      <th>start_ride_price</th>\n",
       "      <th>subscription_fee</th>\n",
       "    </tr>\n",
       "  </thead>\n",
       "  <tbody>\n",
       "    <tr>\n",
       "      <th>0</th>\n",
       "      <td>free</td>\n",
       "      <td>8</td>\n",
       "      <td>50</td>\n",
       "      <td>0</td>\n",
       "    </tr>\n",
       "    <tr>\n",
       "      <th>1</th>\n",
       "      <td>ultra</td>\n",
       "      <td>6</td>\n",
       "      <td>0</td>\n",
       "      <td>199</td>\n",
       "    </tr>\n",
       "  </tbody>\n",
       "</table>\n",
       "</div>"
      ],
      "text/plain": [
       "  subscription_type  minute_price  start_ride_price  subscription_fee\n",
       "0              free             8                50                 0\n",
       "1             ultra             6                 0               199"
      ]
     },
     "execution_count": 13,
     "metadata": {},
     "output_type": "execute_result"
    }
   ],
   "source": [
    "data_subscription"
   ]
  },
  {
   "cell_type": "markdown",
   "id": "bd7bd88b",
   "metadata": {},
   "source": [
    "Здесь все впорядке"
   ]
  },
  {
   "cell_type": "markdown",
   "id": "e95ebca7",
   "metadata": {},
   "source": [
    "#### Шаг 2. Предобработка данных"
   ]
  },
  {
   "cell_type": "code",
   "execution_count": 14,
   "id": "af6d202c",
   "metadata": {},
   "outputs": [],
   "source": [
    "data_rides[\"date\"] = pd.to_datetime(data_rides[\"date\"] , format = \"%Y-%m-%d\")"
   ]
  },
  {
   "cell_type": "code",
   "execution_count": 15,
   "id": "41d9e1d3",
   "metadata": {},
   "outputs": [
    {
     "name": "stdout",
     "output_type": "stream",
     "text": [
      "min:  2021 max:  2021\n"
     ]
    }
   ],
   "source": [
    "ma = -1\n",
    "mi = 3000\n",
    "for item in data_rides[\"date\"]:\n",
    "    ma = max(ma , item.year)\n",
    "    mi = min(mi , item.year)\n",
    "print(\"min: \" , ma , \"max: \" , mi)\n",
    "    "
   ]
  },
  {
   "cell_type": "markdown",
   "id": "49432642",
   "metadata": {},
   "source": [
    "**Исследования только за 2021 год**"
   ]
  },
  {
   "cell_type": "code",
   "execution_count": 16,
   "id": "b76a4436",
   "metadata": {},
   "outputs": [],
   "source": [
    "data_rides[\"month\"] = data_rides[\"date\"].apply(lambda x: x.month)"
   ]
  },
  {
   "cell_type": "code",
   "execution_count": 17,
   "id": "f7a85691",
   "metadata": {},
   "outputs": [
    {
     "data": {
      "image/png": "[encoded data removed]",
      "text/plain": [
       "<Figure size 432x288 with 1 Axes>"
      ]
     },
     "metadata": {
      "needs_background": "light"
     },
     "output_type": "display_data"
    }
   ],
   "source": [
    "data_rides[\"duration\"].plot(kind = \"box\");"
   ]
  },
  {
   "cell_type": "markdown",
   "id": "58bf0598",
   "metadata": {},
   "source": [
    "Есть анамалии в виде слишком коротких поездок, возможно это связано с тем, что пользователи не могут поехать на самокате из-за технических неполадок."
   ]
  },
  {
   "cell_type": "code",
   "execution_count": 18,
   "id": "4ae3f066",
   "metadata": {},
   "outputs": [
    {
     "data": {
      "text/plain": [
       "array([2021])"
      ]
     },
     "execution_count": 18,
     "metadata": {},
     "output_type": "execute_result"
    }
   ],
   "source": [
    "data_rides['date'].dt.year.unique()"
   ]
  },
  {
   "cell_type": "code",
   "execution_count": 19,
   "id": "99611f5f",
   "metadata": {},
   "outputs": [
    {
     "data": {
      "text/plain": [
       "user_id              0\n",
       "name                 0\n",
       "age                  0\n",
       "city                 0\n",
       "subscription_type    0\n",
       "dtype: int64"
      ]
     },
     "execution_count": 19,
     "metadata": {},
     "output_type": "execute_result"
    }
   ],
   "source": [
    "data_users.isna().sum()"
   ]
  },
  {
   "cell_type": "code",
   "execution_count": 20,
   "id": "e0797277",
   "metadata": {},
   "outputs": [
    {
     "data": {
      "text/plain": [
       "user_id     0\n",
       "distance    0\n",
       "duration    0\n",
       "date        0\n",
       "month       0\n",
       "dtype: int64"
      ]
     },
     "execution_count": 20,
     "metadata": {},
     "output_type": "execute_result"
    }
   ],
   "source": [
    "data_rides.isna().sum()"
   ]
  },
  {
   "cell_type": "code",
   "execution_count": 21,
   "id": "09415ec3",
   "metadata": {},
   "outputs": [
    {
     "name": "stdout",
     "output_type": "stream",
     "text": [
      "31\n",
      "0\n"
     ]
    }
   ],
   "source": [
    "print(len(data_users[data_users.duplicated()]))\n",
    "data_users = data_users.drop_duplicates()\n",
    "print(len(data_users[data_users.duplicated()]))\n",
    "data_users = data_users.reset_index(drop = True)"
   ]
  },
  {
   "cell_type": "code",
   "execution_count": 22,
   "id": "3816952a",
   "metadata": {},
   "outputs": [
    {
     "data": {
      "text/plain": [
       "0"
      ]
     },
     "execution_count": 22,
     "metadata": {},
     "output_type": "execute_result"
    }
   ],
   "source": [
    "len(data_rides[data_rides.duplicated()])"
   ]
  },
  {
   "cell_type": "code",
   "execution_count": 23,
   "id": "8ee70100",
   "metadata": {},
   "outputs": [
    {
     "data": {
      "text/plain": [
       "0"
      ]
     },
     "execution_count": 23,
     "metadata": {},
     "output_type": "execute_result"
    }
   ],
   "source": [
    "len(data_subscription[data_subscription.duplicated()])"
   ]
  },
  {
   "cell_type": "markdown",
   "id": "3d40fb3d",
   "metadata": {},
   "source": [
    "**Вывод**\n",
    "<br>\n",
    "Во всех датафреймах нет пропущенных значений\n",
    "<br>\n",
    "Все дубликаты в таблице с поездками были удалены, в других таблицах полных дубликатов нет\n"
   ]
  },
  {
   "cell_type": "markdown",
   "id": "212593c7",
   "metadata": {},
   "source": [
    "#### Шаг 3. Исследовательский анализ данных"
   ]
  },
  {
   "cell_type": "markdown",
   "id": "dce5c212",
   "metadata": {},
   "source": [
    "##### Частота встречаемости городов"
   ]
  },
  {
   "cell_type": "code",
   "execution_count": 24,
   "id": "e3a4274c",
   "metadata": {},
   "outputs": [
    {
     "data": {
      "text/plain": [
       "city\n",
       "Пятигорск         219\n",
       "Екатеринбург      204\n",
       "Ростов-на-Дону    198\n",
       "Краснодар         193\n",
       "Сочи              189\n",
       "Омск              183\n",
       "Тюмень            180\n",
       "Москва            168\n",
       "Name: user_id, dtype: int64"
      ]
     },
     "execution_count": 24,
     "metadata": {},
     "output_type": "execute_result"
    }
   ],
   "source": [
    "data_users.groupby(\"city\").count()[\"user_id\"].sort_values(ascending=False)"
   ]
  },
  {
   "cell_type": "code",
   "execution_count": 25,
   "id": "c1137c83",
   "metadata": {},
   "outputs": [
    {
     "data": {
      "image/png": "[encoded data removed]",
      "text/plain": [
       "<Figure size 432x288 with 1 Axes>"
      ]
     },
     "metadata": {
      "needs_background": "light"
     },
     "output_type": "display_data"
    }
   ],
   "source": [
    "data_users.groupby(\"city\").count()[\"user_id\"].sort_values(ascending=False).plot(kind = \"bar\");\n",
    "plt.title(\"Частота встречаемости городов\");\n",
    "plt.xlabel(\"Города\");\n",
    "plt.ylabel(\"Частота\");\n"
   ]
  },
  {
   "cell_type": "markdown",
   "id": "3628ab27",
   "metadata": {},
   "source": [
    "Больше всего пользователей из Пятигорска\n",
    "<br>\n",
    "Меньше всего пользователей из Москвы"
   ]
  },
  {
   "cell_type": "markdown",
   "id": "ccefab38",
   "metadata": {},
   "source": [
    "##### Соотношение пользователей с подпиской и без подписки"
   ]
  },
  {
   "cell_type": "code",
   "execution_count": 26,
   "id": "daa404fe",
   "metadata": {},
   "outputs": [
    {
     "data": {
      "text/plain": [
       "subscription_type\n",
       "free     835\n",
       "ultra    699\n",
       "Name: user_id, dtype: int64"
      ]
     },
     "execution_count": 26,
     "metadata": {},
     "output_type": "execute_result"
    }
   ],
   "source": [
    "data_users.groupby(\"subscription_type\").count()[\"user_id\"]"
   ]
  },
  {
   "cell_type": "code",
   "execution_count": 27,
   "id": "f181a566",
   "metadata": {},
   "outputs": [
    {
     "data": {
      "image/png": "[encoded data removed]",
      "text/plain": [
       "<Figure size 432x288 with 1 Axes>"
      ]
     },
     "metadata": {
      "needs_background": "light"
     },
     "output_type": "display_data"
    }
   ],
   "source": [
    "data_users.groupby(\"subscription_type\").count()[\"user_id\"].plot(kind = \"bar\");\n",
    "plt.title(\"Количество пользователей с/без подписки\");\n",
    "plt.xlabel(\"Тип подписки\");\n",
    "plt.ylabel(\"Количество\");"
   ]
  },
  {
   "cell_type": "code",
   "execution_count": 28,
   "id": "356daaa7",
   "metadata": {},
   "outputs": [
    {
     "name": "stdout",
     "output_type": "stream",
     "text": [
      "  subscription_type  user_id\n",
      "0              free      835\n",
      "1             ultra      699\n",
      "Процент пользователей с подпиской: 46 %\n",
      "Процент пользователей без подписки: 54 %\n"
     ]
    }
   ],
   "source": [
    "tmp = data_users.groupby(\"subscription_type\").count()[\"user_id\"].reset_index().copy()\n",
    "print(tmp)\n",
    "print(\"Процент пользователей с подпиской:\" , round(tmp.at[1 , \"user_id\"] / (tmp.at[1 , \"user_id\"] + tmp.at[0 , \"user_id\"])* 100) , \"%\")\n",
    "print(\"Процент пользователей без подписки:\" , round(tmp.at[0 , \"user_id\"] / (tmp.at[1 , \"user_id\"] + tmp.at[0 , \"user_id\"])* 100), \"%\")"
   ]
  },
  {
   "cell_type": "markdown",
   "id": "8e22337c",
   "metadata": {},
   "source": [
    "Пользователей без подписки немного больше"
   ]
  },
  {
   "cell_type": "markdown",
   "id": "7598cf52",
   "metadata": {},
   "source": [
    "##### Возраст пользователей"
   ]
  },
  {
   "cell_type": "code",
   "execution_count": 29,
   "id": "f74760b0",
   "metadata": {},
   "outputs": [
    {
     "data": {
      "text/plain": [
       "count    1534.000000\n",
       "mean       24.903520\n",
       "std         4.572367\n",
       "min        12.000000\n",
       "25%        22.000000\n",
       "50%        25.000000\n",
       "75%        28.000000\n",
       "max        43.000000\n",
       "Name: age, dtype: float64"
      ]
     },
     "execution_count": 29,
     "metadata": {},
     "output_type": "execute_result"
    }
   ],
   "source": [
    "data_users[\"age\"].describe()"
   ]
  },
  {
   "cell_type": "code",
   "execution_count": 30,
   "id": "6b4b8107",
   "metadata": {},
   "outputs": [
    {
     "data": {
      "image/png": "[encoded data removed]",
      "text/plain": [
       "<Figure size 432x288 with 1 Axes>"
      ]
     },
     "metadata": {
      "needs_background": "light"
     },
     "output_type": "display_data"
    }
   ],
   "source": [
    "data_users[\"age\"].plot(kind = \"hist\" , bins = 30);\n",
    "plt.title(\"Гистограмма возрастов пользователей\");\n",
    "plt.xlabel(\"Возраст\");\n",
    "plt.ylabel(\"Частота\");"
   ]
  },
  {
   "cell_type": "markdown",
   "id": "c9fdfcb6",
   "metadata": {},
   "source": [
    "График похож на нормальное распределение\n",
    "<br>\n",
    "Среднее значение возраста пользователей - 25 лет\n",
    "<br>\n",
    "Минимальное значение возраста пользователей - 12 лет\n",
    "<br>\n",
    "Максимальное значение возраста пользователей - 43 лет"
   ]
  },
  {
   "cell_type": "markdown",
   "id": "0561ce4a",
   "metadata": {},
   "source": [
    "##### Расстояние, которое пользователь преодолел за одну поездку"
   ]
  },
  {
   "cell_type": "code",
   "execution_count": 31,
   "id": "ba331e17",
   "metadata": {},
   "outputs": [
    {
     "data": {
      "text/plain": [
       "count    18068.000000\n",
       "mean      3070.659976\n",
       "std       1116.831209\n",
       "min          0.855683\n",
       "25%       2543.226360\n",
       "50%       3133.609994\n",
       "75%       3776.222735\n",
       "max       7211.007745\n",
       "Name: distance, dtype: float64"
      ]
     },
     "execution_count": 31,
     "metadata": {},
     "output_type": "execute_result"
    }
   ],
   "source": [
    "data_rides[\"distance\"].describe()"
   ]
  },
  {
   "cell_type": "code",
   "execution_count": 32,
   "id": "47959c98",
   "metadata": {},
   "outputs": [
    {
     "data": {
      "image/png": "[encoded data removed]",
      "text/plain": [
       "<Figure size 432x288 with 1 Axes>"
      ]
     },
     "metadata": {
      "needs_background": "light"
     },
     "output_type": "display_data"
    }
   ],
   "source": [
    "data_rides[\"distance\"].plot(kind = \"hist\" , bins = 30);\n",
    "plt.title(\"Гистограмма расстояний, которые пользователи преодолели за одну поездку\");\n",
    "plt.xlabel(\"Расстояния(метры)\");\n",
    "plt.ylabel(\"Частота\");"
   ]
  },
  {
   "cell_type": "code",
   "execution_count": 33,
   "id": "df5d9d0c",
   "metadata": {},
   "outputs": [
    {
     "data": {
      "image/png": "[encoded data removed]",
      "text/plain": [
       "<Figure size 432x288 with 1 Axes>"
      ]
     },
     "metadata": {
      "needs_background": "light"
     },
     "output_type": "display_data"
    }
   ],
   "source": [
    "data_rides[\"distance\"].plot(kind = \"hist\" , bins = 30 , range = (0,1000));\n",
    "plt.title(\"Гистограмма расстояний, которые пользователи преодолели за одну поездку от 0 до 1000 метров\");\n",
    "plt.xlabel(\"Расстояния(метры)\");\n",
    "plt.ylabel(\"Частота\");\n"
   ]
  },
  {
   "cell_type": "markdown",
   "id": "59e4f167",
   "metadata": {},
   "source": [
    "График имеет второй купол в районе 500 метров, можно предположить, что это связано с тем, что пользователям не нравятся определенные самокаты(например с какими-либо неисправностями) и они быстро завершают аренду, чтобы взять другой самокат или же столь короткие поездки популярны среди пользователей.\n",
    "<br>\n",
    "<br>\n",
    "Среднее значение дистанции пользователей - 3070 меров\n",
    "<br>\n",
    "Минимальное значение дистанции пользователей - 1 метр (возможно не получилось поехать)\n",
    "<br>\n",
    "Максимальное значение дистанции пользователей - 7211 метров"
   ]
  },
  {
   "cell_type": "markdown",
   "id": "ae3f1db1",
   "metadata": {},
   "source": [
    "##### Продолжительность поездок"
   ]
  },
  {
   "cell_type": "code",
   "execution_count": 34,
   "id": "d8d4fee4",
   "metadata": {},
   "outputs": [
    {
     "data": {
      "text/plain": [
       "count    18068.000000\n",
       "mean        17.805011\n",
       "std          6.091051\n",
       "min          0.500000\n",
       "25%         13.597563\n",
       "50%         17.678395\n",
       "75%         21.724800\n",
       "max         40.823963\n",
       "Name: duration, dtype: float64"
      ]
     },
     "execution_count": 34,
     "metadata": {},
     "output_type": "execute_result"
    }
   ],
   "source": [
    "data_rides[\"duration\"].describe()"
   ]
  },
  {
   "cell_type": "code",
   "execution_count": 35,
   "id": "4e3ce840",
   "metadata": {},
   "outputs": [
    {
     "data": {
      "image/png": "[encoded data removed]",
      "text/plain": [
       "<Figure size 432x288 with 1 Axes>"
      ]
     },
     "metadata": {
      "needs_background": "light"
     },
     "output_type": "display_data"
    }
   ],
   "source": [
    "data_rides[\"duration\"].plot(kind = \"hist\" , bins = 30);\n",
    "plt.title(\"Гистограмма длительностей поездок пользователей\");\n",
    "plt.xlabel(\"время поездки(минуты)\");\n",
    "plt.ylabel(\"Частота\");"
   ]
  },
  {
   "cell_type": "code",
   "execution_count": 36,
   "id": "179dc5c4",
   "metadata": {},
   "outputs": [
    {
     "data": {
      "image/png": "[encoded data removed]",
      "text/plain": [
       "<Figure size 432x288 with 1 Axes>"
      ]
     },
     "metadata": {
      "needs_background": "light"
     },
     "output_type": "display_data"
    }
   ],
   "source": [
    "data_rides[\"duration\"].plot(kind = \"hist\" , bins = 30 , range = (0 , 5));\n",
    "plt.title(\"Гистограмма длительностей поездок пользователей от 0 до 5 минут\");\n",
    "plt.xlabel(\"время поездки(минуты)\");\n",
    "plt.ylabel(\"Частота\");"
   ]
  },
  {
   "cell_type": "code",
   "execution_count": 37,
   "id": "00509289",
   "metadata": {},
   "outputs": [
    {
     "data": {
      "image/png": "[encoded data removed]",
      "text/plain": [
       "<Figure size 432x288 with 1 Axes>"
      ]
     },
     "metadata": {
      "needs_background": "light"
     },
     "output_type": "display_data"
    }
   ],
   "source": [
    "data_rides[\"duration\"].plot(kind = \"box\");\n",
    "plt.title(\"Размах длительностей поездок пользователей\");\n",
    "plt.ylabel(\"время поездки(минуты)\");\n"
   ]
  },
  {
   "cell_type": "code",
   "execution_count": 38,
   "id": "3de08aa1",
   "metadata": {},
   "outputs": [
    {
     "data": {
      "image/png": "[encoded data removed]",
      "text/plain": [
       "<Figure size 432x288 with 1 Axes>"
      ]
     },
     "metadata": {
      "needs_background": "light"
     },
     "output_type": "display_data"
    }
   ],
   "source": [
    "data_rides[\"duration\"].plot(kind = \"box\");\n",
    "plt.title(\"Размах длительностей поездок пользователей от 0 до 5 минту\");\n",
    "plt.ylabel(\"время поездки(минуты)\");\n",
    "plt.ylim(0,5);"
   ]
  },
  {
   "cell_type": "markdown",
   "id": "7d0bc6da",
   "metadata": {},
   "source": [
    "В целом график похож на нормальное распределение, но имеется значительный выьрос в районе 0.5 минуты, возможно это связано с тем, что пользователи не могут поехать на самокате из-за технических неполадок\n",
    "<br>\n",
    "<br>\n",
    "Среднее значение времени пользователей - 18 меров\n",
    "<br>\n",
    "Минимальное значение времени пользователей - 0.5 минуты\n",
    "<br>\n",
    "Максимальное значение времени пользователей - 41 минута"
   ]
  },
  {
   "cell_type": "markdown",
   "id": "4ef51331",
   "metadata": {},
   "source": [
    "#### Шаг 4. Объединение данных"
   ]
  },
  {
   "cell_type": "markdown",
   "id": "fdc86925",
   "metadata": {},
   "source": [
    "##### Таблица со всеми данными"
   ]
  },
  {
   "cell_type": "code",
   "execution_count": 39,
   "id": "6bf288b5",
   "metadata": {},
   "outputs": [
    {
     "data": {
      "text/html": [
       "<div>\n",
       "<style scoped>\n",
       "    .dataframe tbody tr th:only-of-type {\n",
       "        vertical-align: middle;\n",
       "    }\n",
       "\n",
       "    .dataframe tbody tr th {\n",
       "        vertical-align: top;\n",
       "    }\n",
       "\n",
       "    .dataframe thead th {\n",
       "        text-align: right;\n",
       "    }\n",
       "</style>\n",
       "<table border=\"1\" class=\"dataframe\">\n",
       "  <thead>\n",
       "    <tr style=\"text-align: right;\">\n",
       "      <th></th>\n",
       "      <th>user_id</th>\n",
       "      <th>name</th>\n",
       "      <th>age</th>\n",
       "      <th>city</th>\n",
       "      <th>subscription_type</th>\n",
       "    </tr>\n",
       "  </thead>\n",
       "  <tbody>\n",
       "    <tr>\n",
       "      <th>0</th>\n",
       "      <td>1</td>\n",
       "      <td>Кира</td>\n",
       "      <td>22</td>\n",
       "      <td>Тюмень</td>\n",
       "      <td>ultra</td>\n",
       "    </tr>\n",
       "    <tr>\n",
       "      <th>1</th>\n",
       "      <td>2</td>\n",
       "      <td>Станислав</td>\n",
       "      <td>31</td>\n",
       "      <td>Омск</td>\n",
       "      <td>ultra</td>\n",
       "    </tr>\n",
       "    <tr>\n",
       "      <th>2</th>\n",
       "      <td>3</td>\n",
       "      <td>Алексей</td>\n",
       "      <td>20</td>\n",
       "      <td>Москва</td>\n",
       "      <td>ultra</td>\n",
       "    </tr>\n",
       "    <tr>\n",
       "      <th>3</th>\n",
       "      <td>4</td>\n",
       "      <td>Константин</td>\n",
       "      <td>26</td>\n",
       "      <td>Ростов-на-Дону</td>\n",
       "      <td>ultra</td>\n",
       "    </tr>\n",
       "    <tr>\n",
       "      <th>4</th>\n",
       "      <td>5</td>\n",
       "      <td>Адель</td>\n",
       "      <td>28</td>\n",
       "      <td>Омск</td>\n",
       "      <td>ultra</td>\n",
       "    </tr>\n",
       "    <tr>\n",
       "      <th>...</th>\n",
       "      <td>...</td>\n",
       "      <td>...</td>\n",
       "      <td>...</td>\n",
       "      <td>...</td>\n",
       "      <td>...</td>\n",
       "    </tr>\n",
       "    <tr>\n",
       "      <th>1529</th>\n",
       "      <td>1530</td>\n",
       "      <td>Ростислав</td>\n",
       "      <td>29</td>\n",
       "      <td>Сочи</td>\n",
       "      <td>free</td>\n",
       "    </tr>\n",
       "    <tr>\n",
       "      <th>1530</th>\n",
       "      <td>1531</td>\n",
       "      <td>Никита</td>\n",
       "      <td>25</td>\n",
       "      <td>Пятигорск</td>\n",
       "      <td>free</td>\n",
       "    </tr>\n",
       "    <tr>\n",
       "      <th>1531</th>\n",
       "      <td>1532</td>\n",
       "      <td>Алексей</td>\n",
       "      <td>26</td>\n",
       "      <td>Тюмень</td>\n",
       "      <td>free</td>\n",
       "    </tr>\n",
       "    <tr>\n",
       "      <th>1532</th>\n",
       "      <td>1533</td>\n",
       "      <td>Степан</td>\n",
       "      <td>22</td>\n",
       "      <td>Краснодар</td>\n",
       "      <td>free</td>\n",
       "    </tr>\n",
       "    <tr>\n",
       "      <th>1533</th>\n",
       "      <td>1534</td>\n",
       "      <td>Альберт</td>\n",
       "      <td>25</td>\n",
       "      <td>Краснодар</td>\n",
       "      <td>free</td>\n",
       "    </tr>\n",
       "  </tbody>\n",
       "</table>\n",
       "<p>1534 rows × 5 columns</p>\n",
       "</div>"
      ],
      "text/plain": [
       "      user_id        name  age            city subscription_type\n",
       "0           1        Кира   22          Тюмень             ultra\n",
       "1           2   Станислав   31            Омск             ultra\n",
       "2           3     Алексей   20          Москва             ultra\n",
       "3           4  Константин   26  Ростов-на-Дону             ultra\n",
       "4           5       Адель   28            Омск             ultra\n",
       "...       ...         ...  ...             ...               ...\n",
       "1529     1530   Ростислав   29            Сочи              free\n",
       "1530     1531      Никита   25       Пятигорск              free\n",
       "1531     1532     Алексей   26          Тюмень              free\n",
       "1532     1533      Степан   22       Краснодар              free\n",
       "1533     1534     Альберт   25       Краснодар              free\n",
       "\n",
       "[1534 rows x 5 columns]"
      ]
     },
     "execution_count": 39,
     "metadata": {},
     "output_type": "execute_result"
    }
   ],
   "source": [
    "data_users"
   ]
  },
  {
   "cell_type": "code",
   "execution_count": 40,
   "id": "7169c298",
   "metadata": {},
   "outputs": [
    {
     "data": {
      "text/plain": [
       "1534"
      ]
     },
     "execution_count": 40,
     "metadata": {},
     "output_type": "execute_result"
    }
   ],
   "source": [
    "data_users.shape[0]"
   ]
  },
  {
   "cell_type": "code",
   "execution_count": 41,
   "id": "cdd6da05",
   "metadata": {},
   "outputs": [
    {
     "data": {
      "text/html": [
       "<div>\n",
       "<style scoped>\n",
       "    .dataframe tbody tr th:only-of-type {\n",
       "        vertical-align: middle;\n",
       "    }\n",
       "\n",
       "    .dataframe tbody tr th {\n",
       "        vertical-align: top;\n",
       "    }\n",
       "\n",
       "    .dataframe thead th {\n",
       "        text-align: right;\n",
       "    }\n",
       "</style>\n",
       "<table border=\"1\" class=\"dataframe\">\n",
       "  <thead>\n",
       "    <tr style=\"text-align: right;\">\n",
       "      <th></th>\n",
       "      <th>user_id</th>\n",
       "      <th>distance</th>\n",
       "      <th>duration</th>\n",
       "      <th>date</th>\n",
       "      <th>month</th>\n",
       "    </tr>\n",
       "  </thead>\n",
       "  <tbody>\n",
       "    <tr>\n",
       "      <th>0</th>\n",
       "      <td>1</td>\n",
       "      <td>4409.919140</td>\n",
       "      <td>25.599769</td>\n",
       "      <td>2021-01-01</td>\n",
       "      <td>1</td>\n",
       "    </tr>\n",
       "    <tr>\n",
       "      <th>1</th>\n",
       "      <td>1</td>\n",
       "      <td>2617.592153</td>\n",
       "      <td>15.816871</td>\n",
       "      <td>2021-01-18</td>\n",
       "      <td>1</td>\n",
       "    </tr>\n",
       "    <tr>\n",
       "      <th>2</th>\n",
       "      <td>1</td>\n",
       "      <td>754.159807</td>\n",
       "      <td>6.232113</td>\n",
       "      <td>2021-04-20</td>\n",
       "      <td>4</td>\n",
       "    </tr>\n",
       "    <tr>\n",
       "      <th>3</th>\n",
       "      <td>1</td>\n",
       "      <td>2694.783254</td>\n",
       "      <td>18.511000</td>\n",
       "      <td>2021-08-11</td>\n",
       "      <td>8</td>\n",
       "    </tr>\n",
       "    <tr>\n",
       "      <th>4</th>\n",
       "      <td>1</td>\n",
       "      <td>4028.687306</td>\n",
       "      <td>26.265803</td>\n",
       "      <td>2021-08-28</td>\n",
       "      <td>8</td>\n",
       "    </tr>\n",
       "    <tr>\n",
       "      <th>...</th>\n",
       "      <td>...</td>\n",
       "      <td>...</td>\n",
       "      <td>...</td>\n",
       "      <td>...</td>\n",
       "      <td>...</td>\n",
       "    </tr>\n",
       "    <tr>\n",
       "      <th>18063</th>\n",
       "      <td>1534</td>\n",
       "      <td>3781.098080</td>\n",
       "      <td>19.822962</td>\n",
       "      <td>2021-11-04</td>\n",
       "      <td>11</td>\n",
       "    </tr>\n",
       "    <tr>\n",
       "      <th>18064</th>\n",
       "      <td>1534</td>\n",
       "      <td>2840.423057</td>\n",
       "      <td>21.409799</td>\n",
       "      <td>2021-11-16</td>\n",
       "      <td>11</td>\n",
       "    </tr>\n",
       "    <tr>\n",
       "      <th>18065</th>\n",
       "      <td>1534</td>\n",
       "      <td>3826.185507</td>\n",
       "      <td>18.435051</td>\n",
       "      <td>2021-11-18</td>\n",
       "      <td>11</td>\n",
       "    </tr>\n",
       "    <tr>\n",
       "      <th>18066</th>\n",
       "      <td>1534</td>\n",
       "      <td>2902.308661</td>\n",
       "      <td>16.674362</td>\n",
       "      <td>2021-11-27</td>\n",
       "      <td>11</td>\n",
       "    </tr>\n",
       "    <tr>\n",
       "      <th>18067</th>\n",
       "      <td>1534</td>\n",
       "      <td>2371.711192</td>\n",
       "      <td>15.893917</td>\n",
       "      <td>2021-12-29</td>\n",
       "      <td>12</td>\n",
       "    </tr>\n",
       "  </tbody>\n",
       "</table>\n",
       "<p>18068 rows × 5 columns</p>\n",
       "</div>"
      ],
      "text/plain": [
       "       user_id     distance   duration       date  month\n",
       "0            1  4409.919140  25.599769 2021-01-01      1\n",
       "1            1  2617.592153  15.816871 2021-01-18      1\n",
       "2            1   754.159807   6.232113 2021-04-20      4\n",
       "3            1  2694.783254  18.511000 2021-08-11      8\n",
       "4            1  4028.687306  26.265803 2021-08-28      8\n",
       "...        ...          ...        ...        ...    ...\n",
       "18063     1534  3781.098080  19.822962 2021-11-04     11\n",
       "18064     1534  2840.423057  21.409799 2021-11-16     11\n",
       "18065     1534  3826.185507  18.435051 2021-11-18     11\n",
       "18066     1534  2902.308661  16.674362 2021-11-27     11\n",
       "18067     1534  2371.711192  15.893917 2021-12-29     12\n",
       "\n",
       "[18068 rows x 5 columns]"
      ]
     },
     "execution_count": 41,
     "metadata": {},
     "output_type": "execute_result"
    }
   ],
   "source": [
    "data_rides"
   ]
  },
  {
   "cell_type": "code",
   "execution_count": 42,
   "id": "e91dedb4",
   "metadata": {},
   "outputs": [
    {
     "data": {
      "text/plain": [
       "18068"
      ]
     },
     "execution_count": 42,
     "metadata": {},
     "output_type": "execute_result"
    }
   ],
   "source": [
    "data_rides.shape[0]"
   ]
  },
  {
   "cell_type": "code",
   "execution_count": 43,
   "id": "984b4e36",
   "metadata": {},
   "outputs": [
    {
     "data": {
      "text/html": [
       "<div>\n",
       "<style scoped>\n",
       "    .dataframe tbody tr th:only-of-type {\n",
       "        vertical-align: middle;\n",
       "    }\n",
       "\n",
       "    .dataframe tbody tr th {\n",
       "        vertical-align: top;\n",
       "    }\n",
       "\n",
       "    .dataframe thead th {\n",
       "        text-align: right;\n",
       "    }\n",
       "</style>\n",
       "<table border=\"1\" class=\"dataframe\">\n",
       "  <thead>\n",
       "    <tr style=\"text-align: right;\">\n",
       "      <th></th>\n",
       "      <th>subscription_type</th>\n",
       "      <th>minute_price</th>\n",
       "      <th>start_ride_price</th>\n",
       "      <th>subscription_fee</th>\n",
       "    </tr>\n",
       "  </thead>\n",
       "  <tbody>\n",
       "    <tr>\n",
       "      <th>0</th>\n",
       "      <td>free</td>\n",
       "      <td>8</td>\n",
       "      <td>50</td>\n",
       "      <td>0</td>\n",
       "    </tr>\n",
       "    <tr>\n",
       "      <th>1</th>\n",
       "      <td>ultra</td>\n",
       "      <td>6</td>\n",
       "      <td>0</td>\n",
       "      <td>199</td>\n",
       "    </tr>\n",
       "  </tbody>\n",
       "</table>\n",
       "</div>"
      ],
      "text/plain": [
       "  subscription_type  minute_price  start_ride_price  subscription_fee\n",
       "0              free             8                50                 0\n",
       "1             ultra             6                 0               199"
      ]
     },
     "execution_count": 43,
     "metadata": {},
     "output_type": "execute_result"
    }
   ],
   "source": [
    "data_subscription"
   ]
  },
  {
   "cell_type": "code",
   "execution_count": 44,
   "id": "b83672c3",
   "metadata": {},
   "outputs": [
    {
     "data": {
      "text/plain": [
       "2"
      ]
     },
     "execution_count": 44,
     "metadata": {},
     "output_type": "execute_result"
    }
   ],
   "source": [
    "data_subscription.shape[0]"
   ]
  },
  {
   "cell_type": "code",
   "execution_count": 45,
   "id": "90e83727",
   "metadata": {},
   "outputs": [],
   "source": [
    "data_all = data_rides.merge(data_users)"
   ]
  },
  {
   "cell_type": "code",
   "execution_count": 46,
   "id": "2ef0bfb8",
   "metadata": {},
   "outputs": [],
   "source": [
    "data_all = data_all.merge(data_subscription)"
   ]
  },
  {
   "cell_type": "code",
   "execution_count": 47,
   "id": "64b3fc64",
   "metadata": {},
   "outputs": [
    {
     "data": {
      "text/plain": [
       "18068"
      ]
     },
     "execution_count": 47,
     "metadata": {},
     "output_type": "execute_result"
    }
   ],
   "source": [
    "data_all.shape[0]"
   ]
  },
  {
   "cell_type": "code",
   "execution_count": 48,
   "id": "47cbb480",
   "metadata": {},
   "outputs": [
    {
     "name": "stdout",
     "output_type": "stream",
     "text": [
      "Размерности таблиц совпадают\n"
     ]
    }
   ],
   "source": [
    "if data_all.shape[0] == data_rides.shape[0]:\n",
    "    print(\"Размерности таблиц совпадают\")\n",
    "else:\n",
    "    print(\"Размерности таблиц не совпадают\")"
   ]
  },
  {
   "cell_type": "code",
   "execution_count": 49,
   "id": "52f17366",
   "metadata": {},
   "outputs": [
    {
     "data": {
      "text/html": [
       "<div>\n",
       "<style scoped>\n",
       "    .dataframe tbody tr th:only-of-type {\n",
       "        vertical-align: middle;\n",
       "    }\n",
       "\n",
       "    .dataframe tbody tr th {\n",
       "        vertical-align: top;\n",
       "    }\n",
       "\n",
       "    .dataframe thead th {\n",
       "        text-align: right;\n",
       "    }\n",
       "</style>\n",
       "<table border=\"1\" class=\"dataframe\">\n",
       "  <thead>\n",
       "    <tr style=\"text-align: right;\">\n",
       "      <th></th>\n",
       "      <th>user_id</th>\n",
       "      <th>distance</th>\n",
       "      <th>duration</th>\n",
       "      <th>date</th>\n",
       "      <th>month</th>\n",
       "      <th>name</th>\n",
       "      <th>age</th>\n",
       "      <th>city</th>\n",
       "      <th>subscription_type</th>\n",
       "      <th>minute_price</th>\n",
       "      <th>start_ride_price</th>\n",
       "      <th>subscription_fee</th>\n",
       "    </tr>\n",
       "  </thead>\n",
       "  <tbody>\n",
       "    <tr>\n",
       "      <th>0</th>\n",
       "      <td>1</td>\n",
       "      <td>4409.919140</td>\n",
       "      <td>25.599769</td>\n",
       "      <td>2021-01-01</td>\n",
       "      <td>1</td>\n",
       "      <td>Кира</td>\n",
       "      <td>22</td>\n",
       "      <td>Тюмень</td>\n",
       "      <td>ultra</td>\n",
       "      <td>6</td>\n",
       "      <td>0</td>\n",
       "      <td>199</td>\n",
       "    </tr>\n",
       "    <tr>\n",
       "      <th>1</th>\n",
       "      <td>1</td>\n",
       "      <td>2617.592153</td>\n",
       "      <td>15.816871</td>\n",
       "      <td>2021-01-18</td>\n",
       "      <td>1</td>\n",
       "      <td>Кира</td>\n",
       "      <td>22</td>\n",
       "      <td>Тюмень</td>\n",
       "      <td>ultra</td>\n",
       "      <td>6</td>\n",
       "      <td>0</td>\n",
       "      <td>199</td>\n",
       "    </tr>\n",
       "    <tr>\n",
       "      <th>2</th>\n",
       "      <td>1</td>\n",
       "      <td>754.159807</td>\n",
       "      <td>6.232113</td>\n",
       "      <td>2021-04-20</td>\n",
       "      <td>4</td>\n",
       "      <td>Кира</td>\n",
       "      <td>22</td>\n",
       "      <td>Тюмень</td>\n",
       "      <td>ultra</td>\n",
       "      <td>6</td>\n",
       "      <td>0</td>\n",
       "      <td>199</td>\n",
       "    </tr>\n",
       "    <tr>\n",
       "      <th>3</th>\n",
       "      <td>1</td>\n",
       "      <td>2694.783254</td>\n",
       "      <td>18.511000</td>\n",
       "      <td>2021-08-11</td>\n",
       "      <td>8</td>\n",
       "      <td>Кира</td>\n",
       "      <td>22</td>\n",
       "      <td>Тюмень</td>\n",
       "      <td>ultra</td>\n",
       "      <td>6</td>\n",
       "      <td>0</td>\n",
       "      <td>199</td>\n",
       "    </tr>\n",
       "    <tr>\n",
       "      <th>4</th>\n",
       "      <td>1</td>\n",
       "      <td>4028.687306</td>\n",
       "      <td>26.265803</td>\n",
       "      <td>2021-08-28</td>\n",
       "      <td>8</td>\n",
       "      <td>Кира</td>\n",
       "      <td>22</td>\n",
       "      <td>Тюмень</td>\n",
       "      <td>ultra</td>\n",
       "      <td>6</td>\n",
       "      <td>0</td>\n",
       "      <td>199</td>\n",
       "    </tr>\n",
       "    <tr>\n",
       "      <th>...</th>\n",
       "      <td>...</td>\n",
       "      <td>...</td>\n",
       "      <td>...</td>\n",
       "      <td>...</td>\n",
       "      <td>...</td>\n",
       "      <td>...</td>\n",
       "      <td>...</td>\n",
       "      <td>...</td>\n",
       "      <td>...</td>\n",
       "      <td>...</td>\n",
       "      <td>...</td>\n",
       "      <td>...</td>\n",
       "    </tr>\n",
       "    <tr>\n",
       "      <th>18063</th>\n",
       "      <td>1534</td>\n",
       "      <td>3781.098080</td>\n",
       "      <td>19.822962</td>\n",
       "      <td>2021-11-04</td>\n",
       "      <td>11</td>\n",
       "      <td>Альберт</td>\n",
       "      <td>25</td>\n",
       "      <td>Краснодар</td>\n",
       "      <td>free</td>\n",
       "      <td>8</td>\n",
       "      <td>50</td>\n",
       "      <td>0</td>\n",
       "    </tr>\n",
       "    <tr>\n",
       "      <th>18064</th>\n",
       "      <td>1534</td>\n",
       "      <td>2840.423057</td>\n",
       "      <td>21.409799</td>\n",
       "      <td>2021-11-16</td>\n",
       "      <td>11</td>\n",
       "      <td>Альберт</td>\n",
       "      <td>25</td>\n",
       "      <td>Краснодар</td>\n",
       "      <td>free</td>\n",
       "      <td>8</td>\n",
       "      <td>50</td>\n",
       "      <td>0</td>\n",
       "    </tr>\n",
       "    <tr>\n",
       "      <th>18065</th>\n",
       "      <td>1534</td>\n",
       "      <td>3826.185507</td>\n",
       "      <td>18.435051</td>\n",
       "      <td>2021-11-18</td>\n",
       "      <td>11</td>\n",
       "      <td>Альберт</td>\n",
       "      <td>25</td>\n",
       "      <td>Краснодар</td>\n",
       "      <td>free</td>\n",
       "      <td>8</td>\n",
       "      <td>50</td>\n",
       "      <td>0</td>\n",
       "    </tr>\n",
       "    <tr>\n",
       "      <th>18066</th>\n",
       "      <td>1534</td>\n",
       "      <td>2902.308661</td>\n",
       "      <td>16.674362</td>\n",
       "      <td>2021-11-27</td>\n",
       "      <td>11</td>\n",
       "      <td>Альберт</td>\n",
       "      <td>25</td>\n",
       "      <td>Краснодар</td>\n",
       "      <td>free</td>\n",
       "      <td>8</td>\n",
       "      <td>50</td>\n",
       "      <td>0</td>\n",
       "    </tr>\n",
       "    <tr>\n",
       "      <th>18067</th>\n",
       "      <td>1534</td>\n",
       "      <td>2371.711192</td>\n",
       "      <td>15.893917</td>\n",
       "      <td>2021-12-29</td>\n",
       "      <td>12</td>\n",
       "      <td>Альберт</td>\n",
       "      <td>25</td>\n",
       "      <td>Краснодар</td>\n",
       "      <td>free</td>\n",
       "      <td>8</td>\n",
       "      <td>50</td>\n",
       "      <td>0</td>\n",
       "    </tr>\n",
       "  </tbody>\n",
       "</table>\n",
       "<p>18068 rows × 12 columns</p>\n",
       "</div>"
      ],
      "text/plain": [
       "       user_id     distance   duration       date  month     name  age  \\\n",
       "0            1  4409.919140  25.599769 2021-01-01      1     Кира   22   \n",
       "1            1  2617.592153  15.816871 2021-01-18      1     Кира   22   \n",
       "2            1   754.159807   6.232113 2021-04-20      4     Кира   22   \n",
       "3            1  2694.783254  18.511000 2021-08-11      8     Кира   22   \n",
       "4            1  4028.687306  26.265803 2021-08-28      8     Кира   22   \n",
       "...        ...          ...        ...        ...    ...      ...  ...   \n",
       "18063     1534  3781.098080  19.822962 2021-11-04     11  Альберт   25   \n",
       "18064     1534  2840.423057  21.409799 2021-11-16     11  Альберт   25   \n",
       "18065     1534  3826.185507  18.435051 2021-11-18     11  Альберт   25   \n",
       "18066     1534  2902.308661  16.674362 2021-11-27     11  Альберт   25   \n",
       "18067     1534  2371.711192  15.893917 2021-12-29     12  Альберт   25   \n",
       "\n",
       "            city subscription_type  minute_price  start_ride_price  \\\n",
       "0         Тюмень             ultra             6                 0   \n",
       "1         Тюмень             ultra             6                 0   \n",
       "2         Тюмень             ultra             6                 0   \n",
       "3         Тюмень             ultra             6                 0   \n",
       "4         Тюмень             ultra             6                 0   \n",
       "...          ...               ...           ...               ...   \n",
       "18063  Краснодар              free             8                50   \n",
       "18064  Краснодар              free             8                50   \n",
       "18065  Краснодар              free             8                50   \n",
       "18066  Краснодар              free             8                50   \n",
       "18067  Краснодар              free             8                50   \n",
       "\n",
       "       subscription_fee  \n",
       "0                   199  \n",
       "1                   199  \n",
       "2                   199  \n",
       "3                   199  \n",
       "4                   199  \n",
       "...                 ...  \n",
       "18063                 0  \n",
       "18064                 0  \n",
       "18065                 0  \n",
       "18066                 0  \n",
       "18067                 0  \n",
       "\n",
       "[18068 rows x 12 columns]"
      ]
     },
     "execution_count": 49,
     "metadata": {},
     "output_type": "execute_result"
    }
   ],
   "source": [
    "data_all"
   ]
  },
  {
   "cell_type": "markdown",
   "id": "2796c216",
   "metadata": {},
   "source": [
    "##### Таблица c данными о пользователях без подписки и с данными о пользователях с подпиской.\n"
   ]
  },
  {
   "cell_type": "markdown",
   "id": "02f7e42a",
   "metadata": {},
   "source": [
    "С данными о пользователях без подписки"
   ]
  },
  {
   "cell_type": "code",
   "execution_count": 50,
   "id": "00db0b75",
   "metadata": {},
   "outputs": [],
   "source": [
    "data_free = data_all.loc[data_all[\"subscription_type\"] == \"free\"].copy()"
   ]
  },
  {
   "cell_type": "markdown",
   "id": "817e567d",
   "metadata": {},
   "source": [
    "C данными о пользователях с подпиской"
   ]
  },
  {
   "cell_type": "code",
   "execution_count": 51,
   "id": "f0d7e653",
   "metadata": {},
   "outputs": [],
   "source": [
    "data_ultra = data_all.loc[data_all[\"subscription_type\"] == \"ultra\"].copy()"
   ]
  },
  {
   "cell_type": "markdown",
   "id": "a3a40840",
   "metadata": {},
   "source": [
    "##### Визуализация информации о расстоянии и времени поездок для пользователей обеих категорий.\n"
   ]
  },
  {
   "cell_type": "markdown",
   "id": "57197b83",
   "metadata": {},
   "source": [
    "Расстояние"
   ]
  },
  {
   "cell_type": "code",
   "execution_count": 52,
   "id": "6238aff8",
   "metadata": {},
   "outputs": [
    {
     "data": {
      "image/png": "[encoded data removed]",
      "text/plain": [
       "<Figure size 432x288 with 1 Axes>"
      ]
     },
     "metadata": {
      "needs_background": "light"
     },
     "output_type": "display_data"
    }
   ],
   "source": [
    "plt.hist([data_free[\"distance\"] , data_ultra[\"distance\"]] , label = [\"free\" , \"ultra\"] , bins = 15)\n",
    "plt.legend(loc='upper right')\n",
    "plt.title(\"Гистограмма расстояний поездок для пользователей обеих категорий\");\n",
    "plt.xlabel(\"Расстояние поездки(минуты)\");\n",
    "plt.ylabel(\"Частота\");\n",
    "plt.show()"
   ]
  },
  {
   "cell_type": "code",
   "execution_count": 53,
   "id": "6eb0967b",
   "metadata": {},
   "outputs": [
    {
     "data": {
      "image/png": "[encoded data removed]",
      "text/plain": [
       "<Figure size 432x288 with 1 Axes>"
      ]
     },
     "metadata": {
      "needs_background": "light"
     },
     "output_type": "display_data"
    }
   ],
   "source": [
    "plt.hist(data_free[\"distance\"], alpha=0.5, label='free' , bins = 30)\n",
    "plt.hist(data_ultra[\"distance\"], alpha=0.5, label='ultra' , bins = 30)\n",
    "plt.legend(loc='upper right')\n",
    "plt.title(\"Гистограмма расстояний поездок для пользователей обеих категорий\");\n",
    "plt.xlabel(\"Расстояние поездки(минуты)\");\n",
    "plt.ylabel(\"Частота\");\n",
    "plt.show()\n",
    "plt.show()"
   ]
  },
  {
   "cell_type": "markdown",
   "id": "068344e6",
   "metadata": {},
   "source": [
    "**Вывод:** Видно, что в целом пользователи без подписки совершают больше поездок, и значительно больше совершают поездки на короткие дистанции, Для бесплатного тарифа проезжают от 2 до 5 км, есть пользователи, которые проехали даже 6, 6.5 км. Для платного тарифа: Пик расстояния приходится на 3км."
   ]
  },
  {
   "cell_type": "markdown",
   "id": "79ee4ed3",
   "metadata": {},
   "source": [
    "Время поездки"
   ]
  },
  {
   "cell_type": "code",
   "execution_count": 54,
   "id": "7ed2b5be",
   "metadata": {},
   "outputs": [
    {
     "data": {
      "image/png": "[encoded data removed]",
      "text/plain": [
       "<Figure size 432x288 with 1 Axes>"
      ]
     },
     "metadata": {
      "needs_background": "light"
     },
     "output_type": "display_data"
    }
   ],
   "source": [
    "plt.hist([data_free[\"duration\"] , data_ultra[\"duration\"]] , label = [\"free\" , \"ultra\"] , bins = 15)\n",
    "plt.legend(loc='upper right')\n",
    "plt.title(\"Гистограмма длительности поездок для пользователей обеих категорий\");\n",
    "plt.xlabel(\"Длительность поездки(минуты)\");\n",
    "plt.ylabel(\"Частота\");\n",
    "plt.show()\n"
   ]
  },
  {
   "cell_type": "code",
   "execution_count": 55,
   "id": "65b8388c",
   "metadata": {},
   "outputs": [
    {
     "data": {
      "image/png": "[encoded data removed]",
      "text/plain": [
       "<Figure size 432x288 with 1 Axes>"
      ]
     },
     "metadata": {
      "needs_background": "light"
     },
     "output_type": "display_data"
    }
   ],
   "source": [
    "plt.hist(data_free[\"duration\"], alpha=0.5, label='free' , bins = 30)\n",
    "plt.hist(data_ultra[\"duration\"], alpha=0.5, label='ultra' , bins = 30)\n",
    "plt.legend(loc='upper right')\n",
    "plt.title(\"Гистограмма длительности поездок для пользователей обеих категорий\");\n",
    "plt.xlabel(\"Длительность поездки(минуты)\");\n",
    "plt.ylabel(\"Частота\");\n",
    "plt.show()"
   ]
  },
  {
   "cell_type": "markdown",
   "id": "cd61e919",
   "metadata": {},
   "source": [
    "**Вывод:** Пользователи без подписки совершают больше поездок, также можно выделить выброс у пользователей без подписки в районе 0.5 минут. Для бесплатного тарифа время поездки составляет от 10 до 30 минут. Для платного тарифа: в основном время укладывается в промежуток от 15 до 25 минут."
   ]
  },
  {
   "cell_type": "markdown",
   "id": "402d620f",
   "metadata": {},
   "source": [
    "#### Шаг 5. Подсчёт выручки"
   ]
  },
  {
   "cell_type": "markdown",
   "id": "bae020a6",
   "metadata": {},
   "source": [
    "##### Cуммарное расстояние, количество поездок и суммарное время для каждого пользователя за каждый месяц."
   ]
  },
  {
   "cell_type": "code",
   "execution_count": 56,
   "id": "53049e0a",
   "metadata": {},
   "outputs": [],
   "source": [
    "# data_pivot = data_all.groupby(\"user_id\").agg([\"count\" , \"sum\"])[[\"distance\" , \"duration\"]][\"distance\"].copy()\n",
    "# data_pivot = data_pivot.reset_index()\n",
    "# tmp =  data_all.groupby(\"user_id\").agg([\"count\" , \"sum\"])[[\"distance\" , \"duration\"]][\"duration\"][\"sum\"].reset_index().copy()\n",
    "# tmp.rename(columns = {'sum':'duration_sum'}, inplace = True )\n",
    "# data_pivot = data_pivot.merge(tmp)\n",
    "# data_pivot.rename(columns = {'sum':'distance_sum'}, inplace = True )\n",
    "# data_pivot[\"distance_sum\"] = data_pivot[\"distance_sum\"].apply(lambda x: np.ceil(x))\n",
    "# data_pivot[\"duration_sum\"] = data_pivot[\"duration_sum\"].apply(lambda x: np.ceil(x))\n",
    "# data_pivot\n"
   ]
  },
  {
   "cell_type": "code",
   "execution_count": 57,
   "id": "f8ab9fbd",
   "metadata": {},
   "outputs": [
    {
     "data": {
      "text/html": [
       "<div>\n",
       "<style scoped>\n",
       "    .dataframe tbody tr th:only-of-type {\n",
       "        vertical-align: middle;\n",
       "    }\n",
       "\n",
       "    .dataframe tbody tr th {\n",
       "        vertical-align: top;\n",
       "    }\n",
       "\n",
       "    .dataframe thead th {\n",
       "        text-align: right;\n",
       "    }\n",
       "</style>\n",
       "<table border=\"1\" class=\"dataframe\">\n",
       "  <thead>\n",
       "    <tr style=\"text-align: right;\">\n",
       "      <th></th>\n",
       "      <th>month</th>\n",
       "      <th>user_id</th>\n",
       "      <th>count</th>\n",
       "      <th>distance_sum</th>\n",
       "      <th>duration_sum</th>\n",
       "    </tr>\n",
       "  </thead>\n",
       "  <tbody>\n",
       "    <tr>\n",
       "      <th>0</th>\n",
       "      <td>1</td>\n",
       "      <td>1</td>\n",
       "      <td>2</td>\n",
       "      <td>7027.5</td>\n",
       "      <td>42.0</td>\n",
       "    </tr>\n",
       "    <tr>\n",
       "      <th>1</th>\n",
       "      <td>1</td>\n",
       "      <td>3</td>\n",
       "      <td>1</td>\n",
       "      <td>3061.8</td>\n",
       "      <td>13.0</td>\n",
       "    </tr>\n",
       "    <tr>\n",
       "      <th>2</th>\n",
       "      <td>1</td>\n",
       "      <td>5</td>\n",
       "      <td>1</td>\n",
       "      <td>3914.6</td>\n",
       "      <td>13.0</td>\n",
       "    </tr>\n",
       "    <tr>\n",
       "      <th>3</th>\n",
       "      <td>1</td>\n",
       "      <td>7</td>\n",
       "      <td>2</td>\n",
       "      <td>6478.1</td>\n",
       "      <td>28.0</td>\n",
       "    </tr>\n",
       "    <tr>\n",
       "      <th>4</th>\n",
       "      <td>1</td>\n",
       "      <td>12</td>\n",
       "      <td>1</td>\n",
       "      <td>3577.2</td>\n",
       "      <td>33.0</td>\n",
       "    </tr>\n",
       "    <tr>\n",
       "      <th>5</th>\n",
       "      <td>1</td>\n",
       "      <td>13</td>\n",
       "      <td>2</td>\n",
       "      <td>6688.0</td>\n",
       "      <td>42.0</td>\n",
       "    </tr>\n",
       "    <tr>\n",
       "      <th>6</th>\n",
       "      <td>1</td>\n",
       "      <td>14</td>\n",
       "      <td>2</td>\n",
       "      <td>7699.6</td>\n",
       "      <td>34.0</td>\n",
       "    </tr>\n",
       "    <tr>\n",
       "      <th>7</th>\n",
       "      <td>1</td>\n",
       "      <td>15</td>\n",
       "      <td>1</td>\n",
       "      <td>4187.6</td>\n",
       "      <td>39.0</td>\n",
       "    </tr>\n",
       "    <tr>\n",
       "      <th>8</th>\n",
       "      <td>1</td>\n",
       "      <td>20</td>\n",
       "      <td>1</td>\n",
       "      <td>3516.7</td>\n",
       "      <td>29.0</td>\n",
       "    </tr>\n",
       "    <tr>\n",
       "      <th>9</th>\n",
       "      <td>1</td>\n",
       "      <td>22</td>\n",
       "      <td>1</td>\n",
       "      <td>3058.7</td>\n",
       "      <td>13.0</td>\n",
       "    </tr>\n",
       "    <tr>\n",
       "      <th>10</th>\n",
       "      <td>1</td>\n",
       "      <td>25</td>\n",
       "      <td>1</td>\n",
       "      <td>3440.4</td>\n",
       "      <td>17.0</td>\n",
       "    </tr>\n",
       "    <tr>\n",
       "      <th>11</th>\n",
       "      <td>1</td>\n",
       "      <td>26</td>\n",
       "      <td>2</td>\n",
       "      <td>6546.0</td>\n",
       "      <td>27.0</td>\n",
       "    </tr>\n",
       "    <tr>\n",
       "      <th>12</th>\n",
       "      <td>1</td>\n",
       "      <td>30</td>\n",
       "      <td>2</td>\n",
       "      <td>7774.7</td>\n",
       "      <td>25.0</td>\n",
       "    </tr>\n",
       "    <tr>\n",
       "      <th>13</th>\n",
       "      <td>1</td>\n",
       "      <td>32</td>\n",
       "      <td>1</td>\n",
       "      <td>3735.0</td>\n",
       "      <td>25.0</td>\n",
       "    </tr>\n",
       "    <tr>\n",
       "      <th>14</th>\n",
       "      <td>1</td>\n",
       "      <td>35</td>\n",
       "      <td>3</td>\n",
       "      <td>9707.8</td>\n",
       "      <td>57.0</td>\n",
       "    </tr>\n",
       "    <tr>\n",
       "      <th>15</th>\n",
       "      <td>1</td>\n",
       "      <td>42</td>\n",
       "      <td>1</td>\n",
       "      <td>4329.8</td>\n",
       "      <td>23.0</td>\n",
       "    </tr>\n",
       "    <tr>\n",
       "      <th>16</th>\n",
       "      <td>1</td>\n",
       "      <td>43</td>\n",
       "      <td>2</td>\n",
       "      <td>6322.2</td>\n",
       "      <td>47.0</td>\n",
       "    </tr>\n",
       "    <tr>\n",
       "      <th>17</th>\n",
       "      <td>1</td>\n",
       "      <td>44</td>\n",
       "      <td>2</td>\n",
       "      <td>2944.4</td>\n",
       "      <td>19.0</td>\n",
       "    </tr>\n",
       "    <tr>\n",
       "      <th>18</th>\n",
       "      <td>1</td>\n",
       "      <td>45</td>\n",
       "      <td>2</td>\n",
       "      <td>3702.4</td>\n",
       "      <td>27.0</td>\n",
       "    </tr>\n",
       "    <tr>\n",
       "      <th>19</th>\n",
       "      <td>1</td>\n",
       "      <td>46</td>\n",
       "      <td>1</td>\n",
       "      <td>3242.1</td>\n",
       "      <td>20.0</td>\n",
       "    </tr>\n",
       "  </tbody>\n",
       "</table>\n",
       "</div>"
      ],
      "text/plain": [
       "    month  user_id  count  distance_sum  duration_sum\n",
       "0       1        1      2        7027.5          42.0\n",
       "1       1        3      1        3061.8          13.0\n",
       "2       1        5      1        3914.6          13.0\n",
       "3       1        7      2        6478.1          28.0\n",
       "4       1       12      1        3577.2          33.0\n",
       "5       1       13      2        6688.0          42.0\n",
       "6       1       14      2        7699.6          34.0\n",
       "7       1       15      1        4187.6          39.0\n",
       "8       1       20      1        3516.7          29.0\n",
       "9       1       22      1        3058.7          13.0\n",
       "10      1       25      1        3440.4          17.0\n",
       "11      1       26      2        6546.0          27.0\n",
       "12      1       30      2        7774.7          25.0\n",
       "13      1       32      1        3735.0          25.0\n",
       "14      1       35      3        9707.8          57.0\n",
       "15      1       42      1        4329.8          23.0\n",
       "16      1       43      2        6322.2          47.0\n",
       "17      1       44      2        2944.4          19.0\n",
       "18      1       45      2        3702.4          27.0\n",
       "19      1       46      1        3242.1          20.0"
      ]
     },
     "execution_count": 57,
     "metadata": {},
     "output_type": "execute_result"
    }
   ],
   "source": [
    "data_pivo = data_all.groupby([\"month\" , \"user_id\"]).agg([\"count\" , \"sum\"])[[\"distance\" , \"duration\"]][\"distance\"].reset_index()\n",
    "data_pivo.rename(columns = {'sum':'distance_sum'}, inplace = True )\n",
    "tmp = data_all.groupby([\"month\" , \"user_id\"]).agg([\"count\" , \"sum\"])[[\"distance\" , \"duration\"]][\"duration\"].reset_index()\n",
    "data_pivo = data_pivo.merge(tmp)\n",
    "data_pivo.rename(columns = {'sum':'duration_sum'}, inplace = True )\n",
    "data_pivo[\"distance_sum\"] = data_pivo[\"distance_sum\"].apply(lambda x: round(x , 1))\n",
    "data_pivo[\"duration_sum\"] = data_pivo[\"duration_sum\"].apply(lambda x: np.ceil(x))\n",
    "data_pivo.head(20)\n"
   ]
  },
  {
   "cell_type": "markdown",
   "id": "bc0be5db",
   "metadata": {},
   "source": [
    "##### Помесячная выручка, которую принёс каждый пользователь"
   ]
  },
  {
   "cell_type": "code",
   "execution_count": 58,
   "id": "3a984fbe",
   "metadata": {},
   "outputs": [
    {
     "data": {
      "text/html": [
       "<div>\n",
       "<style scoped>\n",
       "    .dataframe tbody tr th:only-of-type {\n",
       "        vertical-align: middle;\n",
       "    }\n",
       "\n",
       "    .dataframe tbody tr th {\n",
       "        vertical-align: top;\n",
       "    }\n",
       "\n",
       "    .dataframe thead th {\n",
       "        text-align: right;\n",
       "    }\n",
       "</style>\n",
       "<table border=\"1\" class=\"dataframe\">\n",
       "  <thead>\n",
       "    <tr style=\"text-align: right;\">\n",
       "      <th></th>\n",
       "      <th>month</th>\n",
       "      <th>user_id</th>\n",
       "      <th>count</th>\n",
       "      <th>distance_sum</th>\n",
       "      <th>duration_sum</th>\n",
       "      <th>subscription_type</th>\n",
       "    </tr>\n",
       "  </thead>\n",
       "  <tbody>\n",
       "    <tr>\n",
       "      <th>0</th>\n",
       "      <td>1</td>\n",
       "      <td>1</td>\n",
       "      <td>2</td>\n",
       "      <td>7027.5</td>\n",
       "      <td>42.0</td>\n",
       "      <td>ultra</td>\n",
       "    </tr>\n",
       "    <tr>\n",
       "      <th>1</th>\n",
       "      <td>4</td>\n",
       "      <td>1</td>\n",
       "      <td>1</td>\n",
       "      <td>754.2</td>\n",
       "      <td>7.0</td>\n",
       "      <td>ultra</td>\n",
       "    </tr>\n",
       "    <tr>\n",
       "      <th>2</th>\n",
       "      <td>8</td>\n",
       "      <td>1</td>\n",
       "      <td>2</td>\n",
       "      <td>6723.5</td>\n",
       "      <td>45.0</td>\n",
       "      <td>ultra</td>\n",
       "    </tr>\n",
       "    <tr>\n",
       "      <th>3</th>\n",
       "      <td>10</td>\n",
       "      <td>1</td>\n",
       "      <td>2</td>\n",
       "      <td>5809.9</td>\n",
       "      <td>32.0</td>\n",
       "      <td>ultra</td>\n",
       "    </tr>\n",
       "    <tr>\n",
       "      <th>4</th>\n",
       "      <td>11</td>\n",
       "      <td>1</td>\n",
       "      <td>3</td>\n",
       "      <td>7003.5</td>\n",
       "      <td>54.0</td>\n",
       "      <td>ultra</td>\n",
       "    </tr>\n",
       "    <tr>\n",
       "      <th>...</th>\n",
       "      <td>...</td>\n",
       "      <td>...</td>\n",
       "      <td>...</td>\n",
       "      <td>...</td>\n",
       "      <td>...</td>\n",
       "      <td>...</td>\n",
       "    </tr>\n",
       "    <tr>\n",
       "      <th>11326</th>\n",
       "      <td>11</td>\n",
       "      <td>1348</td>\n",
       "      <td>2</td>\n",
       "      <td>6622.8</td>\n",
       "      <td>38.0</td>\n",
       "      <td>free</td>\n",
       "    </tr>\n",
       "    <tr>\n",
       "      <th>11327</th>\n",
       "      <td>12</td>\n",
       "      <td>1348</td>\n",
       "      <td>2</td>\n",
       "      <td>6308.8</td>\n",
       "      <td>40.0</td>\n",
       "      <td>free</td>\n",
       "    </tr>\n",
       "    <tr>\n",
       "      <th>11328</th>\n",
       "      <td>9</td>\n",
       "      <td>636</td>\n",
       "      <td>1</td>\n",
       "      <td>1159.9</td>\n",
       "      <td>13.0</td>\n",
       "      <td>ultra</td>\n",
       "    </tr>\n",
       "    <tr>\n",
       "      <th>11329</th>\n",
       "      <td>10</td>\n",
       "      <td>636</td>\n",
       "      <td>3</td>\n",
       "      <td>8885.2</td>\n",
       "      <td>71.0</td>\n",
       "      <td>ultra</td>\n",
       "    </tr>\n",
       "    <tr>\n",
       "      <th>11330</th>\n",
       "      <td>11</td>\n",
       "      <td>636</td>\n",
       "      <td>1</td>\n",
       "      <td>3128.3</td>\n",
       "      <td>15.0</td>\n",
       "      <td>ultra</td>\n",
       "    </tr>\n",
       "  </tbody>\n",
       "</table>\n",
       "<p>11331 rows × 6 columns</p>\n",
       "</div>"
      ],
      "text/plain": [
       "       month  user_id  count  distance_sum  duration_sum subscription_type\n",
       "0          1        1      2        7027.5          42.0             ultra\n",
       "1          4        1      1         754.2           7.0             ultra\n",
       "2          8        1      2        6723.5          45.0             ultra\n",
       "3         10        1      2        5809.9          32.0             ultra\n",
       "4         11        1      3        7003.5          54.0             ultra\n",
       "...      ...      ...    ...           ...           ...               ...\n",
       "11326     11     1348      2        6622.8          38.0              free\n",
       "11327     12     1348      2        6308.8          40.0              free\n",
       "11328      9      636      1        1159.9          13.0             ultra\n",
       "11329     10      636      3        8885.2          71.0             ultra\n",
       "11330     11      636      1        3128.3          15.0             ultra\n",
       "\n",
       "[11331 rows x 6 columns]"
      ]
     },
     "execution_count": 58,
     "metadata": {},
     "output_type": "execute_result"
    }
   ],
   "source": [
    "data_pivo = data_pivo.merge(data_users)\n",
    "data_pivot = data_pivo[[\"month\" , \"user_id\" ,\"count\" , \"distance_sum\" , \"duration_sum\" , \"subscription_type\"]]\n",
    "data_pivot"
   ]
  },
  {
   "cell_type": "code",
   "execution_count": 59,
   "id": "cd385863",
   "metadata": {},
   "outputs": [
    {
     "data": {
      "text/plain": [
       "month                0\n",
       "user_id              0\n",
       "count                0\n",
       "distance_sum         0\n",
       "duration_sum         0\n",
       "subscription_type    0\n",
       "dtype: int64"
      ]
     },
     "execution_count": 59,
     "metadata": {},
     "output_type": "execute_result"
    }
   ],
   "source": [
    "data_pivot.isna().sum()"
   ]
  },
  {
   "cell_type": "code",
   "execution_count": 60,
   "id": "da1a84e4",
   "metadata": {},
   "outputs": [
    {
     "data": {
      "text/html": [
       "<div>\n",
       "<style scoped>\n",
       "    .dataframe tbody tr th:only-of-type {\n",
       "        vertical-align: middle;\n",
       "    }\n",
       "\n",
       "    .dataframe tbody tr th {\n",
       "        vertical-align: top;\n",
       "    }\n",
       "\n",
       "    .dataframe thead th {\n",
       "        text-align: right;\n",
       "    }\n",
       "</style>\n",
       "<table border=\"1\" class=\"dataframe\">\n",
       "  <thead>\n",
       "    <tr style=\"text-align: right;\">\n",
       "      <th></th>\n",
       "      <th>month</th>\n",
       "      <th>user_id</th>\n",
       "      <th>count</th>\n",
       "      <th>distance_sum</th>\n",
       "      <th>duration_sum</th>\n",
       "      <th>subscription_type</th>\n",
       "      <th>money</th>\n",
       "    </tr>\n",
       "  </thead>\n",
       "  <tbody>\n",
       "    <tr>\n",
       "      <th>0</th>\n",
       "      <td>1</td>\n",
       "      <td>1</td>\n",
       "      <td>2</td>\n",
       "      <td>7027.5</td>\n",
       "      <td>42.0</td>\n",
       "      <td>ultra</td>\n",
       "      <td>451.0</td>\n",
       "    </tr>\n",
       "    <tr>\n",
       "      <th>1</th>\n",
       "      <td>4</td>\n",
       "      <td>1</td>\n",
       "      <td>1</td>\n",
       "      <td>754.2</td>\n",
       "      <td>7.0</td>\n",
       "      <td>ultra</td>\n",
       "      <td>241.0</td>\n",
       "    </tr>\n",
       "    <tr>\n",
       "      <th>2</th>\n",
       "      <td>8</td>\n",
       "      <td>1</td>\n",
       "      <td>2</td>\n",
       "      <td>6723.5</td>\n",
       "      <td>45.0</td>\n",
       "      <td>ultra</td>\n",
       "      <td>469.0</td>\n",
       "    </tr>\n",
       "    <tr>\n",
       "      <th>3</th>\n",
       "      <td>10</td>\n",
       "      <td>1</td>\n",
       "      <td>2</td>\n",
       "      <td>5809.9</td>\n",
       "      <td>32.0</td>\n",
       "      <td>ultra</td>\n",
       "      <td>391.0</td>\n",
       "    </tr>\n",
       "    <tr>\n",
       "      <th>4</th>\n",
       "      <td>11</td>\n",
       "      <td>1</td>\n",
       "      <td>3</td>\n",
       "      <td>7003.5</td>\n",
       "      <td>54.0</td>\n",
       "      <td>ultra</td>\n",
       "      <td>523.0</td>\n",
       "    </tr>\n",
       "    <tr>\n",
       "      <th>...</th>\n",
       "      <td>...</td>\n",
       "      <td>...</td>\n",
       "      <td>...</td>\n",
       "      <td>...</td>\n",
       "      <td>...</td>\n",
       "      <td>...</td>\n",
       "      <td>...</td>\n",
       "    </tr>\n",
       "    <tr>\n",
       "      <th>11326</th>\n",
       "      <td>11</td>\n",
       "      <td>1348</td>\n",
       "      <td>2</td>\n",
       "      <td>6622.8</td>\n",
       "      <td>38.0</td>\n",
       "      <td>free</td>\n",
       "      <td>404.0</td>\n",
       "    </tr>\n",
       "    <tr>\n",
       "      <th>11327</th>\n",
       "      <td>12</td>\n",
       "      <td>1348</td>\n",
       "      <td>2</td>\n",
       "      <td>6308.8</td>\n",
       "      <td>40.0</td>\n",
       "      <td>free</td>\n",
       "      <td>420.0</td>\n",
       "    </tr>\n",
       "    <tr>\n",
       "      <th>11328</th>\n",
       "      <td>9</td>\n",
       "      <td>636</td>\n",
       "      <td>1</td>\n",
       "      <td>1159.9</td>\n",
       "      <td>13.0</td>\n",
       "      <td>ultra</td>\n",
       "      <td>277.0</td>\n",
       "    </tr>\n",
       "    <tr>\n",
       "      <th>11329</th>\n",
       "      <td>10</td>\n",
       "      <td>636</td>\n",
       "      <td>3</td>\n",
       "      <td>8885.2</td>\n",
       "      <td>71.0</td>\n",
       "      <td>ultra</td>\n",
       "      <td>625.0</td>\n",
       "    </tr>\n",
       "    <tr>\n",
       "      <th>11330</th>\n",
       "      <td>11</td>\n",
       "      <td>636</td>\n",
       "      <td>1</td>\n",
       "      <td>3128.3</td>\n",
       "      <td>15.0</td>\n",
       "      <td>ultra</td>\n",
       "      <td>289.0</td>\n",
       "    </tr>\n",
       "  </tbody>\n",
       "</table>\n",
       "<p>11331 rows × 7 columns</p>\n",
       "</div>"
      ],
      "text/plain": [
       "       month  user_id  count  distance_sum  duration_sum subscription_type  \\\n",
       "0          1        1      2        7027.5          42.0             ultra   \n",
       "1          4        1      1         754.2           7.0             ultra   \n",
       "2          8        1      2        6723.5          45.0             ultra   \n",
       "3         10        1      2        5809.9          32.0             ultra   \n",
       "4         11        1      3        7003.5          54.0             ultra   \n",
       "...      ...      ...    ...           ...           ...               ...   \n",
       "11326     11     1348      2        6622.8          38.0              free   \n",
       "11327     12     1348      2        6308.8          40.0              free   \n",
       "11328      9      636      1        1159.9          13.0             ultra   \n",
       "11329     10      636      3        8885.2          71.0             ultra   \n",
       "11330     11      636      1        3128.3          15.0             ultra   \n",
       "\n",
       "       money  \n",
       "0      451.0  \n",
       "1      241.0  \n",
       "2      469.0  \n",
       "3      391.0  \n",
       "4      523.0  \n",
       "...      ...  \n",
       "11326  404.0  \n",
       "11327  420.0  \n",
       "11328  277.0  \n",
       "11329  625.0  \n",
       "11330  289.0  \n",
       "\n",
       "[11331 rows x 7 columns]"
      ]
     },
     "execution_count": 60,
     "metadata": {},
     "output_type": "execute_result"
    }
   ],
   "source": [
    "def salary(items):\n",
    "    res = 0\n",
    "    if items[\"subscription_type\"] == \"free\":\n",
    "        res += 50 * items[\"count\"]\n",
    "        res += 8 * items[\"duration_sum\"]\n",
    "        return res\n",
    "    if items[\"subscription_type\"] == \"ultra\":\n",
    "        res += 199\n",
    "        res += 6 * items[\"duration_sum\"]\n",
    "        return res \n",
    "\n",
    "    \n",
    "\n",
    "\n",
    "data_pivot = data_pivot.copy()  \n",
    "data_pivot.loc[:, \"money\"] = data_pivot.apply(salary, axis=1)\n",
    "\n",
    "data_pivot\n"
   ]
  },
  {
   "cell_type": "markdown",
   "id": "41545ac0",
   "metadata": {},
   "source": [
    "#### Шаг 6. Проверка гипотез"
   ]
  },
  {
   "cell_type": "markdown",
   "id": "8b4952aa",
   "metadata": {},
   "source": [
    "##### Пользователи с подпиской могут быть «выгоднее» для компании"
   ]
  },
  {
   "cell_type": "markdown",
   "id": "66f57f13",
   "metadata": {},
   "source": [
    "Обозначим настоящую среднюю времени на поездки пользователей без подписки как μ1, пользователей с подпиской как μ2 тогда<br>\n",
    "Но: μ1 = μ2\n",
    "<br>\n",
    "H1: μ2 > μ1\n",
    "<br>\n",
    "alpha = 0.05\n"
   ]
  },
  {
   "cell_type": "code",
   "execution_count": 61,
   "id": "d70aaff7",
   "metadata": {},
   "outputs": [
    {
     "name": "stdout",
     "output_type": "stream",
     "text": [
      "----- Тюмень -----\n",
      "4.945117019863064e-07\n",
      "Отвергаем нулевую гипотезу о равенстве среднего,  следовательно берем альтернативную, что с подпиской длительность поездке больше\n",
      "----- Омск -----\n",
      "8.541147177187698e-07\n",
      "Отвергаем нулевую гипотезу о равенстве среднего,  следовательно берем альтернативную, что с подпиской длительность поездке больше\n",
      "----- Москва -----\n",
      "6.429006991431648e-07\n",
      "Отвергаем нулевую гипотезу о равенстве среднего,  следовательно берем альтернативную, что с подпиской длительность поездке больше\n",
      "----- Ростов-на-Дону -----\n",
      "2.0346878704993996e-06\n",
      "Отвергаем нулевую гипотезу о равенстве среднего,  следовательно берем альтернативную, что с подпиской длительность поездке больше\n",
      "----- Краснодар -----\n",
      "0.00011116852266781757\n",
      "Отвергаем нулевую гипотезу о равенстве среднего,  следовательно берем альтернативную, что с подпиской длительность поездке больше\n",
      "----- Пятигорск -----\n",
      "1.858083661503806e-05\n",
      "Отвергаем нулевую гипотезу о равенстве среднего,  следовательно берем альтернативную, что с подпиской длительность поездке больше\n",
      "----- Екатеринбург -----\n",
      "9.800862556726832e-05\n",
      "Отвергаем нулевую гипотезу о равенстве среднего,  следовательно берем альтернативную, что с подпиской длительность поездке больше\n",
      "----- Сочи -----\n",
      "2.0958007780042415e-07\n",
      "Отвергаем нулевую гипотезу о равенстве среднего,  следовательно берем альтернативную, что с подпиской длительность поездке больше\n"
     ]
    }
   ],
   "source": [
    "data_all[\"duration\"] = data_all[\"duration\"].apply(lambda x: np.ceil(x))\n",
    "for item in data_all[\"city\"].unique():\n",
    "    print(\"-----\",item,\"-----\")\n",
    "    x = data_all.loc[(data_all[\"city\"] == item) & (data_all[\"subscription_type\"] == \"free\") , \"duration\"]\n",
    "    y = data_all.loc[(data_all[\"city\"] == item) & (data_all[\"subscription_type\"] == \"ultra\") , \"duration\"]\n",
    "    result = st.ttest_ind(y , x , equal_var=False , alternative='greater')\n",
    "    \n",
    "    aplpha = 0.05\n",
    "    print(result.pvalue)\n",
    "    if result.pvalue < aplpha:\n",
    "        print('Отвергаем нулевую гипотезу о равенстве среднего,  следовательно берем альтернативную, что с подпиской длительность поездке больше')\n",
    "    else:\n",
    "        print('Не получилось отвергнуть нулевую гипотезу о равенстве среднего')\n"
   ]
  },
  {
   "cell_type": "markdown",
   "id": "92ef1957",
   "metadata": {},
   "source": [
    "Выгоднее"
   ]
  },
  {
   "cell_type": "markdown",
   "id": "31db9457",
   "metadata": {},
   "source": [
    "##### Расстояние одной поездки в 3130 метров — оптимальное с точки зрения износа самоката, среднее расстояние, которое проезжают пользователи с подпиской за одну поездку, не превышает 3130 метров? "
   ]
  },
  {
   "cell_type": "markdown",
   "id": "b703c2d1",
   "metadata": {},
   "source": [
    "Обозначим настоящую среднее расстояние за 1 поездку пользователей с подпиской как μ,  тогда<br>\n",
    "Но: μ1 = 3130\n",
    "<br>\n",
    "H1: μ1 < 3130\n",
    "<br>\n",
    "alpha = 0.05"
   ]
  },
  {
   "cell_type": "code",
   "execution_count": 62,
   "id": "429cfc9e",
   "metadata": {},
   "outputs": [
    {
     "name": "stdout",
     "output_type": "stream",
     "text": [
      "----- Тюмень -----\n",
      "0.46479202988793406\n",
      "Не получилось отвергнуть нулевую гипотезу о равенстве среднего дистанций\n",
      "----- Омск -----\n",
      "0.4257005114283307\n",
      "Не получилось отвергнуть нулевую гипотезу о равенстве среднего дистанций\n",
      "----- Москва -----\n",
      "0.4749987748422147\n",
      "Не получилось отвергнуть нулевую гипотезу о равенстве среднего дистанций\n",
      "----- Ростов-на-Дону -----\n",
      "0.0032172408022779213\n",
      "Отвергаем нулевую гипотезу о равенстве среднего,  следовательно берем альтернативную, что среднее расстояние, которое проезжают пользователи с подпиской за одну поездку, не превышает 3130 метров\n",
      "----- Краснодар -----\n",
      "0.16727067069634394\n",
      "Не получилось отвергнуть нулевую гипотезу о равенстве среднего дистанций\n",
      "----- Пятигорск -----\n",
      "0.538363404132066\n",
      "Не получилось отвергнуть нулевую гипотезу о равенстве среднего дистанций\n",
      "----- Екатеринбург -----\n",
      "0.4520770101245262\n",
      "Не получилось отвергнуть нулевую гипотезу о равенстве среднего дистанций\n",
      "----- Сочи -----\n",
      "0.6292141349819178\n",
      "Не получилось отвергнуть нулевую гипотезу о равенстве среднего дистанций\n"
     ]
    }
   ],
   "source": [
    "data_all[\"distance\"] = data_all[\"distance\"].apply(lambda x: round(x , 1))\n",
    "for item in data_all[\"city\"].unique():\n",
    "    print(\"-----\",item,\"-----\")\n",
    "    y = data_all.loc[(data_all[\"city\"] == item) & (data_all[\"subscription_type\"] == \"ultra\") , \"distance\"]\n",
    "    result = st.ttest_1samp(y , 3130, alternative='less')\n",
    "    aplpha = 0.05\n",
    "    print(result.pvalue)\n",
    "    if result.pvalue < aplpha:\n",
    "        print('Отвергаем нулевую гипотезу о равенстве среднего,  следовательно берем альтернативную, что среднее расстояние, которое проезжают пользователи с подпиской за одну поездку, не превышает 3130 метров')\n",
    "    else:\n",
    "        print('Не получилось отвергнуть нулевую гипотезу о равенстве среднего дистанций')\n"
   ]
  },
  {
   "cell_type": "markdown",
   "id": "c62fbd45",
   "metadata": {},
   "source": [
    "Мы не можем утверждать, что среднее расстояние, которое проезжают пользователи с подпиской за одну поездку, не превышает 3130 метров во всех городах выборки, кроме Ростова-на-Дону, там мы утверждаем, что что среднее расстояние, которое проезжают пользователи с подпиской за одну поездку, не превышает 3130 метров. Возможно это связвно с тем, что в этом городе мало мест для катания на самокате."
   ]
  },
  {
   "cell_type": "markdown",
   "id": "191bb4bf",
   "metadata": {},
   "source": [
    "##### Помесячная выручка от пользователей с подпиской по месяцам выше, чем выручка от пользователей без подписки"
   ]
  },
  {
   "cell_type": "code",
   "execution_count": 63,
   "id": "3e188a0c",
   "metadata": {},
   "outputs": [
    {
     "data": {
      "text/html": [
       "<div>\n",
       "<style scoped>\n",
       "    .dataframe tbody tr th:only-of-type {\n",
       "        vertical-align: middle;\n",
       "    }\n",
       "\n",
       "    .dataframe tbody tr th {\n",
       "        vertical-align: top;\n",
       "    }\n",
       "\n",
       "    .dataframe thead th {\n",
       "        text-align: right;\n",
       "    }\n",
       "</style>\n",
       "<table border=\"1\" class=\"dataframe\">\n",
       "  <thead>\n",
       "    <tr style=\"text-align: right;\">\n",
       "      <th></th>\n",
       "      <th>month</th>\n",
       "      <th>user_id</th>\n",
       "      <th>count</th>\n",
       "      <th>distance_sum</th>\n",
       "      <th>duration_sum</th>\n",
       "      <th>subscription_type</th>\n",
       "      <th>money</th>\n",
       "    </tr>\n",
       "  </thead>\n",
       "  <tbody>\n",
       "    <tr>\n",
       "      <th>0</th>\n",
       "      <td>1</td>\n",
       "      <td>1</td>\n",
       "      <td>2</td>\n",
       "      <td>7027.5</td>\n",
       "      <td>42.0</td>\n",
       "      <td>ultra</td>\n",
       "      <td>451.0</td>\n",
       "    </tr>\n",
       "    <tr>\n",
       "      <th>1</th>\n",
       "      <td>4</td>\n",
       "      <td>1</td>\n",
       "      <td>1</td>\n",
       "      <td>754.2</td>\n",
       "      <td>7.0</td>\n",
       "      <td>ultra</td>\n",
       "      <td>241.0</td>\n",
       "    </tr>\n",
       "    <tr>\n",
       "      <th>2</th>\n",
       "      <td>8</td>\n",
       "      <td>1</td>\n",
       "      <td>2</td>\n",
       "      <td>6723.5</td>\n",
       "      <td>45.0</td>\n",
       "      <td>ultra</td>\n",
       "      <td>469.0</td>\n",
       "    </tr>\n",
       "    <tr>\n",
       "      <th>3</th>\n",
       "      <td>10</td>\n",
       "      <td>1</td>\n",
       "      <td>2</td>\n",
       "      <td>5809.9</td>\n",
       "      <td>32.0</td>\n",
       "      <td>ultra</td>\n",
       "      <td>391.0</td>\n",
       "    </tr>\n",
       "    <tr>\n",
       "      <th>4</th>\n",
       "      <td>11</td>\n",
       "      <td>1</td>\n",
       "      <td>3</td>\n",
       "      <td>7003.5</td>\n",
       "      <td>54.0</td>\n",
       "      <td>ultra</td>\n",
       "      <td>523.0</td>\n",
       "    </tr>\n",
       "    <tr>\n",
       "      <th>...</th>\n",
       "      <td>...</td>\n",
       "      <td>...</td>\n",
       "      <td>...</td>\n",
       "      <td>...</td>\n",
       "      <td>...</td>\n",
       "      <td>...</td>\n",
       "      <td>...</td>\n",
       "    </tr>\n",
       "    <tr>\n",
       "      <th>11326</th>\n",
       "      <td>11</td>\n",
       "      <td>1348</td>\n",
       "      <td>2</td>\n",
       "      <td>6622.8</td>\n",
       "      <td>38.0</td>\n",
       "      <td>free</td>\n",
       "      <td>404.0</td>\n",
       "    </tr>\n",
       "    <tr>\n",
       "      <th>11327</th>\n",
       "      <td>12</td>\n",
       "      <td>1348</td>\n",
       "      <td>2</td>\n",
       "      <td>6308.8</td>\n",
       "      <td>40.0</td>\n",
       "      <td>free</td>\n",
       "      <td>420.0</td>\n",
       "    </tr>\n",
       "    <tr>\n",
       "      <th>11328</th>\n",
       "      <td>9</td>\n",
       "      <td>636</td>\n",
       "      <td>1</td>\n",
       "      <td>1159.9</td>\n",
       "      <td>13.0</td>\n",
       "      <td>ultra</td>\n",
       "      <td>277.0</td>\n",
       "    </tr>\n",
       "    <tr>\n",
       "      <th>11329</th>\n",
       "      <td>10</td>\n",
       "      <td>636</td>\n",
       "      <td>3</td>\n",
       "      <td>8885.2</td>\n",
       "      <td>71.0</td>\n",
       "      <td>ultra</td>\n",
       "      <td>625.0</td>\n",
       "    </tr>\n",
       "    <tr>\n",
       "      <th>11330</th>\n",
       "      <td>11</td>\n",
       "      <td>636</td>\n",
       "      <td>1</td>\n",
       "      <td>3128.3</td>\n",
       "      <td>15.0</td>\n",
       "      <td>ultra</td>\n",
       "      <td>289.0</td>\n",
       "    </tr>\n",
       "  </tbody>\n",
       "</table>\n",
       "<p>11331 rows × 7 columns</p>\n",
       "</div>"
      ],
      "text/plain": [
       "       month  user_id  count  distance_sum  duration_sum subscription_type  \\\n",
       "0          1        1      2        7027.5          42.0             ultra   \n",
       "1          4        1      1         754.2           7.0             ultra   \n",
       "2          8        1      2        6723.5          45.0             ultra   \n",
       "3         10        1      2        5809.9          32.0             ultra   \n",
       "4         11        1      3        7003.5          54.0             ultra   \n",
       "...      ...      ...    ...           ...           ...               ...   \n",
       "11326     11     1348      2        6622.8          38.0              free   \n",
       "11327     12     1348      2        6308.8          40.0              free   \n",
       "11328      9      636      1        1159.9          13.0             ultra   \n",
       "11329     10      636      3        8885.2          71.0             ultra   \n",
       "11330     11      636      1        3128.3          15.0             ultra   \n",
       "\n",
       "       money  \n",
       "0      451.0  \n",
       "1      241.0  \n",
       "2      469.0  \n",
       "3      391.0  \n",
       "4      523.0  \n",
       "...      ...  \n",
       "11326  404.0  \n",
       "11327  420.0  \n",
       "11328  277.0  \n",
       "11329  625.0  \n",
       "11330  289.0  \n",
       "\n",
       "[11331 rows x 7 columns]"
      ]
     },
     "execution_count": 63,
     "metadata": {},
     "output_type": "execute_result"
    }
   ],
   "source": [
    "data_pivot"
   ]
  },
  {
   "cell_type": "markdown",
   "id": "5509b8db",
   "metadata": {},
   "source": [
    "Обозначим настоящую среднюю выручку за месяц от пользователей без подписки как μ1, пользователей с подпиской как μ2 тогда<br>\n",
    "Но: μ1 = μ2 \n",
    "<br>\n",
    "H1: μ2 > μ1\n",
    "<br>\n",
    "alpha = 0.05"
   ]
  },
  {
   "cell_type": "code",
   "execution_count": 64,
   "id": "99a8d841",
   "metadata": {},
   "outputs": [
    {
     "name": "stdout",
     "output_type": "stream",
     "text": [
      "----- 1 -----\n",
      "3.4489806571135315e-08\n",
      "Отвергаем нулевую гипотезу о равенстве среднего,  следовательно берем альтернативную, что помесячная выручка от пользователей с подпиской по месяцам выше, чем выручка от пользователей без подписки\n",
      "----- 2 -----\n",
      "3.3279338263868713e-06\n",
      "Отвергаем нулевую гипотезу о равенстве среднего,  следовательно берем альтернативную, что помесячная выручка от пользователей с подпиской по месяцам выше, чем выручка от пользователей без подписки\n",
      "----- 3 -----\n",
      "0.0029869416768279473\n",
      "Отвергаем нулевую гипотезу о равенстве среднего,  следовательно берем альтернативную, что помесячная выручка от пользователей с подпиской по месяцам выше, чем выручка от пользователей без подписки\n",
      "----- 4 -----\n",
      "9.96548751264661e-05\n",
      "Отвергаем нулевую гипотезу о равенстве среднего,  следовательно берем альтернативную, что помесячная выручка от пользователей с подпиской по месяцам выше, чем выручка от пользователей без подписки\n",
      "----- 5 -----\n",
      "1.686242227051772e-06\n",
      "Отвергаем нулевую гипотезу о равенстве среднего,  следовательно берем альтернативную, что помесячная выручка от пользователей с подпиской по месяцам выше, чем выручка от пользователей без подписки\n",
      "----- 6 -----\n",
      "8.14323156874862e-06\n",
      "Отвергаем нулевую гипотезу о равенстве среднего,  следовательно берем альтернативную, что помесячная выручка от пользователей с подпиской по месяцам выше, чем выручка от пользователей без подписки\n",
      "----- 7 -----\n",
      "5.220158041297511e-06\n",
      "Отвергаем нулевую гипотезу о равенстве среднего,  следовательно берем альтернативную, что помесячная выручка от пользователей с подпиской по месяцам выше, чем выручка от пользователей без подписки\n",
      "----- 8 -----\n",
      "0.00021447731392563955\n",
      "Отвергаем нулевую гипотезу о равенстве среднего,  следовательно берем альтернативную, что помесячная выручка от пользователей с подпиской по месяцам выше, чем выручка от пользователей без подписки\n",
      "----- 9 -----\n",
      "0.00020291333065667295\n",
      "Отвергаем нулевую гипотезу о равенстве среднего,  следовательно берем альтернативную, что помесячная выручка от пользователей с подпиской по месяцам выше, чем выручка от пользователей без подписки\n",
      "----- 10 -----\n",
      "0.0002479300655724822\n",
      "Отвергаем нулевую гипотезу о равенстве среднего,  следовательно берем альтернативную, что помесячная выручка от пользователей с подпиской по месяцам выше, чем выручка от пользователей без подписки\n",
      "----- 11 -----\n",
      "6.307408578223002e-06\n",
      "Отвергаем нулевую гипотезу о равенстве среднего,  следовательно берем альтернативную, что помесячная выручка от пользователей с подпиской по месяцам выше, чем выручка от пользователей без подписки\n",
      "----- 12 -----\n",
      "8.61468355301028e-05\n",
      "Отвергаем нулевую гипотезу о равенстве среднего,  следовательно берем альтернативную, что помесячная выручка от пользователей с подпиской по месяцам выше, чем выручка от пользователей без подписки\n"
     ]
    }
   ],
   "source": [
    "for item in np.sort(data_pivot[\"month\"].unique()):\n",
    "    print(\"-----\",item,\"-----\")\n",
    "    x = data_pivot.loc[(data_pivot[\"month\"] == item) & (data_pivot[\"subscription_type\"] == \"free\") , \"money\"]\n",
    "    y = data_pivot.loc[(data_pivot[\"month\"] == item) & (data_pivot[\"subscription_type\"] == \"ultra\") , \"money\"]\n",
    "    result = st.ttest_ind(y , x , equal_var=False , alternative='greater')\n",
    "    aplpha = 0.05\n",
    "    print(result.pvalue)\n",
    "    if result.pvalue < aplpha:\n",
    "        print('Отвергаем нулевую гипотезу о равенстве среднего,  следовательно берем альтернативную, что помесячная выручка от пользователей с подпиской по месяцам выше, чем выручка от пользователей без подписки')\n",
    "    else:\n",
    "        print('Не получилось отвергнуть нулевую гипотезу о равенстве среднего')"
   ]
  },
  {
   "cell_type": "markdown",
   "id": "b805d0db",
   "metadata": {},
   "source": [
    "Во всех месяцах выручка от пользователей с подпиской по месяцам выше, чем выручка от пользователей без подписки."
   ]
  },
  {
   "cell_type": "markdown",
   "id": "e10a5e41",
   "metadata": {},
   "source": [
    "##### Какой тест вам понадобился бы для проверки гипотезы про техническую команду"
   ]
  },
  {
   "cell_type": "markdown",
   "id": "c62874ce",
   "metadata": {},
   "source": [
    "Нам понадобиться ttest_rel, так как у нас Две зависимые (парные) выборки.\n",
    "<br>\n",
    "scipy.stats.ttest_rel()\n",
    "<br>\n",
    "Аргументы: наборы данных — парные выборки до и после изменения\n",
    "<br>\n",
    "alternative:\n",
    "<br>\n",
    "Если не указывать — проверяется двусторонняя гипотеза. \n",
    "<br>\n",
    "Если указать alternative='less', проверится левосторонняя альтернативная гипотеза о том, что истинное среднее генеральной совокупности до изменения меньше, чем истинное среднее генеральной совокупности после изменения. \n",
    "<br>\n",
    "Если указать alternative='greater', проверится правосторонняя гипотеза."
   ]
  },
  {
   "cell_type": "markdown",
   "id": "61213c5e",
   "metadata": {},
   "source": [
    "#### Шаг 7. Вывод"
   ]
  },
  {
   "cell_type": "markdown",
   "id": "1a3969a2",
   "metadata": {},
   "source": [
    "   Загрузили 3 датафрейма: с пользователями, информацией о поездках, информацией о подписках.\n",
    "<br>\n",
    "<br>\n",
    "    Далее проверили данные на пропуски, их не оказалось ни в одной таблице. Поменяли тип данных у столбца \"date\" из датафрейма data_riders к типу date. Также добавили столбец month с номером месяца. И удалили полные дубликаты строк из датафрейма с пользователями.\n",
    "<br>\n",
    "<br>\n",
    "Провели исследовательский анализ данных:\n",
    "<br>\n",
    "    Выявили, что количество пользователей по городам примерно одинаково, нет анамальных значений. Больше всего пользователей в Пятигорске - 219. Меньше всего пользователей в Москве - 168.\n",
    "Пользователей, использующих бесплатную подписку больше - 835 человек, это примерно 54% от общего числа пользователей. На платной подписке 699 пользователей, это примерно 46%.\n",
    "Больше всего пользователей в возрасте от 20 до 30 лет\n",
    "В основном пользователи проезжают от 2500 до 3800 метров.\n",
    "Чаще всего длительность поездки состовляет 12 - 22 минуты.\n",
    "<br>\n",
    "<br>\n",
    "    Объединили данные о пользователях, поездках и подписках в один датафрейм. На основе объединенного датафрейма создали еще 2 датафрейма:\n",
    "<br>\n",
    "Для пользователей с ultra подпиской\n",
    "<br>\n",
    "Для пользователей с free подпиской\n",
    "<br>\n",
    "Дальше визуализировали информацию о расстоянии и времени поездки для пользоватей каждого тарифа.\n",
    "<br>\n",
    "\n",
    "   Для бесплатного тарифа время поездки составляет от 10 до 30 минут, и проезжают от 2 до 5 км, есть пользователи, которые проехали даже 6, 6.5 км.\n",
    "Платный тариф. В основном время укладывается в промежуток от 15 до 25 минут. Пик расстояния приходится на 3км.\n",
    "Нашли суммарное расстояние, количество поездок и суммарное время для каждого пользователя за каждый месяц - вывели все данные в отдельный датафрейм data_pivot. Добавили в датафрейм data_pivot столбец с помесячной выручкой \"money\".\n",
    "<br>\n",
    "<br>\n",
    "Проверили гипотезы:\n",
    "<br>\n",
    "Пользователи с подпиской тратят больше времени на поездки, чем пользователи на бесплатном тарифе\n",
    "Во всех городах отвергли нулевую гипотезу\n",
    "<br>\n",
    "Пользователи с подпиской проезжают расстояние, не превышающее 3130 метров за одну поездку\n",
    "Во всех городах, кроме города Ростов-на-Дону не удалось отвергнуть нулевую гипотезу\n",
    "<br>\n",
    "Помесячная выручка от пользователей с подпиской выше, чем выручка от пользователей без подписки\n",
    "Во всех городах отвергли нулевую гипотезу"
   ]
  }
 ],
 "metadata": {
  "ExecuteTimeLog": [
   {
    "duration": 45,
    "start_time": "2023-09-04T21:10:54.193Z"
   },
   {
    "duration": 383,
    "start_time": "2023-09-04T21:10:57.597Z"
   },
   {
    "duration": 107,
    "start_time": "2023-09-04T21:10:59.515Z"
   },
   {
    "duration": 160,
    "start_time": "2023-09-04T21:13:40.417Z"
   },
   {
    "duration": 16,
    "start_time": "2023-09-04T21:15:24.657Z"
   },
   {
    "duration": 11,
    "start_time": "2023-09-04T21:15:26.650Z"
   },
   {
    "duration": 6,
    "start_time": "2023-09-04T21:15:27.220Z"
   },
   {
    "duration": 6,
    "start_time": "2023-09-04T21:15:33.650Z"
   },
   {
    "duration": 14,
    "start_time": "2023-09-04T21:20:37.258Z"
   },
   {
    "duration": 15,
    "start_time": "2023-09-04T21:20:49.690Z"
   },
   {
    "duration": 25,
    "start_time": "2023-09-04T21:21:07.004Z"
   },
   {
    "duration": 17,
    "start_time": "2023-09-04T21:21:18.163Z"
   },
   {
    "duration": 15,
    "start_time": "2023-09-04T21:21:22.797Z"
   },
   {
    "duration": 13,
    "start_time": "2023-09-04T21:21:30.073Z"
   },
   {
    "duration": 19,
    "start_time": "2023-09-04T21:22:03.603Z"
   },
   {
    "duration": 7,
    "start_time": "2023-09-04T21:34:07.288Z"
   },
   {
    "duration": 53,
    "start_time": "2023-09-04T21:34:18.859Z"
   },
   {
    "duration": 20,
    "start_time": "2023-09-04T21:37:35.365Z"
   },
   {
    "duration": 11,
    "start_time": "2023-09-04T21:38:07.861Z"
   },
   {
    "duration": 64,
    "start_time": "2023-09-04T21:42:35.827Z"
   },
   {
    "duration": 84,
    "start_time": "2023-09-04T21:42:41.225Z"
   },
   {
    "duration": 63,
    "start_time": "2023-09-04T21:48:09.231Z"
   },
   {
    "duration": 6,
    "start_time": "2023-09-04T21:49:00.211Z"
   },
   {
    "duration": 11,
    "start_time": "2023-09-04T21:49:17.921Z"
   },
   {
    "duration": 6,
    "start_time": "2023-09-04T21:49:44.067Z"
   },
   {
    "duration": 6,
    "start_time": "2023-09-04T21:49:53.058Z"
   },
   {
    "duration": 18,
    "start_time": "2023-09-04T21:50:32.879Z"
   },
   {
    "duration": 10,
    "start_time": "2023-09-04T21:50:47.953Z"
   },
   {
    "duration": 16,
    "start_time": "2023-09-04T21:50:53.653Z"
   },
   {
    "duration": 11,
    "start_time": "2023-09-04T21:51:44.775Z"
   },
   {
    "duration": 12,
    "start_time": "2023-09-04T21:51:52.187Z"
   },
   {
    "duration": 7,
    "start_time": "2023-09-04T21:52:02.705Z"
   },
   {
    "duration": 7,
    "start_time": "2023-09-04T21:52:15.804Z"
   },
   {
    "duration": 14,
    "start_time": "2023-09-04T21:52:38.673Z"
   },
   {
    "duration": 12,
    "start_time": "2023-09-04T21:52:46.867Z"
   },
   {
    "duration": 9,
    "start_time": "2023-09-04T21:52:53.161Z"
   },
   {
    "duration": 9,
    "start_time": "2023-09-04T21:54:05.484Z"
   },
   {
    "duration": 22,
    "start_time": "2023-09-04T21:54:12.157Z"
   },
   {
    "duration": 10,
    "start_time": "2023-09-04T21:54:45.960Z"
   },
   {
    "duration": 21,
    "start_time": "2023-09-04T21:55:12.409Z"
   },
   {
    "duration": 12,
    "start_time": "2023-09-04T21:55:16.682Z"
   },
   {
    "duration": 23,
    "start_time": "2023-09-04T21:58:11.931Z"
   },
   {
    "duration": 9,
    "start_time": "2023-09-04T21:58:37.399Z"
   },
   {
    "duration": 10,
    "start_time": "2023-09-04T21:58:45.466Z"
   },
   {
    "duration": 8,
    "start_time": "2023-09-04T21:59:14.210Z"
   },
   {
    "duration": 7,
    "start_time": "2023-09-04T21:59:16.967Z"
   },
   {
    "duration": 10,
    "start_time": "2023-09-04T21:59:34.652Z"
   },
   {
    "duration": 7,
    "start_time": "2023-09-04T21:59:39.787Z"
   },
   {
    "duration": 8,
    "start_time": "2023-09-04T21:59:43.968Z"
   },
   {
    "duration": 12,
    "start_time": "2023-09-04T22:01:58.374Z"
   },
   {
    "duration": 677,
    "start_time": "2023-09-04T22:04:59.071Z"
   },
   {
    "duration": 140,
    "start_time": "2023-09-04T22:05:29.851Z"
   },
   {
    "duration": 136,
    "start_time": "2023-09-04T22:05:33.766Z"
   },
   {
    "duration": 8,
    "start_time": "2023-09-04T22:07:00.188Z"
   },
   {
    "duration": 175,
    "start_time": "2023-09-04T22:07:26.595Z"
   },
   {
    "duration": 14,
    "start_time": "2023-09-04T22:07:44.734Z"
   },
   {
    "duration": 129,
    "start_time": "2023-09-04T22:08:10.469Z"
   },
   {
    "duration": 6,
    "start_time": "2023-09-04T22:08:19.798Z"
   },
   {
    "duration": 7,
    "start_time": "2023-09-04T22:10:12.466Z"
   },
   {
    "duration": 8,
    "start_time": "2023-09-04T22:11:06.290Z"
   },
   {
    "duration": 10,
    "start_time": "2023-09-04T22:13:01.274Z"
   },
   {
    "duration": 8,
    "start_time": "2023-09-04T22:14:55.290Z"
   },
   {
    "duration": 14,
    "start_time": "2023-09-04T22:15:45.906Z"
   },
   {
    "duration": 10,
    "start_time": "2023-09-04T22:15:51.859Z"
   },
   {
    "duration": 125,
    "start_time": "2023-09-04T22:16:42.188Z"
   },
   {
    "duration": 9,
    "start_time": "2023-09-04T22:16:51.959Z"
   },
   {
    "duration": 10,
    "start_time": "2023-09-04T22:17:38.059Z"
   },
   {
    "duration": 11,
    "start_time": "2023-09-04T22:18:12.084Z"
   },
   {
    "duration": 11,
    "start_time": "2023-09-04T22:18:37.760Z"
   },
   {
    "duration": 13,
    "start_time": "2023-09-04T22:20:15.922Z"
   },
   {
    "duration": 8,
    "start_time": "2023-09-04T22:20:46.558Z"
   },
   {
    "duration": 215,
    "start_time": "2023-09-04T22:21:09.919Z"
   },
   {
    "duration": 185,
    "start_time": "2023-09-04T22:21:12.605Z"
   },
   {
    "duration": 158,
    "start_time": "2023-09-04T22:21:23.559Z"
   },
   {
    "duration": 18,
    "start_time": "2023-09-04T22:26:17.928Z"
   },
   {
    "duration": 11,
    "start_time": "2023-09-04T22:26:29.693Z"
   },
   {
    "duration": 5,
    "start_time": "2023-09-04T22:26:47.910Z"
   },
   {
    "duration": 9,
    "start_time": "2023-09-04T22:26:55.620Z"
   },
   {
    "duration": 172,
    "start_time": "2023-09-04T22:27:20.922Z"
   },
   {
    "duration": 167,
    "start_time": "2023-09-04T22:27:23.990Z"
   },
   {
    "duration": 152,
    "start_time": "2023-09-04T22:28:13.888Z"
   },
   {
    "duration": 12,
    "start_time": "2023-09-04T22:33:55.264Z"
   },
   {
    "duration": 7,
    "start_time": "2023-09-04T22:34:13.819Z"
   },
   {
    "duration": 172,
    "start_time": "2023-09-04T22:35:19.452Z"
   },
   {
    "duration": 168,
    "start_time": "2023-09-04T22:35:25.934Z"
   },
   {
    "duration": 141,
    "start_time": "2023-09-04T22:35:54.130Z"
   },
   {
    "duration": 12,
    "start_time": "2023-09-04T22:41:18.602Z"
   },
   {
    "duration": 12,
    "start_time": "2023-09-04T22:41:28.903Z"
   },
   {
    "duration": 6,
    "start_time": "2023-09-04T22:42:37.012Z"
   },
   {
    "duration": 10,
    "start_time": "2023-09-04T22:48:23.021Z"
   },
   {
    "duration": 17,
    "start_time": "2023-09-04T22:48:31.706Z"
   },
   {
    "duration": 10,
    "start_time": "2023-09-04T22:49:30.291Z"
   },
   {
    "duration": 18,
    "start_time": "2023-09-04T22:49:37.790Z"
   },
   {
    "duration": 7,
    "start_time": "2023-09-04T22:53:41.952Z"
   },
   {
    "duration": 19,
    "start_time": "2023-09-04T22:53:52.744Z"
   },
   {
    "duration": 5,
    "start_time": "2023-09-04T22:54:53.595Z"
   },
   {
    "duration": 17,
    "start_time": "2023-09-04T22:55:00.800Z"
   },
   {
    "duration": 18,
    "start_time": "2023-09-04T22:56:38.253Z"
   },
   {
    "duration": 2,
    "start_time": "2023-09-04T22:58:57.356Z"
   },
   {
    "duration": 127,
    "start_time": "2023-09-04T22:59:57.843Z"
   },
   {
    "duration": 125,
    "start_time": "2023-09-04T23:01:14.721Z"
   },
   {
    "duration": 195,
    "start_time": "2023-09-04T23:01:18.869Z"
   },
   {
    "duration": 143,
    "start_time": "2023-09-04T23:01:46.222Z"
   },
   {
    "duration": 178,
    "start_time": "2023-09-04T23:02:35.304Z"
   },
   {
    "duration": 166,
    "start_time": "2023-09-04T23:02:43.696Z"
   },
   {
    "duration": 173,
    "start_time": "2023-09-04T23:03:52.675Z"
   },
   {
    "duration": 95,
    "start_time": "2023-09-04T23:04:02.898Z"
   },
   {
    "duration": 138,
    "start_time": "2023-09-04T23:04:15.699Z"
   },
   {
    "duration": 8,
    "start_time": "2023-09-04T23:04:26.995Z"
   },
   {
    "duration": 136,
    "start_time": "2023-09-04T23:04:34.010Z"
   },
   {
    "duration": 153,
    "start_time": "2023-09-04T23:04:52.209Z"
   },
   {
    "duration": 164,
    "start_time": "2023-09-04T23:05:06.049Z"
   },
   {
    "duration": 139,
    "start_time": "2023-09-04T23:05:41.409Z"
   },
   {
    "duration": 169,
    "start_time": "2023-09-04T23:05:46.082Z"
   },
   {
    "duration": 185,
    "start_time": "2023-09-04T23:06:02.722Z"
   },
   {
    "duration": 262,
    "start_time": "2023-09-04T23:06:11.769Z"
   },
   {
    "duration": 144,
    "start_time": "2023-09-04T23:06:18.169Z"
   },
   {
    "duration": 157,
    "start_time": "2023-09-04T23:07:25.390Z"
   },
   {
    "duration": 185,
    "start_time": "2023-09-04T23:07:44.714Z"
   },
   {
    "duration": 20,
    "start_time": "2023-09-04T23:14:04.071Z"
   },
   {
    "duration": 4,
    "start_time": "2023-09-04T23:15:28.656Z"
   },
   {
    "duration": 368,
    "start_time": "2023-09-04T23:15:54.516Z"
   },
   {
    "duration": 395,
    "start_time": "2023-09-04T23:17:30.142Z"
   },
   {
    "duration": 376,
    "start_time": "2023-09-04T23:18:08.158Z"
   },
   {
    "duration": 349,
    "start_time": "2023-09-04T23:18:22.097Z"
   },
   {
    "duration": 366,
    "start_time": "2023-09-04T23:20:07.129Z"
   },
   {
    "duration": 364,
    "start_time": "2023-09-04T23:20:18.081Z"
   },
   {
    "duration": 376,
    "start_time": "2023-09-04T23:21:16.027Z"
   },
   {
    "duration": 2205,
    "start_time": "2023-09-04T23:21:27.223Z"
   },
   {
    "duration": 402,
    "start_time": "2023-09-04T23:21:32.436Z"
   },
   {
    "duration": 362,
    "start_time": "2023-09-04T23:22:26.751Z"
   },
   {
    "duration": 366,
    "start_time": "2023-09-04T23:22:42.093Z"
   },
   {
    "duration": 344,
    "start_time": "2023-09-04T23:23:19.365Z"
   },
   {
    "duration": 382,
    "start_time": "2023-09-04T23:23:24.145Z"
   },
   {
    "duration": 390,
    "start_time": "2023-09-04T23:23:34.676Z"
   },
   {
    "duration": 381,
    "start_time": "2023-09-04T23:23:51.828Z"
   },
   {
    "duration": 724,
    "start_time": "2023-09-04T23:24:35.042Z"
   },
   {
    "duration": 752,
    "start_time": "2023-09-04T23:25:04.126Z"
   },
   {
    "duration": 728,
    "start_time": "2023-09-04T23:25:08.467Z"
   },
   {
    "duration": 699,
    "start_time": "2023-09-04T23:25:30.712Z"
   },
   {
    "duration": 677,
    "start_time": "2023-09-04T23:25:38.708Z"
   },
   {
    "duration": 708,
    "start_time": "2023-09-04T23:26:23.036Z"
   },
   {
    "duration": 750,
    "start_time": "2023-09-04T23:27:22.625Z"
   },
   {
    "duration": 694,
    "start_time": "2023-09-04T23:27:26.605Z"
   },
   {
    "duration": 714,
    "start_time": "2023-09-04T23:27:44.695Z"
   },
   {
    "duration": 702,
    "start_time": "2023-09-04T23:27:50.901Z"
   },
   {
    "duration": 727,
    "start_time": "2023-09-04T23:28:08.140Z"
   },
   {
    "duration": 703,
    "start_time": "2023-09-04T23:28:18.236Z"
   },
   {
    "duration": 725,
    "start_time": "2023-09-04T23:29:59.761Z"
   },
   {
    "duration": 713,
    "start_time": "2023-09-04T23:30:11.858Z"
   },
   {
    "duration": 711,
    "start_time": "2023-09-04T23:30:21.847Z"
   },
   {
    "duration": 698,
    "start_time": "2023-09-04T23:30:42.996Z"
   },
   {
    "duration": 699,
    "start_time": "2023-09-04T23:30:46.729Z"
   },
   {
    "duration": 778,
    "start_time": "2023-09-04T23:30:52.626Z"
   },
   {
    "duration": 727,
    "start_time": "2023-09-04T23:31:20.170Z"
   },
   {
    "duration": 699,
    "start_time": "2023-09-04T23:31:25.040Z"
   },
   {
    "duration": 773,
    "start_time": "2023-09-04T23:32:19.146Z"
   },
   {
    "duration": 1024,
    "start_time": "2023-09-04T23:34:16.244Z"
   },
   {
    "duration": 2,
    "start_time": "2023-09-04T23:34:41.037Z"
   },
   {
    "duration": 761,
    "start_time": "2023-09-04T23:34:55.433Z"
   },
   {
    "duration": 2387,
    "start_time": "2023-09-04T23:40:46.165Z"
   },
   {
    "duration": 2461,
    "start_time": "2023-09-04T23:41:08.562Z"
   },
   {
    "duration": 2391,
    "start_time": "2023-09-04T23:44:43.081Z"
   },
   {
    "duration": 2390,
    "start_time": "2023-09-04T23:45:03.013Z"
   },
   {
    "duration": 2363,
    "start_time": "2023-09-04T23:45:30.124Z"
   },
   {
    "duration": 2461,
    "start_time": "2023-09-04T23:46:01.113Z"
   },
   {
    "duration": 2424,
    "start_time": "2023-09-04T23:46:20.510Z"
   },
   {
    "duration": 2445,
    "start_time": "2023-09-04T23:46:40.954Z"
   },
   {
    "duration": 2381,
    "start_time": "2023-09-04T23:47:31.614Z"
   },
   {
    "duration": 4809,
    "start_time": "2023-09-04T23:48:58.965Z"
   },
   {
    "duration": 2415,
    "start_time": "2023-09-04T23:49:22.193Z"
   },
   {
    "duration": 4778,
    "start_time": "2023-09-04T23:49:31.826Z"
   },
   {
    "duration": 4930,
    "start_time": "2023-09-04T23:50:29.400Z"
   },
   {
    "duration": 4726,
    "start_time": "2023-09-04T23:50:38.654Z"
   },
   {
    "duration": 2393,
    "start_time": "2023-09-04T23:52:58.923Z"
   },
   {
    "duration": 4818,
    "start_time": "2023-09-04T23:53:50.457Z"
   },
   {
    "duration": 4875,
    "start_time": "2023-09-04T23:54:01.344Z"
   },
   {
    "duration": 4900,
    "start_time": "2023-09-04T23:54:24.760Z"
   },
   {
    "duration": 4721,
    "start_time": "2023-09-04T23:55:43.472Z"
   },
   {
    "duration": 4808,
    "start_time": "2023-09-04T23:56:18.116Z"
   },
   {
    "duration": 4837,
    "start_time": "2023-09-04T23:56:48.160Z"
   },
   {
    "duration": 4840,
    "start_time": "2023-09-05T00:03:52.511Z"
   },
   {
    "duration": 4853,
    "start_time": "2023-09-05T00:03:59.357Z"
   },
   {
    "duration": 4747,
    "start_time": "2023-09-05T00:04:15.779Z"
   },
   {
    "duration": 11,
    "start_time": "2023-09-05T00:06:50.759Z"
   },
   {
    "duration": 23,
    "start_time": "2023-09-05T00:07:48.296Z"
   },
   {
    "duration": 21,
    "start_time": "2023-09-05T00:10:26.751Z"
   },
   {
    "duration": 1803,
    "start_time": "2023-09-05T00:18:54.532Z"
   },
   {
    "duration": 1695,
    "start_time": "2023-09-05T00:19:25.394Z"
   },
   {
    "duration": 14,
    "start_time": "2023-09-05T00:19:31.123Z"
   },
   {
    "duration": 14,
    "start_time": "2023-09-05T00:19:33.125Z"
   },
   {
    "duration": 135,
    "start_time": "2023-09-05T00:20:16.560Z"
   },
   {
    "duration": 10,
    "start_time": "2023-09-05T00:24:22.702Z"
   },
   {
    "duration": 9,
    "start_time": "2023-09-05T00:24:29.317Z"
   },
   {
    "duration": 9,
    "start_time": "2023-09-05T00:24:31.252Z"
   },
   {
    "duration": 8,
    "start_time": "2023-09-05T00:24:33.664Z"
   },
   {
    "duration": 8,
    "start_time": "2023-09-05T00:24:40.027Z"
   },
   {
    "duration": 17,
    "start_time": "2023-09-05T00:24:45.805Z"
   },
   {
    "duration": 8,
    "start_time": "2023-09-05T00:25:02.491Z"
   },
   {
    "duration": 2,
    "start_time": "2023-09-05T00:25:31.565Z"
   },
   {
    "duration": 68,
    "start_time": "2023-09-05T00:25:32.147Z"
   },
   {
    "duration": 14,
    "start_time": "2023-09-05T00:25:32.224Z"
   },
   {
    "duration": 14,
    "start_time": "2023-09-05T00:25:32.344Z"
   },
   {
    "duration": 11,
    "start_time": "2023-09-05T00:25:32.412Z"
   },
   {
    "duration": 17,
    "start_time": "2023-09-05T00:25:32.513Z"
   },
   {
    "duration": 6,
    "start_time": "2023-09-05T00:25:32.574Z"
   },
   {
    "duration": 7,
    "start_time": "2023-09-05T00:25:32.722Z"
   },
   {
    "duration": 50,
    "start_time": "2023-09-05T00:25:32.805Z"
   },
   {
    "duration": 6,
    "start_time": "2023-09-05T00:25:32.888Z"
   },
   {
    "duration": 7,
    "start_time": "2023-09-05T00:25:32.975Z"
   },
   {
    "duration": 9,
    "start_time": "2023-09-05T00:25:33.056Z"
   },
   {
    "duration": 7,
    "start_time": "2023-09-05T00:25:33.139Z"
   },
   {
    "duration": 7,
    "start_time": "2023-09-05T00:25:33.483Z"
   },
   {
    "duration": 115,
    "start_time": "2023-09-05T00:25:33.558Z"
   },
   {
    "duration": 7,
    "start_time": "2023-09-05T00:25:33.811Z"
   },
   {
    "duration": 103,
    "start_time": "2023-09-05T00:25:33.896Z"
   },
   {
    "duration": 10,
    "start_time": "2023-09-05T00:25:34.001Z"
   },
   {
    "duration": 7,
    "start_time": "2023-09-05T00:25:34.237Z"
   },
   {
    "duration": 161,
    "start_time": "2023-09-05T00:25:34.317Z"
   },
   {
    "duration": 8,
    "start_time": "2023-09-05T00:25:34.567Z"
   },
   {
    "duration": 146,
    "start_time": "2023-09-05T00:25:34.649Z"
   },
   {
    "duration": 228,
    "start_time": "2023-09-05T00:25:34.796Z"
   },
   {
    "duration": 14,
    "start_time": "2023-09-05T00:25:35.025Z"
   },
   {
    "duration": 154,
    "start_time": "2023-09-05T00:25:35.088Z"
   },
   {
    "duration": 138,
    "start_time": "2023-09-05T00:25:35.244Z"
   },
   {
    "duration": 12,
    "start_time": "2023-09-05T00:25:35.489Z"
   },
   {
    "duration": 14,
    "start_time": "2023-09-05T00:25:35.616Z"
   },
   {
    "duration": 7,
    "start_time": "2023-09-05T00:25:35.677Z"
   },
   {
    "duration": 11,
    "start_time": "2023-09-05T00:25:35.784Z"
   },
   {
    "duration": 11,
    "start_time": "2023-09-05T00:25:35.854Z"
   },
   {
    "duration": 19,
    "start_time": "2023-09-05T00:25:35.904Z"
   },
   {
    "duration": 9,
    "start_time": "2023-09-05T00:25:36.155Z"
   },
   {
    "duration": 6,
    "start_time": "2023-09-05T00:25:36.322Z"
   },
   {
    "duration": 146,
    "start_time": "2023-09-05T00:25:36.575Z"
   },
   {
    "duration": 181,
    "start_time": "2023-09-05T00:25:36.723Z"
   },
   {
    "duration": 170,
    "start_time": "2023-09-05T00:25:36.907Z"
   },
   {
    "duration": 210,
    "start_time": "2023-09-05T00:25:37.079Z"
   },
   {
    "duration": 3,
    "start_time": "2023-09-05T00:25:37.290Z"
   },
   {
    "duration": 4922,
    "start_time": "2023-09-05T00:25:37.294Z"
   },
   {
    "duration": 27,
    "start_time": "2023-09-05T00:25:42.218Z"
   },
   {
    "duration": 8,
    "start_time": "2023-09-05T00:25:42.247Z"
   },
   {
    "duration": 10,
    "start_time": "2023-09-05T00:26:01.304Z"
   },
   {
    "duration": 8,
    "start_time": "2023-09-05T00:26:03.429Z"
   },
   {
    "duration": 178,
    "start_time": "2023-09-05T00:26:12.733Z"
   },
   {
    "duration": 133,
    "start_time": "2023-09-05T00:27:10.439Z"
   },
   {
    "duration": 135,
    "start_time": "2023-09-05T00:27:15.170Z"
   },
   {
    "duration": 152,
    "start_time": "2023-09-05T00:27:22.645Z"
   },
   {
    "duration": 14,
    "start_time": "2023-09-05T00:36:01.760Z"
   },
   {
    "duration": 2,
    "start_time": "2023-09-05T00:36:58.491Z"
   },
   {
    "duration": 63,
    "start_time": "2023-09-05T00:36:59.077Z"
   },
   {
    "duration": 11,
    "start_time": "2023-09-05T00:36:59.160Z"
   },
   {
    "duration": 24,
    "start_time": "2023-09-05T00:36:59.232Z"
   },
   {
    "duration": 10,
    "start_time": "2023-09-05T00:36:59.345Z"
   },
   {
    "duration": 18,
    "start_time": "2023-09-05T00:36:59.402Z"
   },
   {
    "duration": 6,
    "start_time": "2023-09-05T00:36:59.484Z"
   },
   {
    "duration": 7,
    "start_time": "2023-09-05T00:36:59.665Z"
   },
   {
    "duration": 47,
    "start_time": "2023-09-05T00:36:59.749Z"
   },
   {
    "duration": 5,
    "start_time": "2023-09-05T00:36:59.863Z"
   },
   {
    "duration": 6,
    "start_time": "2023-09-05T00:36:59.934Z"
   },
   {
    "duration": 10,
    "start_time": "2023-09-05T00:36:59.993Z"
   },
   {
    "duration": 8,
    "start_time": "2023-09-05T00:37:00.085Z"
   },
   {
    "duration": 7,
    "start_time": "2023-09-05T00:37:00.448Z"
   },
   {
    "duration": 144,
    "start_time": "2023-09-05T00:37:00.510Z"
   },
   {
    "duration": 8,
    "start_time": "2023-09-05T00:37:00.743Z"
   },
   {
    "duration": 132,
    "start_time": "2023-09-05T00:37:00.830Z"
   },
   {
    "duration": 23,
    "start_time": "2023-09-05T00:37:00.964Z"
   },
   {
    "duration": 9,
    "start_time": "2023-09-05T00:37:01.164Z"
   },
   {
    "duration": 145,
    "start_time": "2023-09-05T00:37:01.246Z"
   },
   {
    "duration": 9,
    "start_time": "2023-09-05T00:37:01.510Z"
   },
   {
    "duration": 329,
    "start_time": "2023-09-05T00:37:01.609Z"
   },
   {
    "duration": 153,
    "start_time": "2023-09-05T00:37:01.941Z"
   },
   {
    "duration": 10,
    "start_time": "2023-09-05T00:37:02.095Z"
   },
   {
    "duration": 176,
    "start_time": "2023-09-05T00:37:02.108Z"
   },
   {
    "duration": 250,
    "start_time": "2023-09-05T00:37:02.286Z"
   },
   {
    "duration": 11,
    "start_time": "2023-09-05T00:37:02.539Z"
   },
   {
    "duration": 27,
    "start_time": "2023-09-05T00:37:02.552Z"
   },
   {
    "duration": 9,
    "start_time": "2023-09-05T00:37:02.594Z"
   },
   {
    "duration": 12,
    "start_time": "2023-09-05T00:37:02.705Z"
   },
   {
    "duration": 13,
    "start_time": "2023-09-05T00:37:02.754Z"
   },
   {
    "duration": 19,
    "start_time": "2023-09-05T00:37:02.840Z"
   },
   {
    "duration": 8,
    "start_time": "2023-09-05T00:37:03.090Z"
   },
   {
    "duration": 6,
    "start_time": "2023-09-05T00:37:03.257Z"
   },
   {
    "duration": 147,
    "start_time": "2023-09-05T00:37:03.510Z"
   },
   {
    "duration": 193,
    "start_time": "2023-09-05T00:37:03.658Z"
   },
   {
    "duration": 163,
    "start_time": "2023-09-05T00:37:03.853Z"
   },
   {
    "duration": 199,
    "start_time": "2023-09-05T00:37:04.018Z"
   },
   {
    "duration": 3,
    "start_time": "2023-09-05T00:37:04.218Z"
   },
   {
    "duration": 4961,
    "start_time": "2023-09-05T00:37:04.222Z"
   },
   {
    "duration": 18,
    "start_time": "2023-09-05T00:37:09.184Z"
   },
   {
    "duration": 11,
    "start_time": "2023-09-05T00:37:09.203Z"
   },
   {
    "duration": 132,
    "start_time": "2023-09-05T00:37:19.565Z"
   },
   {
    "duration": 2151,
    "start_time": "2023-09-05T00:38:04.449Z"
   },
   {
    "duration": 135,
    "start_time": "2023-09-05T00:38:15.256Z"
   },
   {
    "duration": 136,
    "start_time": "2023-09-05T00:38:31.299Z"
   },
   {
    "duration": 133,
    "start_time": "2023-09-05T00:38:41.526Z"
   },
   {
    "duration": 130,
    "start_time": "2023-09-05T00:41:46.371Z"
   },
   {
    "duration": 131,
    "start_time": "2023-09-05T00:41:48.704Z"
   },
   {
    "duration": 170,
    "start_time": "2023-09-05T00:41:55.101Z"
   },
   {
    "duration": 133,
    "start_time": "2023-09-05T00:41:58.513Z"
   },
   {
    "duration": 3,
    "start_time": "2023-09-05T00:42:06.989Z"
   },
   {
    "duration": 65,
    "start_time": "2023-09-05T00:42:07.569Z"
   },
   {
    "duration": 12,
    "start_time": "2023-09-05T00:42:07.641Z"
   },
   {
    "duration": 14,
    "start_time": "2023-09-05T00:42:07.761Z"
   },
   {
    "duration": 11,
    "start_time": "2023-09-05T00:42:07.823Z"
   },
   {
    "duration": 17,
    "start_time": "2023-09-05T00:42:07.918Z"
   },
   {
    "duration": 7,
    "start_time": "2023-09-05T00:42:08.011Z"
   },
   {
    "duration": 7,
    "start_time": "2023-09-05T00:42:08.149Z"
   },
   {
    "duration": 46,
    "start_time": "2023-09-05T00:42:08.227Z"
   },
   {
    "duration": 6,
    "start_time": "2023-09-05T00:42:08.311Z"
   },
   {
    "duration": 5,
    "start_time": "2023-09-05T00:42:08.394Z"
   },
   {
    "duration": 10,
    "start_time": "2023-09-05T00:42:08.479Z"
   },
   {
    "duration": 8,
    "start_time": "2023-09-05T00:42:08.562Z"
   },
   {
    "duration": 7,
    "start_time": "2023-09-05T00:42:08.897Z"
   },
   {
    "duration": 120,
    "start_time": "2023-09-05T00:42:08.980Z"
   },
   {
    "duration": 7,
    "start_time": "2023-09-05T00:42:09.232Z"
   },
   {
    "duration": 103,
    "start_time": "2023-09-05T00:42:09.317Z"
   },
   {
    "duration": 15,
    "start_time": "2023-09-05T00:42:09.422Z"
   },
   {
    "duration": 8,
    "start_time": "2023-09-05T00:42:09.651Z"
   },
   {
    "duration": 145,
    "start_time": "2023-09-05T00:42:09.734Z"
   },
   {
    "duration": 8,
    "start_time": "2023-09-05T00:42:09.986Z"
   },
   {
    "duration": 153,
    "start_time": "2023-09-05T00:42:10.070Z"
   },
   {
    "duration": 143,
    "start_time": "2023-09-05T00:42:10.224Z"
   },
   {
    "duration": 8,
    "start_time": "2023-09-05T00:42:10.404Z"
   },
   {
    "duration": 157,
    "start_time": "2023-09-05T00:42:10.489Z"
   },
   {
    "duration": 150,
    "start_time": "2023-09-05T00:42:10.648Z"
   },
   {
    "duration": 12,
    "start_time": "2023-09-05T00:42:10.910Z"
   },
   {
    "duration": 12,
    "start_time": "2023-09-05T00:42:11.024Z"
   },
   {
    "duration": 7,
    "start_time": "2023-09-05T00:42:11.090Z"
   },
   {
    "duration": 10,
    "start_time": "2023-09-05T00:42:11.232Z"
   },
   {
    "duration": 10,
    "start_time": "2023-09-05T00:42:11.258Z"
   },
   {
    "duration": 17,
    "start_time": "2023-09-05T00:42:11.350Z"
   },
   {
    "duration": 8,
    "start_time": "2023-09-05T00:42:11.637Z"
   },
   {
    "duration": 6,
    "start_time": "2023-09-05T00:42:11.804Z"
   },
   {
    "duration": 149,
    "start_time": "2023-09-05T00:42:12.030Z"
   },
   {
    "duration": 298,
    "start_time": "2023-09-05T00:42:12.181Z"
   },
   {
    "duration": 167,
    "start_time": "2023-09-05T00:42:12.481Z"
   },
   {
    "duration": 261,
    "start_time": "2023-09-05T00:42:12.649Z"
   },
   {
    "duration": 3,
    "start_time": "2023-09-05T00:42:12.912Z"
   },
   {
    "duration": 4811,
    "start_time": "2023-09-05T00:42:12.916Z"
   },
   {
    "duration": 18,
    "start_time": "2023-09-05T00:42:17.734Z"
   },
   {
    "duration": 146,
    "start_time": "2023-09-05T00:42:17.753Z"
   },
   {
    "duration": 251,
    "start_time": "2023-09-05T00:46:39.274Z"
   },
   {
    "duration": 265,
    "start_time": "2023-09-05T00:46:42.641Z"
   },
   {
    "duration": 130,
    "start_time": "2023-09-05T00:46:46.585Z"
   },
   {
    "duration": 130,
    "start_time": "2023-09-05T00:46:51.526Z"
   },
   {
    "duration": 3,
    "start_time": "2023-09-05T00:46:57.485Z"
   },
   {
    "duration": 65,
    "start_time": "2023-09-05T00:46:58.056Z"
   },
   {
    "duration": 12,
    "start_time": "2023-09-05T00:46:58.138Z"
   },
   {
    "duration": 13,
    "start_time": "2023-09-05T00:46:58.259Z"
   },
   {
    "duration": 11,
    "start_time": "2023-09-05T00:46:58.326Z"
   },
   {
    "duration": 18,
    "start_time": "2023-09-05T00:46:58.416Z"
   },
   {
    "duration": 6,
    "start_time": "2023-09-05T00:46:58.513Z"
   },
   {
    "duration": 7,
    "start_time": "2023-09-05T00:46:58.646Z"
   },
   {
    "duration": 152,
    "start_time": "2023-09-05T00:46:58.724Z"
   },
   {
    "duration": 6,
    "start_time": "2023-09-05T00:46:58.877Z"
   },
   {
    "duration": 5,
    "start_time": "2023-09-05T00:46:58.892Z"
   },
   {
    "duration": 10,
    "start_time": "2023-09-05T00:46:58.976Z"
   },
   {
    "duration": 8,
    "start_time": "2023-09-05T00:46:59.060Z"
   },
   {
    "duration": 7,
    "start_time": "2023-09-05T00:46:59.398Z"
   },
   {
    "duration": 118,
    "start_time": "2023-09-05T00:46:59.480Z"
   },
   {
    "duration": 7,
    "start_time": "2023-09-05T00:46:59.735Z"
   },
   {
    "duration": 102,
    "start_time": "2023-09-05T00:46:59.817Z"
   },
   {
    "duration": 13,
    "start_time": "2023-09-05T00:46:59.922Z"
   },
   {
    "duration": 9,
    "start_time": "2023-09-05T00:47:00.149Z"
   },
   {
    "duration": 139,
    "start_time": "2023-09-05T00:47:00.249Z"
   },
   {
    "duration": 10,
    "start_time": "2023-09-05T00:47:00.484Z"
   },
   {
    "duration": 148,
    "start_time": "2023-09-05T00:47:00.568Z"
   },
   {
    "duration": 147,
    "start_time": "2023-09-05T00:47:00.717Z"
   },
   {
    "duration": 8,
    "start_time": "2023-09-05T00:47:00.904Z"
   },
   {
    "duration": 154,
    "start_time": "2023-09-05T00:47:00.987Z"
   },
   {
    "duration": 137,
    "start_time": "2023-09-05T00:47:01.143Z"
   },
   {
    "duration": 12,
    "start_time": "2023-09-05T00:47:01.408Z"
   },
   {
    "duration": 13,
    "start_time": "2023-09-05T00:47:01.521Z"
   },
   {
    "duration": 6,
    "start_time": "2023-09-05T00:47:01.587Z"
   },
   {
    "duration": 11,
    "start_time": "2023-09-05T00:47:01.678Z"
   },
   {
    "duration": 10,
    "start_time": "2023-09-05T00:47:01.757Z"
   },
   {
    "duration": 18,
    "start_time": "2023-09-05T00:47:01.825Z"
   },
   {
    "duration": 9,
    "start_time": "2023-09-05T00:47:03.172Z"
   },
   {
    "duration": 6,
    "start_time": "2023-09-05T00:47:03.357Z"
   },
   {
    "duration": 146,
    "start_time": "2023-09-05T00:47:03.590Z"
   },
   {
    "duration": 191,
    "start_time": "2023-09-05T00:47:03.738Z"
   },
   {
    "duration": 175,
    "start_time": "2023-09-05T00:47:03.931Z"
   },
   {
    "duration": 321,
    "start_time": "2023-09-05T00:47:04.107Z"
   },
   {
    "duration": 3,
    "start_time": "2023-09-05T00:47:04.433Z"
   },
   {
    "duration": 4820,
    "start_time": "2023-09-05T00:47:04.437Z"
   },
   {
    "duration": 17,
    "start_time": "2023-09-05T00:47:09.259Z"
   },
   {
    "duration": 139,
    "start_time": "2023-09-05T00:47:09.278Z"
   },
   {
    "duration": 123,
    "start_time": "2023-09-05T00:48:06.118Z"
   },
   {
    "duration": 129,
    "start_time": "2023-09-05T00:48:14.429Z"
   },
   {
    "duration": 122,
    "start_time": "2023-09-05T00:48:16.812Z"
   },
   {
    "duration": 131,
    "start_time": "2023-09-05T00:48:32.964Z"
   },
   {
    "duration": 18,
    "start_time": "2023-09-05T00:51:33.142Z"
   },
   {
    "duration": 419,
    "start_time": "2023-09-05T01:03:07.209Z"
   },
   {
    "duration": 4927,
    "start_time": "2023-09-05T01:04:09.336Z"
   },
   {
    "duration": 51,
    "start_time": "2023-09-05T01:07:55.886Z"
   },
   {
    "duration": 30,
    "start_time": "2023-09-05T01:08:21.729Z"
   },
   {
    "duration": 26,
    "start_time": "2023-09-05T01:08:30.396Z"
   },
   {
    "duration": 34,
    "start_time": "2023-09-05T01:13:21.074Z"
   },
   {
    "duration": 3,
    "start_time": "2023-09-05T01:13:37.874Z"
   },
   {
    "duration": 32,
    "start_time": "2023-09-05T01:13:43.993Z"
   },
   {
    "duration": 32,
    "start_time": "2023-09-05T01:14:02.289Z"
   },
   {
    "duration": 29,
    "start_time": "2023-09-05T01:14:28.668Z"
   },
   {
    "duration": 29,
    "start_time": "2023-09-05T01:14:59.716Z"
   },
   {
    "duration": 69,
    "start_time": "2023-09-05T01:18:21.677Z"
   },
   {
    "duration": 67,
    "start_time": "2023-09-05T01:18:56.912Z"
   },
   {
    "duration": 18,
    "start_time": "2023-09-05T01:23:10.159Z"
   },
   {
    "duration": 42,
    "start_time": "2023-09-05T01:27:17.269Z"
   },
   {
    "duration": 44,
    "start_time": "2023-09-05T01:27:20.898Z"
   },
   {
    "duration": 13,
    "start_time": "2023-09-05T01:32:56.934Z"
   },
   {
    "duration": 43,
    "start_time": "2023-09-05T01:35:56.830Z"
   },
   {
    "duration": 10,
    "start_time": "2023-09-05T01:36:43.636Z"
   },
   {
    "duration": 46,
    "start_time": "2023-09-05T01:36:58.460Z"
   },
   {
    "duration": 4,
    "start_time": "2023-09-05T01:37:09.451Z"
   },
   {
    "duration": 10,
    "start_time": "2023-09-05T01:37:27.091Z"
   },
   {
    "duration": 49,
    "start_time": "2023-09-05T01:38:16.963Z"
   },
   {
    "duration": 1475,
    "start_time": "2023-09-05T09:57:18.456Z"
   },
   {
    "duration": 222,
    "start_time": "2023-09-05T09:57:19.934Z"
   },
   {
    "duration": 20,
    "start_time": "2023-09-05T09:57:20.158Z"
   },
   {
    "duration": 31,
    "start_time": "2023-09-05T09:57:20.180Z"
   },
   {
    "duration": 17,
    "start_time": "2023-09-05T09:57:20.213Z"
   },
   {
    "duration": 29,
    "start_time": "2023-09-05T09:57:20.232Z"
   },
   {
    "duration": 6,
    "start_time": "2023-09-05T09:57:20.263Z"
   },
   {
    "duration": 26,
    "start_time": "2023-09-05T09:57:20.271Z"
   },
   {
    "duration": 60,
    "start_time": "2023-09-05T09:57:20.306Z"
   },
   {
    "duration": 7,
    "start_time": "2023-09-05T09:57:20.367Z"
   },
   {
    "duration": 33,
    "start_time": "2023-09-05T09:57:20.376Z"
   },
   {
    "duration": 12,
    "start_time": "2023-09-05T09:57:20.413Z"
   },
   {
    "duration": 20,
    "start_time": "2023-09-05T09:57:20.426Z"
   },
   {
    "duration": 15,
    "start_time": "2023-09-05T09:57:20.449Z"
   },
   {
    "duration": 182,
    "start_time": "2023-09-05T09:57:20.465Z"
   },
   {
    "duration": 8,
    "start_time": "2023-09-05T09:57:20.648Z"
   },
   {
    "duration": 150,
    "start_time": "2023-09-05T09:57:20.658Z"
   },
   {
    "duration": 13,
    "start_time": "2023-09-05T09:57:20.810Z"
   },
   {
    "duration": 24,
    "start_time": "2023-09-05T09:57:20.824Z"
   },
   {
    "duration": 203,
    "start_time": "2023-09-05T09:57:20.850Z"
   },
   {
    "duration": 9,
    "start_time": "2023-09-05T09:57:21.054Z"
   },
   {
    "duration": 233,
    "start_time": "2023-09-05T09:57:21.064Z"
   },
   {
    "duration": 178,
    "start_time": "2023-09-05T09:57:21.302Z"
   },
   {
    "duration": 10,
    "start_time": "2023-09-05T09:57:21.485Z"
   },
   {
    "duration": 224,
    "start_time": "2023-09-05T09:57:21.497Z"
   },
   {
    "duration": 188,
    "start_time": "2023-09-05T09:57:21.723Z"
   },
   {
    "duration": 13,
    "start_time": "2023-09-05T09:57:21.914Z"
   },
   {
    "duration": 49,
    "start_time": "2023-09-05T09:57:21.929Z"
   },
   {
    "duration": 27,
    "start_time": "2023-09-05T09:57:21.980Z"
   },
   {
    "duration": 30,
    "start_time": "2023-09-05T09:57:22.010Z"
   },
   {
    "duration": 35,
    "start_time": "2023-09-05T09:57:22.042Z"
   },
   {
    "duration": 49,
    "start_time": "2023-09-05T09:57:22.079Z"
   },
   {
    "duration": 43,
    "start_time": "2023-09-05T09:57:22.131Z"
   },
   {
    "duration": 29,
    "start_time": "2023-09-05T09:57:22.176Z"
   },
   {
    "duration": 262,
    "start_time": "2023-09-05T09:57:22.207Z"
   },
   {
    "duration": 249,
    "start_time": "2023-09-05T09:57:22.470Z"
   },
   {
    "duration": 198,
    "start_time": "2023-09-05T09:57:22.721Z"
   },
   {
    "duration": 264,
    "start_time": "2023-09-05T09:57:22.921Z"
   },
   {
    "duration": 4,
    "start_time": "2023-09-05T09:57:23.189Z"
   },
   {
    "duration": 6729,
    "start_time": "2023-09-05T09:57:23.196Z"
   },
   {
    "duration": 19,
    "start_time": "2023-09-05T09:57:29.929Z"
   },
   {
    "duration": 190,
    "start_time": "2023-09-05T09:57:29.949Z"
   },
   {
    "duration": 90,
    "start_time": "2023-09-05T09:57:30.141Z"
   },
   {
    "duration": 88,
    "start_time": "2023-09-05T09:57:30.233Z"
   },
   {
    "duration": 28,
    "start_time": "2023-09-05T09:57:30.323Z"
   },
   {
    "duration": 111,
    "start_time": "2023-09-05T09:57:30.353Z"
   },
   {
    "duration": 136,
    "start_time": "2023-09-05T10:09:14.635Z"
   },
   {
    "duration": 6,
    "start_time": "2023-09-05T10:09:34.862Z"
   },
   {
    "duration": 116,
    "start_time": "2023-09-05T10:09:38.605Z"
   },
   {
    "duration": 48,
    "start_time": "2023-09-05T23:42:39.289Z"
   },
   {
    "duration": 1379,
    "start_time": "2023-09-05T23:42:43.551Z"
   },
   {
    "duration": 208,
    "start_time": "2023-09-05T23:42:44.990Z"
   },
   {
    "duration": 17,
    "start_time": "2023-09-05T23:42:45.229Z"
   },
   {
    "duration": 17,
    "start_time": "2023-09-05T23:42:45.875Z"
   },
   {
    "duration": 12,
    "start_time": "2023-09-05T23:42:46.222Z"
   },
   {
    "duration": 19,
    "start_time": "2023-09-05T23:42:46.666Z"
   },
   {
    "duration": 7,
    "start_time": "2023-09-05T23:42:46.875Z"
   },
   {
    "duration": 8,
    "start_time": "2023-09-05T23:42:47.787Z"
   },
   {
    "duration": 66,
    "start_time": "2023-09-05T23:42:48.078Z"
   },
   {
    "duration": 6,
    "start_time": "2023-09-05T23:42:49.264Z"
   },
   {
    "duration": 7,
    "start_time": "2023-09-05T23:42:50.244Z"
   },
   {
    "duration": 11,
    "start_time": "2023-09-05T23:46:03.134Z"
   },
   {
    "duration": 7,
    "start_time": "2023-09-05T23:47:02.279Z"
   },
   {
    "duration": 85,
    "start_time": "2023-09-05T23:47:51.301Z"
   },
   {
    "duration": 6,
    "start_time": "2023-09-05T23:47:56.487Z"
   },
   {
    "duration": 10,
    "start_time": "2023-09-05T23:50:29.504Z"
   },
   {
    "duration": 6,
    "start_time": "2023-09-05T23:51:01.297Z"
   },
   {
    "duration": 11,
    "start_time": "2023-09-05T23:51:26.974Z"
   },
   {
    "duration": 10,
    "start_time": "2023-09-05T23:52:03.972Z"
   },
   {
    "duration": 9,
    "start_time": "2023-09-05T23:52:21.767Z"
   },
   {
    "duration": 2294,
    "start_time": "2023-09-05T23:57:26.942Z"
   },
   {
    "duration": 2311,
    "start_time": "2023-09-05T23:57:36.618Z"
   },
   {
    "duration": 67,
    "start_time": "2023-09-05T23:59:39.155Z"
   },
   {
    "duration": 19,
    "start_time": "2023-09-05T23:59:59.412Z"
   },
   {
    "duration": 17,
    "start_time": "2023-09-06T00:00:20.674Z"
   },
   {
    "duration": 25,
    "start_time": "2023-09-06T00:00:53.819Z"
   },
   {
    "duration": 25,
    "start_time": "2023-09-06T00:01:00.354Z"
   },
   {
    "duration": 114,
    "start_time": "2023-09-06T00:03:59.486Z"
   },
   {
    "duration": 164,
    "start_time": "2023-09-06T00:04:10.682Z"
   },
   {
    "duration": 7,
    "start_time": "2023-09-06T00:07:38.055Z"
   },
   {
    "duration": 141,
    "start_time": "2023-09-06T00:13:00.181Z"
   },
   {
    "duration": 142,
    "start_time": "2023-09-06T00:13:20.341Z"
   },
   {
    "duration": 145,
    "start_time": "2023-09-06T00:13:36.978Z"
   },
   {
    "duration": 160,
    "start_time": "2023-09-06T00:14:04.654Z"
   },
   {
    "duration": 144,
    "start_time": "2023-09-06T00:14:13.057Z"
   },
   {
    "duration": 165,
    "start_time": "2023-09-06T00:15:40.502Z"
   },
   {
    "duration": 130,
    "start_time": "2023-09-06T00:15:49.985Z"
   },
   {
    "duration": 171,
    "start_time": "2023-09-06T00:17:50.595Z"
   },
   {
    "duration": 185,
    "start_time": "2023-09-06T00:19:38.943Z"
   },
   {
    "duration": 173,
    "start_time": "2023-09-06T00:20:45.123Z"
   },
   {
    "duration": 286,
    "start_time": "2023-09-06T00:21:46.444Z"
   },
   {
    "duration": 162,
    "start_time": "2023-09-06T00:22:01.240Z"
   },
   {
    "duration": 106,
    "start_time": "2023-09-06T00:22:24.411Z"
   },
   {
    "duration": 101,
    "start_time": "2023-09-06T00:22:49.980Z"
   },
   {
    "duration": 114,
    "start_time": "2023-09-06T00:23:57.893Z"
   },
   {
    "duration": 155,
    "start_time": "2023-09-06T00:24:24.083Z"
   },
   {
    "duration": 136,
    "start_time": "2023-09-06T00:24:35.636Z"
   },
   {
    "duration": 124,
    "start_time": "2023-09-06T00:24:47.496Z"
   },
   {
    "duration": 115,
    "start_time": "2023-09-06T00:24:50.048Z"
   },
   {
    "duration": 100,
    "start_time": "2023-09-06T00:24:55.712Z"
   },
   {
    "duration": 141,
    "start_time": "2023-09-06T00:25:04.590Z"
   },
   {
    "duration": 10,
    "start_time": "2023-09-06T00:31:09.155Z"
   },
   {
    "duration": 4,
    "start_time": "2023-09-06T00:31:13.192Z"
   },
   {
    "duration": 9,
    "start_time": "2023-09-06T00:32:34.434Z"
   },
   {
    "duration": 3,
    "start_time": "2023-09-06T00:32:48.984Z"
   },
   {
    "duration": 66,
    "start_time": "2023-09-06T00:32:49.645Z"
   },
   {
    "duration": 13,
    "start_time": "2023-09-06T00:32:49.724Z"
   },
   {
    "duration": 15,
    "start_time": "2023-09-06T00:32:49.831Z"
   },
   {
    "duration": 11,
    "start_time": "2023-09-06T00:32:49.993Z"
   },
   {
    "duration": 5,
    "start_time": "2023-09-06T00:32:50.043Z"
   },
   {
    "duration": 6,
    "start_time": "2023-09-06T00:32:50.151Z"
   },
   {
    "duration": 14,
    "start_time": "2023-09-06T00:32:50.239Z"
   },
   {
    "duration": 19,
    "start_time": "2023-09-06T00:32:50.345Z"
   },
   {
    "duration": 12,
    "start_time": "2023-09-06T00:32:50.501Z"
   },
   {
    "duration": 8,
    "start_time": "2023-09-06T00:32:50.614Z"
   },
   {
    "duration": 10,
    "start_time": "2023-09-06T00:32:50.672Z"
   },
   {
    "duration": 7,
    "start_time": "2023-09-06T00:32:50.747Z"
   },
   {
    "duration": 7,
    "start_time": "2023-09-06T00:32:51.149Z"
   },
   {
    "duration": 117,
    "start_time": "2023-09-06T00:32:51.231Z"
   },
   {
    "duration": 49,
    "start_time": "2023-09-06T00:32:51.399Z"
   },
   {
    "duration": 100,
    "start_time": "2023-09-06T00:32:51.483Z"
   },
   {
    "duration": 7,
    "start_time": "2023-09-06T00:32:52.307Z"
   },
   {
    "duration": 7,
    "start_time": "2023-09-06T00:32:52.506Z"
   },
   {
    "duration": 11,
    "start_time": "2023-09-06T00:32:52.694Z"
   },
   {
    "duration": 9,
    "start_time": "2023-09-06T00:32:52.873Z"
   },
   {
    "duration": 6,
    "start_time": "2023-09-06T00:32:53.038Z"
   },
   {
    "duration": 8,
    "start_time": "2023-09-06T00:32:56.647Z"
   },
   {
    "duration": 142,
    "start_time": "2023-09-06T00:32:57.473Z"
   },
   {
    "duration": 7,
    "start_time": "2023-09-06T00:32:58.510Z"
   },
   {
    "duration": 119,
    "start_time": "2023-09-06T00:32:58.716Z"
   },
   {
    "duration": 11,
    "start_time": "2023-09-06T00:32:58.906Z"
   },
   {
    "duration": 9,
    "start_time": "2023-09-06T00:32:59.639Z"
   },
   {
    "duration": 161,
    "start_time": "2023-09-06T00:32:59.778Z"
   },
   {
    "duration": 9,
    "start_time": "2023-09-06T00:33:00.488Z"
   },
   {
    "duration": 180,
    "start_time": "2023-09-06T00:33:00.633Z"
   },
   {
    "duration": 189,
    "start_time": "2023-09-06T00:33:00.815Z"
   },
   {
    "duration": 10,
    "start_time": "2023-09-06T00:33:01.453Z"
   },
   {
    "duration": 184,
    "start_time": "2023-09-06T00:33:01.658Z"
   },
   {
    "duration": 165,
    "start_time": "2023-09-06T00:33:01.853Z"
   },
   {
    "duration": 222,
    "start_time": "2023-09-06T00:33:02.030Z"
   },
   {
    "duration": 127,
    "start_time": "2023-09-06T00:33:02.254Z"
   },
   {
    "duration": 15,
    "start_time": "2023-09-06T00:33:04.286Z"
   },
   {
    "duration": 18,
    "start_time": "2023-09-06T00:33:04.607Z"
   },
   {
    "duration": 7,
    "start_time": "2023-09-06T00:33:04.884Z"
   },
   {
    "duration": 11,
    "start_time": "2023-09-06T00:33:05.914Z"
   },
   {
    "duration": 9,
    "start_time": "2023-09-06T00:33:06.154Z"
   },
   {
    "duration": 3,
    "start_time": "2023-09-06T00:33:06.987Z"
   },
   {
    "duration": 18,
    "start_time": "2023-09-06T00:33:08.826Z"
   },
   {
    "duration": 4,
    "start_time": "2023-09-06T00:33:31.890Z"
   },
   {
    "duration": 10,
    "start_time": "2023-09-06T00:34:37.275Z"
   },
   {
    "duration": 8,
    "start_time": "2023-09-06T00:34:44.174Z"
   },
   {
    "duration": 8,
    "start_time": "2023-09-06T00:34:45.949Z"
   },
   {
    "duration": 3,
    "start_time": "2023-09-06T00:34:52.626Z"
   },
   {
    "duration": 9,
    "start_time": "2023-09-06T00:35:15.878Z"
   },
   {
    "duration": 6,
    "start_time": "2023-09-06T00:35:22.022Z"
   },
   {
    "duration": 6,
    "start_time": "2023-09-06T00:35:37.323Z"
   },
   {
    "duration": 6,
    "start_time": "2023-09-06T00:36:01.677Z"
   },
   {
    "duration": 4,
    "start_time": "2023-09-06T00:36:03.686Z"
   },
   {
    "duration": 10,
    "start_time": "2023-09-06T00:38:01.142Z"
   },
   {
    "duration": 10,
    "start_time": "2023-09-06T00:38:03.321Z"
   },
   {
    "duration": 10,
    "start_time": "2023-09-06T00:38:41.948Z"
   },
   {
    "duration": 5,
    "start_time": "2023-09-06T00:38:43.251Z"
   },
   {
    "duration": 219,
    "start_time": "2023-09-06T00:38:47.460Z"
   },
   {
    "duration": 234,
    "start_time": "2023-09-06T00:39:26.159Z"
   },
   {
    "duration": 293,
    "start_time": "2023-09-06T00:39:56.490Z"
   },
   {
    "duration": 260,
    "start_time": "2023-09-06T00:40:08.797Z"
   },
   {
    "duration": 3,
    "start_time": "2023-09-06T01:00:26.475Z"
   },
   {
    "duration": 68,
    "start_time": "2023-09-06T01:00:27.685Z"
   },
   {
    "duration": 14,
    "start_time": "2023-09-06T01:00:28.252Z"
   },
   {
    "duration": 15,
    "start_time": "2023-09-06T01:00:28.757Z"
   },
   {
    "duration": 11,
    "start_time": "2023-09-06T01:00:28.845Z"
   },
   {
    "duration": 8,
    "start_time": "2023-09-06T01:00:28.932Z"
   },
   {
    "duration": 9,
    "start_time": "2023-09-06T01:00:29.005Z"
   },
   {
    "duration": 12,
    "start_time": "2023-09-06T01:00:29.174Z"
   },
   {
    "duration": 21,
    "start_time": "2023-09-06T01:00:29.285Z"
   },
   {
    "duration": 13,
    "start_time": "2023-09-06T01:00:29.339Z"
   },
   {
    "duration": 8,
    "start_time": "2023-09-06T01:00:29.445Z"
   },
   {
    "duration": 10,
    "start_time": "2023-09-06T01:00:29.512Z"
   },
   {
    "duration": 10,
    "start_time": "2023-09-06T01:00:29.674Z"
   },
   {
    "duration": 11,
    "start_time": "2023-09-06T01:00:30.090Z"
   },
   {
    "duration": 29,
    "start_time": "2023-09-06T01:00:30.180Z"
   },
   {
    "duration": 144,
    "start_time": "2023-09-06T01:00:30.339Z"
   },
   {
    "duration": 176,
    "start_time": "2023-09-06T01:00:30.485Z"
   },
   {
    "duration": 10,
    "start_time": "2023-09-06T01:00:30.757Z"
   },
   {
    "duration": 69,
    "start_time": "2023-09-06T01:00:30.841Z"
   },
   {
    "duration": 202,
    "start_time": "2023-09-06T01:00:30.923Z"
   },
   {
    "duration": 102,
    "start_time": "2023-09-06T01:00:31.127Z"
   },
   {
    "duration": 64,
    "start_time": "2023-09-06T01:00:31.231Z"
   },
   {
    "duration": 9,
    "start_time": "2023-09-06T01:00:31.678Z"
   },
   {
    "duration": 270,
    "start_time": "2023-09-06T01:00:31.763Z"
   },
   {
    "duration": 7,
    "start_time": "2023-09-06T01:00:32.180Z"
   },
   {
    "duration": 137,
    "start_time": "2023-09-06T01:00:32.263Z"
   },
   {
    "duration": 12,
    "start_time": "2023-09-06T01:00:32.402Z"
   },
   {
    "duration": 10,
    "start_time": "2023-09-06T01:00:32.684Z"
   },
   {
    "duration": 289,
    "start_time": "2023-09-06T01:00:32.771Z"
   },
   {
    "duration": 10,
    "start_time": "2023-09-06T01:00:33.101Z"
   },
   {
    "duration": 192,
    "start_time": "2023-09-06T01:00:33.183Z"
   },
   {
    "duration": 198,
    "start_time": "2023-09-06T01:00:33.377Z"
   },
   {
    "duration": 11,
    "start_time": "2023-09-06T01:00:35.348Z"
   },
   {
    "duration": 218,
    "start_time": "2023-09-06T01:00:35.435Z"
   },
   {
    "duration": 178,
    "start_time": "2023-09-06T01:00:35.655Z"
   },
   {
    "duration": 139,
    "start_time": "2023-09-06T01:00:35.835Z"
   },
   {
    "duration": 128,
    "start_time": "2023-09-06T01:00:35.977Z"
   },
   {
    "duration": 15,
    "start_time": "2023-09-06T01:00:36.187Z"
   },
   {
    "duration": 23,
    "start_time": "2023-09-06T01:00:36.301Z"
   },
   {
    "duration": 19,
    "start_time": "2023-09-06T01:00:36.373Z"
   },
   {
    "duration": 6,
    "start_time": "2023-09-06T01:00:36.485Z"
   },
   {
    "duration": 11,
    "start_time": "2023-09-06T01:00:36.534Z"
   },
   {
    "duration": 5,
    "start_time": "2023-09-06T01:00:36.650Z"
   },
   {
    "duration": 258,
    "start_time": "2023-09-06T01:00:36.694Z"
   },
   {
    "duration": 15,
    "start_time": "2023-09-06T01:00:37.916Z"
   },
   {
    "duration": 6,
    "start_time": "2023-09-06T01:00:38.389Z"
   },
   {
    "duration": 25,
    "start_time": "2023-09-06T01:00:38.474Z"
   },
   {
    "duration": 22,
    "start_time": "2023-09-06T01:00:38.549Z"
   },
   {
    "duration": 12,
    "start_time": "2023-09-06T01:00:38.971Z"
   },
   {
    "duration": 126,
    "start_time": "2023-09-06T01:00:39.140Z"
   },
   {
    "duration": 298,
    "start_time": "2023-09-06T01:00:39.387Z"
   },
   {
    "duration": 270,
    "start_time": "2023-09-06T01:00:39.687Z"
   },
   {
    "duration": 211,
    "start_time": "2023-09-06T01:00:40.708Z"
   },
   {
    "duration": 268,
    "start_time": "2023-09-06T01:00:40.921Z"
   },
   {
    "duration": 11,
    "start_time": "2023-09-06T01:00:41.191Z"
   },
   {
    "duration": 5835,
    "start_time": "2023-09-06T01:00:41.288Z"
   },
   {
    "duration": 26,
    "start_time": "2023-09-06T01:00:47.126Z"
   },
   {
    "duration": 198,
    "start_time": "2023-09-06T01:00:47.154Z"
   },
   {
    "duration": 99,
    "start_time": "2023-09-06T01:00:47.354Z"
   },
   {
    "duration": 84,
    "start_time": "2023-09-06T01:00:47.454Z"
   },
   {
    "duration": 8,
    "start_time": "2023-09-06T01:01:04.896Z"
   },
   {
    "duration": 238,
    "start_time": "2023-09-06T01:02:12.942Z"
   },
   {
    "duration": 258,
    "start_time": "2023-09-06T01:02:14.573Z"
   },
   {
    "duration": 257,
    "start_time": "2023-09-06T01:02:15.462Z"
   },
   {
    "duration": 3,
    "start_time": "2023-09-06T01:02:16.290Z"
   },
   {
    "duration": 5956,
    "start_time": "2023-09-06T01:02:16.937Z"
   },
   {
    "duration": 32,
    "start_time": "2023-09-06T01:02:22.895Z"
   },
   {
    "duration": 31,
    "start_time": "2023-09-06T01:02:22.929Z"
   },
   {
    "duration": 4,
    "start_time": "2023-09-06T02:02:03.445Z"
   },
   {
    "duration": 92,
    "start_time": "2023-09-06T02:02:04.813Z"
   },
   {
    "duration": 22,
    "start_time": "2023-09-06T02:02:05.215Z"
   },
   {
    "duration": 25,
    "start_time": "2023-09-06T02:02:05.839Z"
   },
   {
    "duration": 17,
    "start_time": "2023-09-06T02:02:06.921Z"
   },
   {
    "duration": 15,
    "start_time": "2023-09-06T02:02:07.301Z"
   },
   {
    "duration": 10,
    "start_time": "2023-09-06T02:02:07.627Z"
   },
   {
    "duration": 21,
    "start_time": "2023-09-06T02:02:09.004Z"
   },
   {
    "duration": 33,
    "start_time": "2023-09-06T02:02:09.429Z"
   },
   {
    "duration": 19,
    "start_time": "2023-09-06T02:02:09.823Z"
   },
   {
    "duration": 11,
    "start_time": "2023-09-06T02:02:10.322Z"
   },
   {
    "duration": 13,
    "start_time": "2023-09-06T02:02:10.382Z"
   },
   {
    "duration": 12,
    "start_time": "2023-09-06T02:02:10.554Z"
   },
   {
    "duration": 10,
    "start_time": "2023-09-06T02:02:10.971Z"
   },
   {
    "duration": 124,
    "start_time": "2023-09-06T02:02:11.049Z"
   },
   {
    "duration": 73,
    "start_time": "2023-09-06T02:02:11.227Z"
   },
   {
    "duration": 134,
    "start_time": "2023-09-06T02:02:11.307Z"
   },
   {
    "duration": 10,
    "start_time": "2023-09-06T02:02:11.635Z"
   },
   {
    "duration": 9,
    "start_time": "2023-09-06T02:02:11.722Z"
   },
   {
    "duration": 26,
    "start_time": "2023-09-06T02:02:11.802Z"
   },
   {
    "duration": 14,
    "start_time": "2023-09-06T02:02:11.884Z"
   },
   {
    "duration": 6,
    "start_time": "2023-09-06T02:02:11.968Z"
   },
   {
    "duration": 10,
    "start_time": "2023-09-06T02:02:12.561Z"
   },
   {
    "duration": 554,
    "start_time": "2023-09-06T02:02:12.638Z"
   },
   {
    "duration": 13,
    "start_time": "2023-09-06T02:02:13.202Z"
   },
   {
    "duration": 275,
    "start_time": "2023-09-06T02:02:13.217Z"
   },
   {
    "duration": 30,
    "start_time": "2023-09-06T02:02:13.495Z"
   },
   {
    "duration": 12,
    "start_time": "2023-09-06T02:02:13.569Z"
   },
   {
    "duration": 236,
    "start_time": "2023-09-06T02:02:13.646Z"
   },
   {
    "duration": 11,
    "start_time": "2023-09-06T02:02:13.986Z"
   },
   {
    "duration": 281,
    "start_time": "2023-09-06T02:02:14.063Z"
   },
   {
    "duration": 346,
    "start_time": "2023-09-06T02:02:14.350Z"
   },
   {
    "duration": 15,
    "start_time": "2023-09-06T02:02:14.699Z"
   },
   {
    "duration": 274,
    "start_time": "2023-09-06T02:02:14.717Z"
   },
   {
    "duration": 210,
    "start_time": "2023-09-06T02:02:15.002Z"
   },
   {
    "duration": 235,
    "start_time": "2023-09-06T02:02:15.214Z"
   },
   {
    "duration": 145,
    "start_time": "2023-09-06T02:02:15.451Z"
   },
   {
    "duration": 16,
    "start_time": "2023-09-06T02:02:15.602Z"
   },
   {
    "duration": 10,
    "start_time": "2023-09-06T02:02:15.621Z"
   },
   {
    "duration": 37,
    "start_time": "2023-09-06T02:02:15.633Z"
   },
   {
    "duration": 8,
    "start_time": "2023-09-06T02:02:15.672Z"
   },
   {
    "duration": 21,
    "start_time": "2023-09-06T02:02:15.706Z"
   },
   {
    "duration": 7,
    "start_time": "2023-09-06T02:02:15.782Z"
   },
   {
    "duration": 16,
    "start_time": "2023-09-06T02:02:15.888Z"
   },
   {
    "duration": 27,
    "start_time": "2023-09-06T02:02:15.926Z"
   },
   {
    "duration": 5,
    "start_time": "2023-09-06T02:02:16.066Z"
   },
   {
    "duration": 222,
    "start_time": "2023-09-06T02:02:16.120Z"
   },
   {
    "duration": 41,
    "start_time": "2023-09-06T02:02:16.345Z"
   },
   {
    "duration": 10,
    "start_time": "2023-09-06T02:02:16.623Z"
   },
   {
    "duration": 7,
    "start_time": "2023-09-06T02:02:16.791Z"
   },
   {
    "duration": 213,
    "start_time": "2023-09-06T02:02:17.000Z"
   },
   {
    "duration": 255,
    "start_time": "2023-09-06T02:02:17.323Z"
   },
   {
    "duration": 260,
    "start_time": "2023-09-06T02:02:17.581Z"
   },
   {
    "duration": 340,
    "start_time": "2023-09-06T02:02:17.844Z"
   },
   {
    "duration": 16,
    "start_time": "2023-09-06T02:02:18.187Z"
   },
   {
    "duration": 6651,
    "start_time": "2023-09-06T02:02:18.204Z"
   },
   {
    "duration": 47,
    "start_time": "2023-09-06T02:02:24.858Z"
   },
   {
    "duration": 9,
    "start_time": "2023-09-06T02:02:24.907Z"
   },
   {
    "duration": 243,
    "start_time": "2023-09-06T02:02:24.923Z"
   },
   {
    "duration": 116,
    "start_time": "2023-09-06T02:02:25.169Z"
   },
   {
    "duration": 79,
    "start_time": "2023-09-06T02:02:25.287Z"
   },
   {
    "duration": 48,
    "start_time": "2023-09-06T02:02:25.368Z"
   },
   {
    "duration": 84,
    "start_time": "2023-09-06T02:02:25.419Z"
   },
   {
    "duration": 51,
    "start_time": "2023-09-06T11:43:25.912Z"
   },
   {
    "duration": 9,
    "start_time": "2023-09-06T11:43:31.295Z"
   },
   {
    "duration": 1239,
    "start_time": "2023-09-06T11:43:50.422Z"
   },
   {
    "duration": 69,
    "start_time": "2023-09-06T11:43:51.663Z"
   },
   {
    "duration": 19,
    "start_time": "2023-09-06T11:43:51.734Z"
   },
   {
    "duration": 59,
    "start_time": "2023-09-06T11:43:51.755Z"
   },
   {
    "duration": 33,
    "start_time": "2023-09-06T11:43:51.816Z"
   },
   {
    "duration": 37,
    "start_time": "2023-09-06T11:43:51.851Z"
   },
   {
    "duration": 25,
    "start_time": "2023-09-06T11:43:51.890Z"
   },
   {
    "duration": 44,
    "start_time": "2023-09-06T11:43:51.917Z"
   },
   {
    "duration": 46,
    "start_time": "2023-09-06T11:43:51.963Z"
   },
   {
    "duration": 12,
    "start_time": "2023-09-06T11:43:52.011Z"
   },
   {
    "duration": 29,
    "start_time": "2023-09-06T11:43:52.025Z"
   },
   {
    "duration": 46,
    "start_time": "2023-09-06T11:43:52.056Z"
   },
   {
    "duration": 30,
    "start_time": "2023-09-06T11:43:52.103Z"
   },
   {
    "duration": 12,
    "start_time": "2023-09-06T11:43:52.135Z"
   },
   {
    "duration": 52,
    "start_time": "2023-09-06T11:43:52.149Z"
   },
   {
    "duration": 90,
    "start_time": "2023-09-06T11:43:52.203Z"
   },
   {
    "duration": 141,
    "start_time": "2023-09-06T11:43:52.295Z"
   },
   {
    "duration": 6,
    "start_time": "2023-09-06T11:43:52.438Z"
   },
   {
    "duration": 24,
    "start_time": "2023-09-06T11:43:52.445Z"
   },
   {
    "duration": 20,
    "start_time": "2023-09-06T11:43:52.471Z"
   },
   {
    "duration": 30,
    "start_time": "2023-09-06T11:43:52.493Z"
   },
   {
    "duration": 55,
    "start_time": "2023-09-06T11:43:52.525Z"
   },
   {
    "duration": 23,
    "start_time": "2023-09-06T11:43:52.582Z"
   },
   {
    "duration": 28,
    "start_time": "2023-09-06T11:43:52.607Z"
   },
   {
    "duration": 157,
    "start_time": "2023-09-06T11:43:52.637Z"
   },
   {
    "duration": 9,
    "start_time": "2023-09-06T11:43:52.797Z"
   },
   {
    "duration": 227,
    "start_time": "2023-09-06T11:43:52.808Z"
   },
   {
    "duration": 11,
    "start_time": "2023-09-06T11:43:53.039Z"
   },
   {
    "duration": 28,
    "start_time": "2023-09-06T11:43:53.052Z"
   },
   {
    "duration": 222,
    "start_time": "2023-09-06T11:43:53.082Z"
   },
   {
    "duration": 10,
    "start_time": "2023-09-06T11:43:53.306Z"
   },
   {
    "duration": 228,
    "start_time": "2023-09-06T11:43:53.317Z"
   },
   {
    "duration": 280,
    "start_time": "2023-09-06T11:43:53.548Z"
   },
   {
    "duration": 10,
    "start_time": "2023-09-06T11:43:53.830Z"
   },
   {
    "duration": 260,
    "start_time": "2023-09-06T11:43:53.842Z"
   },
   {
    "duration": 190,
    "start_time": "2023-09-06T11:43:54.104Z"
   },
   {
    "duration": 140,
    "start_time": "2023-09-06T11:43:54.296Z"
   },
   {
    "duration": 126,
    "start_time": "2023-09-06T11:43:54.438Z"
   },
   {
    "duration": 14,
    "start_time": "2023-09-06T11:43:54.567Z"
   },
   {
    "duration": 25,
    "start_time": "2023-09-06T11:43:54.583Z"
   },
   {
    "duration": 22,
    "start_time": "2023-09-06T11:43:54.610Z"
   },
   {
    "duration": 10,
    "start_time": "2023-09-06T11:43:54.634Z"
   },
   {
    "duration": 76,
    "start_time": "2023-09-06T11:43:54.646Z"
   },
   {
    "duration": 326,
    "start_time": "2023-09-06T11:43:54.724Z"
   },
   {
    "duration": 30,
    "start_time": "2023-09-06T11:43:55.052Z"
   },
   {
    "duration": 29,
    "start_time": "2023-09-06T11:43:55.084Z"
   },
   {
    "duration": 26,
    "start_time": "2023-09-06T11:43:55.115Z"
   },
   {
    "duration": 39,
    "start_time": "2023-09-06T11:43:55.143Z"
   },
   {
    "duration": 52,
    "start_time": "2023-09-06T11:43:55.184Z"
   },
   {
    "duration": 19,
    "start_time": "2023-09-06T11:43:55.238Z"
   },
   {
    "duration": 34,
    "start_time": "2023-09-06T11:43:55.260Z"
   },
   {
    "duration": 225,
    "start_time": "2023-09-06T11:43:55.296Z"
   },
   {
    "duration": 250,
    "start_time": "2023-09-06T11:43:55.524Z"
   },
   {
    "duration": 226,
    "start_time": "2023-09-06T11:43:55.776Z"
   },
   {
    "duration": 281,
    "start_time": "2023-09-06T11:43:56.004Z"
   },
   {
    "duration": 3,
    "start_time": "2023-09-06T11:43:56.286Z"
   },
   {
    "duration": 5700,
    "start_time": "2023-09-06T11:43:56.290Z"
   },
   {
    "duration": 22,
    "start_time": "2023-09-06T11:44:01.991Z"
   },
   {
    "duration": 23,
    "start_time": "2023-09-06T11:44:02.014Z"
   },
   {
    "duration": 174,
    "start_time": "2023-09-06T11:44:02.039Z"
   },
   {
    "duration": 96,
    "start_time": "2023-09-06T11:44:02.215Z"
   },
   {
    "duration": 98,
    "start_time": "2023-09-06T11:44:02.313Z"
   },
   {
    "duration": 22,
    "start_time": "2023-09-06T11:44:02.414Z"
   },
   {
    "duration": 91,
    "start_time": "2023-09-06T11:44:02.438Z"
   },
   {
    "duration": 249,
    "start_time": "2023-10-19T16:46:06.543Z"
   },
   {
    "duration": 9,
    "start_time": "2023-10-19T16:46:20.312Z"
   }
  ],
  "kernelspec": {
   "display_name": "Python 3 (ipykernel)",
   "language": "python",
   "name": "python3"
  },
  "language_info": {
   "codemirror_mode": {
    "name": "ipython",
    "version": 3
   },
   "file_extension": ".py",
   "mimetype": "text/x-python",
   "name": "python",
   "nbconvert_exporter": "python",
   "pygments_lexer": "ipython3",
   "version": "3.8.17"
  },
  "toc": {
   "base_numbering": 1,
   "nav_menu": {},
   "number_sections": true,
   "sideBar": true,
   "skip_h1_title": true,
   "title_cell": "Table of Contents",
   "title_sidebar": "Contents",
   "toc_cell": false,
   "toc_position": {
    "height": "calc(100% - 180px)",
    "left": "10px",
    "top": "150px",
    "width": "165px"
   },
   "toc_section_display": true,
   "toc_window_display": true
  }
 },
 "nbformat": 4,
 "nbformat_minor": 5
}
